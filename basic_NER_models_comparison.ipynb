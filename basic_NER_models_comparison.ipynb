{
 "cells": [
  {
   "cell_type": "markdown",
   "id": "bacd5403",
   "metadata": {},
   "source": [
    "# NER models comparison \n",
    "\n",
    "This notebook is made to try to compare several models on the NER tasks. We are only using the models made availables by Spacy, which is to say:\n",
    "\n",
    "- `en_core_web_sm`\n",
    "- `en_core_web_md`\n",
    "- `en_core_web_lg`\n",
    "- `en_core_web_trf`\n",
    "\n",
    "The list of available models in English is available [here](https://spacy.io/models/en)\n",
    "\n",
    "Another doc is available here about the general models is available [here](https://spacy.io/models)\n",
    "\n",
    "**The TRF model is only available in versions >Spacy 3.0**"
   ]
  },
  {
   "cell_type": "markdown",
   "id": "64e8284e",
   "metadata": {},
   "source": [
    "## Installation of the models"
   ]
  },
  {
   "cell_type": "markdown",
   "id": "929698c0",
   "metadata": {},
   "source": [
    "Obviously, to use the models spacy must be installed.\n",
    "\n",
    "Then, the models can be downloaded and installed:"
   ]
  },
  {
   "cell_type": "code",
   "execution_count": 1,
   "id": "57a59583",
   "metadata": {},
   "outputs": [],
   "source": [
    "# !!!  Warning !!! you may need to restart the kernel after installing one of the following models\n",
    "#To install the sm model:\n",
    "#!python -m spacy download en_core_web_sm\n",
    "#To install the md model:\n",
    "#!python -m spacy download en_core_web_md\n",
    "#To install the lg model: ( Quite large !!!)\n",
    "#!python -m spacy download en_core_web_lg\n",
    "#To install the trf model (based on roberta) : (Quite large too !!!)\n",
    "#!python -m spacy download en_core_web_trf"
   ]
  },
  {
   "cell_type": "markdown",
   "id": "2b71adfc",
   "metadata": {},
   "source": [
    "## Necessary imports "
   ]
  },
  {
   "cell_type": "code",
   "execution_count": 2,
   "id": "19e5dd38",
   "metadata": {},
   "outputs": [
    {
     "name": "stderr",
     "output_type": "stream",
     "text": [
      "C:\\Users\\adrie\\Anaconda3\\lib\\site-packages\\tensorflow\\python\\framework\\dtypes.py:516: FutureWarning: Passing (type, 1) or '1type' as a synonym of type is deprecated; in a future version of numpy, it will be understood as (type, (1,)) / '(1,)type'.\n",
      "  _np_qint8 = np.dtype([(\"qint8\", np.int8, 1)])\n",
      "C:\\Users\\adrie\\Anaconda3\\lib\\site-packages\\tensorflow\\python\\framework\\dtypes.py:517: FutureWarning: Passing (type, 1) or '1type' as a synonym of type is deprecated; in a future version of numpy, it will be understood as (type, (1,)) / '(1,)type'.\n",
      "  _np_quint8 = np.dtype([(\"quint8\", np.uint8, 1)])\n",
      "C:\\Users\\adrie\\Anaconda3\\lib\\site-packages\\tensorflow\\python\\framework\\dtypes.py:518: FutureWarning: Passing (type, 1) or '1type' as a synonym of type is deprecated; in a future version of numpy, it will be understood as (type, (1,)) / '(1,)type'.\n",
      "  _np_qint16 = np.dtype([(\"qint16\", np.int16, 1)])\n",
      "C:\\Users\\adrie\\Anaconda3\\lib\\site-packages\\tensorflow\\python\\framework\\dtypes.py:519: FutureWarning: Passing (type, 1) or '1type' as a synonym of type is deprecated; in a future version of numpy, it will be understood as (type, (1,)) / '(1,)type'.\n",
      "  _np_quint16 = np.dtype([(\"quint16\", np.uint16, 1)])\n",
      "C:\\Users\\adrie\\Anaconda3\\lib\\site-packages\\tensorflow\\python\\framework\\dtypes.py:520: FutureWarning: Passing (type, 1) or '1type' as a synonym of type is deprecated; in a future version of numpy, it will be understood as (type, (1,)) / '(1,)type'.\n",
      "  _np_qint32 = np.dtype([(\"qint32\", np.int32, 1)])\n",
      "C:\\Users\\adrie\\Anaconda3\\lib\\site-packages\\tensorflow\\python\\framework\\dtypes.py:525: FutureWarning: Passing (type, 1) or '1type' as a synonym of type is deprecated; in a future version of numpy, it will be understood as (type, (1,)) / '(1,)type'.\n",
      "  np_resource = np.dtype([(\"resource\", np.ubyte, 1)])\n"
     ]
    }
   ],
   "source": [
    "#Spacy packages:\n",
    "from spacy import displacy\n",
    "import spacy"
   ]
  },
  {
   "cell_type": "markdown",
   "id": "f5949a6b",
   "metadata": {},
   "source": [
    "Firstly, we also define a sentence to test all the models. \n",
    "\n",
    "This sentence is a commonly used one : \n",
    "\n",
    "`I think Barack Obama met the founder of Facebook at the occasion of a release of a new NLP algorithm.`\n",
    "\n",
    "Thanks to the `displacy` model, we can plot the result in a fancy way for each model."
   ]
  },
  {
   "cell_type": "code",
   "execution_count": null,
   "id": "b0b90066",
   "metadata": {},
   "outputs": [],
   "source": [
    "test_sent = u\"I think Barack Obama met the founder of Facebook at the occasion of a release of a new NLP algorithm.\""
   ]
  },
  {
   "cell_type": "markdown",
   "id": "cd597b44",
   "metadata": {},
   "source": [
    "## SM"
   ]
  },
  {
   "cell_type": "code",
   "execution_count": null,
   "id": "e3148c4a",
   "metadata": {},
   "outputs": [],
   "source": [
    "#Loading the model:\n",
    "nlp = spacy.load(\"en_core_web_sm\")\n",
    "doc = nlp(test_sent)\n",
    "displacy.render(doc, style=\"ent\") # (2)"
   ]
  },
  {
   "cell_type": "markdown",
   "id": "580329ce",
   "metadata": {},
   "source": [
    "## MD"
   ]
  },
  {
   "cell_type": "code",
   "execution_count": null,
   "id": "a01a4d92",
   "metadata": {},
   "outputs": [],
   "source": [
    "nlp = spacy.load('en_core_web_md')\n",
    "doc = nlp(test_sent)\n",
    "displacy.render(doc, style=\"ent\") # (2)"
   ]
  },
  {
   "cell_type": "markdown",
   "id": "3f160928",
   "metadata": {},
   "source": [
    "## LG"
   ]
  },
  {
   "cell_type": "code",
   "execution_count": null,
   "id": "a1c879d8",
   "metadata": {
    "scrolled": true
   },
   "outputs": [],
   "source": [
    "nlp = spacy.load('en_core_web_lg')\n",
    "doc = nlp(test_sent)\n",
    "displacy.render(doc, style=\"ent\") # (2)"
   ]
  },
  {
   "cell_type": "markdown",
   "id": "13dacbaf",
   "metadata": {},
   "source": [
    "## TRF"
   ]
  },
  {
   "cell_type": "code",
   "execution_count": null,
   "id": "5e07b690",
   "metadata": {},
   "outputs": [],
   "source": [
    "nlp = spacy.load('en_core_web_trf')\n",
    "doc = nlp(test_sent)\n",
    "displacy.render(doc, style=\"ent\") # (2)"
   ]
  },
  {
   "cell_type": "markdown",
   "id": "ab998419",
   "metadata": {},
   "source": [
    "## Conclusion"
   ]
  },
  {
   "cell_type": "markdown",
   "id": "01f2c5b8",
   "metadata": {},
   "source": [
    "Other the four tests, only `MD` et `TRF` have the same - and correct - results. \n",
    "\n",
    "Therefore, we can clearly state that we need, for this project, to use all four models to study biases in NER algorithms. "
   ]
  }
 ],
 "metadata": {
  "kernelspec": {
   "display_name": "Python 3",
   "language": "python",
   "name": "python3"
  },
  "language_info": {
   "codemirror_mode": {
    "name": "ipython",
    "version": 3
   },
   "file_extension": ".py",
   "mimetype": "text/x-python",
   "name": "python",
   "nbconvert_exporter": "python",
   "pygments_lexer": "ipython3",
   "version": "3.7.4"
  },
  "toc": {
   "base_numbering": 1,
   "nav_menu": {},
   "number_sections": true,
   "sideBar": true,
   "skip_h1_title": true,
   "title_cell": "Table of Contents",
   "title_sidebar": "Contents",
   "toc_cell": false,
   "toc_position": {},
   "toc_section_display": true,
   "toc_window_display": true
  }
 },
 "nbformat": 4,
 "nbformat_minor": 5
}
