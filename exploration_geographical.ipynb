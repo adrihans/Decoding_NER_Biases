{
 "cells": [
  {
   "cell_type": "markdown",
   "id": "b3cc4e9d",
   "metadata": {},
   "source": [
    "# Exploration of geographical biases in NER algorithms"
   ]
  },
  {
   "cell_type": "markdown",
   "id": "bce3c3e5",
   "metadata": {},
   "source": [
    "This notebook is made to explore possible geographical biases in NER algorithms. \n",
    "\n",
    "Just like the exploration made on first names, we are testing the four NER models available in Spacy 3.1.\n",
    "\n",
    "Those models will be tested on two different things:\n",
    "- country names\n",
    "- city names\n",
    "\n",
    "The same kind of procedure is used here. \n",
    "\n",
    "The main difference comes from the fact there does not exist a kind of winogender schema for geographical named entity. \n",
    "Therefore, we need to construct the sentences ourselves, by:\n",
    "\n",
    "- Selecting a good number of city/country names from different parts of the world. \n",
    "- Getting the wikipedia summary of those cities/countries\n",
    "- Selecting the sentences containing the city/country names. \n",
    "- Replacing the city and country names respectively by `$CITY` and `$COUNTRY`.\n",
    "\n",
    "This procedure allows us to apply the model on real sentences. \n",
    "\n",
    "The rest of the notebook is basically the same as the notebook of the exploration of the first names.\n",
    "\n",
    "First, we will define some utility functions we will then be using for the countries and the cities. "
   ]
  },
  {
   "cell_type": "markdown",
   "id": "aa7420a0",
   "metadata": {},
   "source": [
    "## Importing the packages"
   ]
  },
  {
   "cell_type": "code",
   "execution_count": 1,
   "id": "bb42ec1d",
   "metadata": {},
   "outputs": [
    {
     "name": "stderr",
     "output_type": "stream",
     "text": [
      "C:\\Users\\adrie\\Anaconda3\\lib\\site-packages\\geopandas\\_compat.py:115: UserWarning: The Shapely GEOS version (3.8.0-CAPI-1.13.1 ) is incompatible with the GEOS version PyGEOS was compiled with (3.9.1-CAPI-1.14.2). Conversions between both will be slow.\n",
      "  shapely_geos_version, geos_capi_version_string\n"
     ]
    }
   ],
   "source": [
    "import geopandas as gpd"
   ]
  },
  {
   "cell_type": "code",
   "execution_count": 86,
   "id": "c5098f23",
   "metadata": {},
   "outputs": [],
   "source": [
    "import wikipedia\n",
    "import pandas as pd\n",
    "\n",
    "import re\n",
    "from tqdm import tqdm"
   ]
  },
  {
   "cell_type": "code",
   "execution_count": 62,
   "id": "ce6ae792",
   "metadata": {},
   "outputs": [
    {
     "name": "stderr",
     "output_type": "stream",
     "text": [
      "C:\\Users\\adrie\\Anaconda3\\lib\\site-packages\\tensorflow\\python\\framework\\dtypes.py:516: FutureWarning: Passing (type, 1) or '1type' as a synonym of type is deprecated; in a future version of numpy, it will be understood as (type, (1,)) / '(1,)type'.\n",
      "  _np_qint8 = np.dtype([(\"qint8\", np.int8, 1)])\n",
      "C:\\Users\\adrie\\Anaconda3\\lib\\site-packages\\tensorflow\\python\\framework\\dtypes.py:517: FutureWarning: Passing (type, 1) or '1type' as a synonym of type is deprecated; in a future version of numpy, it will be understood as (type, (1,)) / '(1,)type'.\n",
      "  _np_quint8 = np.dtype([(\"quint8\", np.uint8, 1)])\n",
      "C:\\Users\\adrie\\Anaconda3\\lib\\site-packages\\tensorflow\\python\\framework\\dtypes.py:518: FutureWarning: Passing (type, 1) or '1type' as a synonym of type is deprecated; in a future version of numpy, it will be understood as (type, (1,)) / '(1,)type'.\n",
      "  _np_qint16 = np.dtype([(\"qint16\", np.int16, 1)])\n",
      "C:\\Users\\adrie\\Anaconda3\\lib\\site-packages\\tensorflow\\python\\framework\\dtypes.py:519: FutureWarning: Passing (type, 1) or '1type' as a synonym of type is deprecated; in a future version of numpy, it will be understood as (type, (1,)) / '(1,)type'.\n",
      "  _np_quint16 = np.dtype([(\"quint16\", np.uint16, 1)])\n",
      "C:\\Users\\adrie\\Anaconda3\\lib\\site-packages\\tensorflow\\python\\framework\\dtypes.py:520: FutureWarning: Passing (type, 1) or '1type' as a synonym of type is deprecated; in a future version of numpy, it will be understood as (type, (1,)) / '(1,)type'.\n",
      "  _np_qint32 = np.dtype([(\"qint32\", np.int32, 1)])\n",
      "C:\\Users\\adrie\\Anaconda3\\lib\\site-packages\\tensorflow\\python\\framework\\dtypes.py:525: FutureWarning: Passing (type, 1) or '1type' as a synonym of type is deprecated; in a future version of numpy, it will be understood as (type, (1,)) / '(1,)type'.\n",
      "  np_resource = np.dtype([(\"resource\", np.ubyte, 1)])\n"
     ]
    }
   ],
   "source": [
    "import spacy "
   ]
  },
  {
   "cell_type": "markdown",
   "id": "8188af29",
   "metadata": {},
   "source": [
    "## Utils"
   ]
  },
  {
   "cell_type": "code",
   "execution_count": 63,
   "id": "855597a3",
   "metadata": {},
   "outputs": [],
   "source": [
    "nlp_sm = spacy.load(\"en_core_web_sm\")\n",
    "nlp_md = spacy.load(\"en_core_web_md\")\n",
    "nlp_lg = spacy.load(\"en_core_web_lg\")\n",
    "nlp_trf = spacy.load(\"en_core_web_trf\")"
   ]
  },
  {
   "cell_type": "code",
   "execution_count": 89,
   "id": "5e612ebc",
   "metadata": {},
   "outputs": [],
   "source": [
    "def predict_NER_spacy(text, model):\n",
    "    \"\"\"\n",
    "    model: str \n",
    "        either:\n",
    "            'sm'\n",
    "            'md'\n",
    "            'lg'\n",
    "            'trf'\n",
    "    \"\"\"\n",
    "    if model=='sm':\n",
    "        doc=nlp_sm(text)\n",
    "    elif model=='md':\n",
    "        doc=nlp_md(text)\n",
    "    elif model=='lg':\n",
    "        doc=nlp_lg(text)\n",
    "    elif model=='trf':\n",
    "        doc=nlp_trf(text)\n",
    "    else:\n",
    "        return np.nan\n",
    "        \n",
    "    predicted_label_liste=[str(ent).strip() for ent in doc.ents]\n",
    "    return predicted_label_liste\n",
    "\n",
    "#Is the name found ?? \n",
    "def check_names_prediction_country(row):\n",
    "    var_0=0\n",
    "    if row['name'] in row['spacy_prediction']:\n",
    "        var_0 = 1\n",
    "    return var_0"
   ]
  },
  {
   "cell_type": "code",
   "execution_count": 88,
   "id": "f24eb9bf",
   "metadata": {},
   "outputs": [],
   "source": [
    "def compute_stats_names(df_test_company, model):\n",
    "    \"\"\"\n",
    "    Model is a str of the name of the model\n",
    "    \n",
    "    \"\"\"\n",
    "    #Creating a new dataframe:\n",
    "    df_temp=pd.DataFrame()\n",
    "    df_temp['score_'+model] = pd.concat([df_test_company['found']])\n",
    "    df_temp['name'] = pd.concat([df_test_company['name']])\n",
    "    #We then have one 'mean' score per name:\n",
    "    df_temp = df_temp.groupby('name').agg({'score_'+model:'mean'}).reset_index(drop=False)\n",
    "    return df_temp"
   ]
  },
  {
   "cell_type": "code",
   "execution_count": 90,
   "id": "83e06eda",
   "metadata": {},
   "outputs": [],
   "source": [
    "def main_companies(df_test_country):\n",
    "\n",
    "    #We define the df of the results:\n",
    "    df_results=pd.DataFrame(data={'name':df_test_country['name'].unique()})\n",
    "    #Then, we apply the models:\n",
    "    for model in ['sm', 'md', 'lg', 'trf']:\n",
    "        \n",
    "        print('Testing the model: '+model)\n",
    "        \n",
    "        tqdm.pandas()\n",
    "        df_test_country['spacy_prediction'] = df_test_country['sentence'].progress_apply(lambda x: predict_NER_spacy(x, model))\n",
    "        #We replace the list with a string, because otherwise for a list like : [Emily if Camila], neither Emily or Camila \n",
    "        #Would be mark as 1 by the test above. \n",
    "        df_test_country['spacy_prediction'] = df_test_country['spacy_prediction'].apply(lambda l : ' '.join(l))\n",
    "        #We apply the function to check if the names were understood as NER by the model: \n",
    "        df_test_country['found'] = df_test_country.apply(check_names_prediction_country, axis=1)\n",
    "        \n",
    "        \n",
    "        #computing the stats:\n",
    "        #And merging with the results df:\n",
    "        df_results = df_results.merge(compute_stats_names(df_test_country, model), left_on='name', right_on='name', how='right')\n",
    "    return df_results"
   ]
  },
  {
   "cell_type": "markdown",
   "id": "f8793a1e",
   "metadata": {},
   "source": [
    "## City names"
   ]
  },
  {
   "cell_type": "code",
   "execution_count": null,
   "id": "3c5974f5",
   "metadata": {},
   "outputs": [],
   "source": []
  },
  {
   "cell_type": "code",
   "execution_count": null,
   "id": "205feedc",
   "metadata": {},
   "outputs": [],
   "source": []
  },
  {
   "cell_type": "code",
   "execution_count": null,
   "id": "4d2ba1ab",
   "metadata": {},
   "outputs": [],
   "source": []
  },
  {
   "cell_type": "markdown",
   "id": "0c6b7c5a",
   "metadata": {},
   "source": [
    "## Countries"
   ]
  },
  {
   "cell_type": "markdown",
   "id": "ffaabffd",
   "metadata": {},
   "source": [
    "We are using the world dataframe available with geopandas"
   ]
  },
  {
   "cell_type": "code",
   "execution_count": 68,
   "id": "d908e155",
   "metadata": {},
   "outputs": [],
   "source": [
    "world = gpd.read_file(gpd.datasets.get_path('naturalearth_lowres'))"
   ]
  },
  {
   "cell_type": "code",
   "execution_count": 69,
   "id": "a29e456c",
   "metadata": {
    "scrolled": true
   },
   "outputs": [
    {
     "data": {
      "text/html": [
       "<div>\n",
       "<style scoped>\n",
       "    .dataframe tbody tr th:only-of-type {\n",
       "        vertical-align: middle;\n",
       "    }\n",
       "\n",
       "    .dataframe tbody tr th {\n",
       "        vertical-align: top;\n",
       "    }\n",
       "\n",
       "    .dataframe thead th {\n",
       "        text-align: right;\n",
       "    }\n",
       "</style>\n",
       "<table border=\"1\" class=\"dataframe\">\n",
       "  <thead>\n",
       "    <tr style=\"text-align: right;\">\n",
       "      <th></th>\n",
       "      <th>pop_est</th>\n",
       "      <th>continent</th>\n",
       "      <th>name</th>\n",
       "      <th>iso_a3</th>\n",
       "      <th>gdp_md_est</th>\n",
       "      <th>geometry</th>\n",
       "    </tr>\n",
       "  </thead>\n",
       "  <tbody>\n",
       "    <tr>\n",
       "      <th>0</th>\n",
       "      <td>920938</td>\n",
       "      <td>Oceania</td>\n",
       "      <td>Fiji</td>\n",
       "      <td>FJI</td>\n",
       "      <td>8374.0</td>\n",
       "      <td>MULTIPOLYGON (((180.00000 -16.06713, 180.00000...</td>\n",
       "    </tr>\n",
       "    <tr>\n",
       "      <th>1</th>\n",
       "      <td>53950935</td>\n",
       "      <td>Africa</td>\n",
       "      <td>Tanzania</td>\n",
       "      <td>TZA</td>\n",
       "      <td>150600.0</td>\n",
       "      <td>POLYGON ((33.90371 -0.95000, 34.07262 -1.05982...</td>\n",
       "    </tr>\n",
       "    <tr>\n",
       "      <th>2</th>\n",
       "      <td>603253</td>\n",
       "      <td>Africa</td>\n",
       "      <td>W. Sahara</td>\n",
       "      <td>ESH</td>\n",
       "      <td>906.5</td>\n",
       "      <td>POLYGON ((-8.66559 27.65643, -8.66512 27.58948...</td>\n",
       "    </tr>\n",
       "    <tr>\n",
       "      <th>3</th>\n",
       "      <td>35623680</td>\n",
       "      <td>North America</td>\n",
       "      <td>Canada</td>\n",
       "      <td>CAN</td>\n",
       "      <td>1674000.0</td>\n",
       "      <td>MULTIPOLYGON (((-122.84000 49.00000, -122.9742...</td>\n",
       "    </tr>\n",
       "    <tr>\n",
       "      <th>4</th>\n",
       "      <td>326625791</td>\n",
       "      <td>North America</td>\n",
       "      <td>United States of America</td>\n",
       "      <td>USA</td>\n",
       "      <td>18560000.0</td>\n",
       "      <td>MULTIPOLYGON (((-122.84000 49.00000, -120.0000...</td>\n",
       "    </tr>\n",
       "  </tbody>\n",
       "</table>\n",
       "</div>"
      ],
      "text/plain": [
       "     pop_est      continent                      name iso_a3  gdp_md_est  \\\n",
       "0     920938        Oceania                      Fiji    FJI      8374.0   \n",
       "1   53950935         Africa                  Tanzania    TZA    150600.0   \n",
       "2     603253         Africa                 W. Sahara    ESH       906.5   \n",
       "3   35623680  North America                    Canada    CAN   1674000.0   \n",
       "4  326625791  North America  United States of America    USA  18560000.0   \n",
       "\n",
       "                                            geometry  \n",
       "0  MULTIPOLYGON (((180.00000 -16.06713, 180.00000...  \n",
       "1  POLYGON ((33.90371 -0.95000, 34.07262 -1.05982...  \n",
       "2  POLYGON ((-8.66559 27.65643, -8.66512 27.58948...  \n",
       "3  MULTIPOLYGON (((-122.84000 49.00000, -122.9742...  \n",
       "4  MULTIPOLYGON (((-122.84000 49.00000, -120.0000...  "
      ]
     },
     "execution_count": 69,
     "metadata": {},
     "output_type": "execute_result"
    }
   ],
   "source": [
    "world.head()"
   ]
  },
  {
   "cell_type": "code",
   "execution_count": 70,
   "id": "7649d7a3",
   "metadata": {},
   "outputs": [
    {
     "data": {
      "text/plain": [
       "pop_est       0\n",
       "continent     0\n",
       "name          0\n",
       "iso_a3        0\n",
       "gdp_md_est    0\n",
       "geometry      0\n",
       "dtype: int64"
      ]
     },
     "execution_count": 70,
     "metadata": {},
     "output_type": "execute_result"
    }
   ],
   "source": [
    "world.isna().sum()"
   ]
  },
  {
   "cell_type": "code",
   "execution_count": 71,
   "id": "11bce56d",
   "metadata": {},
   "outputs": [
    {
     "data": {
      "text/plain": [
       "(177, 6)"
      ]
     },
     "execution_count": 71,
     "metadata": {},
     "output_type": "execute_result"
    }
   ],
   "source": [
    "world.shape"
   ]
  },
  {
   "cell_type": "markdown",
   "id": "bebc6d41",
   "metadata": {},
   "source": [
    "### Sentence templates"
   ]
  },
  {
   "cell_type": "markdown",
   "id": "a23ac8c5",
   "metadata": {},
   "source": [
    "We are using the wikipedia API to retrieve the sentences inside the summary of the wikipedia pages of the country containing the name of this country. \n",
    "\n",
    "Then, for each sentence we replace the name of the country by '$COUNTRY', in order to use those sentences as templates in an other part. "
   ]
  },
  {
   "cell_type": "code",
   "execution_count": 72,
   "id": "d01014cc",
   "metadata": {},
   "outputs": [
    {
     "name": "stdout",
     "output_type": "stream",
     "text": [
      "not found :  Dem. Rep. Congo\n",
      "not found :  Dominican Rep.\n",
      "not found :  Falkland Is.\n",
      "not found :  Timor-Leste\n",
      "not found :  Côte d'Ivoire\n",
      "not found :  Guinea-Bissau\n",
      "not found :  Central African Rep.\n"
     ]
    },
    {
     "name": "stderr",
     "output_type": "stream",
     "text": [
      "C:\\Users\\adrie\\Anaconda3\\lib\\site-packages\\wikipedia\\wikipedia.py:389: UserWarning: No parser was explicitly specified, so I'm using the best available HTML parser for this system (\"lxml\"). This usually isn't a problem, but if you run this code on another system, or in a different virtual environment, it may use a different parser and behave differently.\n",
      "\n",
      "The code that caused this warning is on line 389 of the file C:\\Users\\adrie\\Anaconda3\\lib\\site-packages\\wikipedia\\wikipedia.py. To get rid of this warning, pass the additional argument 'features=\"lxml\"' to the BeautifulSoup constructor.\n",
      "\n",
      "  lis = BeautifulSoup(html).find_all('li')\n"
     ]
    },
    {
     "name": "stdout",
     "output_type": "stream",
     "text": [
      "not found :  Congo\n",
      "not found :  Eq. Guinea\n",
      "not found :  Czechia\n",
      "not found :  Bosnia and Herz.\n"
     ]
    }
   ],
   "source": [
    "list_sentences=[]\n",
    "list_countries=[]\n",
    "for country in world['name'].unique():\n",
    "    try:\n",
    "        #We are adding country to avoid any mistakes and to find more countries.\n",
    "        summary = wikipedia.summary(country + ' country')\n",
    "        for sentence in summary.split('. '):\n",
    "            if country.lower() in sentence.lower():\n",
    "                list_sentences.append(sentence)\n",
    "                list_countries.append(country)\n",
    "    except:\n",
    "        print('not found : ', country)\n",
    "        \n",
    "#Constructing the dataframe:\n",
    "df_sentences_template_country = pd.DataFrame(data = {'sentences':list_sentences, 'name':list_countries})"
   ]
  },
  {
   "cell_type": "markdown",
   "id": "93e9bfd5",
   "metadata": {},
   "source": [
    "Almost all of the countries were found, before cleaning the sentences, let's have a look at them:"
   ]
  },
  {
   "cell_type": "code",
   "execution_count": 73,
   "id": "b001e581",
   "metadata": {
    "scrolled": false
   },
   "outputs": [
    {
     "data": {
      "text/html": [
       "<div>\n",
       "<style scoped>\n",
       "    .dataframe tbody tr th:only-of-type {\n",
       "        vertical-align: middle;\n",
       "    }\n",
       "\n",
       "    .dataframe tbody tr th {\n",
       "        vertical-align: top;\n",
       "    }\n",
       "\n",
       "    .dataframe thead th {\n",
       "        text-align: right;\n",
       "    }\n",
       "</style>\n",
       "<table border=\"1\" class=\"dataframe\">\n",
       "  <thead>\n",
       "    <tr style=\"text-align: right;\">\n",
       "      <th></th>\n",
       "      <th>sentences</th>\n",
       "      <th>name</th>\n",
       "    </tr>\n",
       "  </thead>\n",
       "  <tbody>\n",
       "    <tr>\n",
       "      <th>0</th>\n",
       "      <td>Fiji ( (listen) FEE-jee; Fijian: Viti, [ˈβitʃi...</td>\n",
       "      <td>Fiji</td>\n",
       "    </tr>\n",
       "    <tr>\n",
       "      <th>1</th>\n",
       "      <td>Fiji consists of an archipelago of more than 3...</td>\n",
       "      <td>Fiji</td>\n",
       "    </tr>\n",
       "    <tr>\n",
       "      <th>2</th>\n",
       "      <td>About three-quarters of Fijians live on Viti L...</td>\n",
       "      <td>Fiji</td>\n",
       "    </tr>\n",
       "    <tr>\n",
       "      <th>3</th>\n",
       "      <td>The interior of Viti Levu is sparsely inhabite...</td>\n",
       "      <td>Fiji</td>\n",
       "    </tr>\n",
       "    <tr>\n",
       "      <th>4</th>\n",
       "      <td>The geothermal systems on Viti Levu are non-vo...</td>\n",
       "      <td>Fiji</td>\n",
       "    </tr>\n",
       "    <tr>\n",
       "      <th>...</th>\n",
       "      <td>...</td>\n",
       "      <td>...</td>\n",
       "    </tr>\n",
       "    <tr>\n",
       "      <th>1618</th>\n",
       "      <td>Trinidad and Tobago ( (listen), ), officially ...</td>\n",
       "      <td>Trinidad and Tobago</td>\n",
       "    </tr>\n",
       "    <tr>\n",
       "      <th>1619</th>\n",
       "      <td>Consisting of the main islands Trinidad and To...</td>\n",
       "      <td>Trinidad and Tobago</td>\n",
       "    </tr>\n",
       "    <tr>\n",
       "      <th>1620</th>\n",
       "      <td>Trinidad and Tobago were ceded to Britain in 1...</td>\n",
       "      <td>Trinidad and Tobago</td>\n",
       "    </tr>\n",
       "    <tr>\n",
       "      <th>1621</th>\n",
       "      <td>Trinidad and Tobago obtained independence in 1...</td>\n",
       "      <td>Trinidad and Tobago</td>\n",
       "    </tr>\n",
       "    <tr>\n",
       "      <th>1622</th>\n",
       "      <td>Unlike most Caribbean nations and territories,...</td>\n",
       "      <td>Trinidad and Tobago</td>\n",
       "    </tr>\n",
       "  </tbody>\n",
       "</table>\n",
       "<p>1623 rows × 2 columns</p>\n",
       "</div>"
      ],
      "text/plain": [
       "                                              sentences                 name\n",
       "0     Fiji ( (listen) FEE-jee; Fijian: Viti, [ˈβitʃi...                 Fiji\n",
       "1     Fiji consists of an archipelago of more than 3...                 Fiji\n",
       "2     About three-quarters of Fijians live on Viti L...                 Fiji\n",
       "3     The interior of Viti Levu is sparsely inhabite...                 Fiji\n",
       "4     The geothermal systems on Viti Levu are non-vo...                 Fiji\n",
       "...                                                 ...                  ...\n",
       "1618  Trinidad and Tobago ( (listen), ), officially ...  Trinidad and Tobago\n",
       "1619  Consisting of the main islands Trinidad and To...  Trinidad and Tobago\n",
       "1620  Trinidad and Tobago were ceded to Britain in 1...  Trinidad and Tobago\n",
       "1621  Trinidad and Tobago obtained independence in 1...  Trinidad and Tobago\n",
       "1622  Unlike most Caribbean nations and territories,...  Trinidad and Tobago\n",
       "\n",
       "[1623 rows x 2 columns]"
      ]
     },
     "execution_count": 73,
     "metadata": {},
     "output_type": "execute_result"
    }
   ],
   "source": [
    "df_sentences_template_country"
   ]
  },
  {
   "cell_type": "markdown",
   "id": "1a565907",
   "metadata": {},
   "source": [
    "1623 sentences were found, and some seem quite odd - especially the first ones. \n",
    "\n",
    "For the sake of simplicity, we are only taking the 2 last ones. "
   ]
  },
  {
   "cell_type": "code",
   "execution_count": 74,
   "id": "d26dbe4a",
   "metadata": {},
   "outputs": [],
   "source": [
    "df_sentences_template_country = df_sentences_template_country.groupby('name').agg({'sentences':'last'}).reset_index()"
   ]
  },
  {
   "cell_type": "markdown",
   "id": "a2d19be9",
   "metadata": {},
   "source": [
    "Now we can clean the sentences:"
   ]
  },
  {
   "cell_type": "code",
   "execution_count": 75,
   "id": "58dc7ed8",
   "metadata": {},
   "outputs": [],
   "source": [
    "def clean_template(row):\n",
    "    \"\"\"\n",
    "    function clean_template applied to each row in order to replace the company names in the sentences by '$COMPANY'\n",
    "    to use them after in the construction of the sentences. \n",
    "    \"\"\"\n",
    "    #Check for company names in the sentence, ignoring the case:\n",
    "    sent = row['sentences']\n",
    "    while re.search(row['name'], sent, re.IGNORECASE):\n",
    "        match = re.search(row['name'], sent, re.IGNORECASE)\n",
    "        sent = sent[:match.span()[0]] + '$COUNTRY' + sent[match.span()[1]:]\n",
    "        return sent"
   ]
  },
  {
   "cell_type": "code",
   "execution_count": 76,
   "id": "965fa8f9",
   "metadata": {},
   "outputs": [],
   "source": [
    "df_sentences_template_country['clean_sentence'] = df_sentences_template_country.apply(clean_template, axis=1)"
   ]
  },
  {
   "cell_type": "code",
   "execution_count": 77,
   "id": "84383c8c",
   "metadata": {},
   "outputs": [
    {
     "data": {
      "text/plain": [
       "array(['$COUNTRY has a newly industrialised market economy, ranked third-largest in Southeast Asia and 33rd-largest in the world'],\n",
       "      dtype=object)"
      ]
     },
     "execution_count": 77,
     "metadata": {},
     "output_type": "execute_result"
    }
   ],
   "source": [
    "df_sentences_template_country.sample(1)['clean_sentence'].values"
   ]
  },
  {
   "cell_type": "markdown",
   "id": "40270d58",
   "metadata": {},
   "source": [
    "We save the template"
   ]
  },
  {
   "cell_type": "code",
   "execution_count": 78,
   "id": "91eac75a",
   "metadata": {},
   "outputs": [],
   "source": [
    "df_sentences_template_country.to_csv('Data/template_country.csv', index=False)"
   ]
  },
  {
   "cell_type": "markdown",
   "id": "bb98cc21",
   "metadata": {},
   "source": [
    "### Constructing the sentences"
   ]
  },
  {
   "cell_type": "code",
   "execution_count": 79,
   "id": "4e58be25",
   "metadata": {},
   "outputs": [
    {
     "name": "stdout",
     "output_type": "stream",
     "text": [
      "We have 159 sentences\n",
      "and 177 country names\n",
      "This gives 28143 possible sentences.\n"
     ]
    }
   ],
   "source": [
    "print('We have {} sentences'.format(df_sentences_template_country.shape[0]))\n",
    "print('and {} country names'.format(world.shape[0]))\n",
    "print('This gives {} possible sentences.'.format(df_sentences_template_country.shape[0] * world.shape[0]))"
   ]
  },
  {
   "cell_type": "markdown",
   "id": "4227f672",
   "metadata": {},
   "source": [
    "Then, we can compute all the sentences - every country names and every sentences. "
   ]
  },
  {
   "cell_type": "code",
   "execution_count": 83,
   "id": "74d6cbfa",
   "metadata": {},
   "outputs": [],
   "source": [
    "list_sentences_modified=[]\n",
    "list_countries=[]\n",
    "for country in world['name'].unique():\n",
    "    for sentence in df_sentences_template_country['clean_sentence'].unique():\n",
    "        list_sentences_modified.append(sentence.replace('$COUNTRY', country))\n",
    "        list_countries.append(country)\n",
    "df_country_test = pd.DataFrame(data={'sentence':list_sentences_modified, 'name':list_countries})"
   ]
  },
  {
   "cell_type": "code",
   "execution_count": 84,
   "id": "ce1a6915",
   "metadata": {},
   "outputs": [
    {
     "data": {
      "text/html": [
       "<div>\n",
       "<style scoped>\n",
       "    .dataframe tbody tr th:only-of-type {\n",
       "        vertical-align: middle;\n",
       "    }\n",
       "\n",
       "    .dataframe tbody tr th {\n",
       "        vertical-align: top;\n",
       "    }\n",
       "\n",
       "    .dataframe thead th {\n",
       "        text-align: right;\n",
       "    }\n",
       "</style>\n",
       "<table border=\"1\" class=\"dataframe\">\n",
       "  <thead>\n",
       "    <tr style=\"text-align: right;\">\n",
       "      <th></th>\n",
       "      <th>sentence</th>\n",
       "      <th>name</th>\n",
       "    </tr>\n",
       "  </thead>\n",
       "  <tbody>\n",
       "    <tr>\n",
       "      <th>0</th>\n",
       "      <td>Fiji's economy is the world's 96th largest, wi...</td>\n",
       "      <td>Fiji</td>\n",
       "    </tr>\n",
       "    <tr>\n",
       "      <th>1</th>\n",
       "      <td>Fiji is a member of the United Nations, World ...</td>\n",
       "      <td>Fiji</td>\n",
       "    </tr>\n",
       "    <tr>\n",
       "      <th>2</th>\n",
       "      <td>Fiji's military is one of the largest in Afric...</td>\n",
       "      <td>Fiji</td>\n",
       "    </tr>\n",
       "    <tr>\n",
       "      <th>3</th>\n",
       "      <td>Fijin culture reflects centuries of Portuguese...</td>\n",
       "      <td>Fiji</td>\n",
       "    </tr>\n",
       "    <tr>\n",
       "      <th>4</th>\n",
       "      <td>Seven sovereign states have made territorial c...</td>\n",
       "      <td>Fiji</td>\n",
       "    </tr>\n",
       "    <tr>\n",
       "      <th>...</th>\n",
       "      <td>...</td>\n",
       "      <td>...</td>\n",
       "    </tr>\n",
       "    <tr>\n",
       "      <th>28138</th>\n",
       "      <td>Contemporary issues in S. Sudan include corrup...</td>\n",
       "      <td>S. Sudan</td>\n",
       "    </tr>\n",
       "    <tr>\n",
       "      <th>28139</th>\n",
       "      <td>Another attempt to restore South S. Sudan as a...</td>\n",
       "      <td>S. Sudan</td>\n",
       "    </tr>\n",
       "    <tr>\n",
       "      <th>28140</th>\n",
       "      <td>In 2010, the World Bank named S. Sudan one of ...</td>\n",
       "      <td>S. Sudan</td>\n",
       "    </tr>\n",
       "    <tr>\n",
       "      <th>28141</th>\n",
       "      <td>Emmerson Mnangagwa has since served as S. Suda...</td>\n",
       "      <td>S. Sudan</td>\n",
       "    </tr>\n",
       "    <tr>\n",
       "      <th>28142</th>\n",
       "      <td>The population of S. Sudan is young, with, as ...</td>\n",
       "      <td>S. Sudan</td>\n",
       "    </tr>\n",
       "  </tbody>\n",
       "</table>\n",
       "<p>28143 rows × 2 columns</p>\n",
       "</div>"
      ],
      "text/plain": [
       "                                                sentence      name\n",
       "0      Fiji's economy is the world's 96th largest, wi...      Fiji\n",
       "1      Fiji is a member of the United Nations, World ...      Fiji\n",
       "2      Fiji's military is one of the largest in Afric...      Fiji\n",
       "3      Fijin culture reflects centuries of Portuguese...      Fiji\n",
       "4      Seven sovereign states have made territorial c...      Fiji\n",
       "...                                                  ...       ...\n",
       "28138  Contemporary issues in S. Sudan include corrup...  S. Sudan\n",
       "28139  Another attempt to restore South S. Sudan as a...  S. Sudan\n",
       "28140  In 2010, the World Bank named S. Sudan one of ...  S. Sudan\n",
       "28141  Emmerson Mnangagwa has since served as S. Suda...  S. Sudan\n",
       "28142  The population of S. Sudan is young, with, as ...  S. Sudan\n",
       "\n",
       "[28143 rows x 2 columns]"
      ]
     },
     "execution_count": 84,
     "metadata": {},
     "output_type": "execute_result"
    }
   ],
   "source": [
    "df_country_test"
   ]
  },
  {
   "cell_type": "markdown",
   "id": "ab301ef6",
   "metadata": {},
   "source": [
    "### Applying the model"
   ]
  },
  {
   "cell_type": "code",
   "execution_count": 91,
   "id": "0ef6e179",
   "metadata": {},
   "outputs": [
    {
     "name": "stderr",
     "output_type": "stream",
     "text": [
      "  0%|                                                                              | 15/28143 [00:00<03:09, 148.45it/s]"
     ]
    },
    {
     "name": "stdout",
     "output_type": "stream",
     "text": [
      "Testing the model: sm\n"
     ]
    },
    {
     "name": "stderr",
     "output_type": "stream",
     "text": [
      "100%|███████████████████████████████████████████████████████████████████████████| 28143/28143 [03:15<00:00, 143.79it/s]\n",
      "  0%|                                                                              | 12/28143 [00:00<04:06, 114.28it/s]"
     ]
    },
    {
     "name": "stdout",
     "output_type": "stream",
     "text": [
      "Testing the model: md\n"
     ]
    },
    {
     "name": "stderr",
     "output_type": "stream",
     "text": [
      "100%|███████████████████████████████████████████████████████████████████████████| 28143/28143 [03:34<00:00, 131.11it/s]\n",
      "  0%|                                                                              | 12/28143 [00:00<04:06, 114.32it/s]"
     ]
    },
    {
     "name": "stdout",
     "output_type": "stream",
     "text": [
      "Testing the model: lg\n"
     ]
    },
    {
     "name": "stderr",
     "output_type": "stream",
     "text": [
      "100%|███████████████████████████████████████████████████████████████████████████| 28143/28143 [03:42<00:00, 126.77it/s]\n",
      "  0%|                                                                                | 2/28143 [00:00<29:04, 16.13it/s]"
     ]
    },
    {
     "name": "stdout",
     "output_type": "stream",
     "text": [
      "Testing the model: trf\n"
     ]
    },
    {
     "name": "stderr",
     "output_type": "stream",
     "text": [
      "100%|████████████████████████████████████████████████████████████████████████████| 28143/28143 [39:29<00:00, 11.87it/s]\n"
     ]
    }
   ],
   "source": [
    "df_results_country = main_companies(df_country_test)"
   ]
  },
  {
   "cell_type": "code",
   "execution_count": 92,
   "id": "1d1c4595",
   "metadata": {},
   "outputs": [],
   "source": [
    "df_results_country.to_csv('Data/results/results_country.csv', index=False)"
   ]
  },
  {
   "cell_type": "code",
   "execution_count": 94,
   "id": "45a3bbfa",
   "metadata": {},
   "outputs": [],
   "source": [
    "#Computing the average score:\n",
    "df_results_country['avg_score']=df_results_country[['score_sm', 'score_md', 'score_lg', 'score_trf']].mean(axis=1)"
   ]
  },
  {
   "cell_type": "code",
   "execution_count": 103,
   "id": "0cb962c9",
   "metadata": {},
   "outputs": [],
   "source": [
    "df_results_country_merge = world.merge(df_results_country, left_on='name', right_on='name', how='right')"
   ]
  },
  {
   "cell_type": "markdown",
   "id": "c2da1521",
   "metadata": {},
   "source": [
    "### Results"
   ]
  },
  {
   "cell_type": "markdown",
   "id": "22716337",
   "metadata": {},
   "source": [
    "#### Map by country"
   ]
  },
  {
   "cell_type": "code",
   "execution_count": 105,
   "id": "41f07b6a",
   "metadata": {},
   "outputs": [
    {
     "data": {
      "text/plain": [
       "<matplotlib.axes._subplots.AxesSubplot at 0x230c24ec948>"
      ]
     },
     "execution_count": 105,
     "metadata": {},
     "output_type": "execute_result"
    },
    {
     "data": {
      "image/png": "[encoded data removed]",
      "text/plain": [
       "<Figure size 432x288 with 1 Axes>"
      ]
     },
     "metadata": {
      "needs_background": "light"
     },
     "output_type": "display_data"
    }
   ],
   "source": [
    "df_results_country_merge.plot('avg_score')"
   ]
  },
  {
   "cell_type": "markdown",
   "id": "26b4744a",
   "metadata": {},
   "source": [
    "#### results by continent"
   ]
  },
  {
   "cell_type": "code",
   "execution_count": 108,
   "id": "1c19f67e",
   "metadata": {},
   "outputs": [
    {
     "data": {
      "text/html": [
       "<div>\n",
       "<style scoped>\n",
       "    .dataframe tbody tr th:only-of-type {\n",
       "        vertical-align: middle;\n",
       "    }\n",
       "\n",
       "    .dataframe tbody tr th {\n",
       "        vertical-align: top;\n",
       "    }\n",
       "\n",
       "    .dataframe thead th {\n",
       "        text-align: right;\n",
       "    }\n",
       "</style>\n",
       "<table border=\"1\" class=\"dataframe\">\n",
       "  <thead>\n",
       "    <tr style=\"text-align: right;\">\n",
       "      <th></th>\n",
       "      <th>pop_est</th>\n",
       "      <th>gdp_md_est</th>\n",
       "      <th>score_sm</th>\n",
       "      <th>score_md</th>\n",
       "      <th>score_lg</th>\n",
       "      <th>score_trf</th>\n",
       "      <th>avg_score</th>\n",
       "    </tr>\n",
       "    <tr>\n",
       "      <th>continent</th>\n",
       "      <th></th>\n",
       "      <th></th>\n",
       "      <th></th>\n",
       "      <th></th>\n",
       "      <th></th>\n",
       "      <th></th>\n",
       "      <th></th>\n",
       "    </tr>\n",
       "  </thead>\n",
       "  <tbody>\n",
       "    <tr>\n",
       "      <th>Africa</th>\n",
       "      <td>2.390542e+07</td>\n",
       "      <td>1.181430e+05</td>\n",
       "      <td>0.840301</td>\n",
       "      <td>0.897521</td>\n",
       "      <td>0.909113</td>\n",
       "      <td>0.961648</td>\n",
       "      <td>0.902146</td>\n",
       "    </tr>\n",
       "    <tr>\n",
       "      <th>Antarctica</th>\n",
       "      <td>4.050000e+03</td>\n",
       "      <td>8.100000e+02</td>\n",
       "      <td>0.974843</td>\n",
       "      <td>0.968553</td>\n",
       "      <td>0.974843</td>\n",
       "      <td>0.974843</td>\n",
       "      <td>0.973270</td>\n",
       "    </tr>\n",
       "    <tr>\n",
       "      <th>Asia</th>\n",
       "      <td>9.338606e+07</td>\n",
       "      <td>1.179460e+06</td>\n",
       "      <td>0.936170</td>\n",
       "      <td>0.949686</td>\n",
       "      <td>0.958384</td>\n",
       "      <td>0.992908</td>\n",
       "      <td>0.959287</td>\n",
       "    </tr>\n",
       "    <tr>\n",
       "      <th>Europe</th>\n",
       "      <td>1.913842e+07</td>\n",
       "      <td>6.483302e+05</td>\n",
       "      <td>0.938720</td>\n",
       "      <td>0.956136</td>\n",
       "      <td>0.957426</td>\n",
       "      <td>0.986454</td>\n",
       "      <td>0.959684</td>\n",
       "    </tr>\n",
       "    <tr>\n",
       "      <th>North America</th>\n",
       "      <td>3.183567e+07</td>\n",
       "      <td>1.305841e+06</td>\n",
       "      <td>0.851502</td>\n",
       "      <td>0.874563</td>\n",
       "      <td>0.870720</td>\n",
       "      <td>0.945842</td>\n",
       "      <td>0.885657</td>\n",
       "    </tr>\n",
       "    <tr>\n",
       "      <th>Oceania</th>\n",
       "      <td>5.254692e+06</td>\n",
       "      <td>2.018407e+05</td>\n",
       "      <td>0.743935</td>\n",
       "      <td>0.841869</td>\n",
       "      <td>0.822102</td>\n",
       "      <td>0.975741</td>\n",
       "      <td>0.845912</td>\n",
       "    </tr>\n",
       "    <tr>\n",
       "      <th>Seven seas (open ocean)</th>\n",
       "      <td>1.400000e+02</td>\n",
       "      <td>1.600000e+01</td>\n",
       "      <td>0.006289</td>\n",
       "      <td>0.000000</td>\n",
       "      <td>0.000000</td>\n",
       "      <td>0.937107</td>\n",
       "      <td>0.235849</td>\n",
       "    </tr>\n",
       "    <tr>\n",
       "      <th>South America</th>\n",
       "      <td>3.219544e+07</td>\n",
       "      <td>4.905455e+05</td>\n",
       "      <td>0.813256</td>\n",
       "      <td>0.904209</td>\n",
       "      <td>0.901790</td>\n",
       "      <td>0.990808</td>\n",
       "      <td>0.902516</td>\n",
       "    </tr>\n",
       "  </tbody>\n",
       "</table>\n",
       "</div>"
      ],
      "text/plain": [
       "                              pop_est    gdp_md_est  score_sm  score_md  \\\n",
       "continent                                                                 \n",
       "Africa                   2.390542e+07  1.181430e+05  0.840301  0.897521   \n",
       "Antarctica               4.050000e+03  8.100000e+02  0.974843  0.968553   \n",
       "Asia                     9.338606e+07  1.179460e+06  0.936170  0.949686   \n",
       "Europe                   1.913842e+07  6.483302e+05  0.938720  0.956136   \n",
       "North America            3.183567e+07  1.305841e+06  0.851502  0.874563   \n",
       "Oceania                  5.254692e+06  2.018407e+05  0.743935  0.841869   \n",
       "Seven seas (open ocean)  1.400000e+02  1.600000e+01  0.006289  0.000000   \n",
       "South America            3.219544e+07  4.905455e+05  0.813256  0.904209   \n",
       "\n",
       "                         score_lg  score_trf  avg_score  \n",
       "continent                                                \n",
       "Africa                   0.909113   0.961648   0.902146  \n",
       "Antarctica               0.974843   0.974843   0.973270  \n",
       "Asia                     0.958384   0.992908   0.959287  \n",
       "Europe                   0.957426   0.986454   0.959684  \n",
       "North America            0.870720   0.945842   0.885657  \n",
       "Oceania                  0.822102   0.975741   0.845912  \n",
       "Seven seas (open ocean)  0.000000   0.937107   0.235849  \n",
       "South America            0.901790   0.990808   0.902516  "
      ]
     },
     "execution_count": 108,
     "metadata": {},
     "output_type": "execute_result"
    }
   ],
   "source": [
    "df_results_country_merge.groupby('continent').mean()"
   ]
  },
  {
   "cell_type": "code",
   "execution_count": 115,
   "id": "452187f3",
   "metadata": {},
   "outputs": [
    {
     "data": {
      "text/plain": [
       "<matplotlib.axes._subplots.AxesSubplot at 0x230c2d13ec8>"
      ]
     },
     "execution_count": 115,
     "metadata": {},
     "output_type": "execute_result"
    },
    {
     "data": {
      "image/png": "[encoded data removed]",
      "text/plain": [
       "<Figure size 432x288 with 1 Axes>"
      ]
     },
     "metadata": {
      "needs_background": "light"
     },
     "output_type": "display_data"
    }
   ],
   "source": [
    "world.merge(df_results_country_merge.groupby('continent').mean().reset_index(drop=False), left_on='continent', right_on='continent', how='left').plot('avg_score')"
   ]
  },
  {
   "cell_type": "markdown",
   "id": "f01dfa90",
   "metadata": {},
   "source": [
    "#### Correlations with GDP and Population:"
   ]
  },
  {
   "cell_type": "code",
   "execution_count": 107,
   "id": "65189b53",
   "metadata": {},
   "outputs": [
    {
     "data": {
      "text/html": [
       "<div>\n",
       "<style scoped>\n",
       "    .dataframe tbody tr th:only-of-type {\n",
       "        vertical-align: middle;\n",
       "    }\n",
       "\n",
       "    .dataframe tbody tr th {\n",
       "        vertical-align: top;\n",
       "    }\n",
       "\n",
       "    .dataframe thead th {\n",
       "        text-align: right;\n",
       "    }\n",
       "</style>\n",
       "<table border=\"1\" class=\"dataframe\">\n",
       "  <thead>\n",
       "    <tr style=\"text-align: right;\">\n",
       "      <th></th>\n",
       "      <th>pop_est</th>\n",
       "      <th>gdp_md_est</th>\n",
       "      <th>score_sm</th>\n",
       "      <th>score_md</th>\n",
       "      <th>score_lg</th>\n",
       "      <th>score_trf</th>\n",
       "      <th>avg_score</th>\n",
       "    </tr>\n",
       "  </thead>\n",
       "  <tbody>\n",
       "    <tr>\n",
       "      <th>pop_est</th>\n",
       "      <td>1.000000</td>\n",
       "      <td>0.800898</td>\n",
       "      <td>0.076205</td>\n",
       "      <td>0.057662</td>\n",
       "      <td>0.056331</td>\n",
       "      <td>0.026757</td>\n",
       "      <td>0.063994</td>\n",
       "    </tr>\n",
       "    <tr>\n",
       "      <th>gdp_md_est</th>\n",
       "      <td>0.800898</td>\n",
       "      <td>1.000000</td>\n",
       "      <td>0.094386</td>\n",
       "      <td>0.062700</td>\n",
       "      <td>0.062577</td>\n",
       "      <td>0.049508</td>\n",
       "      <td>0.076677</td>\n",
       "    </tr>\n",
       "    <tr>\n",
       "      <th>score_sm</th>\n",
       "      <td>0.076205</td>\n",
       "      <td>0.094386</td>\n",
       "      <td>1.000000</td>\n",
       "      <td>0.821181</td>\n",
       "      <td>0.829561</td>\n",
       "      <td>0.613558</td>\n",
       "      <td>0.920829</td>\n",
       "    </tr>\n",
       "    <tr>\n",
       "      <th>score_md</th>\n",
       "      <td>0.057662</td>\n",
       "      <td>0.062700</td>\n",
       "      <td>0.821181</td>\n",
       "      <td>1.000000</td>\n",
       "      <td>0.966654</td>\n",
       "      <td>0.703151</td>\n",
       "      <td>0.965493</td>\n",
       "    </tr>\n",
       "    <tr>\n",
       "      <th>score_lg</th>\n",
       "      <td>0.056331</td>\n",
       "      <td>0.062577</td>\n",
       "      <td>0.829561</td>\n",
       "      <td>0.966654</td>\n",
       "      <td>1.000000</td>\n",
       "      <td>0.726239</td>\n",
       "      <td>0.971123</td>\n",
       "    </tr>\n",
       "    <tr>\n",
       "      <th>score_trf</th>\n",
       "      <td>0.026757</td>\n",
       "      <td>0.049508</td>\n",
       "      <td>0.613558</td>\n",
       "      <td>0.703151</td>\n",
       "      <td>0.726239</td>\n",
       "      <td>1.000000</td>\n",
       "      <td>0.772331</td>\n",
       "    </tr>\n",
       "    <tr>\n",
       "      <th>avg_score</th>\n",
       "      <td>0.063994</td>\n",
       "      <td>0.076677</td>\n",
       "      <td>0.920829</td>\n",
       "      <td>0.965493</td>\n",
       "      <td>0.971123</td>\n",
       "      <td>0.772331</td>\n",
       "      <td>1.000000</td>\n",
       "    </tr>\n",
       "  </tbody>\n",
       "</table>\n",
       "</div>"
      ],
      "text/plain": [
       "             pop_est  gdp_md_est  score_sm  score_md  score_lg  score_trf  \\\n",
       "pop_est     1.000000    0.800898  0.076205  0.057662  0.056331   0.026757   \n",
       "gdp_md_est  0.800898    1.000000  0.094386  0.062700  0.062577   0.049508   \n",
       "score_sm    0.076205    0.094386  1.000000  0.821181  0.829561   0.613558   \n",
       "score_md    0.057662    0.062700  0.821181  1.000000  0.966654   0.703151   \n",
       "score_lg    0.056331    0.062577  0.829561  0.966654  1.000000   0.726239   \n",
       "score_trf   0.026757    0.049508  0.613558  0.703151  0.726239   1.000000   \n",
       "avg_score   0.063994    0.076677  0.920829  0.965493  0.971123   0.772331   \n",
       "\n",
       "            avg_score  \n",
       "pop_est      0.063994  \n",
       "gdp_md_est   0.076677  \n",
       "score_sm     0.920829  \n",
       "score_md     0.965493  \n",
       "score_lg     0.971123  \n",
       "score_trf    0.772331  \n",
       "avg_score    1.000000  "
      ]
     },
     "execution_count": 107,
     "metadata": {},
     "output_type": "execute_result"
    }
   ],
   "source": [
    "df_results_country_merge.corr()"
   ]
  }
 ],
 "metadata": {
  "kernelspec": {
   "display_name": "Python 3",
   "language": "python",
   "name": "python3"
  },
  "language_info": {
   "codemirror_mode": {
    "name": "ipython",
    "version": 3
   },
   "file_extension": ".py",
   "mimetype": "text/x-python",
   "name": "python",
   "nbconvert_exporter": "python",
   "pygments_lexer": "ipython3",
   "version": "3.7.4"
  },
  "toc": {
   "base_numbering": 1,
   "nav_menu": {},
   "number_sections": true,
   "sideBar": true,
   "skip_h1_title": true,
   "title_cell": "Table of Contents",
   "title_sidebar": "Contents",
   "toc_cell": false,
   "toc_position": {},
   "toc_section_display": true,
   "toc_window_display": true
  }
 },
 "nbformat": 4,
 "nbformat_minor": 5
}
