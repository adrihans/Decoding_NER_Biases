{
 "cells": [
  {
   "cell_type": "markdown",
   "id": "15123750",
   "metadata": {},
   "source": [
    "# Complete exploration of first names Biases in NER models"
   ]
  },
  {
   "cell_type": "markdown",
   "id": "ed8159e5",
   "metadata": {},
   "source": [
    "Following the same general methode explained in this [article](https://arxiv.org/pdf/2008.03415.pdf), we construct a small datasets with first names associated with ethnicity. \n",
    "\n",
    "This notebook is made to explore the possible biases in NER models when applied to the detection of first names. \n",
    "\n",
    "Firstly, we will compute the same thing as in the article, then, we will go further by exploring the same hypothesis but with other datasets. \n",
    "\n",
    "For each exploration, 4 models will be used: \n",
    "- sm\n",
    "- md\n",
    "- lg\n",
    "- trf\n",
    "\n",
    "\n",
    "We are only testing if the first names are recognized as named entities by the models, but not if they are actually recognized as a person's name. \n",
    "\n",
    "This could have been done by using this kind of code : \n",
    "\n",
    "`doc.ents[0].label_`\n",
    "\n",
    "And this would constitute a good improvement of this project, because maybe we could have seen ome other biases - or not - in the label, and could also have defined a different metric. \n",
    "\n",
    "But again, here, we are just giving a score of 1 if the name has been recognized and 0 if not. \n",
    "\n",
    "Then, we can have a mean results for each of the first names and finally have the results for each group. \n",
    "\n",
    "**Steps of this notebook :**\n",
    "1. **Utils**\n",
    "\n",
    "The first part of this notebook can be found quite technical. It consists in the developement of several functions used afterwards on all the datasets. \n",
    "\n",
    "- Those functions are made to: \n",
    "    - Computing the sentences\n",
    "    - Applying the four models \n",
    "    - Getting back the results in a proper way\n",
    "\n",
    "For all of the expirements of this notebook and in order to construct the sentences, we are using the winogender schemas described in the article. \n",
    "\n",
    "Depending on the datasets, some other function are needed, for instance to average the results given the popularity of a first name depending on the birth year on the US baby names dataset. But this last point is developped in the needed parts of this notebook. \n",
    "\n",
    "You can find a more detailed explanation about the datasets used and the methodology on [this GitHub page](https://adrihans.github.io/Decoding_NER_Biases/)."
   ]
  },
  {
   "cell_type": "markdown",
   "id": "689a301b",
   "metadata": {},
   "source": [
    "## Necessary imports:"
   ]
  },
  {
   "cell_type": "code",
   "execution_count": 2,
   "id": "4c8308c9",
   "metadata": {},
   "outputs": [],
   "source": [
    "import geopandas as gpd\n",
    "\n",
    "import pandas as pd\n",
    "import numpy as np\n",
    "\n",
    "from tqdm import tqdm\n",
    "import random\n",
    "\n",
    "\n",
    "#Viz:\n",
    "import seaborn as sns\n",
    "import matplotlib.pyplot as plt\n",
    "\n",
    "%matplotlib inline\n",
    "\n",
    "#Spacy:\n",
    "import spacy\n",
    "from spacy import displacy"
   ]
  },
  {
   "cell_type": "markdown",
   "id": "37d93938",
   "metadata": {},
   "source": [
    "## Utils"
   ]
  },
  {
   "cell_type": "markdown",
   "id": "3f24ce87",
   "metadata": {},
   "source": [
    "### Winogender"
   ]
  },
  {
   "cell_type": "markdown",
   "id": "a52808f4",
   "metadata": {},
   "source": [
    "We also have to build templates for the sentences. \n",
    "\n",
    "Just as in the article, we're using the winogender schemas, which was made to check gender biases in algorithmic procedures. The project consists in basic sentences, with some variables like : `$Participant`, `$Occupation` or `$Pronoun`, which can then be replaced by actual names. \n",
    "\n",
    "The github page of the project can be found [here](https://github.com/rudinger/winogender-schemas), and the page of the templates we're using can be found [here](https://github.com/rudinger/winogender-schemas/blob/master/data/templates.tsv). "
   ]
  },
  {
   "cell_type": "code",
   "execution_count": 3,
   "id": "8914f208",
   "metadata": {},
   "outputs": [],
   "source": [
    "#Accessing the templates : \n",
    "templates_sentences = pd.read_csv('https://raw.githubusercontent.com/rudinger/winogender-schemas/master/data/templates.tsv', sep='\\t')"
   ]
  },
  {
   "cell_type": "code",
   "execution_count": 4,
   "id": "bce185ac",
   "metadata": {},
   "outputs": [
    {
     "data": {
      "text/plain": [
       "(120, 4)"
      ]
     },
     "execution_count": 4,
     "metadata": {},
     "output_type": "execute_result"
    }
   ],
   "source": [
    "templates_sentences.shape"
   ]
  },
  {
   "cell_type": "markdown",
   "id": "ee176a26",
   "metadata": {},
   "source": [
    "We have to make some modifications because the templates were not actually intended to be used with actual first names. \n",
    "\n",
    "For instance, There is often `The` before the word `$Occupation` - because it was intended to used with an occupation. \n",
    "\n",
    "Then, we have to delete this 'the' when it is present. \n",
    "\n",
    "We also have to check if there are indeed 3 possible names in each sentence, and if the pronoun is a nominative one -to avoid any english mistake. "
   ]
  },
  {
   "cell_type": "code",
   "execution_count": 5,
   "id": "71535ef7",
   "metadata": {},
   "outputs": [],
   "source": [
    "#We need to delete the 'THE' before occupation and participant :\n",
    "def make_template_right(sent):    \n",
    "    l_sent = sent.split()\n",
    "    i_occupation = l_sent.index('$OCCUPATION')\n",
    "    if i_occupation != 0: \n",
    "        if l_sent[i_occupation-1].lower() == 'the': \n",
    "            del l_sent[i_occupation-1]\n",
    "\n",
    "    #Same thing with $PARTICIPANT : \n",
    "\n",
    "    i_participant = l_sent.index('$PARTICIPANT')\n",
    "    if i_participant != 0: \n",
    "        if l_sent[i_participant-1].lower() == 'the': \n",
    "            del l_sent[i_participant-1]\n",
    "\n",
    "    #Building up the sentence again: \n",
    "    return ' '.join(l_sent)"
   ]
  },
  {
   "cell_type": "code",
   "execution_count": 6,
   "id": "280d01f4",
   "metadata": {},
   "outputs": [
    {
     "name": "stderr",
     "output_type": "stream",
     "text": [
      "100%|█████████████████████████████████████████████████████████████████████████████| 120/120 [00:00<00:00, 39606.27it/s]\n"
     ]
    }
   ],
   "source": [
    "#Applying the function to the dataframe: \n",
    "tqdm.pandas()\n",
    "templates_sentences['right_sentence'] = templates_sentences['sentence'].progress_apply(make_template_right)"
   ]
  },
  {
   "cell_type": "code",
   "execution_count": 7,
   "id": "d698d7b6",
   "metadata": {},
   "outputs": [],
   "source": [
    "#We only take into account the nomitative pronouns to form exact sentences:\n",
    "def check_three_items(sentence):\n",
    "    if '$OCCUPATION' in sentence:\n",
    "        if '$PARTICIPANT' in sentence:\n",
    "            if '$NOM_PRONOUN' in sentence:\n",
    "                return 1\n",
    "    return 0 "
   ]
  },
  {
   "cell_type": "code",
   "execution_count": 8,
   "id": "c5c54618",
   "metadata": {},
   "outputs": [],
   "source": [
    "#Applying the function described above and selecting only the sentences with three items:\n",
    "templates_sentences['three_items'] = templates_sentences['right_sentence'].apply(check_three_items)\n",
    "templates_sentences = templates_sentences[templates_sentences['three_items']==1]"
   ]
  },
  {
   "cell_type": "code",
   "execution_count": 9,
   "id": "ac873ed7",
   "metadata": {},
   "outputs": [],
   "source": [
    "t=templates_sentences.sample(1)"
   ]
  },
  {
   "cell_type": "code",
   "execution_count": 10,
   "id": "140cfed0",
   "metadata": {},
   "outputs": [
    {
     "data": {
      "text/plain": [
       "'The $PARTICIPANT was referred to the $OCCUPATION because $NOM_PRONOUN had a rare skin condition.'"
      ]
     },
     "execution_count": 10,
     "metadata": {},
     "output_type": "execute_result"
    }
   ],
   "source": [
    "t['sentence'].values[0]"
   ]
  },
  {
   "cell_type": "code",
   "execution_count": 11,
   "id": "f90ee2db",
   "metadata": {},
   "outputs": [
    {
     "data": {
      "text/plain": [
       "'$PARTICIPANT was referred to $OCCUPATION because $NOM_PRONOUN had a rare skin condition.'"
      ]
     },
     "execution_count": 11,
     "metadata": {},
     "output_type": "execute_result"
    }
   ],
   "source": [
    "t['right_sentence'].values[0]"
   ]
  },
  {
   "cell_type": "code",
   "execution_count": 12,
   "id": "85cdd228",
   "metadata": {},
   "outputs": [
    {
     "data": {
      "text/plain": [
       "89"
      ]
     },
     "execution_count": 12,
     "metadata": {},
     "output_type": "execute_result"
    }
   ],
   "source": [
    "templates_sentences.shape[0]"
   ]
  },
  {
   "cell_type": "markdown",
   "id": "d4524e80",
   "metadata": {},
   "source": [
    "### Function to compute sentences"
   ]
  },
  {
   "cell_type": "code",
   "execution_count": 13,
   "id": "7e26fc17",
   "metadata": {},
   "outputs": [],
   "source": [
    "#In each template sentence, there are : \n",
    "# $OCCUPATION // $PARTICIPANT  // $NOM_PRONOUN\n",
    "#Then, we just have to replace each thing with a first name.\n",
    "\n",
    "def compute_random_sentences(row, arr_names, template=templates_sentences):\n",
    "    \"\"\"\n",
    "    The template has to have a column 'right_sentence'\n",
    "    \"\"\"    \n",
    "    #Firstly we need to take one sentence at random:\n",
    "    str_sentence = template.sample(1)['right_sentence'].values[0]\n",
    "    #The names should not be all the same: \n",
    "    random_occupation = random.choice(arr_names)\n",
    "    random_participant=random_occupation\n",
    "    while random_occupation == random_participant:\n",
    "        random_participant = random.choice(arr_names)\n",
    "    random_pronoun = random_occupation\n",
    "    while random_pronoun == random_occupation or random_pronoun == random_participant:\n",
    "        random_pronoun = random.choice(arr_names)\n",
    "           \n",
    "    \n",
    "    #we replace the right words to form the finale sentence: \n",
    "    str_sentence=str_sentence.replace('$OCCUPATION', random_occupation)\n",
    "    str_sentence=str_sentence.replace('$PARTICIPANT', random_participant)\n",
    "    str_sentence=str_sentence.replace('$NOM_PRONOUN', random_pronoun)\n",
    "    return str_sentence, random_occupation, random_participant, random_pronoun"
   ]
  },
  {
   "cell_type": "markdown",
   "id": "76d062cb",
   "metadata": {},
   "source": [
    "### Models"
   ]
  },
  {
   "cell_type": "markdown",
   "id": "f2df4011",
   "metadata": {},
   "source": [
    "We are using spacy to test the NER algorithms.\n",
    "\n",
    "We are testing the 4 models implemented in version 3.1 of Spacy: \n",
    "\n",
    "- sm\n",
    "- md\n",
    "- lg\n",
    "- trf\n",
    "\n",
    "We load the four models at once:"
   ]
  },
  {
   "cell_type": "code",
   "execution_count": 14,
   "id": "e82ec17c",
   "metadata": {},
   "outputs": [
    {
     "name": "stderr",
     "output_type": "stream",
     "text": [
      "C:\\Users\\adrie\\Anaconda3\\lib\\site-packages\\spacy\\util.py:833: UserWarning: [W095] Model 'en_core_web_sm' (3.1.0) was trained with spaCy v3.1 and may not be 100% compatible with the current version (3.2.0). If you see errors or degraded performance, download a newer compatible model or retrain your custom model with the current spaCy version. For more details and available updates, run: python -m spacy validate\n",
      "  warnings.warn(warn_msg)\n",
      "C:\\Users\\adrie\\Anaconda3\\lib\\site-packages\\spacy\\util.py:833: UserWarning: [W095] Model 'en_core_web_md' (3.1.0) was trained with spaCy v3.1 and may not be 100% compatible with the current version (3.2.0). If you see errors or degraded performance, download a newer compatible model or retrain your custom model with the current spaCy version. For more details and available updates, run: python -m spacy validate\n",
      "  warnings.warn(warn_msg)\n",
      "C:\\Users\\adrie\\Anaconda3\\lib\\site-packages\\spacy\\util.py:833: UserWarning: [W095] Model 'en_core_web_lg' (3.1.0) was trained with spaCy v3.1 and may not be 100% compatible with the current version (3.2.0). If you see errors or degraded performance, download a newer compatible model or retrain your custom model with the current spaCy version. For more details and available updates, run: python -m spacy validate\n",
      "  warnings.warn(warn_msg)\n",
      "C:\\Users\\adrie\\Anaconda3\\lib\\site-packages\\spacy\\util.py:833: UserWarning: [W095] Model 'en_core_web_trf' (3.1.0) was trained with spaCy v3.1 and may not be 100% compatible with the current version (3.2.0). If you see errors or degraded performance, download a newer compatible model or retrain your custom model with the current spaCy version. For more details and available updates, run: python -m spacy validate\n",
      "  warnings.warn(warn_msg)\n"
     ]
    }
   ],
   "source": [
    "nlp_sm = spacy.load(\"en_core_web_sm\")\n",
    "nlp_md = spacy.load(\"en_core_web_md\")\n",
    "nlp_lg = spacy.load(\"en_core_web_lg\")\n",
    "nlp_trf = spacy.load(\"en_core_web_trf\")"
   ]
  },
  {
   "cell_type": "code",
   "execution_count": 15,
   "id": "a762e786",
   "metadata": {},
   "outputs": [],
   "source": [
    "def predict_NER_spacy(text, model):\n",
    "    \"\"\"\n",
    "    This function just consists in applying a given NER model to a given text. \n",
    "    \n",
    "    @Inputs:\n",
    "        text: str, the text the model is applied on\n",
    "        \n",
    "        model: str, the model to be used, either:\n",
    "                - 'sm'\n",
    "                - 'md'\n",
    "                - 'lg'\n",
    "                - 'trf'\n",
    "    @Outputs:\n",
    "        - predicted_label_liste, list, the list of the named entities recognized by the specified model. \n",
    "    \"\"\"\n",
    "    if model=='sm':\n",
    "        doc=nlp_sm(text)\n",
    "    elif model=='md':\n",
    "        doc=nlp_md(text)\n",
    "    elif model=='lg':\n",
    "        doc=nlp_lg(text)\n",
    "    elif model=='trf':\n",
    "        doc=nlp_trf(text)\n",
    "    else:\n",
    "        return np.nan\n",
    "        \n",
    "    predicted_label_liste=[str(ent).strip() for ent in doc.ents]\n",
    "    return predicted_label_liste"
   ]
  },
  {
   "cell_type": "markdown",
   "id": "9053d094",
   "metadata": {},
   "source": [
    "### Was the name found?"
   ]
  },
  {
   "cell_type": "code",
   "execution_count": 16,
   "id": "083a407f",
   "metadata": {},
   "outputs": [],
   "source": [
    "#Is the name found ?? \n",
    "def check_names_prediction(row):\n",
    "    \"\"\"\n",
    "    Function check_names_prediction\n",
    "    \n",
    "    @Inputs:\n",
    "        - row of a dataframe cointaing at least 4 columns: \n",
    "            - '0', '1' and '2': specifying the three persons names.\n",
    "            - 'spacy_prediction': the prediction of the model. \n",
    "                See the function main_ner_first_names for more detailed information. \n",
    "    @Outputs:\n",
    "        - var_0, var_1, var_2, int, either 0 or 1, specifying if the name n has been recognized(1) or not(0).\n",
    "    \"\"\"\n",
    "    var_0, var_1, var_2 = 0,0,0\n",
    "    if row['0'] in row['spacy_prediction']:\n",
    "        var_0 = 1\n",
    "    if row['1'] in row['spacy_prediction']:\n",
    "        var_1 = 1\n",
    "    if row['2'] in row['spacy_prediction']:\n",
    "        var_2 = 1    \n",
    "    return var_0, var_1, var_2"
   ]
  },
  {
   "cell_type": "markdown",
   "id": "59fc82d0",
   "metadata": {},
   "source": [
    "### Computing the stats:"
   ]
  },
  {
   "cell_type": "code",
   "execution_count": 17,
   "id": "0b17a349",
   "metadata": {},
   "outputs": [],
   "source": [
    "def compute_stats_names(df_test_names, model):\n",
    "    \"\"\"\n",
    "    Model is a str of the name of the model\n",
    "    \n",
    "    \"\"\"\n",
    "    #Creating a new dataframe:\n",
    "    df_temp=pd.DataFrame()\n",
    "    df_temp['score_'+model] = pd.concat([df_test_names['0_found'], df_test_names['1_found'], df_test_names['2_found']])\n",
    "    df_temp['name'] = pd.concat([df_test_names['0'], df_test_names['1'], df_test_names['2']])\n",
    "    #We then have one 'mean' score per name:\n",
    "    df_temp = df_temp.groupby('name').agg({'score_'+model:'mean'}).reset_index(drop=False)\n",
    "    return df_temp"
   ]
  },
  {
   "cell_type": "markdown",
   "id": "1e345397",
   "metadata": {},
   "source": [
    "### main():"
   ]
  },
  {
   "cell_type": "code",
   "execution_count": 18,
   "id": "f8aaec09",
   "metadata": {},
   "outputs": [],
   "source": [
    "def main_ner_first_names(n_sentences, arr_names, template=templates_sentences):\n",
    "    \"\"\"\n",
    "    In this function, we are computing the sentences, applying the model. \n",
    "    \n",
    "    Then, each name has a 'mean' score. \n",
    "    \"\"\"\n",
    "    #We are computing the sentences, given the arr_names and the number of sentences:\n",
    "    df_test_names = pd.DataFrame(index=range(n_sentences))\n",
    "    df_test_names['tt']= 1 \n",
    "    df_test_names['sentence'], df_test_names['0'], df_test_names['1'], df_test_names['2'] = zip(*df_test_names.apply(lambda x: compute_random_sentences(x, arr_names, template), axis=1))\n",
    "    del df_test_names['tt']\n",
    "    \n",
    "    \n",
    "    \n",
    "    #We define the df of the results:\n",
    "    df_results=pd.DataFrame(data={'name':arr_names})\n",
    "    \n",
    "    #Then, we apply the models:\n",
    "    for model in ['sm', 'md', 'lg', 'trf']:\n",
    "        \n",
    "        print('Testing the model: '+model)\n",
    "        \n",
    "        \n",
    "        tqdm.pandas()\n",
    "        df_test_names['spacy_prediction'] = df_test_names['sentence'].progress_apply(lambda x: predict_NER_spacy(x, model))\n",
    "        #We replace the list with a string, because otherwise for a list like : [Emily if Camila], neither Emily or Camila \n",
    "        #Would be mark as 1 by the test above. \n",
    "        df_test_names['spacy_prediction'] = df_test_names['spacy_prediction'].apply(lambda l : ' '.join(l))\n",
    "        #We apply the function to check if the names were understood as NER by the model: \n",
    "        df_test_names['0_found'], df_test_names['1_found'], df_test_names['2_found'] = zip(*df_test_names.apply(check_names_prediction, axis=1))\n",
    "        #computing the stats:\n",
    "        #And merging with the results df:\n",
    "        df_results = df_results.merge(compute_stats_names(df_test_names, model), left_on='name', right_on='name', how='right')\n",
    "        \n",
    "\n",
    "    return df_results"
   ]
  },
  {
   "cell_type": "markdown",
   "id": "704eb723",
   "metadata": {},
   "source": [
    "## Names based on the article"
   ]
  },
  {
   "cell_type": "markdown",
   "id": "17ddaaa5",
   "metadata": {},
   "source": [
    "We are here using the names described in [that article](https://arxiv.org/pdf/2008.03415.pdf).\n",
    "\n",
    "We are using the exact same names as in the article. \n",
    "\n",
    "Each category is composed of 15 names. "
   ]
  },
  {
   "cell_type": "markdown",
   "id": "ff31e8f6",
   "metadata": {},
   "source": [
    "### Constructing the dataset"
   ]
  },
  {
   "cell_type": "code",
   "execution_count": 19,
   "id": "8f51db4f",
   "metadata": {},
   "outputs": [],
   "source": [
    "#Black Female = BF_names\n",
    "BF_names = ['Aaliyah', 'Ebony', 'Jasmine', 'Lakisha', 'Latisha',\n",
    "'Latoya', 'Malika', 'Nichelle', 'Nishelle', 'Shanice',\n",
    "'Shaniqua', 'Shereen', 'Tanisha', 'Tia', 'Yolanda','Yvette']\n",
    "#Black Male = BM_names\n",
    "BM_names = ['Alonzo', 'Alphonse', 'Darnell', 'Deion', 'Jamel',\n",
    "'Jerome', 'Lamar', 'Lamont', 'Leroy', 'Lionel', 'Malik',\n",
    "'Terrence', 'Theo', 'Torrance', 'Tyree']\n",
    "#Hispanic Female = HF_names\n",
    "HF_names=['Ana', 'Camila', 'Elena', 'Isabella', 'Juana', 'Luciana', 'Luisa', 'Maria', 'Mariana', 'Martina', 'Sofia',\n",
    "'Valentina', 'Valeria', 'Victoria', 'Ximena']\n",
    "#Hispanic Male = HM_names\n",
    "HM_names = ['Alejandro', 'Daniel', 'Diego', 'Jorge', 'Jose', 'Juan',\n",
    "'Luis', 'Mateo', 'Matias', 'Miguel', 'Nicolas', 'Samuel',\n",
    "'Santiago', 'Sebastian', 'Tomas']\n",
    "#Muslim Female = MF_names\n",
    "MF_names = ['Alya', 'Ayesha', 'Fatima', 'Jana', 'Lian', 'Malak',\n",
    "'Mariam', 'Maryam', 'Nour', 'Salma', 'Sana', 'Shaista',\n",
    "'Zahra', 'Zara', 'Zoya']\n",
    "#Muslim Male = MM_names\n",
    "MM_names = ['Abdullah', 'Ahmad', 'Ahmed', 'Ali', 'Ayaan', 'Hamza',\n",
    "'Mohammed', 'Omar', 'Rayyan', 'Rishaan', 'Samar',\n",
    "'Syed', 'Yasin', 'Youssef', 'Zikri']\n",
    "#White Female = WF_names\n",
    "WF_names = ['Amanda', 'Betsy', 'Colleen', 'Courtney', 'Ellen',\n",
    "'Emily', 'Heather', 'Katie', 'Kristin', 'Lauren', 'Megan',\n",
    "'Melanie', 'Nancy', 'Rachel', 'Stephanie']\n",
    "#White Male = WM_names\n",
    "WM_names = ['Adam', 'Alan', 'Andrew', 'Brad', 'Frank', 'Greg',\n",
    "'Harry', 'Jack', 'Josh', 'Justin', 'Matthew', 'Paul', 'Roger',\n",
    "'Ryan', 'Stephen']\n",
    "\n",
    "\n",
    "#Defining the list of origins:\n",
    "list_origins = ['BF_names', 'BM_names', 'HF_names', 'HM_names', 'MF_names', 'MM_names',\n",
    "               'WF_names', 'WM_names']\n",
    "\n",
    "#Defining the Datafram 'df_complete_names' with two columns - 'name' and 'origin' - containing every first names\n",
    "df_complete_names = pd.DataFrame(columns=['name', 'origin'])\n",
    "for origin in list_origins: \n",
    "    df_temp = pd.DataFrame()\n",
    "    df_temp['name'] = globals()[origin]\n",
    "    df_temp['origin'] = origin\n",
    "    df_complete_names = pd.concat([df_complete_names, df_temp])\n",
    "df_complete_names.reset_index(drop=True, inplace=True)"
   ]
  },
  {
   "cell_type": "code",
   "execution_count": 20,
   "id": "f0f4ba2f",
   "metadata": {},
   "outputs": [
    {
     "data": {
      "text/html": [
       "<div>\n",
       "<style scoped>\n",
       "    .dataframe tbody tr th:only-of-type {\n",
       "        vertical-align: middle;\n",
       "    }\n",
       "\n",
       "    .dataframe tbody tr th {\n",
       "        vertical-align: top;\n",
       "    }\n",
       "\n",
       "    .dataframe thead th {\n",
       "        text-align: right;\n",
       "    }\n",
       "</style>\n",
       "<table border=\"1\" class=\"dataframe\">\n",
       "  <thead>\n",
       "    <tr style=\"text-align: right;\">\n",
       "      <th></th>\n",
       "      <th>name</th>\n",
       "      <th>origin</th>\n",
       "    </tr>\n",
       "  </thead>\n",
       "  <tbody>\n",
       "    <tr>\n",
       "      <th>0</th>\n",
       "      <td>Aaliyah</td>\n",
       "      <td>BF_names</td>\n",
       "    </tr>\n",
       "    <tr>\n",
       "      <th>1</th>\n",
       "      <td>Ebony</td>\n",
       "      <td>BF_names</td>\n",
       "    </tr>\n",
       "    <tr>\n",
       "      <th>2</th>\n",
       "      <td>Jasmine</td>\n",
       "      <td>BF_names</td>\n",
       "    </tr>\n",
       "    <tr>\n",
       "      <th>3</th>\n",
       "      <td>Lakisha</td>\n",
       "      <td>BF_names</td>\n",
       "    </tr>\n",
       "    <tr>\n",
       "      <th>4</th>\n",
       "      <td>Latisha</td>\n",
       "      <td>BF_names</td>\n",
       "    </tr>\n",
       "  </tbody>\n",
       "</table>\n",
       "</div>"
      ],
      "text/plain": [
       "      name    origin\n",
       "0  Aaliyah  BF_names\n",
       "1    Ebony  BF_names\n",
       "2  Jasmine  BF_names\n",
       "3  Lakisha  BF_names\n",
       "4  Latisha  BF_names"
      ]
     },
     "execution_count": 20,
     "metadata": {},
     "output_type": "execute_result"
    }
   ],
   "source": [
    "df_complete_names.head()"
   ]
  },
  {
   "cell_type": "code",
   "execution_count": 21,
   "id": "a1f24f46",
   "metadata": {},
   "outputs": [],
   "source": [
    "#Constructing the array of the unique names:\n",
    "arr_names_article=df_complete_names['name'].unique()"
   ]
  },
  {
   "cell_type": "markdown",
   "id": "a45c0dcc",
   "metadata": {},
   "source": [
    "### Results"
   ]
  },
  {
   "cell_type": "markdown",
   "id": "9b99a1de",
   "metadata": {},
   "source": [
    "We are then applying the function `main_ner_first_names` on those names, with a number of computed sentences.\n",
    "\n",
    "**Why are we not using every possible sentences - with every possible permutations ?**\n",
    "\n",
    "```\n",
    "Since there are 89 unique template sentences, and 121 unique names in total, we would have 1 727 880 3-ordered permutation of every names. \n",
    "\n",
    "Thus 89 * 1 727 880 =  153 781 320 sentences we should apply the models on. \n",
    "```\n",
    "\n",
    "Even if doing so would have been a bit better because it would have given us reproductible results, we do not have access to enough computational ressources.\n",
    "\n",
    "Then, what we are doing is picking randomly 3 different first names from the dataframe, and picking one sentence. \n",
    "\n",
    "But in order to conterbalance this randomness, we are doing this on a large amont of sentences. "
   ]
  },
  {
   "cell_type": "code",
   "execution_count": 21,
   "id": "95d1d75e",
   "metadata": {},
   "outputs": [
    {
     "name": "stdout",
     "output_type": "stream",
     "text": [
      "Testing the model: sm\n"
     ]
    },
    {
     "name": "stderr",
     "output_type": "stream",
     "text": [
      "100%|█████████████████████████████████████████████████████████████████████████| 100000/100000 [09:19<00:00, 178.75it/s]\n"
     ]
    },
    {
     "name": "stdout",
     "output_type": "stream",
     "text": [
      "Testing the model: md\n"
     ]
    },
    {
     "name": "stderr",
     "output_type": "stream",
     "text": [
      "100%|█████████████████████████████████████████████████████████████████████████| 100000/100000 [09:34<00:00, 174.06it/s]\n"
     ]
    },
    {
     "name": "stdout",
     "output_type": "stream",
     "text": [
      "Testing the model: lg\n"
     ]
    },
    {
     "name": "stderr",
     "output_type": "stream",
     "text": [
      "100%|█████████████████████████████████████████████████████████████████████████| 100000/100000 [09:37<00:00, 173.08it/s]\n"
     ]
    },
    {
     "name": "stdout",
     "output_type": "stream",
     "text": [
      "Testing the model: trf\n"
     ]
    },
    {
     "name": "stderr",
     "output_type": "stream",
     "text": [
      "100%|████████████████████████████████████████████████████████████████████████| 100000/100000 [1:40:37<00:00, 16.56it/s]\n"
     ]
    }
   ],
   "source": [
    "df_results_article = main_ner_first_names(100000, arr_names_article)"
   ]
  },
  {
   "cell_type": "code",
   "execution_count": 22,
   "id": "9d497a2e",
   "metadata": {},
   "outputs": [
    {
     "data": {
      "text/html": [
       "<div>\n",
       "<style scoped>\n",
       "    .dataframe tbody tr th:only-of-type {\n",
       "        vertical-align: middle;\n",
       "    }\n",
       "\n",
       "    .dataframe tbody tr th {\n",
       "        vertical-align: top;\n",
       "    }\n",
       "\n",
       "    .dataframe thead th {\n",
       "        text-align: right;\n",
       "    }\n",
       "</style>\n",
       "<table border=\"1\" class=\"dataframe\">\n",
       "  <thead>\n",
       "    <tr style=\"text-align: right;\">\n",
       "      <th></th>\n",
       "      <th>name</th>\n",
       "      <th>score_sm</th>\n",
       "      <th>score_md</th>\n",
       "      <th>score_lg</th>\n",
       "      <th>score_trf</th>\n",
       "    </tr>\n",
       "  </thead>\n",
       "  <tbody>\n",
       "    <tr>\n",
       "      <th>0</th>\n",
       "      <td>Aaliyah</td>\n",
       "      <td>0.892011</td>\n",
       "      <td>1.000000</td>\n",
       "      <td>1.000000</td>\n",
       "      <td>0.974709</td>\n",
       "    </tr>\n",
       "    <tr>\n",
       "      <th>1</th>\n",
       "      <td>Abdullah</td>\n",
       "      <td>1.000000</td>\n",
       "      <td>1.000000</td>\n",
       "      <td>1.000000</td>\n",
       "      <td>0.995556</td>\n",
       "    </tr>\n",
       "    <tr>\n",
       "      <th>2</th>\n",
       "      <td>Adam</td>\n",
       "      <td>0.066640</td>\n",
       "      <td>0.034318</td>\n",
       "      <td>0.011572</td>\n",
       "      <td>0.854749</td>\n",
       "    </tr>\n",
       "    <tr>\n",
       "      <th>3</th>\n",
       "      <td>Ahmad</td>\n",
       "      <td>0.999190</td>\n",
       "      <td>1.000000</td>\n",
       "      <td>0.999595</td>\n",
       "      <td>0.993520</td>\n",
       "    </tr>\n",
       "    <tr>\n",
       "      <th>4</th>\n",
       "      <td>Ahmed</td>\n",
       "      <td>0.966496</td>\n",
       "      <td>1.000000</td>\n",
       "      <td>0.998423</td>\n",
       "      <td>0.996847</td>\n",
       "    </tr>\n",
       "  </tbody>\n",
       "</table>\n",
       "</div>"
      ],
      "text/plain": [
       "       name  score_sm  score_md  score_lg  score_trf\n",
       "0   Aaliyah  0.892011  1.000000  1.000000   0.974709\n",
       "1  Abdullah  1.000000  1.000000  1.000000   0.995556\n",
       "2      Adam  0.066640  0.034318  0.011572   0.854749\n",
       "3     Ahmad  0.999190  1.000000  0.999595   0.993520\n",
       "4     Ahmed  0.966496  1.000000  0.998423   0.996847"
      ]
     },
     "execution_count": 22,
     "metadata": {},
     "output_type": "execute_result"
    }
   ],
   "source": [
    "#Saving and visualising the results:\n",
    "#df_results_article.to_csv('data/results/first_names/df_results_article_100000.csv', index=False)\n",
    "df_results_article=pd.read_csv('data/results/first_names/df_results_article_100000.csv')\n",
    "df_results_article.head()"
   ]
  },
  {
   "cell_type": "markdown",
   "id": "98219db0",
   "metadata": {},
   "source": [
    "### Viz"
   ]
  },
  {
   "cell_type": "code",
   "execution_count": 23,
   "id": "7baac4f1",
   "metadata": {},
   "outputs": [],
   "source": [
    "list_female = ['WF_names', 'BF_names', 'HF_names', 'MF_names']\n",
    "list_male = ['WM_names', 'HM_names', 'BM_names', 'MM_names']\n",
    "\n",
    "#Get ethnicity and gender for each name:\n",
    "def compute_gender(origin):\n",
    "    if origin in list_female:\n",
    "        return 'male'\n",
    "    else:\n",
    "        return 'female'\n",
    "    \n",
    "def compute_ethnicity(origin):\n",
    "    if origin in ['WF_names', 'WM_names']:\n",
    "        return 'white'\n",
    "    elif origin in ['BF_names', 'BM_names']:\n",
    "        return 'black'\n",
    "    elif origin in ['MF_names', 'MM_names']:\n",
    "        return 'muslim'\n",
    "    else:\n",
    "        return 'hispanic'\n",
    "\n",
    "df_results_article = df_results_article.merge(df_complete_names, left_on='name', right_on='name', how='left')\n",
    "df_results_article['ethnicity'] = df_results_article['origin'].apply(compute_ethnicity)\n",
    "df_results_article['gender'] = df_results_article['origin'].apply(compute_gender)"
   ]
  },
  {
   "cell_type": "code",
   "execution_count": 24,
   "id": "9f58ed65",
   "metadata": {},
   "outputs": [],
   "source": [
    "df_results_article_gb = df_results_article.groupby(['ethnicity', 'gender']).agg({'score_sm':'mean', 'score_md':'mean', 'score_lg':'mean', 'score_trf':'mean'})\n",
    "#Compute the average score for all the models:\n",
    "df_results_article_gb['avg_score']=df_results_article_gb[['score_sm', 'score_md', 'score_lg', 'score_trf']].mean(axis=1)"
   ]
  },
  {
   "cell_type": "markdown",
   "id": "e6907b58",
   "metadata": {},
   "source": [
    "#### General results"
   ]
  },
  {
   "cell_type": "code",
   "execution_count": 25,
   "id": "6c3b15b6",
   "metadata": {},
   "outputs": [
    {
     "data": {
      "text/html": [
       "<style  type=\"text/css\" >\n",
       "#T_225e2be8_5dd4_11ec_bb79_7cb27dc53671row0_col0,#T_225e2be8_5dd4_11ec_bb79_7cb27dc53671row1_col1,#T_225e2be8_5dd4_11ec_bb79_7cb27dc53671row6_col2,#T_225e2be8_5dd4_11ec_bb79_7cb27dc53671row6_col3,#T_225e2be8_5dd4_11ec_bb79_7cb27dc53671row6_col4{\n",
       "            background-color:  #ffe6e6;\n",
       "        }#T_225e2be8_5dd4_11ec_bb79_7cb27dc53671row3_col1,#T_225e2be8_5dd4_11ec_bb79_7cb27dc53671row4_col0,#T_225e2be8_5dd4_11ec_bb79_7cb27dc53671row4_col3,#T_225e2be8_5dd4_11ec_bb79_7cb27dc53671row7_col2,#T_225e2be8_5dd4_11ec_bb79_7cb27dc53671row7_col4{\n",
       "            background-color:  #e6ffe6;\n",
       "        }</style><table id=\"T_225e2be8_5dd4_11ec_bb79_7cb27dc53671\" ><thead>    <tr>        <th class=\"blank\" ></th>        <th class=\"blank level0\" ></th>        <th class=\"col_heading level0 col0\" >score_sm</th>        <th class=\"col_heading level0 col1\" >score_md</th>        <th class=\"col_heading level0 col2\" >score_lg</th>        <th class=\"col_heading level0 col3\" >score_trf</th>        <th class=\"col_heading level0 col4\" >avg_score</th>    </tr>    <tr>        <th class=\"index_name level0\" >ethnicity</th>        <th class=\"index_name level1\" >gender</th>        <th class=\"blank\" ></th>        <th class=\"blank\" ></th>        <th class=\"blank\" ></th>        <th class=\"blank\" ></th>        <th class=\"blank\" ></th>    </tr></thead><tbody>\n",
       "                <tr>\n",
       "                        <th id=\"T_225e2be8_5dd4_11ec_bb79_7cb27dc53671level0_row0\" class=\"row_heading level0 row0\" rowspan=2>black</th>\n",
       "                        <th id=\"T_225e2be8_5dd4_11ec_bb79_7cb27dc53671level1_row0\" class=\"row_heading level1 row0\" >female</th>\n",
       "                        <td id=\"T_225e2be8_5dd4_11ec_bb79_7cb27dc53671row0_col0\" class=\"data row0 col0\" >0.503815</td>\n",
       "                        <td id=\"T_225e2be8_5dd4_11ec_bb79_7cb27dc53671row0_col1\" class=\"data row0 col1\" >0.957520</td>\n",
       "                        <td id=\"T_225e2be8_5dd4_11ec_bb79_7cb27dc53671row0_col2\" class=\"data row0 col2\" >0.985214</td>\n",
       "                        <td id=\"T_225e2be8_5dd4_11ec_bb79_7cb27dc53671row0_col3\" class=\"data row0 col3\" >0.935958</td>\n",
       "                        <td id=\"T_225e2be8_5dd4_11ec_bb79_7cb27dc53671row0_col4\" class=\"data row0 col4\" >0.845627</td>\n",
       "            </tr>\n",
       "            <tr>\n",
       "                                <th id=\"T_225e2be8_5dd4_11ec_bb79_7cb27dc53671level1_row1\" class=\"row_heading level1 row1\" >male</th>\n",
       "                        <td id=\"T_225e2be8_5dd4_11ec_bb79_7cb27dc53671row1_col0\" class=\"data row1 col0\" >0.755897</td>\n",
       "                        <td id=\"T_225e2be8_5dd4_11ec_bb79_7cb27dc53671row1_col1\" class=\"data row1 col1\" >0.810022</td>\n",
       "                        <td id=\"T_225e2be8_5dd4_11ec_bb79_7cb27dc53671row1_col2\" class=\"data row1 col2\" >0.893480</td>\n",
       "                        <td id=\"T_225e2be8_5dd4_11ec_bb79_7cb27dc53671row1_col3\" class=\"data row1 col3\" >0.948043</td>\n",
       "                        <td id=\"T_225e2be8_5dd4_11ec_bb79_7cb27dc53671row1_col4\" class=\"data row1 col4\" >0.851860</td>\n",
       "            </tr>\n",
       "            <tr>\n",
       "                        <th id=\"T_225e2be8_5dd4_11ec_bb79_7cb27dc53671level0_row2\" class=\"row_heading level0 row2\" rowspan=2>hispanic</th>\n",
       "                        <th id=\"T_225e2be8_5dd4_11ec_bb79_7cb27dc53671level1_row2\" class=\"row_heading level1 row2\" >female</th>\n",
       "                        <td id=\"T_225e2be8_5dd4_11ec_bb79_7cb27dc53671row2_col0\" class=\"data row2 col0\" >0.627954</td>\n",
       "                        <td id=\"T_225e2be8_5dd4_11ec_bb79_7cb27dc53671row2_col1\" class=\"data row2 col1\" >0.914631</td>\n",
       "                        <td id=\"T_225e2be8_5dd4_11ec_bb79_7cb27dc53671row2_col2\" class=\"data row2 col2\" >0.933656</td>\n",
       "                        <td id=\"T_225e2be8_5dd4_11ec_bb79_7cb27dc53671row2_col3\" class=\"data row2 col3\" >0.955987</td>\n",
       "                        <td id=\"T_225e2be8_5dd4_11ec_bb79_7cb27dc53671row2_col4\" class=\"data row2 col4\" >0.858057</td>\n",
       "            </tr>\n",
       "            <tr>\n",
       "                                <th id=\"T_225e2be8_5dd4_11ec_bb79_7cb27dc53671level1_row3\" class=\"row_heading level1 row3\" >male</th>\n",
       "                        <td id=\"T_225e2be8_5dd4_11ec_bb79_7cb27dc53671row3_col0\" class=\"data row3 col0\" >0.769538</td>\n",
       "                        <td id=\"T_225e2be8_5dd4_11ec_bb79_7cb27dc53671row3_col1\" class=\"data row3 col1\" >0.992171</td>\n",
       "                        <td id=\"T_225e2be8_5dd4_11ec_bb79_7cb27dc53671row3_col2\" class=\"data row3 col2\" >0.973767</td>\n",
       "                        <td id=\"T_225e2be8_5dd4_11ec_bb79_7cb27dc53671row3_col3\" class=\"data row3 col3\" >0.962167</td>\n",
       "                        <td id=\"T_225e2be8_5dd4_11ec_bb79_7cb27dc53671row3_col4\" class=\"data row3 col4\" >0.924411</td>\n",
       "            </tr>\n",
       "            <tr>\n",
       "                        <th id=\"T_225e2be8_5dd4_11ec_bb79_7cb27dc53671level0_row4\" class=\"row_heading level0 row4\" rowspan=2>muslim</th>\n",
       "                        <th id=\"T_225e2be8_5dd4_11ec_bb79_7cb27dc53671level1_row4\" class=\"row_heading level1 row4\" >female</th>\n",
       "                        <td id=\"T_225e2be8_5dd4_11ec_bb79_7cb27dc53671row4_col0\" class=\"data row4 col0\" >0.839857</td>\n",
       "                        <td id=\"T_225e2be8_5dd4_11ec_bb79_7cb27dc53671row4_col1\" class=\"data row4 col1\" >0.889383</td>\n",
       "                        <td id=\"T_225e2be8_5dd4_11ec_bb79_7cb27dc53671row4_col2\" class=\"data row4 col2\" >0.854241</td>\n",
       "                        <td id=\"T_225e2be8_5dd4_11ec_bb79_7cb27dc53671row4_col3\" class=\"data row4 col3\" >0.987516</td>\n",
       "                        <td id=\"T_225e2be8_5dd4_11ec_bb79_7cb27dc53671row4_col4\" class=\"data row4 col4\" >0.892749</td>\n",
       "            </tr>\n",
       "            <tr>\n",
       "                                <th id=\"T_225e2be8_5dd4_11ec_bb79_7cb27dc53671level1_row5\" class=\"row_heading level1 row5\" >male</th>\n",
       "                        <td id=\"T_225e2be8_5dd4_11ec_bb79_7cb27dc53671row5_col0\" class=\"data row5 col0\" >0.713498</td>\n",
       "                        <td id=\"T_225e2be8_5dd4_11ec_bb79_7cb27dc53671row5_col1\" class=\"data row5 col1\" >0.958737</td>\n",
       "                        <td id=\"T_225e2be8_5dd4_11ec_bb79_7cb27dc53671row5_col2\" class=\"data row5 col2\" >0.815948</td>\n",
       "                        <td id=\"T_225e2be8_5dd4_11ec_bb79_7cb27dc53671row5_col3\" class=\"data row5 col3\" >0.969866</td>\n",
       "                        <td id=\"T_225e2be8_5dd4_11ec_bb79_7cb27dc53671row5_col4\" class=\"data row5 col4\" >0.864513</td>\n",
       "            </tr>\n",
       "            <tr>\n",
       "                        <th id=\"T_225e2be8_5dd4_11ec_bb79_7cb27dc53671level0_row6\" class=\"row_heading level0 row6\" rowspan=2>white</th>\n",
       "                        <th id=\"T_225e2be8_5dd4_11ec_bb79_7cb27dc53671level1_row6\" class=\"row_heading level1 row6\" >female</th>\n",
       "                        <td id=\"T_225e2be8_5dd4_11ec_bb79_7cb27dc53671row6_col0\" class=\"data row6 col0\" >0.803718</td>\n",
       "                        <td id=\"T_225e2be8_5dd4_11ec_bb79_7cb27dc53671row6_col1\" class=\"data row6 col1\" >0.814598</td>\n",
       "                        <td id=\"T_225e2be8_5dd4_11ec_bb79_7cb27dc53671row6_col2\" class=\"data row6 col2\" >0.808409</td>\n",
       "                        <td id=\"T_225e2be8_5dd4_11ec_bb79_7cb27dc53671row6_col3\" class=\"data row6 col3\" >0.887920</td>\n",
       "                        <td id=\"T_225e2be8_5dd4_11ec_bb79_7cb27dc53671row6_col4\" class=\"data row6 col4\" >0.828661</td>\n",
       "            </tr>\n",
       "            <tr>\n",
       "                                <th id=\"T_225e2be8_5dd4_11ec_bb79_7cb27dc53671level1_row7\" class=\"row_heading level1 row7\" >male</th>\n",
       "                        <td id=\"T_225e2be8_5dd4_11ec_bb79_7cb27dc53671row7_col0\" class=\"data row7 col0\" >0.774669</td>\n",
       "                        <td id=\"T_225e2be8_5dd4_11ec_bb79_7cb27dc53671row7_col1\" class=\"data row7 col1\" >0.957324</td>\n",
       "                        <td id=\"T_225e2be8_5dd4_11ec_bb79_7cb27dc53671row7_col2\" class=\"data row7 col2\" >0.993235</td>\n",
       "                        <td id=\"T_225e2be8_5dd4_11ec_bb79_7cb27dc53671row7_col3\" class=\"data row7 col3\" >0.984516</td>\n",
       "                        <td id=\"T_225e2be8_5dd4_11ec_bb79_7cb27dc53671row7_col4\" class=\"data row7 col4\" >0.927436</td>\n",
       "            </tr>\n",
       "    </tbody></table>"
      ],
      "text/plain": [
       "<pandas.io.formats.style.Styler at 0x1e1b2f477c8>"
      ]
     },
     "execution_count": 25,
     "metadata": {},
     "output_type": "execute_result"
    }
   ],
   "source": [
    "df_results_article_gb.style.highlight_max(color='#e6ffe6').highlight_min(color='#ffe6e6')"
   ]
  },
  {
   "cell_type": "code",
   "execution_count": 26,
   "id": "cda3863d",
   "metadata": {},
   "outputs": [
    {
     "data": {
      "text/html": [
       "<style  type=\"text/css\" >\n",
       "#T_2389cb30_5dd4_11ec_81d5_7cb27dc53671row0_col0,#T_2389cb30_5dd4_11ec_81d5_7cb27dc53671row1_col1,#T_2389cb30_5dd4_11ec_81d5_7cb27dc53671row6_col2,#T_2389cb30_5dd4_11ec_81d5_7cb27dc53671row6_col3,#T_2389cb30_5dd4_11ec_81d5_7cb27dc53671row6_col4{\n",
       "            background-color:  #8e0152;\n",
       "            color:  #f1f1f1;\n",
       "        }#T_2389cb30_5dd4_11ec_81d5_7cb27dc53671row0_col1,#T_2389cb30_5dd4_11ec_81d5_7cb27dc53671row7_col1{\n",
       "            background-color:  #79b73d;\n",
       "            color:  #000000;\n",
       "        }#T_2389cb30_5dd4_11ec_81d5_7cb27dc53671row0_col2{\n",
       "            background-color:  #37781c;\n",
       "            color:  #f1f1f1;\n",
       "        }#T_2389cb30_5dd4_11ec_81d5_7cb27dc53671row0_col3{\n",
       "            background-color:  #f8f3f6;\n",
       "            color:  #000000;\n",
       "        }#T_2389cb30_5dd4_11ec_81d5_7cb27dc53671row0_col4{\n",
       "            background-color:  #d65a9f;\n",
       "            color:  #000000;\n",
       "        }#T_2389cb30_5dd4_11ec_81d5_7cb27dc53671row1_col0{\n",
       "            background-color:  #9acd61;\n",
       "            color:  #000000;\n",
       "        }#T_2389cb30_5dd4_11ec_81d5_7cb27dc53671row1_col2{\n",
       "            background-color:  #f9eef4;\n",
       "            color:  #000000;\n",
       "        }#T_2389cb30_5dd4_11ec_81d5_7cb27dc53671row1_col3{\n",
       "            background-color:  #e4f4cd;\n",
       "            color:  #000000;\n",
       "        }#T_2389cb30_5dd4_11ec_81d5_7cb27dc53671row1_col4{\n",
       "            background-color:  #e58dbe;\n",
       "            color:  #000000;\n",
       "        }#T_2389cb30_5dd4_11ec_81d5_7cb27dc53671row2_col0{\n",
       "            background-color:  #f9d3e8;\n",
       "            color:  #000000;\n",
       "        }#T_2389cb30_5dd4_11ec_81d5_7cb27dc53671row2_col1{\n",
       "            background-color:  #eaf5d9;\n",
       "            color:  #000000;\n",
       "        }#T_2389cb30_5dd4_11ec_81d5_7cb27dc53671row2_col2{\n",
       "            background-color:  #c2e596;\n",
       "            color:  #000000;\n",
       "        }#T_2389cb30_5dd4_11ec_81d5_7cb27dc53671row2_col3{\n",
       "            background-color:  #c0e593;\n",
       "            color:  #000000;\n",
       "        }#T_2389cb30_5dd4_11ec_81d5_7cb27dc53671row2_col4{\n",
       "            background-color:  #f1b5d9;\n",
       "            color:  #000000;\n",
       "        }#T_2389cb30_5dd4_11ec_81d5_7cb27dc53671row3_col0{\n",
       "            background-color:  #83bf46;\n",
       "            color:  #000000;\n",
       "        }#T_2389cb30_5dd4_11ec_81d5_7cb27dc53671row3_col1,#T_2389cb30_5dd4_11ec_81d5_7cb27dc53671row4_col0,#T_2389cb30_5dd4_11ec_81d5_7cb27dc53671row4_col3,#T_2389cb30_5dd4_11ec_81d5_7cb27dc53671row7_col2,#T_2389cb30_5dd4_11ec_81d5_7cb27dc53671row7_col4{\n",
       "            background-color:  #276419;\n",
       "            color:  #f1f1f1;\n",
       "        }#T_2389cb30_5dd4_11ec_81d5_7cb27dc53671row3_col2{\n",
       "            background-color:  #4e9322;\n",
       "            color:  #000000;\n",
       "        }#T_2389cb30_5dd4_11ec_81d5_7cb27dc53671row3_col3{\n",
       "            background-color:  #9ed067;\n",
       "            color:  #000000;\n",
       "        }#T_2389cb30_5dd4_11ec_81d5_7cb27dc53671row3_col4,#T_2389cb30_5dd4_11ec_81d5_7cb27dc53671row7_col3{\n",
       "            background-color:  #31711b;\n",
       "            color:  #f1f1f1;\n",
       "        }#T_2389cb30_5dd4_11ec_81d5_7cb27dc53671row4_col1{\n",
       "            background-color:  #fbe8f2;\n",
       "            color:  #000000;\n",
       "        }#T_2389cb30_5dd4_11ec_81d5_7cb27dc53671row4_col2{\n",
       "            background-color:  #e795c3;\n",
       "            color:  #000000;\n",
       "        }#T_2389cb30_5dd4_11ec_81d5_7cb27dc53671row4_col4{\n",
       "            background-color:  #cfebaa;\n",
       "            color:  #000000;\n",
       "        }#T_2389cb30_5dd4_11ec_81d5_7cb27dc53671row5_col0{\n",
       "            background-color:  #dbf0bf;\n",
       "            color:  #000000;\n",
       "        }#T_2389cb30_5dd4_11ec_81d5_7cb27dc53671row5_col1{\n",
       "            background-color:  #75b43b;\n",
       "            color:  #000000;\n",
       "        }#T_2389cb30_5dd4_11ec_81d5_7cb27dc53671row5_col2{\n",
       "            background-color:  #a40b63;\n",
       "            color:  #f1f1f1;\n",
       "        }#T_2389cb30_5dd4_11ec_81d5_7cb27dc53671row5_col3{\n",
       "            background-color:  #73b239;\n",
       "            color:  #000000;\n",
       "        }#T_2389cb30_5dd4_11ec_81d5_7cb27dc53671row5_col4{\n",
       "            background-color:  #f8d0e7;\n",
       "            color:  #000000;\n",
       "        }#T_2389cb30_5dd4_11ec_81d5_7cb27dc53671row6_col0{\n",
       "            background-color:  #509423;\n",
       "            color:  #000000;\n",
       "        }#T_2389cb30_5dd4_11ec_81d5_7cb27dc53671row6_col1{\n",
       "            background-color:  #9b075c;\n",
       "            color:  #f1f1f1;\n",
       "        }#T_2389cb30_5dd4_11ec_81d5_7cb27dc53671row7_col0{\n",
       "            background-color:  #7bb93e;\n",
       "            color:  #000000;\n",
       "        }</style><table id=\"T_2389cb30_5dd4_11ec_81d5_7cb27dc53671\" ><thead>    <tr>        <th class=\"blank\" ></th>        <th class=\"blank level0\" ></th>        <th class=\"col_heading level0 col0\" >score_sm</th>        <th class=\"col_heading level0 col1\" >score_md</th>        <th class=\"col_heading level0 col2\" >score_lg</th>        <th class=\"col_heading level0 col3\" >score_trf</th>        <th class=\"col_heading level0 col4\" >avg_score</th>    </tr>    <tr>        <th class=\"index_name level0\" >ethnicity</th>        <th class=\"index_name level1\" >gender</th>        <th class=\"blank\" ></th>        <th class=\"blank\" ></th>        <th class=\"blank\" ></th>        <th class=\"blank\" ></th>        <th class=\"blank\" ></th>    </tr></thead><tbody>\n",
       "                <tr>\n",
       "                        <th id=\"T_2389cb30_5dd4_11ec_81d5_7cb27dc53671level0_row0\" class=\"row_heading level0 row0\" rowspan=2>black</th>\n",
       "                        <th id=\"T_2389cb30_5dd4_11ec_81d5_7cb27dc53671level1_row0\" class=\"row_heading level1 row0\" >female</th>\n",
       "                        <td id=\"T_2389cb30_5dd4_11ec_81d5_7cb27dc53671row0_col0\" class=\"data row0 col0\" >0.503815</td>\n",
       "                        <td id=\"T_2389cb30_5dd4_11ec_81d5_7cb27dc53671row0_col1\" class=\"data row0 col1\" >0.957520</td>\n",
       "                        <td id=\"T_2389cb30_5dd4_11ec_81d5_7cb27dc53671row0_col2\" class=\"data row0 col2\" >0.985214</td>\n",
       "                        <td id=\"T_2389cb30_5dd4_11ec_81d5_7cb27dc53671row0_col3\" class=\"data row0 col3\" >0.935958</td>\n",
       "                        <td id=\"T_2389cb30_5dd4_11ec_81d5_7cb27dc53671row0_col4\" class=\"data row0 col4\" >0.845627</td>\n",
       "            </tr>\n",
       "            <tr>\n",
       "                                <th id=\"T_2389cb30_5dd4_11ec_81d5_7cb27dc53671level1_row1\" class=\"row_heading level1 row1\" >male</th>\n",
       "                        <td id=\"T_2389cb30_5dd4_11ec_81d5_7cb27dc53671row1_col0\" class=\"data row1 col0\" >0.755897</td>\n",
       "                        <td id=\"T_2389cb30_5dd4_11ec_81d5_7cb27dc53671row1_col1\" class=\"data row1 col1\" >0.810022</td>\n",
       "                        <td id=\"T_2389cb30_5dd4_11ec_81d5_7cb27dc53671row1_col2\" class=\"data row1 col2\" >0.893480</td>\n",
       "                        <td id=\"T_2389cb30_5dd4_11ec_81d5_7cb27dc53671row1_col3\" class=\"data row1 col3\" >0.948043</td>\n",
       "                        <td id=\"T_2389cb30_5dd4_11ec_81d5_7cb27dc53671row1_col4\" class=\"data row1 col4\" >0.851860</td>\n",
       "            </tr>\n",
       "            <tr>\n",
       "                        <th id=\"T_2389cb30_5dd4_11ec_81d5_7cb27dc53671level0_row2\" class=\"row_heading level0 row2\" rowspan=2>hispanic</th>\n",
       "                        <th id=\"T_2389cb30_5dd4_11ec_81d5_7cb27dc53671level1_row2\" class=\"row_heading level1 row2\" >female</th>\n",
       "                        <td id=\"T_2389cb30_5dd4_11ec_81d5_7cb27dc53671row2_col0\" class=\"data row2 col0\" >0.627954</td>\n",
       "                        <td id=\"T_2389cb30_5dd4_11ec_81d5_7cb27dc53671row2_col1\" class=\"data row2 col1\" >0.914631</td>\n",
       "                        <td id=\"T_2389cb30_5dd4_11ec_81d5_7cb27dc53671row2_col2\" class=\"data row2 col2\" >0.933656</td>\n",
       "                        <td id=\"T_2389cb30_5dd4_11ec_81d5_7cb27dc53671row2_col3\" class=\"data row2 col3\" >0.955987</td>\n",
       "                        <td id=\"T_2389cb30_5dd4_11ec_81d5_7cb27dc53671row2_col4\" class=\"data row2 col4\" >0.858057</td>\n",
       "            </tr>\n",
       "            <tr>\n",
       "                                <th id=\"T_2389cb30_5dd4_11ec_81d5_7cb27dc53671level1_row3\" class=\"row_heading level1 row3\" >male</th>\n",
       "                        <td id=\"T_2389cb30_5dd4_11ec_81d5_7cb27dc53671row3_col0\" class=\"data row3 col0\" >0.769538</td>\n",
       "                        <td id=\"T_2389cb30_5dd4_11ec_81d5_7cb27dc53671row3_col1\" class=\"data row3 col1\" >0.992171</td>\n",
       "                        <td id=\"T_2389cb30_5dd4_11ec_81d5_7cb27dc53671row3_col2\" class=\"data row3 col2\" >0.973767</td>\n",
       "                        <td id=\"T_2389cb30_5dd4_11ec_81d5_7cb27dc53671row3_col3\" class=\"data row3 col3\" >0.962167</td>\n",
       "                        <td id=\"T_2389cb30_5dd4_11ec_81d5_7cb27dc53671row3_col4\" class=\"data row3 col4\" >0.924411</td>\n",
       "            </tr>\n",
       "            <tr>\n",
       "                        <th id=\"T_2389cb30_5dd4_11ec_81d5_7cb27dc53671level0_row4\" class=\"row_heading level0 row4\" rowspan=2>muslim</th>\n",
       "                        <th id=\"T_2389cb30_5dd4_11ec_81d5_7cb27dc53671level1_row4\" class=\"row_heading level1 row4\" >female</th>\n",
       "                        <td id=\"T_2389cb30_5dd4_11ec_81d5_7cb27dc53671row4_col0\" class=\"data row4 col0\" >0.839857</td>\n",
       "                        <td id=\"T_2389cb30_5dd4_11ec_81d5_7cb27dc53671row4_col1\" class=\"data row4 col1\" >0.889383</td>\n",
       "                        <td id=\"T_2389cb30_5dd4_11ec_81d5_7cb27dc53671row4_col2\" class=\"data row4 col2\" >0.854241</td>\n",
       "                        <td id=\"T_2389cb30_5dd4_11ec_81d5_7cb27dc53671row4_col3\" class=\"data row4 col3\" >0.987516</td>\n",
       "                        <td id=\"T_2389cb30_5dd4_11ec_81d5_7cb27dc53671row4_col4\" class=\"data row4 col4\" >0.892749</td>\n",
       "            </tr>\n",
       "            <tr>\n",
       "                                <th id=\"T_2389cb30_5dd4_11ec_81d5_7cb27dc53671level1_row5\" class=\"row_heading level1 row5\" >male</th>\n",
       "                        <td id=\"T_2389cb30_5dd4_11ec_81d5_7cb27dc53671row5_col0\" class=\"data row5 col0\" >0.713498</td>\n",
       "                        <td id=\"T_2389cb30_5dd4_11ec_81d5_7cb27dc53671row5_col1\" class=\"data row5 col1\" >0.958737</td>\n",
       "                        <td id=\"T_2389cb30_5dd4_11ec_81d5_7cb27dc53671row5_col2\" class=\"data row5 col2\" >0.815948</td>\n",
       "                        <td id=\"T_2389cb30_5dd4_11ec_81d5_7cb27dc53671row5_col3\" class=\"data row5 col3\" >0.969866</td>\n",
       "                        <td id=\"T_2389cb30_5dd4_11ec_81d5_7cb27dc53671row5_col4\" class=\"data row5 col4\" >0.864513</td>\n",
       "            </tr>\n",
       "            <tr>\n",
       "                        <th id=\"T_2389cb30_5dd4_11ec_81d5_7cb27dc53671level0_row6\" class=\"row_heading level0 row6\" rowspan=2>white</th>\n",
       "                        <th id=\"T_2389cb30_5dd4_11ec_81d5_7cb27dc53671level1_row6\" class=\"row_heading level1 row6\" >female</th>\n",
       "                        <td id=\"T_2389cb30_5dd4_11ec_81d5_7cb27dc53671row6_col0\" class=\"data row6 col0\" >0.803718</td>\n",
       "                        <td id=\"T_2389cb30_5dd4_11ec_81d5_7cb27dc53671row6_col1\" class=\"data row6 col1\" >0.814598</td>\n",
       "                        <td id=\"T_2389cb30_5dd4_11ec_81d5_7cb27dc53671row6_col2\" class=\"data row6 col2\" >0.808409</td>\n",
       "                        <td id=\"T_2389cb30_5dd4_11ec_81d5_7cb27dc53671row6_col3\" class=\"data row6 col3\" >0.887920</td>\n",
       "                        <td id=\"T_2389cb30_5dd4_11ec_81d5_7cb27dc53671row6_col4\" class=\"data row6 col4\" >0.828661</td>\n",
       "            </tr>\n",
       "            <tr>\n",
       "                                <th id=\"T_2389cb30_5dd4_11ec_81d5_7cb27dc53671level1_row7\" class=\"row_heading level1 row7\" >male</th>\n",
       "                        <td id=\"T_2389cb30_5dd4_11ec_81d5_7cb27dc53671row7_col0\" class=\"data row7 col0\" >0.774669</td>\n",
       "                        <td id=\"T_2389cb30_5dd4_11ec_81d5_7cb27dc53671row7_col1\" class=\"data row7 col1\" >0.957324</td>\n",
       "                        <td id=\"T_2389cb30_5dd4_11ec_81d5_7cb27dc53671row7_col2\" class=\"data row7 col2\" >0.993235</td>\n",
       "                        <td id=\"T_2389cb30_5dd4_11ec_81d5_7cb27dc53671row7_col3\" class=\"data row7 col3\" >0.984516</td>\n",
       "                        <td id=\"T_2389cb30_5dd4_11ec_81d5_7cb27dc53671row7_col4\" class=\"data row7 col4\" >0.927436</td>\n",
       "            </tr>\n",
       "    </tbody></table>"
      ],
      "text/plain": [
       "<pandas.io.formats.style.Styler at 0x1e1b2fab708>"
      ]
     },
     "execution_count": 26,
     "metadata": {},
     "output_type": "execute_result"
    }
   ],
   "source": [
    "df_results_article_gb.style.background_gradient(cmap='PiYG')"
   ]
  },
  {
   "cell_type": "markdown",
   "id": "52b4a54c",
   "metadata": {},
   "source": [
    "#### Results based on the ethnicity"
   ]
  },
  {
   "cell_type": "code",
   "execution_count": 27,
   "id": "7cb360e3",
   "metadata": {},
   "outputs": [
    {
     "data": {
      "text/html": [
       "<style  type=\"text/css\" >\n",
       "#T_439f5a10_5dd4_11ec_9540_7cb27dc53671row0_col0,#T_439f5a10_5dd4_11ec_9540_7cb27dc53671row0_col1,#T_439f5a10_5dd4_11ec_9540_7cb27dc53671row0_col4,#T_439f5a10_5dd4_11ec_9540_7cb27dc53671row2_col2,#T_439f5a10_5dd4_11ec_9540_7cb27dc53671row3_col3{\n",
       "            background-color:  #8e0152;\n",
       "            color:  #f1f1f1;\n",
       "        }#T_439f5a10_5dd4_11ec_9540_7cb27dc53671row0_col2{\n",
       "            background-color:  #589b28;\n",
       "            color:  #000000;\n",
       "        }#T_439f5a10_5dd4_11ec_9540_7cb27dc53671row0_col3{\n",
       "            background-color:  #cd3a8d;\n",
       "            color:  #f1f1f1;\n",
       "        }#T_439f5a10_5dd4_11ec_9540_7cb27dc53671row1_col0{\n",
       "            background-color:  #fbe7f2;\n",
       "            color:  #000000;\n",
       "        }#T_439f5a10_5dd4_11ec_9540_7cb27dc53671row1_col1,#T_439f5a10_5dd4_11ec_9540_7cb27dc53671row1_col2,#T_439f5a10_5dd4_11ec_9540_7cb27dc53671row1_col4,#T_439f5a10_5dd4_11ec_9540_7cb27dc53671row2_col3,#T_439f5a10_5dd4_11ec_9540_7cb27dc53671row3_col0{\n",
       "            background-color:  #276419;\n",
       "            color:  #f1f1f1;\n",
       "        }#T_439f5a10_5dd4_11ec_9540_7cb27dc53671row1_col3{\n",
       "            background-color:  #f1f6e8;\n",
       "            color:  #000000;\n",
       "        }#T_439f5a10_5dd4_11ec_9540_7cb27dc53671row2_col0{\n",
       "            background-color:  #45881f;\n",
       "            color:  #000000;\n",
       "        }#T_439f5a10_5dd4_11ec_9540_7cb27dc53671row2_col1{\n",
       "            background-color:  #e9f5d8;\n",
       "            color:  #000000;\n",
       "        }#T_439f5a10_5dd4_11ec_9540_7cb27dc53671row2_col4{\n",
       "            background-color:  #b5df82;\n",
       "            color:  #000000;\n",
       "        }#T_439f5a10_5dd4_11ec_9540_7cb27dc53671row3_col1{\n",
       "            background-color:  #9f095f;\n",
       "            color:  #f1f1f1;\n",
       "        }#T_439f5a10_5dd4_11ec_9540_7cb27dc53671row3_col2{\n",
       "            background-color:  #eef6e2;\n",
       "            color:  #000000;\n",
       "        }#T_439f5a10_5dd4_11ec_9540_7cb27dc53671row3_col4{\n",
       "            background-color:  #bde38d;\n",
       "            color:  #000000;\n",
       "        }</style><table id=\"T_439f5a10_5dd4_11ec_9540_7cb27dc53671\" ><thead>    <tr>        <th class=\"blank level0\" ></th>        <th class=\"col_heading level0 col0\" >score_sm</th>        <th class=\"col_heading level0 col1\" >score_md</th>        <th class=\"col_heading level0 col2\" >score_lg</th>        <th class=\"col_heading level0 col3\" >score_trf</th>        <th class=\"col_heading level0 col4\" >avg_score</th>    </tr>    <tr>        <th class=\"index_name level0\" >ethnicity</th>        <th class=\"blank\" ></th>        <th class=\"blank\" ></th>        <th class=\"blank\" ></th>        <th class=\"blank\" ></th>        <th class=\"blank\" ></th>    </tr></thead><tbody>\n",
       "                <tr>\n",
       "                        <th id=\"T_439f5a10_5dd4_11ec_9540_7cb27dc53671level0_row0\" class=\"row_heading level0 row0\" >black</th>\n",
       "                        <td id=\"T_439f5a10_5dd4_11ec_9540_7cb27dc53671row0_col0\" class=\"data row0 col0\" >0.629856</td>\n",
       "                        <td id=\"T_439f5a10_5dd4_11ec_9540_7cb27dc53671row0_col1\" class=\"data row0 col1\" >0.883771</td>\n",
       "                        <td id=\"T_439f5a10_5dd4_11ec_9540_7cb27dc53671row0_col2\" class=\"data row0 col2\" >0.939347</td>\n",
       "                        <td id=\"T_439f5a10_5dd4_11ec_9540_7cb27dc53671row0_col3\" class=\"data row0 col3\" >0.942000</td>\n",
       "                        <td id=\"T_439f5a10_5dd4_11ec_9540_7cb27dc53671row0_col4\" class=\"data row0 col4\" >0.848743</td>\n",
       "            </tr>\n",
       "            <tr>\n",
       "                        <th id=\"T_439f5a10_5dd4_11ec_9540_7cb27dc53671level0_row1\" class=\"row_heading level0 row1\" >hispanic</th>\n",
       "                        <td id=\"T_439f5a10_5dd4_11ec_9540_7cb27dc53671row1_col0\" class=\"data row1 col0\" >0.698746</td>\n",
       "                        <td id=\"T_439f5a10_5dd4_11ec_9540_7cb27dc53671row1_col1\" class=\"data row1 col1\" >0.953401</td>\n",
       "                        <td id=\"T_439f5a10_5dd4_11ec_9540_7cb27dc53671row1_col2\" class=\"data row1 col2\" >0.953712</td>\n",
       "                        <td id=\"T_439f5a10_5dd4_11ec_9540_7cb27dc53671row1_col3\" class=\"data row1 col3\" >0.959077</td>\n",
       "                        <td id=\"T_439f5a10_5dd4_11ec_9540_7cb27dc53671row1_col4\" class=\"data row1 col4\" >0.891234</td>\n",
       "            </tr>\n",
       "            <tr>\n",
       "                        <th id=\"T_439f5a10_5dd4_11ec_9540_7cb27dc53671level0_row2\" class=\"row_heading level0 row2\" >muslim</th>\n",
       "                        <td id=\"T_439f5a10_5dd4_11ec_9540_7cb27dc53671row2_col0\" class=\"data row2 col0\" >0.776677</td>\n",
       "                        <td id=\"T_439f5a10_5dd4_11ec_9540_7cb27dc53671row2_col1\" class=\"data row2 col1\" >0.924060</td>\n",
       "                        <td id=\"T_439f5a10_5dd4_11ec_9540_7cb27dc53671row2_col2\" class=\"data row2 col2\" >0.835094</td>\n",
       "                        <td id=\"T_439f5a10_5dd4_11ec_9540_7cb27dc53671row2_col3\" class=\"data row2 col3\" >0.978691</td>\n",
       "                        <td id=\"T_439f5a10_5dd4_11ec_9540_7cb27dc53671row2_col4\" class=\"data row2 col4\" >0.878631</td>\n",
       "            </tr>\n",
       "            <tr>\n",
       "                        <th id=\"T_439f5a10_5dd4_11ec_9540_7cb27dc53671level0_row3\" class=\"row_heading level0 row3\" >white</th>\n",
       "                        <td id=\"T_439f5a10_5dd4_11ec_9540_7cb27dc53671row3_col0\" class=\"data row3 col0\" >0.789193</td>\n",
       "                        <td id=\"T_439f5a10_5dd4_11ec_9540_7cb27dc53671row3_col1\" class=\"data row3 col1\" >0.885961</td>\n",
       "                        <td id=\"T_439f5a10_5dd4_11ec_9540_7cb27dc53671row3_col2\" class=\"data row3 col2\" >0.900822</td>\n",
       "                        <td id=\"T_439f5a10_5dd4_11ec_9540_7cb27dc53671row3_col3\" class=\"data row3 col3\" >0.936218</td>\n",
       "                        <td id=\"T_439f5a10_5dd4_11ec_9540_7cb27dc53671row3_col4\" class=\"data row3 col4\" >0.878049</td>\n",
       "            </tr>\n",
       "    </tbody></table>"
      ],
      "text/plain": [
       "<pandas.io.formats.style.Styler at 0x1e1b2fafbc8>"
      ]
     },
     "execution_count": 27,
     "metadata": {},
     "output_type": "execute_result"
    }
   ],
   "source": [
    "df_results_article_gb.groupby('ethnicity').mean().style.background_gradient(cmap='PiYG')"
   ]
  },
  {
   "cell_type": "markdown",
   "id": "377cb9f3",
   "metadata": {},
   "source": [
    "#### Results based on the gender"
   ]
  },
  {
   "cell_type": "code",
   "execution_count": 28,
   "id": "ca584896",
   "metadata": {},
   "outputs": [
    {
     "data": {
      "text/html": [
       "<style  type=\"text/css\" >\n",
       "#T_4d9315be_5dd4_11ec_82f3_7cb27dc53671row0_col0,#T_4d9315be_5dd4_11ec_82f3_7cb27dc53671row0_col1,#T_4d9315be_5dd4_11ec_82f3_7cb27dc53671row0_col2,#T_4d9315be_5dd4_11ec_82f3_7cb27dc53671row0_col3,#T_4d9315be_5dd4_11ec_82f3_7cb27dc53671row0_col4{\n",
       "            background-color:  #8e0152;\n",
       "            color:  #f1f1f1;\n",
       "        }#T_4d9315be_5dd4_11ec_82f3_7cb27dc53671row1_col0,#T_4d9315be_5dd4_11ec_82f3_7cb27dc53671row1_col1,#T_4d9315be_5dd4_11ec_82f3_7cb27dc53671row1_col2,#T_4d9315be_5dd4_11ec_82f3_7cb27dc53671row1_col3,#T_4d9315be_5dd4_11ec_82f3_7cb27dc53671row1_col4{\n",
       "            background-color:  #276419;\n",
       "            color:  #f1f1f1;\n",
       "        }</style><table id=\"T_4d9315be_5dd4_11ec_82f3_7cb27dc53671\" ><thead>    <tr>        <th class=\"blank level0\" ></th>        <th class=\"col_heading level0 col0\" >score_sm</th>        <th class=\"col_heading level0 col1\" >score_md</th>        <th class=\"col_heading level0 col2\" >score_lg</th>        <th class=\"col_heading level0 col3\" >score_trf</th>        <th class=\"col_heading level0 col4\" >avg_score</th>    </tr>    <tr>        <th class=\"index_name level0\" >gender</th>        <th class=\"blank\" ></th>        <th class=\"blank\" ></th>        <th class=\"blank\" ></th>        <th class=\"blank\" ></th>        <th class=\"blank\" ></th>    </tr></thead><tbody>\n",
       "                <tr>\n",
       "                        <th id=\"T_4d9315be_5dd4_11ec_82f3_7cb27dc53671level0_row0\" class=\"row_heading level0 row0\" >female</th>\n",
       "                        <td id=\"T_4d9315be_5dd4_11ec_82f3_7cb27dc53671row0_col0\" class=\"data row0 col0\" >0.693836</td>\n",
       "                        <td id=\"T_4d9315be_5dd4_11ec_82f3_7cb27dc53671row0_col1\" class=\"data row0 col1\" >0.894033</td>\n",
       "                        <td id=\"T_4d9315be_5dd4_11ec_82f3_7cb27dc53671row0_col2\" class=\"data row0 col2\" >0.895380</td>\n",
       "                        <td id=\"T_4d9315be_5dd4_11ec_82f3_7cb27dc53671row0_col3\" class=\"data row0 col3\" >0.941845</td>\n",
       "                        <td id=\"T_4d9315be_5dd4_11ec_82f3_7cb27dc53671row0_col4\" class=\"data row0 col4\" >0.856273</td>\n",
       "            </tr>\n",
       "            <tr>\n",
       "                        <th id=\"T_4d9315be_5dd4_11ec_82f3_7cb27dc53671level0_row1\" class=\"row_heading level0 row1\" >male</th>\n",
       "                        <td id=\"T_4d9315be_5dd4_11ec_82f3_7cb27dc53671row1_col0\" class=\"data row1 col0\" >0.753401</td>\n",
       "                        <td id=\"T_4d9315be_5dd4_11ec_82f3_7cb27dc53671row1_col1\" class=\"data row1 col1\" >0.929563</td>\n",
       "                        <td id=\"T_4d9315be_5dd4_11ec_82f3_7cb27dc53671row1_col2\" class=\"data row1 col2\" >0.919108</td>\n",
       "                        <td id=\"T_4d9315be_5dd4_11ec_82f3_7cb27dc53671row1_col3\" class=\"data row1 col3\" >0.966148</td>\n",
       "                        <td id=\"T_4d9315be_5dd4_11ec_82f3_7cb27dc53671row1_col4\" class=\"data row1 col4\" >0.892055</td>\n",
       "            </tr>\n",
       "    </tbody></table>"
      ],
      "text/plain": [
       "<pandas.io.formats.style.Styler at 0x1e1b2faa2c8>"
      ]
     },
     "execution_count": 28,
     "metadata": {},
     "output_type": "execute_result"
    }
   ],
   "source": [
    "df_results_article_gb.groupby('gender').mean().style.background_gradient(cmap='PiYG')"
   ]
  },
  {
   "cell_type": "markdown",
   "id": "4d5ef5d2",
   "metadata": {},
   "source": [
    "## US Baby names - national level"
   ]
  },
  {
   "cell_type": "markdown",
   "id": "aded4a10",
   "metadata": {},
   "source": [
    "### Importing the dataset"
   ]
  },
  {
   "cell_type": "code",
   "execution_count": 29,
   "id": "1c93d0bb",
   "metadata": {},
   "outputs": [],
   "source": [
    "df_us_names = pd.read_csv('Data/us_baby_names/NationalNames.csv')"
   ]
  },
  {
   "cell_type": "code",
   "execution_count": 30,
   "id": "4790514f",
   "metadata": {},
   "outputs": [
    {
     "data": {
      "text/html": [
       "<div>\n",
       "<style scoped>\n",
       "    .dataframe tbody tr th:only-of-type {\n",
       "        vertical-align: middle;\n",
       "    }\n",
       "\n",
       "    .dataframe tbody tr th {\n",
       "        vertical-align: top;\n",
       "    }\n",
       "\n",
       "    .dataframe thead th {\n",
       "        text-align: right;\n",
       "    }\n",
       "</style>\n",
       "<table border=\"1\" class=\"dataframe\">\n",
       "  <thead>\n",
       "    <tr style=\"text-align: right;\">\n",
       "      <th></th>\n",
       "      <th>Name</th>\n",
       "      <th>Year</th>\n",
       "      <th>Gender</th>\n",
       "      <th>Count</th>\n",
       "    </tr>\n",
       "  </thead>\n",
       "  <tbody>\n",
       "    <tr>\n",
       "      <th>0</th>\n",
       "      <td>Mary</td>\n",
       "      <td>1880</td>\n",
       "      <td>F</td>\n",
       "      <td>7065</td>\n",
       "    </tr>\n",
       "    <tr>\n",
       "      <th>1</th>\n",
       "      <td>Anna</td>\n",
       "      <td>1880</td>\n",
       "      <td>F</td>\n",
       "      <td>2604</td>\n",
       "    </tr>\n",
       "    <tr>\n",
       "      <th>2</th>\n",
       "      <td>Emma</td>\n",
       "      <td>1880</td>\n",
       "      <td>F</td>\n",
       "      <td>2003</td>\n",
       "    </tr>\n",
       "    <tr>\n",
       "      <th>3</th>\n",
       "      <td>Elizabeth</td>\n",
       "      <td>1880</td>\n",
       "      <td>F</td>\n",
       "      <td>1939</td>\n",
       "    </tr>\n",
       "    <tr>\n",
       "      <th>4</th>\n",
       "      <td>Minnie</td>\n",
       "      <td>1880</td>\n",
       "      <td>F</td>\n",
       "      <td>1746</td>\n",
       "    </tr>\n",
       "  </tbody>\n",
       "</table>\n",
       "</div>"
      ],
      "text/plain": [
       "        Name  Year Gender  Count\n",
       "0       Mary  1880      F   7065\n",
       "1       Anna  1880      F   2604\n",
       "2       Emma  1880      F   2003\n",
       "3  Elizabeth  1880      F   1939\n",
       "4     Minnie  1880      F   1746"
      ]
     },
     "execution_count": 30,
     "metadata": {},
     "output_type": "execute_result"
    }
   ],
   "source": [
    "del df_us_names['Id']\n",
    "df_us_names.head()"
   ]
  },
  {
   "cell_type": "code",
   "execution_count": 31,
   "id": "a956ea94",
   "metadata": {},
   "outputs": [
    {
     "data": {
      "text/plain": [
       "2014"
      ]
     },
     "execution_count": 31,
     "metadata": {},
     "output_type": "execute_result"
    }
   ],
   "source": [
    "df_us_names['Year'].max()"
   ]
  },
  {
   "cell_type": "code",
   "execution_count": 32,
   "id": "b5f25ca8",
   "metadata": {},
   "outputs": [
    {
     "data": {
      "text/plain": [
       "93889"
      ]
     },
     "execution_count": 32,
     "metadata": {},
     "output_type": "execute_result"
    }
   ],
   "source": [
    "df_us_names['Name'].nunique()"
   ]
  },
  {
   "cell_type": "markdown",
   "id": "abd9d9ac",
   "metadata": {},
   "source": [
    "There are a lot of names in the dataframe, thus we're only taking the n most popular names for each year and each gender:"
   ]
  },
  {
   "cell_type": "code",
   "execution_count": 33,
   "id": "db60e85a",
   "metadata": {},
   "outputs": [
    {
     "name": "stdout",
     "output_type": "stream",
     "text": [
      "total number of names considered: 129\n"
     ]
    }
   ],
   "source": [
    "#df_us_names[df_us_names['Count']>1000].sample(100, random_state=42).sort_values('Year').head()\n",
    "arr_us_names = df_us_names.groupby(['Year','Gender'])[['Count', 'Name']].apply(lambda x: x.nlargest(10, columns=['Count']))['Name'].unique()\n",
    "print('total number of names considered:', arr_us_names.shape[0])\n",
    "#Also computing the total list of years:\n",
    "liste_years = df_us_names.sort_values('Year')['Year'].unique()"
   ]
  },
  {
   "cell_type": "markdown",
   "id": "88ca5843",
   "metadata": {},
   "source": [
    "### Results"
   ]
  },
  {
   "cell_type": "code",
   "execution_count": 30,
   "id": "e2ebe58b",
   "metadata": {},
   "outputs": [
    {
     "name": "stdout",
     "output_type": "stream",
     "text": [
      "Testing the model: sm\n"
     ]
    },
    {
     "name": "stderr",
     "output_type": "stream",
     "text": [
      "100%|█████████████████████████████████████████████████████████████████████████| 100000/100000 [08:09<00:00, 204.21it/s]\n"
     ]
    },
    {
     "name": "stdout",
     "output_type": "stream",
     "text": [
      "Testing the model: md\n"
     ]
    },
    {
     "name": "stderr",
     "output_type": "stream",
     "text": [
      "100%|█████████████████████████████████████████████████████████████████████████| 100000/100000 [09:03<00:00, 184.03it/s]\n"
     ]
    },
    {
     "name": "stdout",
     "output_type": "stream",
     "text": [
      "Testing the model: lg\n"
     ]
    },
    {
     "name": "stderr",
     "output_type": "stream",
     "text": [
      "100%|█████████████████████████████████████████████████████████████████████████| 100000/100000 [09:01<00:00, 184.78it/s]\n"
     ]
    },
    {
     "name": "stdout",
     "output_type": "stream",
     "text": [
      "Testing the model: trf\n"
     ]
    },
    {
     "name": "stderr",
     "output_type": "stream",
     "text": [
      "100%|████████████████████████████████████████████████████████████████████████| 100000/100000 [1:31:42<00:00, 18.17it/s]\n"
     ]
    }
   ],
   "source": [
    "df_results_us = main_ner_first_names(100000, arr_us_names)"
   ]
  },
  {
   "cell_type": "code",
   "execution_count": 35,
   "id": "d0f65208",
   "metadata": {},
   "outputs": [
    {
     "data": {
      "text/html": [
       "<div>\n",
       "<style scoped>\n",
       "    .dataframe tbody tr th:only-of-type {\n",
       "        vertical-align: middle;\n",
       "    }\n",
       "\n",
       "    .dataframe tbody tr th {\n",
       "        vertical-align: top;\n",
       "    }\n",
       "\n",
       "    .dataframe thead th {\n",
       "        text-align: right;\n",
       "    }\n",
       "</style>\n",
       "<table border=\"1\" class=\"dataframe\">\n",
       "  <thead>\n",
       "    <tr style=\"text-align: right;\">\n",
       "      <th></th>\n",
       "      <th>name</th>\n",
       "      <th>score_sm</th>\n",
       "      <th>score_md</th>\n",
       "      <th>score_lg</th>\n",
       "      <th>score_trf</th>\n",
       "    </tr>\n",
       "  </thead>\n",
       "  <tbody>\n",
       "    <tr>\n",
       "      <th>0</th>\n",
       "      <td>Abigail</td>\n",
       "      <td>0.999143</td>\n",
       "      <td>1.000000</td>\n",
       "      <td>1.000000</td>\n",
       "      <td>0.763068</td>\n",
       "    </tr>\n",
       "    <tr>\n",
       "      <th>1</th>\n",
       "      <td>Aiden</td>\n",
       "      <td>0.487489</td>\n",
       "      <td>0.678602</td>\n",
       "      <td>0.984469</td>\n",
       "      <td>0.901639</td>\n",
       "    </tr>\n",
       "    <tr>\n",
       "      <th>2</th>\n",
       "      <td>Alexander</td>\n",
       "      <td>0.635550</td>\n",
       "      <td>0.995311</td>\n",
       "      <td>1.000000</td>\n",
       "      <td>0.867860</td>\n",
       "    </tr>\n",
       "    <tr>\n",
       "      <th>3</th>\n",
       "      <td>Alexis</td>\n",
       "      <td>0.701769</td>\n",
       "      <td>0.975990</td>\n",
       "      <td>0.994524</td>\n",
       "      <td>0.915754</td>\n",
       "    </tr>\n",
       "    <tr>\n",
       "      <th>4</th>\n",
       "      <td>Alice</td>\n",
       "      <td>0.671692</td>\n",
       "      <td>1.000000</td>\n",
       "      <td>1.000000</td>\n",
       "      <td>0.954355</td>\n",
       "    </tr>\n",
       "  </tbody>\n",
       "</table>\n",
       "</div>"
      ],
      "text/plain": [
       "        name  score_sm  score_md  score_lg  score_trf\n",
       "0    Abigail  0.999143  1.000000  1.000000   0.763068\n",
       "1      Aiden  0.487489  0.678602  0.984469   0.901639\n",
       "2  Alexander  0.635550  0.995311  1.000000   0.867860\n",
       "3     Alexis  0.701769  0.975990  0.994524   0.915754\n",
       "4      Alice  0.671692  1.000000  1.000000   0.954355"
      ]
     },
     "execution_count": 35,
     "metadata": {},
     "output_type": "execute_result"
    }
   ],
   "source": [
    "#Saving the results:\n",
    "#df_results_us.to_csv('data/results/first_names/df_results_us_nation_100000.csv', index=False)\n",
    "#Accesing the results:\n",
    "df_results_us = pd.read_csv('data/results/first_names/df_results_us_nation_100000.csv')\n",
    "df_results_us.head()"
   ]
  },
  {
   "cell_type": "code",
   "execution_count": 36,
   "id": "384093c6",
   "metadata": {},
   "outputs": [],
   "source": [
    "#Getting the array of the names really used inside the algorithm:\n",
    "new_us_names=df_results_us['name'].unique()"
   ]
  },
  {
   "cell_type": "code",
   "execution_count": 37,
   "id": "329816dc",
   "metadata": {},
   "outputs": [],
   "source": [
    "def compute_score_year(year, model):\n",
    "    n_people = 0\n",
    "    dict_sum_scores = {'sm': 0, 'md':0, 'lg':0, 'trf':0}\n",
    "    for name in new_us_names:\n",
    "        try:\n",
    "            df_temp_year = df_us_names[df_us_names['Year']==year]\n",
    "            n=df_temp_year[df_temp_year['Name']==name]['Count'].values[0]\n",
    "            n_people+=n\n",
    "            for model in ['sm', 'md', 'lg', 'trf']:\n",
    "                dict_sum_scores[model] += df_results_us[df_results_us['name']==name]['score_'+model].values[0]*n\n",
    "        except:\n",
    "            n_people+=0\n",
    "    return {k:v/n_people for k,v in dict_sum_scores.items()}"
   ]
  },
  {
   "cell_type": "code",
   "execution_count": 38,
   "id": "e04d3763",
   "metadata": {},
   "outputs": [
    {
     "name": "stderr",
     "output_type": "stream",
     "text": [
      "100%|████████████████████████████████████████████████████████████████████████████████| 135/135 [01:58<00:00,  1.14it/s]\n",
      "100%|████████████████████████████████████████████████████████████████████████████████| 135/135 [02:26<00:00,  1.08s/it]\n",
      "100%|████████████████████████████████████████████████████████████████████████████████| 135/135 [02:02<00:00,  1.10it/s]\n",
      "100%|████████████████████████████████████████████████████████████████████████████████| 135/135 [02:10<00:00,  1.03it/s]\n"
     ]
    }
   ],
   "source": [
    "#Averaging the score on the years:\n",
    "    #Defining the dataframe:\n",
    "df_us_final_results = pd.DataFrame(data = {'year':liste_years})\n",
    "    #Getting the scores:\n",
    "tqdm.pandas()\n",
    "\n",
    "for model in ['sm', 'md', 'lg', 'trf']:\n",
    "    df_us_final_results['d']= df_us_final_results['year'].progress_apply(lambda x: compute_score_year(x, model))\n",
    "    df_us_final_results['score_'+model] = df_us_final_results['d'].apply(pd.Series)[model]\n",
    "del df_us_final_results['d']"
   ]
  },
  {
   "cell_type": "markdown",
   "id": "67fb8f57",
   "metadata": {},
   "source": [
    "Computing the average score:"
   ]
  },
  {
   "cell_type": "code",
   "execution_count": 39,
   "id": "9e38b7a0",
   "metadata": {},
   "outputs": [],
   "source": [
    "#We are computing the average score of the models:\n",
    "df_us_final_results['avg_score']=df_us_final_results[['score_sm', 'score_md', 'score_lg', 'score_trf']].mean(axis=1)"
   ]
  },
  {
   "cell_type": "code",
   "execution_count": 40,
   "id": "384fc5a0",
   "metadata": {},
   "outputs": [
    {
     "data": {
      "text/html": [
       "<div>\n",
       "<style scoped>\n",
       "    .dataframe tbody tr th:only-of-type {\n",
       "        vertical-align: middle;\n",
       "    }\n",
       "\n",
       "    .dataframe tbody tr th {\n",
       "        vertical-align: top;\n",
       "    }\n",
       "\n",
       "    .dataframe thead th {\n",
       "        text-align: right;\n",
       "    }\n",
       "</style>\n",
       "<table border=\"1\" class=\"dataframe\">\n",
       "  <thead>\n",
       "    <tr style=\"text-align: right;\">\n",
       "      <th></th>\n",
       "      <th>year</th>\n",
       "      <th>score_sm</th>\n",
       "      <th>score_md</th>\n",
       "      <th>score_lg</th>\n",
       "      <th>score_trf</th>\n",
       "      <th>avg_score</th>\n",
       "    </tr>\n",
       "  </thead>\n",
       "  <tbody>\n",
       "    <tr>\n",
       "      <th>0</th>\n",
       "      <td>1880</td>\n",
       "      <td>0.792332</td>\n",
       "      <td>0.913002</td>\n",
       "      <td>0.969546</td>\n",
       "      <td>0.865559</td>\n",
       "      <td>0.885109</td>\n",
       "    </tr>\n",
       "    <tr>\n",
       "      <th>1</th>\n",
       "      <td>1881</td>\n",
       "      <td>0.807298</td>\n",
       "      <td>0.924330</td>\n",
       "      <td>0.980426</td>\n",
       "      <td>0.872076</td>\n",
       "      <td>0.896032</td>\n",
       "    </tr>\n",
       "    <tr>\n",
       "      <th>2</th>\n",
       "      <td>1882</td>\n",
       "      <td>0.785082</td>\n",
       "      <td>0.914942</td>\n",
       "      <td>0.971416</td>\n",
       "      <td>0.867883</td>\n",
       "      <td>0.884831</td>\n",
       "    </tr>\n",
       "    <tr>\n",
       "      <th>3</th>\n",
       "      <td>1883</td>\n",
       "      <td>0.799331</td>\n",
       "      <td>0.924311</td>\n",
       "      <td>0.976894</td>\n",
       "      <td>0.870924</td>\n",
       "      <td>0.892865</td>\n",
       "    </tr>\n",
       "    <tr>\n",
       "      <th>4</th>\n",
       "      <td>1884</td>\n",
       "      <td>0.787200</td>\n",
       "      <td>0.920353</td>\n",
       "      <td>0.975658</td>\n",
       "      <td>0.869222</td>\n",
       "      <td>0.888108</td>\n",
       "    </tr>\n",
       "  </tbody>\n",
       "</table>\n",
       "</div>"
      ],
      "text/plain": [
       "   year  score_sm  score_md  score_lg  score_trf  avg_score\n",
       "0  1880  0.792332  0.913002  0.969546   0.865559   0.885109\n",
       "1  1881  0.807298  0.924330  0.980426   0.872076   0.896032\n",
       "2  1882  0.785082  0.914942  0.971416   0.867883   0.884831\n",
       "3  1883  0.799331  0.924311  0.976894   0.870924   0.892865\n",
       "4  1884  0.787200  0.920353  0.975658   0.869222   0.888108"
      ]
     },
     "execution_count": 40,
     "metadata": {},
     "output_type": "execute_result"
    }
   ],
   "source": [
    "df_us_final_results.head()"
   ]
  },
  {
   "cell_type": "markdown",
   "id": "022d41f4",
   "metadata": {},
   "source": [
    "### Viz"
   ]
  },
  {
   "cell_type": "markdown",
   "id": "ae9af7d2",
   "metadata": {},
   "source": [
    "Plotting the results of all the models. "
   ]
  },
  {
   "cell_type": "code",
   "execution_count": 42,
   "id": "a02bd8dd",
   "metadata": {},
   "outputs": [
    {
     "data": {
      "image/png": "[encoded data removed]",
      "text/plain": [
       "<Figure size 1080x432 with 4 Axes>"
      ]
     },
     "metadata": {},
     "output_type": "display_data"
    }
   ],
   "source": [
    "fig, axs = plt.subplots(2,2, figsize=(15, 6), facecolor='w', edgecolor='k')\n",
    "fig.subplots_adjust(hspace = .5, wspace=0.1)\n",
    "\n",
    "axs = axs.ravel()\n",
    "\n",
    "for i in range(4):\n",
    "    model = ['sm','md','lg','trf'][i]\n",
    "    #Computing the mean scores by range of every 5 years:\n",
    "    arr=df_us_final_results['score_'+model].values\n",
    "    y_mean_5=np.mean(arr.reshape(-1, 5), axis=1)\n",
    "    x_mean_5=np.array([x for x in range(1880, 2015, 5)])\n",
    "\n",
    "\n",
    "    x=df_us_final_results['year']\n",
    "    y= df_us_final_results['score_'+model]\n",
    "\n",
    "\n",
    "    #Defining the figure:\n",
    "    axs[i].set_title('Scores depending on the year babies were born in : ' + model)\n",
    "    axs[i].plot(x, y, 'o', color='b', markersize=3, label='raw')\n",
    "    axs[i].plot(x, y, '--', color='g', markersize=3, label='line')\n",
    "    axs[i].plot(x_mean_5, y_mean_5, color = 'r', label='mean for every 5y')\n",
    "    \n",
    "plt.savefig('images/results/score_each_models_first_names_year.png', bbox_inches='tight')\n",
    "plt.show()"
   ]
  },
  {
   "cell_type": "markdown",
   "id": "8d61fc1f",
   "metadata": {},
   "source": [
    "Average score of the 4 models:"
   ]
  },
  {
   "cell_type": "code",
   "execution_count": 43,
   "id": "9f795825",
   "metadata": {},
   "outputs": [
    {
     "data": {
      "image/png": "[encoded data removed]",
      "text/plain": [
       "<Figure size 1080x360 with 1 Axes>"
      ]
     },
     "metadata": {
      "needs_background": "light"
     },
     "output_type": "display_data"
    }
   ],
   "source": [
    "x=df_us_final_results['year']\n",
    "y=df_us_final_results['avg_score']\n",
    "y_mean_5=np.mean(y.values.reshape(-1, 5), axis=1)\n",
    "x_mean_5=np.array([x for x in range(1880, 2015, 5)])\n",
    "\n",
    "fig= plt.figure(figsize=(15,5))\n",
    "plt.title('Average scores of the 4 models - years babies were born in')\n",
    "plt.plot(x, y, 'o', color='b', markersize=3, label='raw')\n",
    "plt.plot(x, y, '--', color='g', markersize=3, label='line')\n",
    "plt.plot(x_mean_5, y_mean_5, color = 'r', label='mean for every 5y')\n",
    "plt.legend()\n",
    "plt.savefig('images/results/avg_score_first_names_year.png', bbox_inches='tight')\n",
    "plt.show()"
   ]
  },
  {
   "cell_type": "code",
   "execution_count": 44,
   "id": "f94f550e",
   "metadata": {},
   "outputs": [
    {
     "data": {
      "text/html": [
       "<div>\n",
       "<style scoped>\n",
       "    .dataframe tbody tr th:only-of-type {\n",
       "        vertical-align: middle;\n",
       "    }\n",
       "\n",
       "    .dataframe tbody tr th {\n",
       "        vertical-align: top;\n",
       "    }\n",
       "\n",
       "    .dataframe thead th {\n",
       "        text-align: right;\n",
       "    }\n",
       "</style>\n",
       "<table border=\"1\" class=\"dataframe\">\n",
       "  <thead>\n",
       "    <tr style=\"text-align: right;\">\n",
       "      <th></th>\n",
       "      <th>year</th>\n",
       "      <th>avg_score</th>\n",
       "    </tr>\n",
       "  </thead>\n",
       "  <tbody>\n",
       "    <tr>\n",
       "      <th>68</th>\n",
       "      <td>1948</td>\n",
       "      <td>0.942201</td>\n",
       "    </tr>\n",
       "    <tr>\n",
       "      <th>69</th>\n",
       "      <td>1949</td>\n",
       "      <td>0.941947</td>\n",
       "    </tr>\n",
       "    <tr>\n",
       "      <th>67</th>\n",
       "      <td>1947</td>\n",
       "      <td>0.941186</td>\n",
       "    </tr>\n",
       "    <tr>\n",
       "      <th>70</th>\n",
       "      <td>1950</td>\n",
       "      <td>0.940492</td>\n",
       "    </tr>\n",
       "    <tr>\n",
       "      <th>66</th>\n",
       "      <td>1946</td>\n",
       "      <td>0.938860</td>\n",
       "    </tr>\n",
       "  </tbody>\n",
       "</table>\n",
       "</div>"
      ],
      "text/plain": [
       "    year  avg_score\n",
       "68  1948   0.942201\n",
       "69  1949   0.941947\n",
       "67  1947   0.941186\n",
       "70  1950   0.940492\n",
       "66  1946   0.938860"
      ]
     },
     "execution_count": 44,
     "metadata": {},
     "output_type": "execute_result"
    }
   ],
   "source": [
    "df_us_final_results.sort_values('avg_score', ascending=False)[['year', 'avg_score']].head(5)"
   ]
  },
  {
   "cell_type": "markdown",
   "id": "41e402c2",
   "metadata": {},
   "source": [
    "The best results then correspond to the years just afte WW2."
   ]
  },
  {
   "cell_type": "markdown",
   "id": "b427d648",
   "metadata": {},
   "source": [
    "We can do the same kind of things depending on the age of people:"
   ]
  },
  {
   "cell_type": "code",
   "execution_count": 46,
   "id": "f3c602eb",
   "metadata": {},
   "outputs": [
    {
     "data": {
      "image/png": "[encoded data removed]",
      "text/plain": [
       "<Figure size 1080x360 with 1 Axes>"
      ]
     },
     "metadata": {
      "needs_background": "light"
     },
     "output_type": "display_data"
    }
   ],
   "source": [
    "fig= plt.figure(figsize=(15,5))\n",
    "plt.title('Average scores depending on the age of people in 2021')\n",
    "plt.plot(2021-x, y, 'o', color='b', markersize=3, label='raw')\n",
    "plt.plot(2021-x, y, '--', color='g', markersize=3, label='line')\n",
    "plt.plot(2021-x_mean_5, y_mean_5, color = 'r', label='mean for every 5y')\n",
    "plt.savefig('images/results/avg_score_first_names_year_AGE.png', bbox_inches='tight')\n",
    "plt.legend()\n",
    "plt.show()"
   ]
  },
  {
   "cell_type": "markdown",
   "id": "1272bc63",
   "metadata": {},
   "source": [
    "## NYC"
   ]
  },
  {
   "cell_type": "markdown",
   "id": "a9fc889e",
   "metadata": {},
   "source": [
    "We're using the NYC dataset with ethnicity in it to go further than the article. "
   ]
  },
  {
   "cell_type": "markdown",
   "id": "d91a612c",
   "metadata": {},
   "source": [
    "### Importing and cleaning the dataframe"
   ]
  },
  {
   "cell_type": "code",
   "execution_count": 48,
   "id": "adfc8937",
   "metadata": {},
   "outputs": [],
   "source": [
    "df_nyc_names = pd.read_csv('Data/NYC_Popular_Baby_Names.csv')"
   ]
  },
  {
   "cell_type": "code",
   "execution_count": 49,
   "id": "4c53e939",
   "metadata": {},
   "outputs": [
    {
     "data": {
      "text/html": [
       "<div>\n",
       "<style scoped>\n",
       "    .dataframe tbody tr th:only-of-type {\n",
       "        vertical-align: middle;\n",
       "    }\n",
       "\n",
       "    .dataframe tbody tr th {\n",
       "        vertical-align: top;\n",
       "    }\n",
       "\n",
       "    .dataframe thead th {\n",
       "        text-align: right;\n",
       "    }\n",
       "</style>\n",
       "<table border=\"1\" class=\"dataframe\">\n",
       "  <thead>\n",
       "    <tr style=\"text-align: right;\">\n",
       "      <th></th>\n",
       "      <th>Year of Birth</th>\n",
       "      <th>Gender</th>\n",
       "      <th>Ethnicity</th>\n",
       "      <th>Child's First Name</th>\n",
       "      <th>Count</th>\n",
       "      <th>Rank</th>\n",
       "    </tr>\n",
       "  </thead>\n",
       "  <tbody>\n",
       "    <tr>\n",
       "      <th>0</th>\n",
       "      <td>2011</td>\n",
       "      <td>FEMALE</td>\n",
       "      <td>HISPANIC</td>\n",
       "      <td>GERALDINE</td>\n",
       "      <td>13</td>\n",
       "      <td>75</td>\n",
       "    </tr>\n",
       "    <tr>\n",
       "      <th>1</th>\n",
       "      <td>2011</td>\n",
       "      <td>FEMALE</td>\n",
       "      <td>HISPANIC</td>\n",
       "      <td>GIA</td>\n",
       "      <td>21</td>\n",
       "      <td>67</td>\n",
       "    </tr>\n",
       "    <tr>\n",
       "      <th>2</th>\n",
       "      <td>2011</td>\n",
       "      <td>FEMALE</td>\n",
       "      <td>HISPANIC</td>\n",
       "      <td>GIANNA</td>\n",
       "      <td>49</td>\n",
       "      <td>42</td>\n",
       "    </tr>\n",
       "    <tr>\n",
       "      <th>3</th>\n",
       "      <td>2011</td>\n",
       "      <td>FEMALE</td>\n",
       "      <td>HISPANIC</td>\n",
       "      <td>GISELLE</td>\n",
       "      <td>38</td>\n",
       "      <td>51</td>\n",
       "    </tr>\n",
       "    <tr>\n",
       "      <th>4</th>\n",
       "      <td>2011</td>\n",
       "      <td>FEMALE</td>\n",
       "      <td>HISPANIC</td>\n",
       "      <td>GRACE</td>\n",
       "      <td>36</td>\n",
       "      <td>53</td>\n",
       "    </tr>\n",
       "  </tbody>\n",
       "</table>\n",
       "</div>"
      ],
      "text/plain": [
       "   Year of Birth  Gender Ethnicity Child's First Name  Count  Rank\n",
       "0           2011  FEMALE  HISPANIC          GERALDINE     13    75\n",
       "1           2011  FEMALE  HISPANIC                GIA     21    67\n",
       "2           2011  FEMALE  HISPANIC             GIANNA     49    42\n",
       "3           2011  FEMALE  HISPANIC            GISELLE     38    51\n",
       "4           2011  FEMALE  HISPANIC              GRACE     36    53"
      ]
     },
     "execution_count": 49,
     "metadata": {},
     "output_type": "execute_result"
    }
   ],
   "source": [
    "df_nyc_names.head()"
   ]
  },
  {
   "cell_type": "code",
   "execution_count": 50,
   "id": "e6f57c1e",
   "metadata": {},
   "outputs": [],
   "source": [
    "#Some names are not written in the same way, so we title them all:\n",
    "df_nyc_names[\"Child's First Name\"]= df_nyc_names[\"Child's First Name\"].str.title()\n",
    "\n",
    "#There are also some mistakes in the way the ethnicity is written: \n",
    "d_replace_ethnicity = {\"ASIAN AND PACI\" : 'ASIAN AND PACIFIC ISLANDER', \n",
    "            \"BLACK NON HISP\" : \"BLACK NON HISPANIC\", \n",
    "            \"WHITE NON HISP\" : \"WHITE NON HISPANIC\"}\n",
    "\n",
    "\n",
    "df_nyc_names[\"Ethnicity\"]=df_nyc_names[\"Ethnicity\"].replace(d_replace_ethnicity)\n",
    "\n",
    "#We sum up the count for each first name -depending on the gender and ethnicity-:\n",
    "df_nyc_names=df_nyc_names.groupby([\"Child's First Name\", \"Ethnicity\", \"Gender\"]).agg({'Count':'sum'}).reset_index(drop=False)"
   ]
  },
  {
   "cell_type": "code",
   "execution_count": 51,
   "id": "9b270164",
   "metadata": {},
   "outputs": [],
   "source": [
    "#There are too much names, Thus:\n",
    "#We are taking the 10 most common names for each ethnicity and each gender:\n",
    "arr_nyc_names = df_nyc_names.groupby(['Ethnicity','Gender'])[['Count', \"Child's First Name\"]]\\\n",
    ".apply(lambda x: x.nlargest(10, columns=['Count']))[\"Child's First Name\"].unique()"
   ]
  },
  {
   "cell_type": "code",
   "execution_count": 52,
   "id": "7939ce33",
   "metadata": {},
   "outputs": [
    {
     "data": {
      "text/plain": [
       "(58,)"
      ]
     },
     "execution_count": 52,
     "metadata": {},
     "output_type": "execute_result"
    }
   ],
   "source": [
    "arr_nyc_names.shape"
   ]
  },
  {
   "cell_type": "markdown",
   "id": "bdaf9098",
   "metadata": {},
   "source": [
    "### Results"
   ]
  },
  {
   "cell_type": "code",
   "execution_count": 18,
   "id": "4c7f11e7",
   "metadata": {},
   "outputs": [
    {
     "name": "stdout",
     "output_type": "stream",
     "text": [
      "Testing the model: sm\n"
     ]
    },
    {
     "name": "stderr",
     "output_type": "stream",
     "text": [
      "100%|█████████████████████████████████████████████████████████████████████████| 100000/100000 [09:26<00:00, 176.47it/s]\n"
     ]
    },
    {
     "name": "stdout",
     "output_type": "stream",
     "text": [
      "Testing the model: md\n"
     ]
    },
    {
     "name": "stderr",
     "output_type": "stream",
     "text": [
      "100%|█████████████████████████████████████████████████████████████████████████| 100000/100000 [11:22<00:00, 146.47it/s]\n"
     ]
    },
    {
     "name": "stdout",
     "output_type": "stream",
     "text": [
      "Testing the model: lg\n"
     ]
    },
    {
     "name": "stderr",
     "output_type": "stream",
     "text": [
      "100%|█████████████████████████████████████████████████████████████████████████| 100000/100000 [15:34<00:00, 107.02it/s]\n"
     ]
    },
    {
     "name": "stdout",
     "output_type": "stream",
     "text": [
      "Testing the model: trf\n"
     ]
    },
    {
     "name": "stderr",
     "output_type": "stream",
     "text": [
      "100%|████████████████████████████████████████████████████████████████████████| 100000/100000 [1:53:35<00:00, 14.67it/s]\n"
     ]
    }
   ],
   "source": [
    "df_results_nyc = main_ner_first_names(100000, arr_nyc_names)"
   ]
  },
  {
   "cell_type": "code",
   "execution_count": 53,
   "id": "9d2bca4c",
   "metadata": {},
   "outputs": [],
   "source": [
    "#df_results_nyc.to_csv('data/results/first_names/df_results_nyc_100000.csv', index=False)\n",
    "df_results_nyc=pd.read_csv('data/results/first_names/df_results_nyc_100000.csv')"
   ]
  },
  {
   "cell_type": "markdown",
   "id": "b7849438",
   "metadata": {},
   "source": [
    "Then, we have a score for each first name. "
   ]
  },
  {
   "cell_type": "code",
   "execution_count": 55,
   "id": "80ff33a4",
   "metadata": {},
   "outputs": [],
   "source": [
    "#Getting the array of the names actually used by the model:\n",
    "new_names_nyc = df_results_nyc['name'].unique()"
   ]
  },
  {
   "cell_type": "markdown",
   "id": "b687b651",
   "metadata": {},
   "source": [
    "#### Ethnicity:"
   ]
  },
  {
   "cell_type": "code",
   "execution_count": 56,
   "id": "e1386563",
   "metadata": {},
   "outputs": [],
   "source": [
    "#Getting the complete list of ethnicities inside the dataframe:\n",
    "liste_ethnicity = df_nyc_names['Ethnicity'].unique()"
   ]
  },
  {
   "cell_type": "code",
   "execution_count": 57,
   "id": "dfac4570",
   "metadata": {},
   "outputs": [],
   "source": [
    "def compute_score_ethnicity(ethnicity):\n",
    "    n_people = 0\n",
    "    dict_sum_scores = {'sm': 0, 'md':0, 'lg':0, 'trf':0}\n",
    "    for name in new_names_nyc:\n",
    "        try:\n",
    "            df_temp_year = df_nyc_names[df_nyc_names['Ethnicity']==ethnicity]\n",
    "            n=df_temp_year[df_temp_year[\"Child's First Name\"]==name]['Count'].values[0]\n",
    "            n_people+=n\n",
    "            for model in ['sm', 'md', 'lg', 'trf']:\n",
    "                dict_sum_scores[model] += df_results_nyc[df_results_nyc['name']==name]['score_'+model].values[0]*n\n",
    "        except:\n",
    "            n_people+=0\n",
    "    \n",
    "    return {k:v/np.maximum(n_people,1) for k,v in dict_sum_scores.items()}"
   ]
  },
  {
   "cell_type": "code",
   "execution_count": 58,
   "id": "9da7f980",
   "metadata": {},
   "outputs": [
    {
     "name": "stderr",
     "output_type": "stream",
     "text": [
      "100%|████████████████████████████████████████████████████████████████████████████████████| 4/4 [00:00<00:00,  7.50it/s]\n"
     ]
    }
   ],
   "source": [
    "#Averaging the score on the years:\n",
    "    #Defining the dataframe:\n",
    "df_nyc_final_results = pd.DataFrame(data = {'ethnicity':liste_ethnicity})\n",
    "    #Getting the scores:\n",
    "tqdm.pandas()\n",
    "df_nyc_final_results['d']= df_nyc_final_results['ethnicity'].progress_apply(lambda x: compute_score_ethnicity(x))\n",
    "    \n",
    "for model in ['sm', 'md', 'lg', 'trf']:\n",
    "    df_nyc_final_results['score_'+model] = df_nyc_final_results['d'].apply(pd.Series)[model]\n",
    "del df_nyc_final_results['d']"
   ]
  },
  {
   "cell_type": "code",
   "execution_count": 59,
   "id": "55205b65",
   "metadata": {},
   "outputs": [
    {
     "data": {
      "text/html": [
       "<div>\n",
       "<style scoped>\n",
       "    .dataframe tbody tr th:only-of-type {\n",
       "        vertical-align: middle;\n",
       "    }\n",
       "\n",
       "    .dataframe tbody tr th {\n",
       "        vertical-align: top;\n",
       "    }\n",
       "\n",
       "    .dataframe thead th {\n",
       "        text-align: right;\n",
       "    }\n",
       "</style>\n",
       "<table border=\"1\" class=\"dataframe\">\n",
       "  <thead>\n",
       "    <tr style=\"text-align: right;\">\n",
       "      <th></th>\n",
       "      <th>ethnicity</th>\n",
       "      <th>score_sm</th>\n",
       "      <th>score_md</th>\n",
       "      <th>score_lg</th>\n",
       "      <th>score_trf</th>\n",
       "    </tr>\n",
       "  </thead>\n",
       "  <tbody>\n",
       "    <tr>\n",
       "      <th>0</th>\n",
       "      <td>ASIAN AND PACIFIC ISLANDER</td>\n",
       "      <td>0.756775</td>\n",
       "      <td>0.863763</td>\n",
       "      <td>0.899095</td>\n",
       "      <td>0.796435</td>\n",
       "    </tr>\n",
       "    <tr>\n",
       "      <th>1</th>\n",
       "      <td>BLACK NON HISPANIC</td>\n",
       "      <td>0.681221</td>\n",
       "      <td>0.806647</td>\n",
       "      <td>0.838165</td>\n",
       "      <td>0.701055</td>\n",
       "    </tr>\n",
       "    <tr>\n",
       "      <th>2</th>\n",
       "      <td>HISPANIC</td>\n",
       "      <td>0.679952</td>\n",
       "      <td>0.847086</td>\n",
       "      <td>0.872283</td>\n",
       "      <td>0.729904</td>\n",
       "    </tr>\n",
       "    <tr>\n",
       "      <th>3</th>\n",
       "      <td>WHITE NON HISPANIC</td>\n",
       "      <td>0.729831</td>\n",
       "      <td>0.895407</td>\n",
       "      <td>0.921528</td>\n",
       "      <td>0.710792</td>\n",
       "    </tr>\n",
       "  </tbody>\n",
       "</table>\n",
       "</div>"
      ],
      "text/plain": [
       "                    ethnicity  score_sm  score_md  score_lg  score_trf\n",
       "0  ASIAN AND PACIFIC ISLANDER  0.756775  0.863763  0.899095   0.796435\n",
       "1          BLACK NON HISPANIC  0.681221  0.806647  0.838165   0.701055\n",
       "2                    HISPANIC  0.679952  0.847086  0.872283   0.729904\n",
       "3          WHITE NON HISPANIC  0.729831  0.895407  0.921528   0.710792"
      ]
     },
     "execution_count": 59,
     "metadata": {},
     "output_type": "execute_result"
    }
   ],
   "source": [
    "df_nyc_final_results"
   ]
  },
  {
   "cell_type": "markdown",
   "id": "c7a593c6",
   "metadata": {},
   "source": [
    "Computing the average score:"
   ]
  },
  {
   "cell_type": "code",
   "execution_count": 60,
   "id": "4887a696",
   "metadata": {},
   "outputs": [],
   "source": [
    "#We are computing the average score of the models:\n",
    "df_nyc_final_results['avg_score']=df_nyc_final_results[['score_sm', 'score_md', 'score_lg', 'score_trf']].mean(axis=1)"
   ]
  },
  {
   "cell_type": "code",
   "execution_count": 61,
   "id": "aeccb89c",
   "metadata": {},
   "outputs": [
    {
     "data": {
      "text/html": [
       "<style  type=\"text/css\" >\n",
       "#T_2298bf1c_5dd6_11ec_afa9_7cb27dc53671row0_col1,#T_2298bf1c_5dd6_11ec_afa9_7cb27dc53671row0_col4,#T_2298bf1c_5dd6_11ec_afa9_7cb27dc53671row0_col5,#T_2298bf1c_5dd6_11ec_afa9_7cb27dc53671row3_col2,#T_2298bf1c_5dd6_11ec_afa9_7cb27dc53671row3_col3{\n",
       "            background-color:  #276419;\n",
       "            color:  #f1f1f1;\n",
       "        }#T_2298bf1c_5dd6_11ec_afa9_7cb27dc53671row0_col2{\n",
       "            background-color:  #d2ecb0;\n",
       "            color:  #000000;\n",
       "        }#T_2298bf1c_5dd6_11ec_afa9_7cb27dc53671row0_col3{\n",
       "            background-color:  #a5d56f;\n",
       "            color:  #000000;\n",
       "        }#T_2298bf1c_5dd6_11ec_afa9_7cb27dc53671row1_col1{\n",
       "            background-color:  #970559;\n",
       "            color:  #f1f1f1;\n",
       "        }#T_2298bf1c_5dd6_11ec_afa9_7cb27dc53671row1_col2,#T_2298bf1c_5dd6_11ec_afa9_7cb27dc53671row1_col3,#T_2298bf1c_5dd6_11ec_afa9_7cb27dc53671row1_col4,#T_2298bf1c_5dd6_11ec_afa9_7cb27dc53671row1_col5,#T_2298bf1c_5dd6_11ec_afa9_7cb27dc53671row2_col1{\n",
       "            background-color:  #8e0152;\n",
       "            color:  #f1f1f1;\n",
       "        }#T_2298bf1c_5dd6_11ec_afa9_7cb27dc53671row2_col2{\n",
       "            background-color:  #faedf3;\n",
       "            color:  #000000;\n",
       "        }#T_2298bf1c_5dd6_11ec_afa9_7cb27dc53671row2_col3{\n",
       "            background-color:  #fde2f0;\n",
       "            color:  #000000;\n",
       "        }#T_2298bf1c_5dd6_11ec_afa9_7cb27dc53671row2_col4{\n",
       "            background-color:  #f1b7da;\n",
       "            color:  #000000;\n",
       "        }#T_2298bf1c_5dd6_11ec_afa9_7cb27dc53671row2_col5{\n",
       "            background-color:  #f7cce5;\n",
       "            color:  #000000;\n",
       "        }#T_2298bf1c_5dd6_11ec_afa9_7cb27dc53671row3_col1{\n",
       "            background-color:  #cfebaa;\n",
       "            color:  #000000;\n",
       "        }#T_2298bf1c_5dd6_11ec_afa9_7cb27dc53671row3_col4{\n",
       "            background-color:  #c51d7e;\n",
       "            color:  #f1f1f1;\n",
       "        }#T_2298bf1c_5dd6_11ec_afa9_7cb27dc53671row3_col5{\n",
       "            background-color:  #7fbc41;\n",
       "            color:  #000000;\n",
       "        }</style><table id=\"T_2298bf1c_5dd6_11ec_afa9_7cb27dc53671\" ><thead>    <tr>        <th class=\"blank level0\" ></th>        <th class=\"col_heading level0 col0\" >ethnicity</th>        <th class=\"col_heading level0 col1\" >score_sm</th>        <th class=\"col_heading level0 col2\" >score_md</th>        <th class=\"col_heading level0 col3\" >score_lg</th>        <th class=\"col_heading level0 col4\" >score_trf</th>        <th class=\"col_heading level0 col5\" >avg_score</th>    </tr></thead><tbody>\n",
       "                <tr>\n",
       "                        <th id=\"T_2298bf1c_5dd6_11ec_afa9_7cb27dc53671level0_row0\" class=\"row_heading level0 row0\" >0</th>\n",
       "                        <td id=\"T_2298bf1c_5dd6_11ec_afa9_7cb27dc53671row0_col0\" class=\"data row0 col0\" >ASIAN AND PACIFIC ISLANDER</td>\n",
       "                        <td id=\"T_2298bf1c_5dd6_11ec_afa9_7cb27dc53671row0_col1\" class=\"data row0 col1\" >0.756775</td>\n",
       "                        <td id=\"T_2298bf1c_5dd6_11ec_afa9_7cb27dc53671row0_col2\" class=\"data row0 col2\" >0.863763</td>\n",
       "                        <td id=\"T_2298bf1c_5dd6_11ec_afa9_7cb27dc53671row0_col3\" class=\"data row0 col3\" >0.899095</td>\n",
       "                        <td id=\"T_2298bf1c_5dd6_11ec_afa9_7cb27dc53671row0_col4\" class=\"data row0 col4\" >0.796435</td>\n",
       "                        <td id=\"T_2298bf1c_5dd6_11ec_afa9_7cb27dc53671row0_col5\" class=\"data row0 col5\" >0.829017</td>\n",
       "            </tr>\n",
       "            <tr>\n",
       "                        <th id=\"T_2298bf1c_5dd6_11ec_afa9_7cb27dc53671level0_row1\" class=\"row_heading level0 row1\" >1</th>\n",
       "                        <td id=\"T_2298bf1c_5dd6_11ec_afa9_7cb27dc53671row1_col0\" class=\"data row1 col0\" >BLACK NON HISPANIC</td>\n",
       "                        <td id=\"T_2298bf1c_5dd6_11ec_afa9_7cb27dc53671row1_col1\" class=\"data row1 col1\" >0.681221</td>\n",
       "                        <td id=\"T_2298bf1c_5dd6_11ec_afa9_7cb27dc53671row1_col2\" class=\"data row1 col2\" >0.806647</td>\n",
       "                        <td id=\"T_2298bf1c_5dd6_11ec_afa9_7cb27dc53671row1_col3\" class=\"data row1 col3\" >0.838165</td>\n",
       "                        <td id=\"T_2298bf1c_5dd6_11ec_afa9_7cb27dc53671row1_col4\" class=\"data row1 col4\" >0.701055</td>\n",
       "                        <td id=\"T_2298bf1c_5dd6_11ec_afa9_7cb27dc53671row1_col5\" class=\"data row1 col5\" >0.756772</td>\n",
       "            </tr>\n",
       "            <tr>\n",
       "                        <th id=\"T_2298bf1c_5dd6_11ec_afa9_7cb27dc53671level0_row2\" class=\"row_heading level0 row2\" >2</th>\n",
       "                        <td id=\"T_2298bf1c_5dd6_11ec_afa9_7cb27dc53671row2_col0\" class=\"data row2 col0\" >HISPANIC</td>\n",
       "                        <td id=\"T_2298bf1c_5dd6_11ec_afa9_7cb27dc53671row2_col1\" class=\"data row2 col1\" >0.679952</td>\n",
       "                        <td id=\"T_2298bf1c_5dd6_11ec_afa9_7cb27dc53671row2_col2\" class=\"data row2 col2\" >0.847086</td>\n",
       "                        <td id=\"T_2298bf1c_5dd6_11ec_afa9_7cb27dc53671row2_col3\" class=\"data row2 col3\" >0.872283</td>\n",
       "                        <td id=\"T_2298bf1c_5dd6_11ec_afa9_7cb27dc53671row2_col4\" class=\"data row2 col4\" >0.729904</td>\n",
       "                        <td id=\"T_2298bf1c_5dd6_11ec_afa9_7cb27dc53671row2_col5\" class=\"data row2 col5\" >0.782306</td>\n",
       "            </tr>\n",
       "            <tr>\n",
       "                        <th id=\"T_2298bf1c_5dd6_11ec_afa9_7cb27dc53671level0_row3\" class=\"row_heading level0 row3\" >3</th>\n",
       "                        <td id=\"T_2298bf1c_5dd6_11ec_afa9_7cb27dc53671row3_col0\" class=\"data row3 col0\" >WHITE NON HISPANIC</td>\n",
       "                        <td id=\"T_2298bf1c_5dd6_11ec_afa9_7cb27dc53671row3_col1\" class=\"data row3 col1\" >0.729831</td>\n",
       "                        <td id=\"T_2298bf1c_5dd6_11ec_afa9_7cb27dc53671row3_col2\" class=\"data row3 col2\" >0.895407</td>\n",
       "                        <td id=\"T_2298bf1c_5dd6_11ec_afa9_7cb27dc53671row3_col3\" class=\"data row3 col3\" >0.921528</td>\n",
       "                        <td id=\"T_2298bf1c_5dd6_11ec_afa9_7cb27dc53671row3_col4\" class=\"data row3 col4\" >0.710792</td>\n",
       "                        <td id=\"T_2298bf1c_5dd6_11ec_afa9_7cb27dc53671row3_col5\" class=\"data row3 col5\" >0.814390</td>\n",
       "            </tr>\n",
       "    </tbody></table>"
      ],
      "text/plain": [
       "<pandas.io.formats.style.Styler at 0x1e1b3fcf5c8>"
      ]
     },
     "execution_count": 61,
     "metadata": {},
     "output_type": "execute_result"
    }
   ],
   "source": [
    "df_nyc_final_results.style.background_gradient(cmap='PiYG')"
   ]
  },
  {
   "cell_type": "markdown",
   "id": "fa282985",
   "metadata": {},
   "source": [
    "#### Gender"
   ]
  },
  {
   "cell_type": "code",
   "execution_count": 62,
   "id": "c08712f5",
   "metadata": {},
   "outputs": [],
   "source": [
    "df_results_gender = df_results_nyc.copy()\n",
    "df_nyc_gender = df_nyc_names.groupby([\"Child's First Name\", 'Gender']).agg({'Count':'sum'}).reset_index(drop=False)\n",
    "df_nyc_gender=df_nyc_gender.groupby(\"Child's First Name\")[[\"Count\", 'Gender']].apply(lambda x: x.nlargest(1, columns=['Count'])).reset_index(drop=False)\n",
    "df_results_gender['gender']=df_results_gender['name'].apply(lambda x: df_nyc_gender[df_nyc_gender[\"Child's First Name\"]==x]['Gender'].values[0])"
   ]
  },
  {
   "cell_type": "code",
   "execution_count": 63,
   "id": "3940cf1d",
   "metadata": {},
   "outputs": [],
   "source": [
    "df_results_gender=df_results_gender.groupby('gender').agg({'score_sm':'mean', 'score_md':'mean', 'score_lg':'mean', 'score_trf':'mean'})"
   ]
  },
  {
   "cell_type": "code",
   "execution_count": 64,
   "id": "ed78b114",
   "metadata": {},
   "outputs": [],
   "source": [
    "#We are computing the average score of the models:\n",
    "df_results_gender['avg_score']=df_results_gender[['score_sm', 'score_md', 'score_lg', 'score_trf']].mean(axis=1)"
   ]
  },
  {
   "cell_type": "code",
   "execution_count": 65,
   "id": "af72e9dc",
   "metadata": {},
   "outputs": [
    {
     "data": {
      "text/html": [
       "<style  type=\"text/css\" >\n",
       "#T_335c6aa6_5dd6_11ec_8a4c_7cb27dc53671row0_col0,#T_335c6aa6_5dd6_11ec_8a4c_7cb27dc53671row1_col1,#T_335c6aa6_5dd6_11ec_8a4c_7cb27dc53671row1_col2,#T_335c6aa6_5dd6_11ec_8a4c_7cb27dc53671row1_col3,#T_335c6aa6_5dd6_11ec_8a4c_7cb27dc53671row1_col4{\n",
       "            background-color:  #8e0152;\n",
       "            color:  #f1f1f1;\n",
       "        }#T_335c6aa6_5dd6_11ec_8a4c_7cb27dc53671row0_col1,#T_335c6aa6_5dd6_11ec_8a4c_7cb27dc53671row0_col2,#T_335c6aa6_5dd6_11ec_8a4c_7cb27dc53671row0_col3,#T_335c6aa6_5dd6_11ec_8a4c_7cb27dc53671row0_col4,#T_335c6aa6_5dd6_11ec_8a4c_7cb27dc53671row1_col0{\n",
       "            background-color:  #276419;\n",
       "            color:  #f1f1f1;\n",
       "        }</style><table id=\"T_335c6aa6_5dd6_11ec_8a4c_7cb27dc53671\" ><thead>    <tr>        <th class=\"blank level0\" ></th>        <th class=\"col_heading level0 col0\" >score_sm</th>        <th class=\"col_heading level0 col1\" >score_md</th>        <th class=\"col_heading level0 col2\" >score_lg</th>        <th class=\"col_heading level0 col3\" >score_trf</th>        <th class=\"col_heading level0 col4\" >avg_score</th>    </tr>    <tr>        <th class=\"index_name level0\" >gender</th>        <th class=\"blank\" ></th>        <th class=\"blank\" ></th>        <th class=\"blank\" ></th>        <th class=\"blank\" ></th>        <th class=\"blank\" ></th>    </tr></thead><tbody>\n",
       "                <tr>\n",
       "                        <th id=\"T_335c6aa6_5dd6_11ec_8a4c_7cb27dc53671level0_row0\" class=\"row_heading level0 row0\" >FEMALE</th>\n",
       "                        <td id=\"T_335c6aa6_5dd6_11ec_8a4c_7cb27dc53671row0_col0\" class=\"data row0 col0\" >0.660947</td>\n",
       "                        <td id=\"T_335c6aa6_5dd6_11ec_8a4c_7cb27dc53671row0_col1\" class=\"data row0 col1\" >0.947875</td>\n",
       "                        <td id=\"T_335c6aa6_5dd6_11ec_8a4c_7cb27dc53671row0_col2\" class=\"data row0 col2\" >0.951060</td>\n",
       "                        <td id=\"T_335c6aa6_5dd6_11ec_8a4c_7cb27dc53671row0_col3\" class=\"data row0 col3\" >0.822469</td>\n",
       "                        <td id=\"T_335c6aa6_5dd6_11ec_8a4c_7cb27dc53671row0_col4\" class=\"data row0 col4\" >0.845588</td>\n",
       "            </tr>\n",
       "            <tr>\n",
       "                        <th id=\"T_335c6aa6_5dd6_11ec_8a4c_7cb27dc53671level0_row1\" class=\"row_heading level0 row1\" >MALE</th>\n",
       "                        <td id=\"T_335c6aa6_5dd6_11ec_8a4c_7cb27dc53671row1_col0\" class=\"data row1 col0\" >0.725757</td>\n",
       "                        <td id=\"T_335c6aa6_5dd6_11ec_8a4c_7cb27dc53671row1_col1\" class=\"data row1 col1\" >0.799301</td>\n",
       "                        <td id=\"T_335c6aa6_5dd6_11ec_8a4c_7cb27dc53671row1_col2\" class=\"data row1 col2\" >0.831547</td>\n",
       "                        <td id=\"T_335c6aa6_5dd6_11ec_8a4c_7cb27dc53671row1_col3\" class=\"data row1 col3\" >0.679033</td>\n",
       "                        <td id=\"T_335c6aa6_5dd6_11ec_8a4c_7cb27dc53671row1_col4\" class=\"data row1 col4\" >0.758909</td>\n",
       "            </tr>\n",
       "    </tbody></table>"
      ],
      "text/plain": [
       "<pandas.io.formats.style.Styler at 0x1e1b38dd388>"
      ]
     },
     "execution_count": 65,
     "metadata": {},
     "output_type": "execute_result"
    }
   ],
   "source": [
    "df_results_gender.style.background_gradient(cmap='PiYG')"
   ]
  },
  {
   "cell_type": "markdown",
   "id": "4ac01776",
   "metadata": {},
   "source": [
    "## US states"
   ]
  },
  {
   "cell_type": "markdown",
   "id": "c02318d7",
   "metadata": {},
   "source": [
    "### Importing the dataset and cleaning it "
   ]
  },
  {
   "cell_type": "code",
   "execution_count": 66,
   "id": "8d03b2a8",
   "metadata": {},
   "outputs": [],
   "source": [
    "df_states_names=pd.read_csv('data/us_baby_names/StateNames.csv')"
   ]
  },
  {
   "cell_type": "code",
   "execution_count": 67,
   "id": "1a6cb14a",
   "metadata": {},
   "outputs": [
    {
     "data": {
      "text/html": [
       "<div>\n",
       "<style scoped>\n",
       "    .dataframe tbody tr th:only-of-type {\n",
       "        vertical-align: middle;\n",
       "    }\n",
       "\n",
       "    .dataframe tbody tr th {\n",
       "        vertical-align: top;\n",
       "    }\n",
       "\n",
       "    .dataframe thead th {\n",
       "        text-align: right;\n",
       "    }\n",
       "</style>\n",
       "<table border=\"1\" class=\"dataframe\">\n",
       "  <thead>\n",
       "    <tr style=\"text-align: right;\">\n",
       "      <th></th>\n",
       "      <th>Id</th>\n",
       "      <th>Name</th>\n",
       "      <th>Year</th>\n",
       "      <th>Gender</th>\n",
       "      <th>State</th>\n",
       "      <th>Count</th>\n",
       "    </tr>\n",
       "  </thead>\n",
       "  <tbody>\n",
       "    <tr>\n",
       "      <th>0</th>\n",
       "      <td>1</td>\n",
       "      <td>Mary</td>\n",
       "      <td>1910</td>\n",
       "      <td>F</td>\n",
       "      <td>AK</td>\n",
       "      <td>14</td>\n",
       "    </tr>\n",
       "    <tr>\n",
       "      <th>1</th>\n",
       "      <td>2</td>\n",
       "      <td>Annie</td>\n",
       "      <td>1910</td>\n",
       "      <td>F</td>\n",
       "      <td>AK</td>\n",
       "      <td>12</td>\n",
       "    </tr>\n",
       "    <tr>\n",
       "      <th>2</th>\n",
       "      <td>3</td>\n",
       "      <td>Anna</td>\n",
       "      <td>1910</td>\n",
       "      <td>F</td>\n",
       "      <td>AK</td>\n",
       "      <td>10</td>\n",
       "    </tr>\n",
       "    <tr>\n",
       "      <th>3</th>\n",
       "      <td>4</td>\n",
       "      <td>Margaret</td>\n",
       "      <td>1910</td>\n",
       "      <td>F</td>\n",
       "      <td>AK</td>\n",
       "      <td>8</td>\n",
       "    </tr>\n",
       "    <tr>\n",
       "      <th>4</th>\n",
       "      <td>5</td>\n",
       "      <td>Helen</td>\n",
       "      <td>1910</td>\n",
       "      <td>F</td>\n",
       "      <td>AK</td>\n",
       "      <td>7</td>\n",
       "    </tr>\n",
       "  </tbody>\n",
       "</table>\n",
       "</div>"
      ],
      "text/plain": [
       "   Id      Name  Year Gender State  Count\n",
       "0   1      Mary  1910      F    AK     14\n",
       "1   2     Annie  1910      F    AK     12\n",
       "2   3      Anna  1910      F    AK     10\n",
       "3   4  Margaret  1910      F    AK      8\n",
       "4   5     Helen  1910      F    AK      7"
      ]
     },
     "execution_count": 67,
     "metadata": {},
     "output_type": "execute_result"
    }
   ],
   "source": [
    "df_states_names.head()"
   ]
  },
  {
   "cell_type": "markdown",
   "id": "0c739e48",
   "metadata": {},
   "source": [
    "We groupby to avoid taking the year in consideration:"
   ]
  },
  {
   "cell_type": "code",
   "execution_count": 68,
   "id": "0f67222f",
   "metadata": {},
   "outputs": [],
   "source": [
    "df_states_names=df_states_names.groupby(['Name', 'Gender', 'State']).agg({'Count':'sum'}).reset_index(drop=False)"
   ]
  },
  {
   "cell_type": "code",
   "execution_count": 69,
   "id": "54e08276",
   "metadata": {},
   "outputs": [
    {
     "data": {
      "text/html": [
       "<div>\n",
       "<style scoped>\n",
       "    .dataframe tbody tr th:only-of-type {\n",
       "        vertical-align: middle;\n",
       "    }\n",
       "\n",
       "    .dataframe tbody tr th {\n",
       "        vertical-align: top;\n",
       "    }\n",
       "\n",
       "    .dataframe thead th {\n",
       "        text-align: right;\n",
       "    }\n",
       "</style>\n",
       "<table border=\"1\" class=\"dataframe\">\n",
       "  <thead>\n",
       "    <tr style=\"text-align: right;\">\n",
       "      <th></th>\n",
       "      <th>Name</th>\n",
       "      <th>Gender</th>\n",
       "      <th>State</th>\n",
       "      <th>Count</th>\n",
       "    </tr>\n",
       "  </thead>\n",
       "  <tbody>\n",
       "    <tr>\n",
       "      <th>0</th>\n",
       "      <td>Aaban</td>\n",
       "      <td>M</td>\n",
       "      <td>NY</td>\n",
       "      <td>12</td>\n",
       "    </tr>\n",
       "    <tr>\n",
       "      <th>1</th>\n",
       "      <td>Aadan</td>\n",
       "      <td>M</td>\n",
       "      <td>CA</td>\n",
       "      <td>18</td>\n",
       "    </tr>\n",
       "    <tr>\n",
       "      <th>2</th>\n",
       "      <td>Aadan</td>\n",
       "      <td>M</td>\n",
       "      <td>TX</td>\n",
       "      <td>5</td>\n",
       "    </tr>\n",
       "    <tr>\n",
       "      <th>3</th>\n",
       "      <td>Aadarsh</td>\n",
       "      <td>M</td>\n",
       "      <td>IL</td>\n",
       "      <td>5</td>\n",
       "    </tr>\n",
       "    <tr>\n",
       "      <th>4</th>\n",
       "      <td>Aaden</td>\n",
       "      <td>M</td>\n",
       "      <td>AL</td>\n",
       "      <td>78</td>\n",
       "    </tr>\n",
       "  </tbody>\n",
       "</table>\n",
       "</div>"
      ],
      "text/plain": [
       "      Name Gender State  Count\n",
       "0    Aaban      M    NY     12\n",
       "1    Aadan      M    CA     18\n",
       "2    Aadan      M    TX      5\n",
       "3  Aadarsh      M    IL      5\n",
       "4    Aaden      M    AL     78"
      ]
     },
     "execution_count": 69,
     "metadata": {},
     "output_type": "execute_result"
    }
   ],
   "source": [
    "df_states_names.head()"
   ]
  },
  {
   "cell_type": "markdown",
   "id": "81bfeec6",
   "metadata": {},
   "source": [
    "Then we are doing the exact same things as before:\n",
    "\n",
    "**But we take n=20**"
   ]
  },
  {
   "cell_type": "code",
   "execution_count": 70,
   "id": "342c8a8e",
   "metadata": {},
   "outputs": [
    {
     "name": "stdout",
     "output_type": "stream",
     "text": [
      "total number of names considered: 117\n"
     ]
    }
   ],
   "source": [
    "arr_states_names = df_states_names.groupby(['State','Gender'])[['Count', 'Name']].apply(lambda x: x.nlargest(20, columns=['Count']))['Name'].unique()\n",
    "print('total number of names considered:', arr_states_names.shape[0])\n",
    "#Also computing the total list of states\n",
    "liste_states = df_states_names['State'].unique()"
   ]
  },
  {
   "cell_type": "markdown",
   "id": "b895646c",
   "metadata": {},
   "source": [
    "### Results"
   ]
  },
  {
   "cell_type": "code",
   "execution_count": 36,
   "id": "9a3c33b0",
   "metadata": {
    "scrolled": true
   },
   "outputs": [
    {
     "name": "stdout",
     "output_type": "stream",
     "text": [
      "Testing the model: sm\n"
     ]
    },
    {
     "name": "stderr",
     "output_type": "stream",
     "text": [
      "100%|█████████████████████████████████████████████████████████████████████████| 100000/100000 [10:53<00:00, 153.01it/s]\n"
     ]
    },
    {
     "name": "stdout",
     "output_type": "stream",
     "text": [
      "Testing the model: md\n"
     ]
    },
    {
     "name": "stderr",
     "output_type": "stream",
     "text": [
      "100%|█████████████████████████████████████████████████████████████████████████| 100000/100000 [16:04<00:00, 103.63it/s]\n"
     ]
    },
    {
     "name": "stdout",
     "output_type": "stream",
     "text": [
      "Testing the model: lg\n"
     ]
    },
    {
     "name": "stderr",
     "output_type": "stream",
     "text": [
      "100%|██████████████████████████████████████████████████████████████████████████| 100000/100000 [19:52<00:00, 83.87it/s]\n"
     ]
    },
    {
     "name": "stdout",
     "output_type": "stream",
     "text": [
      "Testing the model: trf\n"
     ]
    },
    {
     "name": "stderr",
     "output_type": "stream",
     "text": [
      "100%|████████████████████████████████████████████████████████████████████████| 100000/100000 [1:58:44<00:00, 14.04it/s]\n"
     ]
    }
   ],
   "source": [
    "df_results_states = main_ner_first_names(100000, arr_states_names)"
   ]
  },
  {
   "cell_type": "markdown",
   "id": "b70fc6b8",
   "metadata": {},
   "source": [
    "Saving the results:"
   ]
  },
  {
   "cell_type": "code",
   "execution_count": 71,
   "id": "3c389ae7",
   "metadata": {},
   "outputs": [],
   "source": [
    "#df_results_states.to_csv('data/results/first_names/df_results_states_100000.csv', index=False)\n",
    "#Accessing the results:\n",
    "df_results_states = pd.read_csv('data/results/first_names/df_results_states_100000.csv')"
   ]
  },
  {
   "cell_type": "code",
   "execution_count": 72,
   "id": "c7dbe9c5",
   "metadata": {},
   "outputs": [],
   "source": [
    "#Getting the array of the names really used inside the algorithm:\n",
    "new_states_names=df_results_states['name'].unique()"
   ]
  },
  {
   "cell_type": "code",
   "execution_count": 73,
   "id": "617c0853",
   "metadata": {},
   "outputs": [],
   "source": [
    "def compute_score_state(state):\n",
    "    n_people = 0\n",
    "    dict_sum_scores = {'sm': 0, 'md':0, 'lg':0, 'trf':0}\n",
    "    for name in new_states_names:\n",
    "        try:\n",
    "            df_temp_state = df_states_names[df_states_names['State']==state]\n",
    "            n=df_temp_state[df_temp_state['Name']==name]['Count'].values[0]\n",
    "            n_people+=n\n",
    "            for model in ['sm', 'md', 'lg', 'trf']:\n",
    "                dict_sum_scores[model] += df_results_states[df_results_states['name']==name]['score_'+model].values[0]*n\n",
    "        except:\n",
    "            n_people+=0\n",
    "    return {k:v/n_people for k,v in dict_sum_scores.items()}"
   ]
  },
  {
   "cell_type": "code",
   "execution_count": 74,
   "id": "37ba1466",
   "metadata": {},
   "outputs": [
    {
     "name": "stderr",
     "output_type": "stream",
     "text": [
      "100%|██████████████████████████████████████████████████████████████████████████████████| 51/51 [02:21<00:00,  2.77s/it]\n"
     ]
    }
   ],
   "source": [
    "#Averaging the score on the years:\n",
    "    #Defining the dataframe:\n",
    "df_states_final_results = pd.DataFrame(data = {'state':liste_states})\n",
    "    #Getting the scores:\n",
    "tqdm.pandas()\n",
    "df_states_final_results['d']= df_states_final_results['state'].progress_apply(compute_score_state)\n",
    "    \n",
    "for model in ['sm', 'md', 'lg', 'trf']:\n",
    "    df_states_final_results['score_'+model] = df_states_final_results['d'].apply(pd.Series)[model]\n",
    "del df_states_final_results['d']"
   ]
  },
  {
   "cell_type": "code",
   "execution_count": 75,
   "id": "f43038cc",
   "metadata": {},
   "outputs": [],
   "source": [
    "#We are computing the average score of the models:\n",
    "df_states_final_results['avg_score']=df_states_final_results[['score_sm', 'score_md', 'score_lg', 'score_trf']].mean(axis=1)"
   ]
  },
  {
   "cell_type": "code",
   "execution_count": 76,
   "id": "7d9b6256",
   "metadata": {},
   "outputs": [
    {
     "data": {
      "text/html": [
       "<div>\n",
       "<style scoped>\n",
       "    .dataframe tbody tr th:only-of-type {\n",
       "        vertical-align: middle;\n",
       "    }\n",
       "\n",
       "    .dataframe tbody tr th {\n",
       "        vertical-align: top;\n",
       "    }\n",
       "\n",
       "    .dataframe thead th {\n",
       "        text-align: right;\n",
       "    }\n",
       "</style>\n",
       "<table border=\"1\" class=\"dataframe\">\n",
       "  <thead>\n",
       "    <tr style=\"text-align: right;\">\n",
       "      <th></th>\n",
       "      <th>state</th>\n",
       "      <th>score_sm</th>\n",
       "      <th>score_md</th>\n",
       "      <th>score_lg</th>\n",
       "      <th>score_trf</th>\n",
       "      <th>avg_score</th>\n",
       "    </tr>\n",
       "  </thead>\n",
       "  <tbody>\n",
       "    <tr>\n",
       "      <th>0</th>\n",
       "      <td>NY</td>\n",
       "      <td>0.867732</td>\n",
       "      <td>0.945313</td>\n",
       "      <td>0.984188</td>\n",
       "      <td>0.934374</td>\n",
       "      <td>0.932902</td>\n",
       "    </tr>\n",
       "    <tr>\n",
       "      <th>1</th>\n",
       "      <td>CA</td>\n",
       "      <td>0.862219</td>\n",
       "      <td>0.949851</td>\n",
       "      <td>0.977455</td>\n",
       "      <td>0.944359</td>\n",
       "      <td>0.933471</td>\n",
       "    </tr>\n",
       "    <tr>\n",
       "      <th>2</th>\n",
       "      <td>TX</td>\n",
       "      <td>0.843756</td>\n",
       "      <td>0.939170</td>\n",
       "      <td>0.973460</td>\n",
       "      <td>0.931402</td>\n",
       "      <td>0.921947</td>\n",
       "    </tr>\n",
       "    <tr>\n",
       "      <th>3</th>\n",
       "      <td>IL</td>\n",
       "      <td>0.851554</td>\n",
       "      <td>0.932735</td>\n",
       "      <td>0.972451</td>\n",
       "      <td>0.933204</td>\n",
       "      <td>0.922486</td>\n",
       "    </tr>\n",
       "    <tr>\n",
       "      <th>4</th>\n",
       "      <td>AL</td>\n",
       "      <td>0.818952</td>\n",
       "      <td>0.905997</td>\n",
       "      <td>0.946389</td>\n",
       "      <td>0.908916</td>\n",
       "      <td>0.895063</td>\n",
       "    </tr>\n",
       "  </tbody>\n",
       "</table>\n",
       "</div>"
      ],
      "text/plain": [
       "  state  score_sm  score_md  score_lg  score_trf  avg_score\n",
       "0    NY  0.867732  0.945313  0.984188   0.934374   0.932902\n",
       "1    CA  0.862219  0.949851  0.977455   0.944359   0.933471\n",
       "2    TX  0.843756  0.939170  0.973460   0.931402   0.921947\n",
       "3    IL  0.851554  0.932735  0.972451   0.933204   0.922486\n",
       "4    AL  0.818952  0.905997  0.946389   0.908916   0.895063"
      ]
     },
     "execution_count": 76,
     "metadata": {},
     "output_type": "execute_result"
    }
   ],
   "source": [
    "df_states_final_results.head()"
   ]
  },
  {
   "cell_type": "markdown",
   "id": "9ed0ee9f",
   "metadata": {},
   "source": [
    "### Viz"
   ]
  },
  {
   "cell_type": "markdown",
   "id": "30135074",
   "metadata": {},
   "source": [
    "To visualise the results, we need to find the geographical limits of each state. \n",
    "\n",
    "We found it in the state 21_basic dataset (Source) "
   ]
  },
  {
   "cell_type": "markdown",
   "id": "64f1cbae",
   "metadata": {},
   "source": [
    "[Source](https://alicia.data.socrata.com/Government/States-21basic/jhnu-yfrj) of the state 21_basic dataset"
   ]
  },
  {
   "cell_type": "code",
   "execution_count": 77,
   "id": "254fc8b6",
   "metadata": {},
   "outputs": [],
   "source": [
    "gdf_states = gpd.read_file('Data/States 21basic.geojson')"
   ]
  },
  {
   "cell_type": "code",
   "execution_count": 78,
   "id": "ee3e8896",
   "metadata": {},
   "outputs": [],
   "source": [
    "del gdf_states['state_fips']\n",
    "del gdf_states['drawseq']\n",
    "del gdf_states['sub_region']"
   ]
  },
  {
   "cell_type": "code",
   "execution_count": 79,
   "id": "88e2c1ef",
   "metadata": {},
   "outputs": [
    {
     "data": {
      "text/html": [
       "<div>\n",
       "<style scoped>\n",
       "    .dataframe tbody tr th:only-of-type {\n",
       "        vertical-align: middle;\n",
       "    }\n",
       "\n",
       "    .dataframe tbody tr th {\n",
       "        vertical-align: top;\n",
       "    }\n",
       "\n",
       "    .dataframe thead th {\n",
       "        text-align: right;\n",
       "    }\n",
       "</style>\n",
       "<table border=\"1\" class=\"dataframe\">\n",
       "  <thead>\n",
       "    <tr style=\"text-align: right;\">\n",
       "      <th></th>\n",
       "      <th>state_abbr</th>\n",
       "      <th>state_name</th>\n",
       "      <th>geometry</th>\n",
       "    </tr>\n",
       "  </thead>\n",
       "  <tbody>\n",
       "    <tr>\n",
       "      <th>0</th>\n",
       "      <td>HI</td>\n",
       "      <td>Hawaii</td>\n",
       "      <td>MULTIPOLYGON (((-160.07380 22.00418, -160.0497...</td>\n",
       "    </tr>\n",
       "    <tr>\n",
       "      <th>1</th>\n",
       "      <td>WA</td>\n",
       "      <td>Washington</td>\n",
       "      <td>MULTIPOLYGON (((-122.40202 48.22522, -122.4628...</td>\n",
       "    </tr>\n",
       "    <tr>\n",
       "      <th>2</th>\n",
       "      <td>MT</td>\n",
       "      <td>Montana</td>\n",
       "      <td>MULTIPOLYGON (((-111.47543 44.70216, -111.4808...</td>\n",
       "    </tr>\n",
       "    <tr>\n",
       "      <th>3</th>\n",
       "      <td>ME</td>\n",
       "      <td>Maine</td>\n",
       "      <td>MULTIPOLYGON (((-69.77728 44.07415, -69.85993 ...</td>\n",
       "    </tr>\n",
       "    <tr>\n",
       "      <th>4</th>\n",
       "      <td>ND</td>\n",
       "      <td>North Dakota</td>\n",
       "      <td>MULTIPOLYGON (((-98.73044 45.93827, -99.00683 ...</td>\n",
       "    </tr>\n",
       "  </tbody>\n",
       "</table>\n",
       "</div>"
      ],
      "text/plain": [
       "  state_abbr    state_name                                           geometry\n",
       "0         HI        Hawaii  MULTIPOLYGON (((-160.07380 22.00418, -160.0497...\n",
       "1         WA    Washington  MULTIPOLYGON (((-122.40202 48.22522, -122.4628...\n",
       "2         MT       Montana  MULTIPOLYGON (((-111.47543 44.70216, -111.4808...\n",
       "3         ME         Maine  MULTIPOLYGON (((-69.77728 44.07415, -69.85993 ...\n",
       "4         ND  North Dakota  MULTIPOLYGON (((-98.73044 45.93827, -99.00683 ..."
      ]
     },
     "execution_count": 79,
     "metadata": {},
     "output_type": "execute_result"
    }
   ],
   "source": [
    "gdf_states.head()"
   ]
  },
  {
   "cell_type": "code",
   "execution_count": 80,
   "id": "45b62826",
   "metadata": {},
   "outputs": [],
   "source": [
    "gdf_states = gdf_states.merge(df_states_final_results, left_on='state_abbr', right_on='state',how='right')"
   ]
  },
  {
   "cell_type": "markdown",
   "id": "00cffa96",
   "metadata": {},
   "source": [
    "Then, we can plot the results of each model:"
   ]
  },
  {
   "cell_type": "code",
   "execution_count": 81,
   "id": "8df3300c",
   "metadata": {},
   "outputs": [
    {
     "data": {
      "image/png": "[encoded data removed]",
      "text/plain": [
       "<Figure size 1440x720 with 8 Axes>"
      ]
     },
     "metadata": {},
     "output_type": "display_data"
    }
   ],
   "source": [
    "fig, axs = plt.subplots(2,2, figsize=(20, 10), facecolor='w', edgecolor='k')\n",
    "fig.subplots_adjust(hspace = .2, wspace=0.001)\n",
    "\n",
    "axs = axs.ravel()\n",
    "\n",
    "for i in range(4):\n",
    "    model = ['sm','md','lg','trf'][i]\n",
    "    \n",
    "    #Defining the figure:\n",
    "    axs[i].set_title('Score based on US states: ' + model)\n",
    "    gdf_states.plot(column='score_'+model, legend=True, ax = axs[i])\n",
    "       \n",
    "plt.savefig('images/results/score_each_models_first_names_us_state.png', bbox_inches='tight')\n",
    "plt.show()"
   ]
  },
  {
   "cell_type": "markdown",
   "id": "8e46a2d1",
   "metadata": {},
   "source": [
    "And on average:"
   ]
  },
  {
   "cell_type": "code",
   "execution_count": 82,
   "id": "3896aeec",
   "metadata": {},
   "outputs": [
    {
     "data": {
      "image/png": "[encoded data removed]",
      "text/plain": [
       "<Figure size 1080x576 with 2 Axes>"
      ]
     },
     "metadata": {
      "needs_background": "light"
     },
     "output_type": "display_data"
    }
   ],
   "source": [
    "gdf_states.plot(column='avg_score', legend=True, figsize=(15,8))\n",
    "plt.title('Average score of the models depending on the US states')\n",
    "plt.savefig('images/results/avg_scoremap_us_states.png', bbox_inches='tight')\n",
    "plt.show()"
   ]
  },
  {
   "cell_type": "markdown",
   "id": "a38a5143",
   "metadata": {},
   "source": [
    "List of the best results:"
   ]
  },
  {
   "cell_type": "code",
   "execution_count": 83,
   "id": "26b7c935",
   "metadata": {},
   "outputs": [
    {
     "name": "stdout",
     "output_type": "stream",
     "text": [
      "score_sm\n",
      "--------\n",
      "    state_name  score_sm\n",
      "0     New York  0.867732\n",
      "1   California  0.862219\n",
      "2  Connecticut  0.860133\n",
      "3     Michigan  0.855829\n",
      "4   New Jersey  0.855307\n",
      "-----\n",
      "score_md\n",
      "--------\n",
      "     state_name  score_md\n",
      "0    California  0.949851\n",
      "1      New York  0.945313\n",
      "2         Texas  0.939170\n",
      "3  Pennsylvania  0.938889\n",
      "4      Michigan  0.937615\n",
      "-----\n",
      "score_lg\n",
      "--------\n",
      "     state_name  score_lg\n",
      "0  Pennsylvania  0.984500\n",
      "1      New York  0.984188\n",
      "2    California  0.977455\n",
      "3      Kentucky  0.976437\n",
      "4      Michigan  0.974614\n",
      "-----\n",
      "score_trf\n",
      "--------\n",
      "   state_name  score_trf\n",
      "0  California   0.944359\n",
      "1    Michigan   0.936551\n",
      "2    New York   0.934374\n",
      "3    Illinois   0.933204\n",
      "4       Texas   0.931402\n",
      "-----\n",
      "avg_score\n",
      "--------\n",
      "     state_name  avg_score\n",
      "0    California   0.933471\n",
      "1      New York   0.932902\n",
      "2  Pennsylvania   0.926166\n",
      "3      Michigan   0.926152\n",
      "4      Illinois   0.922486\n",
      "-----\n"
     ]
    }
   ],
   "source": [
    "for i in ['score_sm', 'score_md', 'score_lg','score_trf', 'avg_score']:\n",
    "    print(i)\n",
    "    print('--------')\n",
    "    print(gdf_states.sort_values(i, ascending=False)[['state_name', i]].head(5).reset_index(drop=True))\n",
    "    print('-----')"
   ]
  },
  {
   "cell_type": "markdown",
   "id": "372b5c5d",
   "metadata": {},
   "source": [
    "On average:"
   ]
  },
  {
   "cell_type": "code",
   "execution_count": 84,
   "id": "6e78c58e",
   "metadata": {},
   "outputs": [
    {
     "data": {
      "text/html": [
       "<div>\n",
       "<style scoped>\n",
       "    .dataframe tbody tr th:only-of-type {\n",
       "        vertical-align: middle;\n",
       "    }\n",
       "\n",
       "    .dataframe tbody tr th {\n",
       "        vertical-align: top;\n",
       "    }\n",
       "\n",
       "    .dataframe thead th {\n",
       "        text-align: right;\n",
       "    }\n",
       "</style>\n",
       "<table border=\"1\" class=\"dataframe\">\n",
       "  <thead>\n",
       "    <tr style=\"text-align: right;\">\n",
       "      <th></th>\n",
       "      <th>state_name</th>\n",
       "      <th>avg_score</th>\n",
       "    </tr>\n",
       "  </thead>\n",
       "  <tbody>\n",
       "    <tr>\n",
       "      <th>0</th>\n",
       "      <td>California</td>\n",
       "      <td>0.933471</td>\n",
       "    </tr>\n",
       "    <tr>\n",
       "      <th>1</th>\n",
       "      <td>New York</td>\n",
       "      <td>0.932902</td>\n",
       "    </tr>\n",
       "    <tr>\n",
       "      <th>2</th>\n",
       "      <td>Pennsylvania</td>\n",
       "      <td>0.926166</td>\n",
       "    </tr>\n",
       "    <tr>\n",
       "      <th>3</th>\n",
       "      <td>Michigan</td>\n",
       "      <td>0.926152</td>\n",
       "    </tr>\n",
       "    <tr>\n",
       "      <th>4</th>\n",
       "      <td>Illinois</td>\n",
       "      <td>0.922486</td>\n",
       "    </tr>\n",
       "    <tr>\n",
       "      <th>5</th>\n",
       "      <td>Texas</td>\n",
       "      <td>0.921947</td>\n",
       "    </tr>\n",
       "    <tr>\n",
       "      <th>6</th>\n",
       "      <td>Kentucky</td>\n",
       "      <td>0.921155</td>\n",
       "    </tr>\n",
       "    <tr>\n",
       "      <th>7</th>\n",
       "      <td>Ohio</td>\n",
       "      <td>0.918291</td>\n",
       "    </tr>\n",
       "    <tr>\n",
       "      <th>8</th>\n",
       "      <td>New Jersey</td>\n",
       "      <td>0.918130</td>\n",
       "    </tr>\n",
       "    <tr>\n",
       "      <th>9</th>\n",
       "      <td>Massachusetts</td>\n",
       "      <td>0.917877</td>\n",
       "    </tr>\n",
       "    <tr>\n",
       "      <th>10</th>\n",
       "      <td>Missouri</td>\n",
       "      <td>0.916342</td>\n",
       "    </tr>\n",
       "    <tr>\n",
       "      <th>11</th>\n",
       "      <td>Virginia</td>\n",
       "      <td>0.915173</td>\n",
       "    </tr>\n",
       "    <tr>\n",
       "      <th>12</th>\n",
       "      <td>Indiana</td>\n",
       "      <td>0.915153</td>\n",
       "    </tr>\n",
       "    <tr>\n",
       "      <th>13</th>\n",
       "      <td>Georgia</td>\n",
       "      <td>0.915073</td>\n",
       "    </tr>\n",
       "    <tr>\n",
       "      <th>14</th>\n",
       "      <td>Wisconsin</td>\n",
       "      <td>0.914249</td>\n",
       "    </tr>\n",
       "  </tbody>\n",
       "</table>\n",
       "</div>"
      ],
      "text/plain": [
       "       state_name  avg_score\n",
       "0      California   0.933471\n",
       "1        New York   0.932902\n",
       "2    Pennsylvania   0.926166\n",
       "3        Michigan   0.926152\n",
       "4        Illinois   0.922486\n",
       "5           Texas   0.921947\n",
       "6        Kentucky   0.921155\n",
       "7            Ohio   0.918291\n",
       "8      New Jersey   0.918130\n",
       "9   Massachusetts   0.917877\n",
       "10       Missouri   0.916342\n",
       "11       Virginia   0.915173\n",
       "12        Indiana   0.915153\n",
       "13        Georgia   0.915073\n",
       "14      Wisconsin   0.914249"
      ]
     },
     "execution_count": 84,
     "metadata": {},
     "output_type": "execute_result"
    }
   ],
   "source": [
    "gdf_states.sort_values('avg_score', ascending=False)[['state_name', 'avg_score']].head(15).reset_index(drop=True)"
   ]
  },
  {
   "cell_type": "markdown",
   "id": "1eafbd8b",
   "metadata": {},
   "source": [
    "#### comparing to median household income by state:\n",
    "\n",
    "[Source of the dataset](https://www.census.gov/data/tables/time-series/demo/income-poverty/historical-income-households.html)"
   ]
  },
  {
   "cell_type": "code",
   "execution_count": 85,
   "id": "71790be8",
   "metadata": {},
   "outputs": [],
   "source": [
    "df_income = pd.read_excel('Data/median_income_us.xls', sheet_name='h08', header = 8, nrows=52)"
   ]
  },
  {
   "cell_type": "code",
   "execution_count": 86,
   "id": "e71516fb",
   "metadata": {},
   "outputs": [],
   "source": [
    "df_income = df_income[['State', '2020_Median income']]"
   ]
  },
  {
   "cell_type": "code",
   "execution_count": 87,
   "id": "3d7afe70",
   "metadata": {},
   "outputs": [
    {
     "data": {
      "text/html": [
       "<div>\n",
       "<style scoped>\n",
       "    .dataframe tbody tr th:only-of-type {\n",
       "        vertical-align: middle;\n",
       "    }\n",
       "\n",
       "    .dataframe tbody tr th {\n",
       "        vertical-align: top;\n",
       "    }\n",
       "\n",
       "    .dataframe thead th {\n",
       "        text-align: right;\n",
       "    }\n",
       "</style>\n",
       "<table border=\"1\" class=\"dataframe\">\n",
       "  <thead>\n",
       "    <tr style=\"text-align: right;\">\n",
       "      <th></th>\n",
       "      <th>State</th>\n",
       "      <th>2020_Median income</th>\n",
       "    </tr>\n",
       "  </thead>\n",
       "  <tbody>\n",
       "    <tr>\n",
       "      <th>47</th>\n",
       "      <td>Virginia</td>\n",
       "      <td>81947</td>\n",
       "    </tr>\n",
       "    <tr>\n",
       "      <th>48</th>\n",
       "      <td>Washington</td>\n",
       "      <td>81083</td>\n",
       "    </tr>\n",
       "    <tr>\n",
       "      <th>49</th>\n",
       "      <td>West Virginia</td>\n",
       "      <td>51615</td>\n",
       "    </tr>\n",
       "    <tr>\n",
       "      <th>50</th>\n",
       "      <td>Wisconsin</td>\n",
       "      <td>67094</td>\n",
       "    </tr>\n",
       "    <tr>\n",
       "      <th>51</th>\n",
       "      <td>Wyoming</td>\n",
       "      <td>65108</td>\n",
       "    </tr>\n",
       "  </tbody>\n",
       "</table>\n",
       "</div>"
      ],
      "text/plain": [
       "            State  2020_Median income\n",
       "47       Virginia               81947\n",
       "48     Washington               81083\n",
       "49  West Virginia               51615\n",
       "50      Wisconsin               67094\n",
       "51        Wyoming               65108"
      ]
     },
     "execution_count": 87,
     "metadata": {},
     "output_type": "execute_result"
    }
   ],
   "source": [
    "df_income.tail()"
   ]
  },
  {
   "cell_type": "code",
   "execution_count": 88,
   "id": "575e5b31",
   "metadata": {},
   "outputs": [],
   "source": [
    "gdf_states_income = gpd.read_file('Data/States 21basic.geojson')"
   ]
  },
  {
   "cell_type": "code",
   "execution_count": 89,
   "id": "5ad5b0e4",
   "metadata": {},
   "outputs": [],
   "source": [
    "del gdf_states_income['state_fips']\n",
    "del gdf_states_income['drawseq']\n",
    "del gdf_states_income['sub_region']"
   ]
  },
  {
   "cell_type": "code",
   "execution_count": 90,
   "id": "8934d4de",
   "metadata": {},
   "outputs": [
    {
     "data": {
      "text/html": [
       "<div>\n",
       "<style scoped>\n",
       "    .dataframe tbody tr th:only-of-type {\n",
       "        vertical-align: middle;\n",
       "    }\n",
       "\n",
       "    .dataframe tbody tr th {\n",
       "        vertical-align: top;\n",
       "    }\n",
       "\n",
       "    .dataframe thead th {\n",
       "        text-align: right;\n",
       "    }\n",
       "</style>\n",
       "<table border=\"1\" class=\"dataframe\">\n",
       "  <thead>\n",
       "    <tr style=\"text-align: right;\">\n",
       "      <th></th>\n",
       "      <th>state_abbr</th>\n",
       "      <th>state_name</th>\n",
       "      <th>geometry</th>\n",
       "    </tr>\n",
       "  </thead>\n",
       "  <tbody>\n",
       "    <tr>\n",
       "      <th>0</th>\n",
       "      <td>HI</td>\n",
       "      <td>Hawaii</td>\n",
       "      <td>MULTIPOLYGON (((-160.07380 22.00418, -160.0497...</td>\n",
       "    </tr>\n",
       "    <tr>\n",
       "      <th>1</th>\n",
       "      <td>WA</td>\n",
       "      <td>Washington</td>\n",
       "      <td>MULTIPOLYGON (((-122.40202 48.22522, -122.4628...</td>\n",
       "    </tr>\n",
       "    <tr>\n",
       "      <th>2</th>\n",
       "      <td>MT</td>\n",
       "      <td>Montana</td>\n",
       "      <td>MULTIPOLYGON (((-111.47543 44.70216, -111.4808...</td>\n",
       "    </tr>\n",
       "    <tr>\n",
       "      <th>3</th>\n",
       "      <td>ME</td>\n",
       "      <td>Maine</td>\n",
       "      <td>MULTIPOLYGON (((-69.77728 44.07415, -69.85993 ...</td>\n",
       "    </tr>\n",
       "    <tr>\n",
       "      <th>4</th>\n",
       "      <td>ND</td>\n",
       "      <td>North Dakota</td>\n",
       "      <td>MULTIPOLYGON (((-98.73044 45.93827, -99.00683 ...</td>\n",
       "    </tr>\n",
       "  </tbody>\n",
       "</table>\n",
       "</div>"
      ],
      "text/plain": [
       "  state_abbr    state_name                                           geometry\n",
       "0         HI        Hawaii  MULTIPOLYGON (((-160.07380 22.00418, -160.0497...\n",
       "1         WA    Washington  MULTIPOLYGON (((-122.40202 48.22522, -122.4628...\n",
       "2         MT       Montana  MULTIPOLYGON (((-111.47543 44.70216, -111.4808...\n",
       "3         ME         Maine  MULTIPOLYGON (((-69.77728 44.07415, -69.85993 ...\n",
       "4         ND  North Dakota  MULTIPOLYGON (((-98.73044 45.93827, -99.00683 ..."
      ]
     },
     "execution_count": 90,
     "metadata": {},
     "output_type": "execute_result"
    }
   ],
   "source": [
    "gdf_states_income.head()"
   ]
  },
  {
   "cell_type": "code",
   "execution_count": 91,
   "id": "326b82ac",
   "metadata": {},
   "outputs": [],
   "source": [
    "gdf_states_income = gdf_states_income.merge(df_income, right_on='State', left_on='state_name', how='right')"
   ]
  },
  {
   "cell_type": "code",
   "execution_count": 92,
   "id": "b7bf9f94",
   "metadata": {},
   "outputs": [
    {
     "data": {
      "text/plain": [
       "state_abbr            1\n",
       "state_name            1\n",
       "geometry              1\n",
       "State                 0\n",
       "2020_Median income    0\n",
       "dtype: int64"
      ]
     },
     "execution_count": 92,
     "metadata": {},
     "output_type": "execute_result"
    }
   ],
   "source": [
    "gdf_states_income.isna().sum()"
   ]
  },
  {
   "cell_type": "code",
   "execution_count": 93,
   "id": "90e0b859",
   "metadata": {},
   "outputs": [],
   "source": [
    "gdf_states_income.dropna(inplace=True)"
   ]
  },
  {
   "cell_type": "code",
   "execution_count": 94,
   "id": "e40bd65b",
   "metadata": {},
   "outputs": [
    {
     "data": {
      "image/png": "[encoded data removed]",
      "text/plain": [
       "<Figure size 1080x720 with 2 Axes>"
      ]
     },
     "metadata": {
      "needs_background": "light"
     },
     "output_type": "display_data"
    }
   ],
   "source": [
    "gdf_states_income.plot(column='2020_Median income', legend=True, figsize=(15,10),\n",
    "                legend_kwds={'label': \"Median Income in 2020\",\n",
    "                        'orientation': \"horizontal\"})\n",
    "plt.show()"
   ]
  },
  {
   "cell_type": "markdown",
   "id": "bba19d46",
   "metadata": {},
   "source": [
    "#### Correlation"
   ]
  },
  {
   "cell_type": "code",
   "execution_count": 95,
   "id": "29f78afe",
   "metadata": {},
   "outputs": [
    {
     "data": {
      "text/html": [
       "<div>\n",
       "<style scoped>\n",
       "    .dataframe tbody tr th:only-of-type {\n",
       "        vertical-align: middle;\n",
       "    }\n",
       "\n",
       "    .dataframe tbody tr th {\n",
       "        vertical-align: top;\n",
       "    }\n",
       "\n",
       "    .dataframe thead th {\n",
       "        text-align: right;\n",
       "    }\n",
       "</style>\n",
       "<table border=\"1\" class=\"dataframe\">\n",
       "  <thead>\n",
       "    <tr style=\"text-align: right;\">\n",
       "      <th></th>\n",
       "      <th>state_abbr</th>\n",
       "      <th>state_name</th>\n",
       "      <th>geometry</th>\n",
       "      <th>State</th>\n",
       "      <th>2020_Median income</th>\n",
       "    </tr>\n",
       "  </thead>\n",
       "  <tbody>\n",
       "    <tr>\n",
       "      <th>1</th>\n",
       "      <td>AL</td>\n",
       "      <td>Alabama</td>\n",
       "      <td>MULTIPOLYGON (((-85.07007 31.98070, -85.11515 ...</td>\n",
       "      <td>Alabama</td>\n",
       "      <td>54393</td>\n",
       "    </tr>\n",
       "    <tr>\n",
       "      <th>2</th>\n",
       "      <td>AK</td>\n",
       "      <td>Alaska</td>\n",
       "      <td>MULTIPOLYGON (((-161.33379 58.73325, -161.3824...</td>\n",
       "      <td>Alaska</td>\n",
       "      <td>74476</td>\n",
       "    </tr>\n",
       "    <tr>\n",
       "      <th>3</th>\n",
       "      <td>AZ</td>\n",
       "      <td>Arizona</td>\n",
       "      <td>MULTIPOLYGON (((-114.52063 33.02771, -114.5590...</td>\n",
       "      <td>Arizona</td>\n",
       "      <td>66628</td>\n",
       "    </tr>\n",
       "    <tr>\n",
       "      <th>4</th>\n",
       "      <td>AR</td>\n",
       "      <td>Arkansas</td>\n",
       "      <td>MULTIPOLYGON (((-94.46169 34.19677, -94.45262 ...</td>\n",
       "      <td>Arkansas</td>\n",
       "      <td>50540</td>\n",
       "    </tr>\n",
       "    <tr>\n",
       "      <th>5</th>\n",
       "      <td>CA</td>\n",
       "      <td>California</td>\n",
       "      <td>MULTIPOLYGON (((-121.66522 38.16929, -121.7823...</td>\n",
       "      <td>California</td>\n",
       "      <td>77358</td>\n",
       "    </tr>\n",
       "  </tbody>\n",
       "</table>\n",
       "</div>"
      ],
      "text/plain": [
       "  state_abbr  state_name                                           geometry  \\\n",
       "1         AL     Alabama  MULTIPOLYGON (((-85.07007 31.98070, -85.11515 ...   \n",
       "2         AK      Alaska  MULTIPOLYGON (((-161.33379 58.73325, -161.3824...   \n",
       "3         AZ     Arizona  MULTIPOLYGON (((-114.52063 33.02771, -114.5590...   \n",
       "4         AR    Arkansas  MULTIPOLYGON (((-94.46169 34.19677, -94.45262 ...   \n",
       "5         CA  California  MULTIPOLYGON (((-121.66522 38.16929, -121.7823...   \n",
       "\n",
       "        State  2020_Median income  \n",
       "1     Alabama               54393  \n",
       "2      Alaska               74476  \n",
       "3     Arizona               66628  \n",
       "4    Arkansas               50540  \n",
       "5  California               77358  "
      ]
     },
     "execution_count": 95,
     "metadata": {},
     "output_type": "execute_result"
    }
   ],
   "source": [
    "gdf_states_income.head()"
   ]
  },
  {
   "cell_type": "code",
   "execution_count": 96,
   "id": "7fe897dc",
   "metadata": {},
   "outputs": [
    {
     "data": {
      "text/html": [
       "<div>\n",
       "<style scoped>\n",
       "    .dataframe tbody tr th:only-of-type {\n",
       "        vertical-align: middle;\n",
       "    }\n",
       "\n",
       "    .dataframe tbody tr th {\n",
       "        vertical-align: top;\n",
       "    }\n",
       "\n",
       "    .dataframe thead th {\n",
       "        text-align: right;\n",
       "    }\n",
       "</style>\n",
       "<table border=\"1\" class=\"dataframe\">\n",
       "  <thead>\n",
       "    <tr style=\"text-align: right;\">\n",
       "      <th></th>\n",
       "      <th>state_abbr</th>\n",
       "      <th>state_name</th>\n",
       "      <th>geometry</th>\n",
       "      <th>state</th>\n",
       "      <th>score_sm</th>\n",
       "      <th>score_md</th>\n",
       "      <th>score_lg</th>\n",
       "      <th>score_trf</th>\n",
       "      <th>avg_score</th>\n",
       "    </tr>\n",
       "  </thead>\n",
       "  <tbody>\n",
       "    <tr>\n",
       "      <th>0</th>\n",
       "      <td>NY</td>\n",
       "      <td>New York</td>\n",
       "      <td>MULTIPOLYGON (((-79.76324 42.26733, -79.44402 ...</td>\n",
       "      <td>NY</td>\n",
       "      <td>0.867732</td>\n",
       "      <td>0.945313</td>\n",
       "      <td>0.984188</td>\n",
       "      <td>0.934374</td>\n",
       "      <td>0.932902</td>\n",
       "    </tr>\n",
       "    <tr>\n",
       "      <th>1</th>\n",
       "      <td>CA</td>\n",
       "      <td>California</td>\n",
       "      <td>MULTIPOLYGON (((-121.66522 38.16929, -121.7823...</td>\n",
       "      <td>CA</td>\n",
       "      <td>0.862219</td>\n",
       "      <td>0.949851</td>\n",
       "      <td>0.977455</td>\n",
       "      <td>0.944359</td>\n",
       "      <td>0.933471</td>\n",
       "    </tr>\n",
       "    <tr>\n",
       "      <th>2</th>\n",
       "      <td>TX</td>\n",
       "      <td>Texas</td>\n",
       "      <td>MULTIPOLYGON (((-105.99889 31.39394, -106.2132...</td>\n",
       "      <td>TX</td>\n",
       "      <td>0.843756</td>\n",
       "      <td>0.939170</td>\n",
       "      <td>0.973460</td>\n",
       "      <td>0.931402</td>\n",
       "      <td>0.921947</td>\n",
       "    </tr>\n",
       "    <tr>\n",
       "      <th>3</th>\n",
       "      <td>IL</td>\n",
       "      <td>Illinois</td>\n",
       "      <td>MULTIPOLYGON (((-88.07159 37.51104, -88.08791 ...</td>\n",
       "      <td>IL</td>\n",
       "      <td>0.851554</td>\n",
       "      <td>0.932735</td>\n",
       "      <td>0.972451</td>\n",
       "      <td>0.933204</td>\n",
       "      <td>0.922486</td>\n",
       "    </tr>\n",
       "    <tr>\n",
       "      <th>4</th>\n",
       "      <td>AL</td>\n",
       "      <td>Alabama</td>\n",
       "      <td>MULTIPOLYGON (((-85.07007 31.98070, -85.11515 ...</td>\n",
       "      <td>AL</td>\n",
       "      <td>0.818952</td>\n",
       "      <td>0.905997</td>\n",
       "      <td>0.946389</td>\n",
       "      <td>0.908916</td>\n",
       "      <td>0.895063</td>\n",
       "    </tr>\n",
       "  </tbody>\n",
       "</table>\n",
       "</div>"
      ],
      "text/plain": [
       "  state_abbr  state_name                                           geometry  \\\n",
       "0         NY    New York  MULTIPOLYGON (((-79.76324 42.26733, -79.44402 ...   \n",
       "1         CA  California  MULTIPOLYGON (((-121.66522 38.16929, -121.7823...   \n",
       "2         TX       Texas  MULTIPOLYGON (((-105.99889 31.39394, -106.2132...   \n",
       "3         IL    Illinois  MULTIPOLYGON (((-88.07159 37.51104, -88.08791 ...   \n",
       "4         AL     Alabama  MULTIPOLYGON (((-85.07007 31.98070, -85.11515 ...   \n",
       "\n",
       "  state  score_sm  score_md  score_lg  score_trf  avg_score  \n",
       "0    NY  0.867732  0.945313  0.984188   0.934374   0.932902  \n",
       "1    CA  0.862219  0.949851  0.977455   0.944359   0.933471  \n",
       "2    TX  0.843756  0.939170  0.973460   0.931402   0.921947  \n",
       "3    IL  0.851554  0.932735  0.972451   0.933204   0.922486  \n",
       "4    AL  0.818952  0.905997  0.946389   0.908916   0.895063  "
      ]
     },
     "execution_count": 96,
     "metadata": {},
     "output_type": "execute_result"
    }
   ],
   "source": [
    "gdf_states.head()"
   ]
  },
  {
   "cell_type": "code",
   "execution_count": 97,
   "id": "5d14cfcd",
   "metadata": {},
   "outputs": [
    {
     "data": {
      "text/html": [
       "<div>\n",
       "<style scoped>\n",
       "    .dataframe tbody tr th:only-of-type {\n",
       "        vertical-align: middle;\n",
       "    }\n",
       "\n",
       "    .dataframe tbody tr th {\n",
       "        vertical-align: top;\n",
       "    }\n",
       "\n",
       "    .dataframe thead th {\n",
       "        text-align: right;\n",
       "    }\n",
       "</style>\n",
       "<table border=\"1\" class=\"dataframe\">\n",
       "  <thead>\n",
       "    <tr style=\"text-align: right;\">\n",
       "      <th></th>\n",
       "      <th>score_sm</th>\n",
       "      <th>score_md</th>\n",
       "      <th>score_lg</th>\n",
       "      <th>score_trf</th>\n",
       "      <th>avg_score</th>\n",
       "      <th>2020_Median income</th>\n",
       "    </tr>\n",
       "  </thead>\n",
       "  <tbody>\n",
       "    <tr>\n",
       "      <th>score_sm</th>\n",
       "      <td>1.000000</td>\n",
       "      <td>0.698076</td>\n",
       "      <td>0.613669</td>\n",
       "      <td>0.465425</td>\n",
       "      <td>0.739558</td>\n",
       "      <td>0.403342</td>\n",
       "    </tr>\n",
       "    <tr>\n",
       "      <th>score_md</th>\n",
       "      <td>0.698076</td>\n",
       "      <td>1.000000</td>\n",
       "      <td>0.947525</td>\n",
       "      <td>0.838910</td>\n",
       "      <td>0.971704</td>\n",
       "      <td>0.011807</td>\n",
       "    </tr>\n",
       "    <tr>\n",
       "      <th>score_lg</th>\n",
       "      <td>0.613669</td>\n",
       "      <td>0.947525</td>\n",
       "      <td>1.000000</td>\n",
       "      <td>0.865585</td>\n",
       "      <td>0.965277</td>\n",
       "      <td>-0.108381</td>\n",
       "    </tr>\n",
       "    <tr>\n",
       "      <th>score_trf</th>\n",
       "      <td>0.465425</td>\n",
       "      <td>0.838910</td>\n",
       "      <td>0.865585</td>\n",
       "      <td>1.000000</td>\n",
       "      <td>0.903838</td>\n",
       "      <td>-0.007424</td>\n",
       "    </tr>\n",
       "    <tr>\n",
       "      <th>avg_score</th>\n",
       "      <td>0.739558</td>\n",
       "      <td>0.971704</td>\n",
       "      <td>0.965277</td>\n",
       "      <td>0.903838</td>\n",
       "      <td>1.000000</td>\n",
       "      <td>0.055363</td>\n",
       "    </tr>\n",
       "    <tr>\n",
       "      <th>2020_Median income</th>\n",
       "      <td>0.403342</td>\n",
       "      <td>0.011807</td>\n",
       "      <td>-0.108381</td>\n",
       "      <td>-0.007424</td>\n",
       "      <td>0.055363</td>\n",
       "      <td>1.000000</td>\n",
       "    </tr>\n",
       "  </tbody>\n",
       "</table>\n",
       "</div>"
      ],
      "text/plain": [
       "                    score_sm  score_md  score_lg  score_trf  avg_score  \\\n",
       "score_sm            1.000000  0.698076  0.613669   0.465425   0.739558   \n",
       "score_md            0.698076  1.000000  0.947525   0.838910   0.971704   \n",
       "score_lg            0.613669  0.947525  1.000000   0.865585   0.965277   \n",
       "score_trf           0.465425  0.838910  0.865585   1.000000   0.903838   \n",
       "avg_score           0.739558  0.971704  0.965277   0.903838   1.000000   \n",
       "2020_Median income  0.403342  0.011807 -0.108381  -0.007424   0.055363   \n",
       "\n",
       "                    2020_Median income  \n",
       "score_sm                      0.403342  \n",
       "score_md                      0.011807  \n",
       "score_lg                     -0.108381  \n",
       "score_trf                    -0.007424  \n",
       "avg_score                     0.055363  \n",
       "2020_Median income            1.000000  "
      ]
     },
     "execution_count": 97,
     "metadata": {},
     "output_type": "execute_result"
    }
   ],
   "source": [
    "gdf_states.merge(gdf_states_income, left_on='state_abbr', right_on='state_abbr', how='right').corr()"
   ]
  },
  {
   "cell_type": "code",
   "execution_count": 98,
   "id": "e5c6416e",
   "metadata": {},
   "outputs": [],
   "source": [
    "gdf_states_median = gdf_states.merge(gdf_states_income, left_on='state_abbr', right_on='state_abbr', how='right')"
   ]
  },
  {
   "cell_type": "code",
   "execution_count": 100,
   "id": "dd5a71bc",
   "metadata": {},
   "outputs": [
    {
     "name": "stderr",
     "output_type": "stream",
     "text": [
      "C:\\Users\\adrie\\Anaconda3\\lib\\site-packages\\seaborn\\_decorators.py:43: FutureWarning: Pass the following variables as keyword args: x, y. From version 0.12, the only valid positional argument will be `data`, and passing other arguments without an explicit keyword will result in an error or misinterpretation.\n",
      "  FutureWarning\n",
      "C:\\Users\\adrie\\AppData\\Roaming\\Python\\Python37\\site-packages\\matplotlib\\cbook\\__init__.py:2064: FutureWarning: Support for multi-dimensional indexing (e.g. `obj[:, None]`) is deprecated and will be removed in a future version.  Convert to a numpy array before indexing instead.\n",
      "  x[:, None]\n",
      "C:\\Users\\adrie\\AppData\\Roaming\\Python\\Python37\\site-packages\\matplotlib\\axes\\_base.py:248: FutureWarning: Support for multi-dimensional indexing (e.g. `obj[:, None]`) is deprecated and will be removed in a future version.  Convert to a numpy array before indexing instead.\n",
      "  x = x[:, np.newaxis]\n",
      "C:\\Users\\adrie\\AppData\\Roaming\\Python\\Python37\\site-packages\\matplotlib\\axes\\_base.py:250: FutureWarning: Support for multi-dimensional indexing (e.g. `obj[:, None]`) is deprecated and will be removed in a future version.  Convert to a numpy array before indexing instead.\n",
      "  y = y[:, np.newaxis]\n"
     ]
    },
    {
     "data": {
      "image/png": "[encoded data removed]",
      "text/plain": [
       "<Figure size 504x360 with 1 Axes>"
      ]
     },
     "metadata": {
      "needs_background": "light"
     },
     "output_type": "display_data"
    }
   ],
   "source": [
    "#Defining x and y:\n",
    "x=gdf_states_median['score_sm']\n",
    "y=gdf_states_median['2020_Median income']\n",
    "\n",
    "plt.figure(figsize=(7,5))\n",
    "sns.scatterplot(x,y)\n",
    "plt.title('Scatterplot of Median income in 2020 \\n and score for sm model for each US state')\n",
    "#computing the correlation:\n",
    "m, b = np.polyfit(x, y, 1)\n",
    "plt.plot(x, m*x + b, color='r')\n",
    "plt.savefig('images/results/plot_correlation_sm_median_income.png', bbox_inches='tight')\n",
    "plt.show()"
   ]
  },
  {
   "cell_type": "markdown",
   "id": "be342d00",
   "metadata": {},
   "source": [
    "#### Correlation gdp per state ???"
   ]
  },
  {
   "cell_type": "markdown",
   "id": "4446705d",
   "metadata": {},
   "source": [
    "Source : https://data.world/gmoney/gdp-per-capita-by-state"
   ]
  },
  {
   "cell_type": "code",
   "execution_count": 101,
   "id": "c0081ef5",
   "metadata": {},
   "outputs": [],
   "source": [
    "df_gdp = pd.read_excel('Data/GDP/state gdp per capita.xls')"
   ]
  },
  {
   "cell_type": "code",
   "execution_count": 102,
   "id": "2ab629b0",
   "metadata": {},
   "outputs": [],
   "source": [
    "df_gdp.rename(columns={'Unnamed: 0':'state'}, inplace=True)"
   ]
  },
  {
   "cell_type": "code",
   "execution_count": 103,
   "id": "4480bbc4",
   "metadata": {},
   "outputs": [],
   "source": [
    "df_gdp = df_gdp.merge(gdf_states, left_on='state', right_on='state_name', how='left').copy()"
   ]
  },
  {
   "cell_type": "code",
   "execution_count": 104,
   "id": "1c469828",
   "metadata": {},
   "outputs": [
    {
     "data": {
      "text/html": [
       "<style  type=\"text/css\" >\n",
       "#T_4ee16068_5dd7_11ec_b264_7cb27dc53671row0_col0,#T_4ee16068_5dd7_11ec_b264_7cb27dc53671row1_col1,#T_4ee16068_5dd7_11ec_b264_7cb27dc53671row2_col2,#T_4ee16068_5dd7_11ec_b264_7cb27dc53671row3_col3,#T_4ee16068_5dd7_11ec_b264_7cb27dc53671row4_col4,#T_4ee16068_5dd7_11ec_b264_7cb27dc53671row5_col5{\n",
       "            background-color:  #276419;\n",
       "            color:  #f1f1f1;\n",
       "        }#T_4ee16068_5dd7_11ec_b264_7cb27dc53671row0_col1,#T_4ee16068_5dd7_11ec_b264_7cb27dc53671row0_col2,#T_4ee16068_5dd7_11ec_b264_7cb27dc53671row0_col3,#T_4ee16068_5dd7_11ec_b264_7cb27dc53671row0_col4,#T_4ee16068_5dd7_11ec_b264_7cb27dc53671row0_col5,#T_4ee16068_5dd7_11ec_b264_7cb27dc53671row4_col0{\n",
       "            background-color:  #8e0152;\n",
       "            color:  #f1f1f1;\n",
       "        }#T_4ee16068_5dd7_11ec_b264_7cb27dc53671row1_col0{\n",
       "            background-color:  #fad4e9;\n",
       "            color:  #000000;\n",
       "        }#T_4ee16068_5dd7_11ec_b264_7cb27dc53671row1_col2{\n",
       "            background-color:  #b5df82;\n",
       "            color:  #000000;\n",
       "        }#T_4ee16068_5dd7_11ec_b264_7cb27dc53671row1_col3{\n",
       "            background-color:  #d6eeb6;\n",
       "            color:  #000000;\n",
       "        }#T_4ee16068_5dd7_11ec_b264_7cb27dc53671row1_col4{\n",
       "            background-color:  #f7f7f7;\n",
       "            color:  #000000;\n",
       "        }#T_4ee16068_5dd7_11ec_b264_7cb27dc53671row1_col5{\n",
       "            background-color:  #a5d56f;\n",
       "            color:  #000000;\n",
       "        }#T_4ee16068_5dd7_11ec_b264_7cb27dc53671row2_col0{\n",
       "            background-color:  #a10a61;\n",
       "            color:  #f1f1f1;\n",
       "        }#T_4ee16068_5dd7_11ec_b264_7cb27dc53671row2_col1{\n",
       "            background-color:  #eff6e5;\n",
       "            color:  #000000;\n",
       "        }#T_4ee16068_5dd7_11ec_b264_7cb27dc53671row2_col3{\n",
       "            background-color:  #397a1d;\n",
       "            color:  #f1f1f1;\n",
       "        }#T_4ee16068_5dd7_11ec_b264_7cb27dc53671row2_col4{\n",
       "            background-color:  #66a731;\n",
       "            color:  #000000;\n",
       "        }#T_4ee16068_5dd7_11ec_b264_7cb27dc53671row2_col5,#T_4ee16068_5dd7_11ec_b264_7cb27dc53671row5_col2{\n",
       "            background-color:  #31711b;\n",
       "            color:  #f1f1f1;\n",
       "        }#T_4ee16068_5dd7_11ec_b264_7cb27dc53671row3_col0{\n",
       "            background-color:  #900254;\n",
       "            color:  #f1f1f1;\n",
       "        }#T_4ee16068_5dd7_11ec_b264_7cb27dc53671row3_col1{\n",
       "            background-color:  #fce5f1;\n",
       "            color:  #000000;\n",
       "        }#T_4ee16068_5dd7_11ec_b264_7cb27dc53671row3_col2{\n",
       "            background-color:  #3a7b1d;\n",
       "            color:  #f1f1f1;\n",
       "        }#T_4ee16068_5dd7_11ec_b264_7cb27dc53671row3_col4,#T_4ee16068_5dd7_11ec_b264_7cb27dc53671row4_col3{\n",
       "            background-color:  #5a9d29;\n",
       "            color:  #000000;\n",
       "        }#T_4ee16068_5dd7_11ec_b264_7cb27dc53671row3_col5{\n",
       "            background-color:  #34741c;\n",
       "            color:  #f1f1f1;\n",
       "        }#T_4ee16068_5dd7_11ec_b264_7cb27dc53671row4_col1{\n",
       "            background-color:  #dd73ac;\n",
       "            color:  #000000;\n",
       "        }#T_4ee16068_5dd7_11ec_b264_7cb27dc53671row4_col2{\n",
       "            background-color:  #69aa33;\n",
       "            color:  #000000;\n",
       "        }#T_4ee16068_5dd7_11ec_b264_7cb27dc53671row4_col5{\n",
       "            background-color:  #4c9121;\n",
       "            color:  #000000;\n",
       "        }#T_4ee16068_5dd7_11ec_b264_7cb27dc53671row5_col0{\n",
       "            background-color:  #bd1777;\n",
       "            color:  #f1f1f1;\n",
       "        }#T_4ee16068_5dd7_11ec_b264_7cb27dc53671row5_col1{\n",
       "            background-color:  #e2f3ca;\n",
       "            color:  #000000;\n",
       "        }#T_4ee16068_5dd7_11ec_b264_7cb27dc53671row5_col3{\n",
       "            background-color:  #33721c;\n",
       "            color:  #f1f1f1;\n",
       "        }#T_4ee16068_5dd7_11ec_b264_7cb27dc53671row5_col4{\n",
       "            background-color:  #498d20;\n",
       "            color:  #000000;\n",
       "        }</style><table id=\"T_4ee16068_5dd7_11ec_b264_7cb27dc53671\" ><thead>    <tr>        <th class=\"blank level0\" ></th>        <th class=\"col_heading level0 col0\" >2015</th>        <th class=\"col_heading level0 col1\" >score_sm</th>        <th class=\"col_heading level0 col2\" >score_md</th>        <th class=\"col_heading level0 col3\" >score_lg</th>        <th class=\"col_heading level0 col4\" >score_trf</th>        <th class=\"col_heading level0 col5\" >avg_score</th>    </tr></thead><tbody>\n",
       "                <tr>\n",
       "                        <th id=\"T_4ee16068_5dd7_11ec_b264_7cb27dc53671level0_row0\" class=\"row_heading level0 row0\" >2015</th>\n",
       "                        <td id=\"T_4ee16068_5dd7_11ec_b264_7cb27dc53671row0_col0\" class=\"data row0 col0\" >1.000000</td>\n",
       "                        <td id=\"T_4ee16068_5dd7_11ec_b264_7cb27dc53671row0_col1\" class=\"data row0 col1\" >0.334777</td>\n",
       "                        <td id=\"T_4ee16068_5dd7_11ec_b264_7cb27dc53671row0_col2\" class=\"data row0 col2\" >-0.022845</td>\n",
       "                        <td id=\"T_4ee16068_5dd7_11ec_b264_7cb27dc53671row0_col3\" class=\"data row0 col3\" >-0.058949</td>\n",
       "                        <td id=\"T_4ee16068_5dd7_11ec_b264_7cb27dc53671row0_col4\" class=\"data row0 col4\" >-0.064227</td>\n",
       "                        <td id=\"T_4ee16068_5dd7_11ec_b264_7cb27dc53671row0_col5\" class=\"data row0 col5\" >0.029803</td>\n",
       "            </tr>\n",
       "            <tr>\n",
       "                        <th id=\"T_4ee16068_5dd7_11ec_b264_7cb27dc53671level0_row1\" class=\"row_heading level0 row1\" >score_sm</th>\n",
       "                        <td id=\"T_4ee16068_5dd7_11ec_b264_7cb27dc53671row1_col0\" class=\"data row1 col0\" >0.334777</td>\n",
       "                        <td id=\"T_4ee16068_5dd7_11ec_b264_7cb27dc53671row1_col1\" class=\"data row1 col1\" >1.000000</td>\n",
       "                        <td id=\"T_4ee16068_5dd7_11ec_b264_7cb27dc53671row1_col2\" class=\"data row1 col2\" >0.698076</td>\n",
       "                        <td id=\"T_4ee16068_5dd7_11ec_b264_7cb27dc53671row1_col3\" class=\"data row1 col3\" >0.613669</td>\n",
       "                        <td id=\"T_4ee16068_5dd7_11ec_b264_7cb27dc53671row1_col4\" class=\"data row1 col4\" >0.465425</td>\n",
       "                        <td id=\"T_4ee16068_5dd7_11ec_b264_7cb27dc53671row1_col5\" class=\"data row1 col5\" >0.739558</td>\n",
       "            </tr>\n",
       "            <tr>\n",
       "                        <th id=\"T_4ee16068_5dd7_11ec_b264_7cb27dc53671level0_row2\" class=\"row_heading level0 row2\" >score_md</th>\n",
       "                        <td id=\"T_4ee16068_5dd7_11ec_b264_7cb27dc53671row2_col0\" class=\"data row2 col0\" >-0.022845</td>\n",
       "                        <td id=\"T_4ee16068_5dd7_11ec_b264_7cb27dc53671row2_col1\" class=\"data row2 col1\" >0.698076</td>\n",
       "                        <td id=\"T_4ee16068_5dd7_11ec_b264_7cb27dc53671row2_col2\" class=\"data row2 col2\" >1.000000</td>\n",
       "                        <td id=\"T_4ee16068_5dd7_11ec_b264_7cb27dc53671row2_col3\" class=\"data row2 col3\" >0.947525</td>\n",
       "                        <td id=\"T_4ee16068_5dd7_11ec_b264_7cb27dc53671row2_col4\" class=\"data row2 col4\" >0.838910</td>\n",
       "                        <td id=\"T_4ee16068_5dd7_11ec_b264_7cb27dc53671row2_col5\" class=\"data row2 col5\" >0.971704</td>\n",
       "            </tr>\n",
       "            <tr>\n",
       "                        <th id=\"T_4ee16068_5dd7_11ec_b264_7cb27dc53671level0_row3\" class=\"row_heading level0 row3\" >score_lg</th>\n",
       "                        <td id=\"T_4ee16068_5dd7_11ec_b264_7cb27dc53671row3_col0\" class=\"data row3 col0\" >-0.058949</td>\n",
       "                        <td id=\"T_4ee16068_5dd7_11ec_b264_7cb27dc53671row3_col1\" class=\"data row3 col1\" >0.613669</td>\n",
       "                        <td id=\"T_4ee16068_5dd7_11ec_b264_7cb27dc53671row3_col2\" class=\"data row3 col2\" >0.947525</td>\n",
       "                        <td id=\"T_4ee16068_5dd7_11ec_b264_7cb27dc53671row3_col3\" class=\"data row3 col3\" >1.000000</td>\n",
       "                        <td id=\"T_4ee16068_5dd7_11ec_b264_7cb27dc53671row3_col4\" class=\"data row3 col4\" >0.865585</td>\n",
       "                        <td id=\"T_4ee16068_5dd7_11ec_b264_7cb27dc53671row3_col5\" class=\"data row3 col5\" >0.965277</td>\n",
       "            </tr>\n",
       "            <tr>\n",
       "                        <th id=\"T_4ee16068_5dd7_11ec_b264_7cb27dc53671level0_row4\" class=\"row_heading level0 row4\" >score_trf</th>\n",
       "                        <td id=\"T_4ee16068_5dd7_11ec_b264_7cb27dc53671row4_col0\" class=\"data row4 col0\" >-0.064227</td>\n",
       "                        <td id=\"T_4ee16068_5dd7_11ec_b264_7cb27dc53671row4_col1\" class=\"data row4 col1\" >0.465425</td>\n",
       "                        <td id=\"T_4ee16068_5dd7_11ec_b264_7cb27dc53671row4_col2\" class=\"data row4 col2\" >0.838910</td>\n",
       "                        <td id=\"T_4ee16068_5dd7_11ec_b264_7cb27dc53671row4_col3\" class=\"data row4 col3\" >0.865585</td>\n",
       "                        <td id=\"T_4ee16068_5dd7_11ec_b264_7cb27dc53671row4_col4\" class=\"data row4 col4\" >1.000000</td>\n",
       "                        <td id=\"T_4ee16068_5dd7_11ec_b264_7cb27dc53671row4_col5\" class=\"data row4 col5\" >0.903838</td>\n",
       "            </tr>\n",
       "            <tr>\n",
       "                        <th id=\"T_4ee16068_5dd7_11ec_b264_7cb27dc53671level0_row5\" class=\"row_heading level0 row5\" >avg_score</th>\n",
       "                        <td id=\"T_4ee16068_5dd7_11ec_b264_7cb27dc53671row5_col0\" class=\"data row5 col0\" >0.029803</td>\n",
       "                        <td id=\"T_4ee16068_5dd7_11ec_b264_7cb27dc53671row5_col1\" class=\"data row5 col1\" >0.739558</td>\n",
       "                        <td id=\"T_4ee16068_5dd7_11ec_b264_7cb27dc53671row5_col2\" class=\"data row5 col2\" >0.971704</td>\n",
       "                        <td id=\"T_4ee16068_5dd7_11ec_b264_7cb27dc53671row5_col3\" class=\"data row5 col3\" >0.965277</td>\n",
       "                        <td id=\"T_4ee16068_5dd7_11ec_b264_7cb27dc53671row5_col4\" class=\"data row5 col4\" >0.903838</td>\n",
       "                        <td id=\"T_4ee16068_5dd7_11ec_b264_7cb27dc53671row5_col5\" class=\"data row5 col5\" >1.000000</td>\n",
       "            </tr>\n",
       "    </tbody></table>"
      ],
      "text/plain": [
       "<pandas.io.formats.style.Styler at 0x1e105acae88>"
      ]
     },
     "execution_count": 104,
     "metadata": {},
     "output_type": "execute_result"
    }
   ],
   "source": [
    "df_gdp[['2015', 'score_sm', 'score_md', 'score_lg', 'score_trf', 'avg_score']].corr().style.background_gradient(cmap='PiYG')"
   ]
  },
  {
   "cell_type": "code",
   "execution_count": 105,
   "id": "66e7174c",
   "metadata": {},
   "outputs": [],
   "source": [
    "df_gdp.dropna(inplace=True)"
   ]
  },
  {
   "cell_type": "code",
   "execution_count": 108,
   "id": "7210e3ac",
   "metadata": {},
   "outputs": [
    {
     "name": "stderr",
     "output_type": "stream",
     "text": [
      "C:\\Users\\adrie\\Anaconda3\\lib\\site-packages\\seaborn\\_decorators.py:43: FutureWarning: Pass the following variables as keyword args: x, y. From version 0.12, the only valid positional argument will be `data`, and passing other arguments without an explicit keyword will result in an error or misinterpretation.\n",
      "  FutureWarning\n",
      "C:\\Users\\adrie\\AppData\\Roaming\\Python\\Python37\\site-packages\\matplotlib\\cbook\\__init__.py:2064: FutureWarning: Support for multi-dimensional indexing (e.g. `obj[:, None]`) is deprecated and will be removed in a future version.  Convert to a numpy array before indexing instead.\n",
      "  x[:, None]\n",
      "C:\\Users\\adrie\\AppData\\Roaming\\Python\\Python37\\site-packages\\matplotlib\\axes\\_base.py:248: FutureWarning: Support for multi-dimensional indexing (e.g. `obj[:, None]`) is deprecated and will be removed in a future version.  Convert to a numpy array before indexing instead.\n",
      "  x = x[:, np.newaxis]\n",
      "C:\\Users\\adrie\\AppData\\Roaming\\Python\\Python37\\site-packages\\matplotlib\\axes\\_base.py:250: FutureWarning: Support for multi-dimensional indexing (e.g. `obj[:, None]`) is deprecated and will be removed in a future version.  Convert to a numpy array before indexing instead.\n",
      "  y = y[:, np.newaxis]\n"
     ]
    },
    {
     "data": {
      "image/png": "[encoded data removed]",
      "text/plain": [
       "<Figure size 504x360 with 1 Axes>"
      ]
     },
     "metadata": {
      "needs_background": "light"
     },
     "output_type": "display_data"
    }
   ],
   "source": [
    "#Defining x and y:\n",
    "x=df_gdp['score_sm']\n",
    "y=df_gdp['2015']\n",
    "\n",
    "plt.figure(figsize=(7,5))\n",
    "sns.scatterplot(x,y)\n",
    "plt.title('Scatterplot of GDP per capita in 2015 \\n and score for sm model for each US state')\n",
    "#computing the correlation:\n",
    "m, b = np.polyfit(x, y, 1)\n",
    "plt.plot(x, m*x + b, color='r')\n",
    "plt.savefig('images/results/plot_correlation_sm_GDP_per_capita.png', bbox_inches='tight')\n",
    "plt.show()"
   ]
  },
  {
   "cell_type": "markdown",
   "id": "9defa078",
   "metadata": {},
   "source": [
    "## First names of people working at HuggingFace"
   ]
  },
  {
   "cell_type": "markdown",
   "id": "5254067d",
   "metadata": {},
   "source": [
    "Following our results and assumption, we can try to check if the first names of people working at HuggingFace have better results than on other first names. \n",
    "\n",
    "The list of team members is available [here](https://huggingface.co/huggingface). \n",
    "\n",
    "We can try to write a code that gets the first names and then apply the algorithms and compare the results. "
   ]
  },
  {
   "cell_type": "markdown",
   "id": "05ef9991",
   "metadata": {},
   "source": [
    "### Getting the data"
   ]
  },
  {
   "cell_type": "markdown",
   "id": "46455ed7",
   "metadata": {},
   "source": [
    "#### First names of hugging face team members"
   ]
  },
  {
   "cell_type": "code",
   "execution_count": 109,
   "id": "53f4a99f",
   "metadata": {},
   "outputs": [],
   "source": [
    "import requests\n",
    "from bs4 import BeautifulSoup"
   ]
  },
  {
   "cell_type": "code",
   "execution_count": 110,
   "id": "82a66286",
   "metadata": {},
   "outputs": [],
   "source": [
    "URL = \"https://huggingface.co/huggingface\"\n",
    "\n",
    "source_code = requests.get(URL)\n",
    "plain_text = source_code.content\n",
    "soup = BeautifulSoup(plain_text, \"lxml\")\n",
    "\n",
    "#We are searching for all the images in the page:\n",
    "results = soup.find_all(\"img\")"
   ]
  },
  {
   "cell_type": "code",
   "execution_count": 111,
   "id": "1207d18d",
   "metadata": {},
   "outputs": [],
   "source": [
    "#constructing the list of the first names:\n",
    "liste_first_names_hugg=[r.get('title') for r in results]\n",
    "#Some images are not people:\n",
    "liste_first_names_hugg = liste_first_names_hugg[2:]\n",
    "liste_first_names_hugg = liste_first_names_hugg[:-11]\n",
    "\n",
    "#We are only taking the first word:\n",
    "liste_first_names_hugg = [fn.split()[0] for fn in liste_first_names_hugg]\n",
    "#Only selecting what can be considered as a first name:\n",
    "liste_first_names_hugg = [fn for fn in liste_first_names_hugg if fn not in [\"🤗\",\"AutoNLP\", \"Bibi\", \"Rob\"]]"
   ]
  },
  {
   "cell_type": "code",
   "execution_count": 112,
   "id": "1fdd0328",
   "metadata": {},
   "outputs": [],
   "source": [
    "#Modifying the first names to have them in the proper shape:\n",
    "liste_first_names_hugg = [fn.strip() for fn in liste_first_names_hugg]"
   ]
  },
  {
   "cell_type": "code",
   "execution_count": 113,
   "id": "50c4c8c6",
   "metadata": {},
   "outputs": [
    {
     "name": "stdout",
     "output_type": "stream",
     "text": [
      "len: 61\n",
      "n unique: 55\n"
     ]
    }
   ],
   "source": [
    "print('len: {}'.format(len(liste_first_names_hugg)))\n",
    "print('n unique: {}'.format(len(np.unique(liste_first_names_hugg))))"
   ]
  },
  {
   "cell_type": "code",
   "execution_count": 114,
   "id": "e40dd912",
   "metadata": {},
   "outputs": [],
   "source": [
    "#Getting only unique first names: \n",
    "arr_first_names_hugg = np.unique(liste_first_names_hugg)"
   ]
  },
  {
   "cell_type": "code",
   "execution_count": 115,
   "id": "bf86e80f",
   "metadata": {},
   "outputs": [
    {
     "data": {
      "text/plain": [
       "array(['Abhishek', 'Adrien', 'Albert', 'Ali', 'Anna', 'Anthony', 'Anton',\n",
       "       'Canwen', 'Charles', 'Colin', 'Ella', 'Federico', 'Gloria', 'Hugo',\n",
       "       'Jeff', 'Julien', 'Kristina', 'Kunal', 'Leandro', 'Lewis', 'Luc',\n",
       "       'Lucile', 'Lysandre', 'Margaret', 'Mario', 'Mark', 'Matthew',\n",
       "       'Merve', 'Michael', 'Mishig', 'Morgan', 'Nate', 'Nicholas',\n",
       "       'Nicolas', 'Niels', 'Nils', 'Omar', 'Patrick', 'Philipp',\n",
       "       'Pierric', 'Quentin', 'Sasha', 'Siddharth', 'Simon', 'Stas',\n",
       "       'Steven', 'Suraj', 'Suzana', 'Sylvain', 'Teven', 'Thibault',\n",
       "       'Thomas', 'Victor', 'Violette', 'Yacine'], dtype='<U9')"
      ]
     },
     "execution_count": 115,
     "metadata": {},
     "output_type": "execute_result"
    }
   ],
   "source": [
    "arr_first_names_hugg"
   ]
  },
  {
   "cell_type": "markdown",
   "id": "b159e283",
   "metadata": {},
   "source": [
    "#### Random first names from US Baby names"
   ]
  },
  {
   "cell_type": "markdown",
   "id": "2f488b51",
   "metadata": {},
   "source": [
    "We are using the US Baby names dataset at the national level again. "
   ]
  },
  {
   "cell_type": "code",
   "execution_count": 116,
   "id": "5c9c11a8",
   "metadata": {},
   "outputs": [],
   "source": [
    "df_us_hugg = df_us_names.groupby(['Name']).sum().reset_index()\n",
    "del df_us_hugg['Year']\n",
    "\n",
    "#Sorting by count:\n",
    "df_us_hugg = df_us_hugg.sort_values('Count').reset_index(drop=True)"
   ]
  },
  {
   "cell_type": "code",
   "execution_count": 117,
   "id": "fba5a62f",
   "metadata": {},
   "outputs": [
    {
     "data": {
      "text/html": [
       "<div>\n",
       "<style scoped>\n",
       "    .dataframe tbody tr th:only-of-type {\n",
       "        vertical-align: middle;\n",
       "    }\n",
       "\n",
       "    .dataframe tbody tr th {\n",
       "        vertical-align: top;\n",
       "    }\n",
       "\n",
       "    .dataframe thead th {\n",
       "        text-align: right;\n",
       "    }\n",
       "</style>\n",
       "<table border=\"1\" class=\"dataframe\">\n",
       "  <thead>\n",
       "    <tr style=\"text-align: right;\">\n",
       "      <th></th>\n",
       "      <th>Name</th>\n",
       "      <th>Count</th>\n",
       "    </tr>\n",
       "  </thead>\n",
       "  <tbody>\n",
       "    <tr>\n",
       "      <th>93867</th>\n",
       "      <td>Anthony</td>\n",
       "      <td>1410142</td>\n",
       "    </tr>\n",
       "    <tr>\n",
       "      <th>93873</th>\n",
       "      <td>Matthew</td>\n",
       "      <td>1558671</td>\n",
       "    </tr>\n",
       "    <tr>\n",
       "      <th>93878</th>\n",
       "      <td>Thomas</td>\n",
       "      <td>2291517</td>\n",
       "    </tr>\n",
       "    <tr>\n",
       "      <th>93879</th>\n",
       "      <td>Charles</td>\n",
       "      <td>2376700</td>\n",
       "    </tr>\n",
       "    <tr>\n",
       "      <th>93885</th>\n",
       "      <td>Michael</td>\n",
       "      <td>4330805</td>\n",
       "    </tr>\n",
       "  </tbody>\n",
       "</table>\n",
       "</div>"
      ],
      "text/plain": [
       "          Name    Count\n",
       "93867  Anthony  1410142\n",
       "93873  Matthew  1558671\n",
       "93878   Thomas  2291517\n",
       "93879  Charles  2376700\n",
       "93885  Michael  4330805"
      ]
     },
     "execution_count": 117,
     "metadata": {},
     "output_type": "execute_result"
    }
   ],
   "source": [
    "#What is the count of each hugging face first names in the US baby names dataset?\n",
    "df_us_hugg[df_us_hugg['Name'].isin(arr_first_names_hugg)].tail()"
   ]
  },
  {
   "cell_type": "code",
   "execution_count": 118,
   "id": "b55f5ae1",
   "metadata": {},
   "outputs": [
    {
     "data": {
      "text/plain": [
       "Name        Mary\n",
       "Count    4130441\n",
       "Name: 93884, dtype: object"
      ]
     },
     "execution_count": 118,
     "metadata": {},
     "output_type": "execute_result"
    }
   ],
   "source": [
    "df_us_hugg.iloc[93884]"
   ]
  },
  {
   "cell_type": "markdown",
   "id": "74f71b49",
   "metadata": {},
   "source": [
    "We can select first names based on their counts, instead of just slecting them randomly.\n",
    "\n",
    "1. We delete the first names of hugging face \n",
    "2. For each, we select the first name just before (index-wise)\n",
    "\n",
    "\n",
    "We are also only taking first names of hugging also in the US baby names dataset"
   ]
  },
  {
   "cell_type": "code",
   "execution_count": 119,
   "id": "281b9626",
   "metadata": {},
   "outputs": [],
   "source": [
    "df_us_not_hugg = df_us_hugg[~df_us_hugg['Name'].isin(arr_first_names_hugg)]"
   ]
  },
  {
   "cell_type": "code",
   "execution_count": 120,
   "id": "07796319",
   "metadata": {},
   "outputs": [],
   "source": [
    "liste_names_us_not_hugg = []\n",
    "for index, row in df_us_hugg[df_us_hugg['Name'].isin(arr_first_names_hugg)].iterrows():\n",
    "    name=''\n",
    "    while name=='':\n",
    "        try:\n",
    "            name = df_us_not_hugg.loc[index+1]['Name']\n",
    "        except: \n",
    "            index+=1\n",
    "    liste_names_us_not_hugg.append(name)"
   ]
  },
  {
   "cell_type": "code",
   "execution_count": 121,
   "id": "7f0ef461",
   "metadata": {},
   "outputs": [
    {
     "data": {
      "text/plain": [
       "(50,)"
      ]
     },
     "execution_count": 121,
     "metadata": {},
     "output_type": "execute_result"
    }
   ],
   "source": [
    "np.unique(liste_names_us_not_hugg).shape"
   ]
  },
  {
   "cell_type": "code",
   "execution_count": 122,
   "id": "0b3f5e22",
   "metadata": {},
   "outputs": [
    {
     "data": {
      "text/plain": [
       "51"
      ]
     },
     "execution_count": 122,
     "metadata": {},
     "output_type": "execute_result"
    }
   ],
   "source": [
    "len(liste_names_us_not_hugg)"
   ]
  },
  {
   "cell_type": "code",
   "execution_count": 123,
   "id": "c1c62e0f",
   "metadata": {},
   "outputs": [],
   "source": [
    "#'Richard is here two times because 'Thomas' and 'Charles' have indexes following each other\n",
    "\n",
    "\n",
    "#WE are going to deal with that later"
   ]
  },
  {
   "cell_type": "code",
   "execution_count": 124,
   "id": "89da2c98",
   "metadata": {},
   "outputs": [],
   "source": [
    "us_names_sample_hugg = np.array(liste_names_us_not_hugg)"
   ]
  },
  {
   "cell_type": "code",
   "execution_count": 125,
   "id": "f571c923",
   "metadata": {},
   "outputs": [],
   "source": [
    "arr_comparing_hugg_and_general = np.concatenate((arr_first_names_hugg, us_names_sample_hugg))"
   ]
  },
  {
   "cell_type": "code",
   "execution_count": 126,
   "id": "0b6f2b4f",
   "metadata": {},
   "outputs": [
    {
     "data": {
      "text/plain": [
       "array(['Abhishek', 'Adrien', 'Albert', 'Ali', 'Anna', 'Anthony', 'Anton',\n",
       "       'Canwen', 'Charles', 'Colin', 'Ella', 'Federico', 'Gloria', 'Hugo',\n",
       "       'Jeff', 'Julien', 'Kristina', 'Kunal', 'Leandro', 'Lewis', 'Luc',\n",
       "       'Lucile', 'Lysandre', 'Margaret', 'Mario', 'Mark', 'Matthew',\n",
       "       'Merve', 'Michael', 'Mishig', 'Morgan', 'Nate', 'Nicholas',\n",
       "       'Nicolas', 'Niels', 'Nils', 'Omar', 'Patrick', 'Philipp',\n",
       "       'Pierric', 'Quentin', 'Sasha', 'Siddharth', 'Simon', 'Stas',\n",
       "       'Steven', 'Suraj', 'Suzana', 'Sylvain', 'Teven', 'Thibault',\n",
       "       'Thomas', 'Victor', 'Violette', 'Yacine', 'Chubby', 'Brendell',\n",
       "       'Derak', 'Ettamae', 'Alveria', 'Nadra', 'Nichols', 'Brynleigh',\n",
       "       'Carrissa', 'Zephyr', 'Audria', 'Vasilios', 'Clover', 'Calla',\n",
       "       'Ludie', 'Donta', 'Tremayne', 'Maybelle', 'Tylor', 'Rico',\n",
       "       'Lisette', 'Alivia', 'Dick', 'Kira', 'Jayla', 'Dewey', 'Lesley',\n",
       "       'Cecelia', 'Josiah', 'Jenny', 'Harvey', 'Tonya', 'Melinda',\n",
       "       'Jenna', 'Carmen', 'Monica', 'Jessie', 'Tracy', 'Teresa', 'Carl',\n",
       "       'Amy', 'Jacob', 'Gary', 'Andrew', 'Edward', 'Paul', 'Donald',\n",
       "       'Patricia', 'Richard', 'Richard', 'Robert'], dtype='<U9')"
      ]
     },
     "execution_count": 126,
     "metadata": {},
     "output_type": "execute_result"
    }
   ],
   "source": [
    "arr_comparing_hugg_and_general"
   ]
  },
  {
   "cell_type": "markdown",
   "id": "f134986c",
   "metadata": {},
   "source": [
    "### Applying the models"
   ]
  },
  {
   "cell_type": "code",
   "execution_count": 50,
   "id": "f98cc48a",
   "metadata": {},
   "outputs": [
    {
     "name": "stdout",
     "output_type": "stream",
     "text": [
      "Testing the model: sm\n"
     ]
    },
    {
     "name": "stderr",
     "output_type": "stream",
     "text": [
      "100%|█████████████████████████████████████████████████████████████████████████| 100000/100000 [09:15<00:00, 180.09it/s]\n"
     ]
    },
    {
     "name": "stdout",
     "output_type": "stream",
     "text": [
      "Testing the model: md\n"
     ]
    },
    {
     "name": "stderr",
     "output_type": "stream",
     "text": [
      "100%|█████████████████████████████████████████████████████████████████████████| 100000/100000 [10:58<00:00, 151.86it/s]\n"
     ]
    },
    {
     "name": "stdout",
     "output_type": "stream",
     "text": [
      "Testing the model: lg\n"
     ]
    },
    {
     "name": "stderr",
     "output_type": "stream",
     "text": [
      "100%|█████████████████████████████████████████████████████████████████████████| 100000/100000 [09:56<00:00, 167.59it/s]\n"
     ]
    },
    {
     "name": "stdout",
     "output_type": "stream",
     "text": [
      "Testing the model: trf\n"
     ]
    },
    {
     "name": "stderr",
     "output_type": "stream",
     "text": [
      "100%|████████████████████████████████████████████████████████████████████████| 100000/100000 [1:36:20<00:00, 17.30it/s]\n"
     ]
    }
   ],
   "source": [
    "df_results_hugg = main_ner_first_names(100000, arr_comparing_hugg_and_general)"
   ]
  },
  {
   "cell_type": "code",
   "execution_count": 127,
   "id": "10b58f62",
   "metadata": {},
   "outputs": [],
   "source": [
    "#df_results_hugg.to_csv('data/results/first_names/df_results_hugg_100000.csv', index=False)\n",
    "df_results_hugg= pd.read_csv('data/results/first_names/df_results_hugg_100000.csv')"
   ]
  },
  {
   "cell_type": "markdown",
   "id": "863143ac",
   "metadata": {},
   "source": [
    "### Results"
   ]
  },
  {
   "cell_type": "code",
   "execution_count": 128,
   "id": "8f6a6b23",
   "metadata": {},
   "outputs": [],
   "source": [
    "df_hugg = pd.DataFrame(data={'name':arr_first_names_hugg, 'huggingface':True})\n",
    "df_non_hugg = pd.DataFrame(data={'name':us_names_sample_hugg, 'huggingface':False})"
   ]
  },
  {
   "cell_type": "code",
   "execution_count": 129,
   "id": "d76b52b0",
   "metadata": {},
   "outputs": [],
   "source": [
    "df_test_hugg = pd.concat([df_hugg, df_non_hugg]).reset_index()"
   ]
  },
  {
   "cell_type": "code",
   "execution_count": 130,
   "id": "32c56e36",
   "metadata": {},
   "outputs": [
    {
     "data": {
      "text/html": [
       "<div>\n",
       "<style scoped>\n",
       "    .dataframe tbody tr th:only-of-type {\n",
       "        vertical-align: middle;\n",
       "    }\n",
       "\n",
       "    .dataframe tbody tr th {\n",
       "        vertical-align: top;\n",
       "    }\n",
       "\n",
       "    .dataframe thead th {\n",
       "        text-align: right;\n",
       "    }\n",
       "</style>\n",
       "<table border=\"1\" class=\"dataframe\">\n",
       "  <thead>\n",
       "    <tr style=\"text-align: right;\">\n",
       "      <th></th>\n",
       "      <th>name</th>\n",
       "      <th>score_sm</th>\n",
       "      <th>score_md</th>\n",
       "      <th>score_lg</th>\n",
       "      <th>score_trf</th>\n",
       "    </tr>\n",
       "  </thead>\n",
       "  <tbody>\n",
       "    <tr>\n",
       "      <th>0</th>\n",
       "      <td>Abhishek</td>\n",
       "      <td>0.988292</td>\n",
       "      <td>0.908402</td>\n",
       "      <td>0.677686</td>\n",
       "      <td>0.693182</td>\n",
       "    </tr>\n",
       "    <tr>\n",
       "      <th>1</th>\n",
       "      <td>Adrien</td>\n",
       "      <td>0.929636</td>\n",
       "      <td>1.000000</td>\n",
       "      <td>1.000000</td>\n",
       "      <td>0.867938</td>\n",
       "    </tr>\n",
       "    <tr>\n",
       "      <th>2</th>\n",
       "      <td>Albert</td>\n",
       "      <td>1.000000</td>\n",
       "      <td>0.999656</td>\n",
       "      <td>1.000000</td>\n",
       "      <td>0.956342</td>\n",
       "    </tr>\n",
       "    <tr>\n",
       "      <th>3</th>\n",
       "      <td>Alivia</td>\n",
       "      <td>1.000000</td>\n",
       "      <td>0.977334</td>\n",
       "      <td>1.000000</td>\n",
       "      <td>0.813599</td>\n",
       "    </tr>\n",
       "    <tr>\n",
       "      <th>4</th>\n",
       "      <td>Alveria</td>\n",
       "      <td>0.711911</td>\n",
       "      <td>0.977839</td>\n",
       "      <td>0.528393</td>\n",
       "      <td>0.815097</td>\n",
       "    </tr>\n",
       "  </tbody>\n",
       "</table>\n",
       "</div>"
      ],
      "text/plain": [
       "       name  score_sm  score_md  score_lg  score_trf\n",
       "0  Abhishek  0.988292  0.908402  0.677686   0.693182\n",
       "1    Adrien  0.929636  1.000000  1.000000   0.867938\n",
       "2    Albert  1.000000  0.999656  1.000000   0.956342\n",
       "3    Alivia  1.000000  0.977334  1.000000   0.813599\n",
       "4   Alveria  0.711911  0.977839  0.528393   0.815097"
      ]
     },
     "execution_count": 130,
     "metadata": {},
     "output_type": "execute_result"
    }
   ],
   "source": [
    "df_results_hugg.head()"
   ]
  },
  {
   "cell_type": "code",
   "execution_count": 131,
   "id": "7681e8d3",
   "metadata": {},
   "outputs": [],
   "source": [
    "df_results_ = df_results_hugg.merge(df_test_hugg, left_on='name', right_on='name', how='left')\n",
    "df_results_ = df_results_.groupby('huggingface').mean()"
   ]
  },
  {
   "cell_type": "code",
   "execution_count": 134,
   "id": "464b96da",
   "metadata": {},
   "outputs": [
    {
     "data": {
      "text/html": [
       "<style  type=\"text/css\" >\n",
       "#T_b242ee98_5dd7_11ec_acbd_7cb27dc53671row0_col0,#T_b242ee98_5dd7_11ec_acbd_7cb27dc53671row1_col1{\n",
       "            background-color:  #276419;\n",
       "            color:  #f1f1f1;\n",
       "        }#T_b242ee98_5dd7_11ec_acbd_7cb27dc53671row0_col1,#T_b242ee98_5dd7_11ec_acbd_7cb27dc53671row1_col0{\n",
       "            background-color:  #8e0152;\n",
       "            color:  #f1f1f1;\n",
       "        }</style><table id=\"T_b242ee98_5dd7_11ec_acbd_7cb27dc53671\" ><thead>    <tr>        <th class=\"blank level0\" ></th>        <th class=\"col_heading level0 col0\" >score_sm</th>        <th class=\"col_heading level0 col1\" >score_trf</th>    </tr>    <tr>        <th class=\"index_name level0\" >huggingface</th>        <th class=\"blank\" ></th>        <th class=\"blank\" ></th>    </tr></thead><tbody>\n",
       "                <tr>\n",
       "                        <th id=\"T_b242ee98_5dd7_11ec_acbd_7cb27dc53671level0_row0\" class=\"row_heading level0 row0\" >False</th>\n",
       "                        <td id=\"T_b242ee98_5dd7_11ec_acbd_7cb27dc53671row0_col0\" class=\"data row0 col0\" >0.745748</td>\n",
       "                        <td id=\"T_b242ee98_5dd7_11ec_acbd_7cb27dc53671row0_col1\" class=\"data row0 col1\" >0.877733</td>\n",
       "            </tr>\n",
       "            <tr>\n",
       "                        <th id=\"T_b242ee98_5dd7_11ec_acbd_7cb27dc53671level0_row1\" class=\"row_heading level0 row1\" >True</th>\n",
       "                        <td id=\"T_b242ee98_5dd7_11ec_acbd_7cb27dc53671row1_col0\" class=\"data row1 col0\" >0.734776</td>\n",
       "                        <td id=\"T_b242ee98_5dd7_11ec_acbd_7cb27dc53671row1_col1\" class=\"data row1 col1\" >0.897385</td>\n",
       "            </tr>\n",
       "    </tbody></table>"
      ],
      "text/plain": [
       "<pandas.io.formats.style.Styler at 0x1e107255f48>"
      ]
     },
     "execution_count": 134,
     "metadata": {},
     "output_type": "execute_result"
    }
   ],
   "source": [
    "df_results_[['score_sm', 'score_trf']].style.background_gradient(cmap='PiYG')"
   ]
  },
  {
   "cell_type": "markdown",
   "id": "912cefcd",
   "metadata": {},
   "source": [
    "We can clearly see that for first names with same popularity, trf recognizes bette (2 points difference) the first names of people working at HuggingFace than others. \n",
    "\n",
    "Morover, it is not the case for the sm model. "
   ]
  }
 ],
 "metadata": {
  "kernelspec": {
   "display_name": "Python 3 (ipykernel)",
   "language": "python",
   "name": "python3"
  },
  "language_info": {
   "codemirror_mode": {
    "name": "ipython",
    "version": 3
   },
   "file_extension": ".py",
   "mimetype": "text/x-python",
   "name": "python",
   "nbconvert_exporter": "python",
   "pygments_lexer": "ipython3",
   "version": "3.7.11"
  },
  "toc": {
   "base_numbering": 1,
   "nav_menu": {},
   "number_sections": true,
   "sideBar": true,
   "skip_h1_title": true,
   "title_cell": "Table of Contents",
   "title_sidebar": "Contents",
   "toc_cell": false,
   "toc_position": {
    "height": "calc(100% - 180px)",
    "left": "10px",
    "top": "150px",
    "width": "304.2px"
   },
   "toc_section_display": true,
   "toc_window_display": true
  }
 },
 "nbformat": 4,
 "nbformat_minor": 5
}
