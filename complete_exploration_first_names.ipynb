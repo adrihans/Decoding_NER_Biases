{
 "cells": [
  {
   "cell_type": "markdown",
   "id": "9719d953",
   "metadata": {},
   "source": [
    "Vérifier la pondération des moyennes"
   ]
  },
  {
   "cell_type": "markdown",
   "id": "15123750",
   "metadata": {},
   "source": [
    "# Complete exploration of first names Biases in NER models"
   ]
  },
  {
   "cell_type": "markdown",
   "id": "ed8159e5",
   "metadata": {},
   "source": [
    "\n",
    "Based on this [article](https://arxiv.org/pdf/2008.03415.pdf), we construct a small datasets with first names associated with ethnicity. \n",
    "\n",
    "The goal is to check if the NER model is able to recognize each 'category' with the same results or not. \n",
    "\n",
    "Then, we would be able to check the bias in the algorithm.\n",
    "\n",
    "Question : how are the first names selected ? What is the source ? does it come from [this](https://data.world/johnsnowlabs/most-popular-baby-names-by-gender-and-mother-ethnic-group/workspace/file?filename=Most+Popular+Baby+Names+by+Gender+and+Mother+Ethnic+Group.csv) ?\n",
    "\n",
    "\n",
    "\n",
    "This notebook is made to explore the possible biases in NER models when applied to the detection of first names. \n",
    "\n",
    "Firstly, we will compute the same thing as in the article, then, we will go further by exploring the same hypothesis but with other datasets. \n",
    "\n",
    "For each exploration, 4 models will be used: \n",
    "- sm\n",
    "- md\n",
    "- lg\n",
    "- trf\n",
    "\n",
    "\n",
    "We are only testing if the first names are recognized as named entities by the models, but not if they are actually recognized as a person's name. \n",
    "\n",
    "This could have been done by using this kind of code : \n",
    "\n",
    "`doc.ents[0].label_`\n",
    "\n",
    "And this would constitute a good improvement of this project, because maybe we could have seen ome other biases - or not - in the label, and could also have defined a different metric. \n",
    "\n",
    "But again, here, we are just giving a score of 1 if the name has been recognized and 0 if not. \n",
    "\n",
    "Then, we can have a mean results for each of the first names and finally have the results for each group. \n",
    "\n",
    "\n",
    "**Steps of this notebook :**\n",
    "1. **Utils**\n",
    "\n",
    "The first part of this notebook can be found quite technical. It consists in the developement of several functions used afterwards on all the datasets. \n",
    "\n",
    "- Those functions are made to: \n",
    "    - Computing the sentences\n",
    "    - Applying the four models \n",
    "    - Getting back the results in a proper way\n",
    "\n",
    "For all of the expirements of this notebook and in order to construct the sentences, we are using the winogender schemas described in the article. \n",
    "\n",
    "Depending on the datasets, some other function are needed, for instance to average the results given the popularity of a first name depending on the birth year on the US baby names dataset. But this last point is developped in the needed parts of this notebook. \n",
    "\n",
    "1. **Article**\n",
    "\n",
    "The first real exploration of the biases consists in following the exact same steps followed by the article mentionned above. \n",
    "We are using the same schemas and the same first names. \n",
    "\n",
    "2. **US baby names dataset - nation wise**\n",
    "\n",
    "\n",
    "\n",
    "3. **NYC baby names**\n",
    "\n",
    "Given that in the article researchers did not say exactly how they selected the first names, we wanted to go a little bit further. \n",
    "\n",
    "4. **US baby names dataset - states**"
   ]
  },
  {
   "cell_type": "markdown",
   "id": "689a301b",
   "metadata": {},
   "source": [
    "## Necessary imports:"
   ]
  },
  {
   "cell_type": "code",
   "execution_count": 2,
   "id": "4c8308c9",
   "metadata": {},
   "outputs": [],
   "source": [
    "import geopandas as gpd\n",
    "\n",
    "import pandas as pd\n",
    "import numpy as np\n",
    "\n",
    "from tqdm import tqdm\n",
    "import random\n",
    "\n",
    "\n",
    "#Viz:\n",
    "import seaborn as sns\n",
    "import matplotlib.pyplot as plt\n",
    "\n",
    "%matplotlib inline\n",
    "\n",
    "#Spacy:\n",
    "import spacy\n",
    "from spacy import displacy"
   ]
  },
  {
   "cell_type": "markdown",
   "id": "37d93938",
   "metadata": {},
   "source": [
    "## Utils"
   ]
  },
  {
   "cell_type": "markdown",
   "id": "3f24ce87",
   "metadata": {},
   "source": [
    "### Winogender"
   ]
  },
  {
   "cell_type": "markdown",
   "id": "a52808f4",
   "metadata": {},
   "source": [
    "We also have to build templates for the sentences. \n",
    "\n",
    "Just as in the article, we're using the winogender schemas, which was made to check gender biases in algorithmic procedures. The project consists in basic sentences, with some variables like : `$Participant`, `$Occupation` or `$Pronoun`, which can then be replaced by actual names. \n",
    "\n",
    "The github page of the project can be found [here](https://github.com/rudinger/winogender-schemas), and the page of the templates we're using can be found [here](https://github.com/rudinger/winogender-schemas/blob/master/data/templates.tsv). "
   ]
  },
  {
   "cell_type": "code",
   "execution_count": 3,
   "id": "8914f208",
   "metadata": {},
   "outputs": [],
   "source": [
    "#Accessing the templates : \n",
    "templates_sentences = pd.read_csv('https://raw.githubusercontent.com/rudinger/winogender-schemas/master/data/templates.tsv', sep='\\t')"
   ]
  },
  {
   "cell_type": "markdown",
   "id": "ee176a26",
   "metadata": {},
   "source": [
    "We have to make some modifications because the templates were not actually intended to be used with actual first names. \n",
    "\n",
    "For instance, There is often `The` before the word `$Occupation` - because it was intended to used with an occupation. \n",
    "\n",
    "Then, we have to delete this 'the' when it is present. \n",
    "\n",
    "We also have to check if there are indeed 3 possible names in each sentence, and if the pronoun is a nominative one -to avoid any english mistake. "
   ]
  },
  {
   "cell_type": "code",
   "execution_count": 4,
   "id": "71535ef7",
   "metadata": {},
   "outputs": [],
   "source": [
    "#We need to delete the 'THE' before occupation and participant :\n",
    "def make_template_right(sent):    \n",
    "    l_sent = sent.split()\n",
    "    i_occupation = l_sent.index('$OCCUPATION')\n",
    "    if i_occupation != 0: \n",
    "        if l_sent[i_occupation-1].lower() == 'the': \n",
    "            del l_sent[i_occupation-1]\n",
    "\n",
    "    #Same thing with $PARTICIPANT : \n",
    "\n",
    "    i_participant = l_sent.index('$PARTICIPANT')\n",
    "    if i_participant != 0: \n",
    "        if l_sent[i_participant-1].lower() == 'the': \n",
    "            del l_sent[i_participant-1]\n",
    "\n",
    "    #Building up the sentence again: \n",
    "    return ' '.join(l_sent)"
   ]
  },
  {
   "cell_type": "code",
   "execution_count": 5,
   "id": "280d01f4",
   "metadata": {},
   "outputs": [
    {
     "name": "stderr",
     "output_type": "stream",
     "text": [
      "100%|████████████████████████████████████████████████████████████████████████████| 120/120 [00:00<00:00, 119666.31it/s]\n"
     ]
    }
   ],
   "source": [
    "#Applying the function to the dataframe: \n",
    "tqdm.pandas()\n",
    "templates_sentences['right_sentence'] = templates_sentences['sentence'].progress_apply(make_template_right)"
   ]
  },
  {
   "cell_type": "code",
   "execution_count": 6,
   "id": "d698d7b6",
   "metadata": {},
   "outputs": [],
   "source": [
    "#We only take into account the nomitative pronouns to form exact sentences:\n",
    "def check_three_items(sentence):\n",
    "    if '$OCCUPATION' in sentence:\n",
    "        if '$PARTICIPANT' in sentence:\n",
    "            if '$NOM_PRONOUN' in sentence:\n",
    "                return 1\n",
    "    return 0 "
   ]
  },
  {
   "cell_type": "code",
   "execution_count": 7,
   "id": "c5c54618",
   "metadata": {},
   "outputs": [],
   "source": [
    "#Applying the function described above and selecting only the sentences with three items:\n",
    "templates_sentences['three_items'] = templates_sentences['right_sentence'].apply(check_three_items)\n",
    "templates_sentences = templates_sentences[templates_sentences['three_items']==1]"
   ]
  },
  {
   "cell_type": "markdown",
   "id": "d4524e80",
   "metadata": {},
   "source": [
    "### Function to compute sentences"
   ]
  },
  {
   "cell_type": "code",
   "execution_count": 8,
   "id": "7e26fc17",
   "metadata": {},
   "outputs": [],
   "source": [
    "#In each template sentence, there are : \n",
    "# $OCCUPATION // $PARTICIPANT  // $NOM_PRONOUN\n",
    "#Then, we just have to replace each thing with a first name.\n",
    "\n",
    "def compute_random_sentences(row, arr_names, template=templates_sentences):\n",
    "    \"\"\"\n",
    "    The template has to have a column 'right_sentence'\n",
    "    \"\"\"    \n",
    "    #Firstly we need to take one sentence at random:\n",
    "    str_sentence = template.sample(1)['right_sentence'].values[0]\n",
    "    #The names should not be all the same: \n",
    "    random_occupation = random.choice(arr_names)\n",
    "    random_participant=random_occupation\n",
    "    while random_occupation == random_participant:\n",
    "        random_participant = random.choice(arr_names)\n",
    "    random_pronoun = random_occupation\n",
    "    while random_pronoun == random_occupation or random_pronoun == random_participant:\n",
    "        random_pronoun = random.choice(arr_names)\n",
    "           \n",
    "    \n",
    "    #we replace the right words to form the finale sentence: \n",
    "    str_sentence=str_sentence.replace('$OCCUPATION', random_occupation)\n",
    "    str_sentence=str_sentence.replace('$PARTICIPANT', random_participant)\n",
    "    str_sentence=str_sentence.replace('$NOM_PRONOUN', random_pronoun)\n",
    "    return str_sentence, random_occupation, random_participant, random_pronoun"
   ]
  },
  {
   "cell_type": "markdown",
   "id": "76d062cb",
   "metadata": {},
   "source": [
    "### Models"
   ]
  },
  {
   "cell_type": "markdown",
   "id": "f2df4011",
   "metadata": {},
   "source": [
    "We are using spacy to test the NER algorithms.\n",
    "\n",
    "We are testing the 4 models implemented in version 3.1 of Spacy: \n",
    "\n",
    "- sm\n",
    "- md\n",
    "- lg\n",
    "- trf\n",
    "\n",
    "We load the four models at once:"
   ]
  },
  {
   "cell_type": "code",
   "execution_count": 10,
   "id": "e82ec17c",
   "metadata": {},
   "outputs": [],
   "source": [
    "nlp_sm = spacy.load(\"en_core_web_sm\")\n",
    "nlp_md = spacy.load(\"en_core_web_md\")\n",
    "nlp_lg = spacy.load(\"en_core_web_lg\")\n",
    "nlp_trf = spacy.load(\"en_core_web_trf\")"
   ]
  },
  {
   "cell_type": "code",
   "execution_count": 11,
   "id": "a762e786",
   "metadata": {},
   "outputs": [],
   "source": [
    "def predict_NER_spacy(text, model):\n",
    "    \"\"\"\n",
    "    This function just consists in applying a given NER model to a given text. \n",
    "    \n",
    "    @Inputs:\n",
    "        text: str, the text the model is applied on\n",
    "        \n",
    "        model: str, the model to be used, either:\n",
    "                - 'sm'\n",
    "                - 'md'\n",
    "                - 'lg'\n",
    "                - 'trf'\n",
    "    @Outputs:\n",
    "        - predicted_label_liste, list, the list of the named entities recognized by the specified model. \n",
    "    \"\"\"\n",
    "    if model=='sm':\n",
    "        doc=nlp_sm(text)\n",
    "    elif model=='md':\n",
    "        doc=nlp_md(text)\n",
    "    elif model=='lg':\n",
    "        doc=nlp_lg(text)\n",
    "    elif model=='trf':\n",
    "        doc=nlp_trf(text)\n",
    "    else:\n",
    "        return np.nan\n",
    "        \n",
    "    predicted_label_liste=[str(ent).strip() for ent in doc.ents]\n",
    "    return predicted_label_liste"
   ]
  },
  {
   "cell_type": "markdown",
   "id": "9053d094",
   "metadata": {},
   "source": [
    "### Was the name found?"
   ]
  },
  {
   "cell_type": "code",
   "execution_count": 12,
   "id": "083a407f",
   "metadata": {},
   "outputs": [],
   "source": [
    "#Is the name found ?? \n",
    "def check_names_prediction(row):\n",
    "    \"\"\"\n",
    "    Function check_names_prediction\n",
    "    \n",
    "    @Inputs:\n",
    "        - row of a dataframe cointaing at least 4 columns: \n",
    "            - '0', '1' and '2': specifying the three persons names.\n",
    "            - 'spacy_prediction': the prediction of the model. \n",
    "                See the function main_ner_first_names for more detailed information. \n",
    "    @Outputs:\n",
    "        - var_0, var_1, var_2, int, either 0 or 1, specifying if the name n has been recognized(1) or not(0).\n",
    "    \"\"\"\n",
    "    var_0, var_1, var_2 = 0,0,0\n",
    "    if row['0'] in row['spacy_prediction']:\n",
    "        var_0 = 1\n",
    "    if row['1'] in row['spacy_prediction']:\n",
    "        var_1 = 1\n",
    "    if row['2'] in row['spacy_prediction']:\n",
    "        var_2 = 1    \n",
    "    return var_0, var_1, var_2"
   ]
  },
  {
   "cell_type": "markdown",
   "id": "59fc82d0",
   "metadata": {},
   "source": [
    "### Computing the stats:"
   ]
  },
  {
   "cell_type": "code",
   "execution_count": 13,
   "id": "0b17a349",
   "metadata": {},
   "outputs": [],
   "source": [
    "def compute_stats_names(df_test_names, model):\n",
    "    \"\"\"\n",
    "    Model is a str of the name of the model\n",
    "    \n",
    "    \"\"\"\n",
    "    #Creating a new dataframe:\n",
    "    df_temp=pd.DataFrame()\n",
    "    df_temp['score_'+model] = pd.concat([df_test_names['0_found'], df_test_names['1_found'], df_test_names['2_found']])\n",
    "    df_temp['name'] = pd.concat([df_test_names['0'], df_test_names['1'], df_test_names['2']])\n",
    "    #We then have one 'mean' score per name:\n",
    "    df_temp = df_temp.groupby('name').agg({'score_'+model:'mean'}).reset_index(drop=False)\n",
    "    return df_temp"
   ]
  },
  {
   "cell_type": "markdown",
   "id": "1e345397",
   "metadata": {},
   "source": [
    "### main():"
   ]
  },
  {
   "cell_type": "code",
   "execution_count": 14,
   "id": "f8aaec09",
   "metadata": {},
   "outputs": [],
   "source": [
    "def main_ner_first_names(n_sentences, arr_names, template=templates_sentences):\n",
    "    \"\"\"\n",
    "    In this function, we are computing the sentences, applying the model. \n",
    "    \n",
    "    Then, each name has a 'mean' score. \n",
    "    \"\"\"\n",
    "    #We are computing the sentences, given the arr_names and the number of sentences:\n",
    "    df_test_names = pd.DataFrame(index=range(n_sentences))\n",
    "    df_test_names['tt']= 1 \n",
    "    df_test_names['sentence'], df_test_names['0'], df_test_names['1'], df_test_names['2'] = zip(*df_test_names.apply(lambda x: compute_random_sentences(x, arr_names, template), axis=1))\n",
    "    del df_test_names['tt']\n",
    "    \n",
    "    \n",
    "    \n",
    "    #We define the df of the results:\n",
    "    df_results=pd.DataFrame(data={'name':arr_names})\n",
    "    \n",
    "    #Then, we apply the models:\n",
    "    for model in ['sm', 'md', 'lg', 'trf']:\n",
    "        \n",
    "        print('Testing the model: '+model)\n",
    "        \n",
    "        \n",
    "        tqdm.pandas()\n",
    "        df_test_names['spacy_prediction'] = df_test_names['sentence'].progress_apply(lambda x: predict_NER_spacy(x, model))\n",
    "        #We replace the list with a string, because otherwise for a list like : [Emily if Camila], neither Emily or Camila \n",
    "        #Would be mark as 1 by the test above. \n",
    "        df_test_names['spacy_prediction'] = df_test_names['spacy_prediction'].apply(lambda l : ' '.join(l))\n",
    "        #We apply the function to check if the names were understood as NER by the model: \n",
    "        df_test_names['0_found'], df_test_names['1_found'], df_test_names['2_found'] = zip(*df_test_names.apply(check_names_prediction, axis=1))\n",
    "        #computing the stats:\n",
    "        #And merging with the results df:\n",
    "        df_results = df_results.merge(compute_stats_names(df_test_names, model), left_on='name', right_on='name', how='right')\n",
    "        \n",
    "\n",
    "    return df_results"
   ]
  },
  {
   "cell_type": "markdown",
   "id": "704eb723",
   "metadata": {},
   "source": [
    "## Names based on the article"
   ]
  },
  {
   "cell_type": "markdown",
   "id": "17ddaaa5",
   "metadata": {},
   "source": [
    "We are here using the names described in [that article](https://arxiv.org/pdf/2008.03415.pdf).\n",
    "\n",
    "We are using the exact same names as in the article. \n",
    "\n",
    "Each category is composed of 15 names. "
   ]
  },
  {
   "cell_type": "markdown",
   "id": "ff31e8f6",
   "metadata": {},
   "source": [
    "### Constructing the dataset"
   ]
  },
  {
   "cell_type": "code",
   "execution_count": 15,
   "id": "8f51db4f",
   "metadata": {},
   "outputs": [],
   "source": [
    "#Black Female = BF_names\n",
    "BF_names = ['Aaliyah', 'Ebony', 'Jasmine', 'Lakisha', 'Latisha',\n",
    "'Latoya', 'Malika', 'Nichelle', 'Nishelle', 'Shanice',\n",
    "'Shaniqua', 'Shereen', 'Tanisha', 'Tia', 'Yolanda','Yvette']\n",
    "#Black Male = BM_names\n",
    "BM_names = ['Alonzo', 'Alphonse', 'Darnell', 'Deion', 'Jamel',\n",
    "'Jerome', 'Lamar', 'Lamont', 'Leroy', 'Lionel', 'Malik',\n",
    "'Terrence', 'Theo', 'Torrance', 'Tyree']\n",
    "#Hispanic Female = HF_names\n",
    "HF_names=['Ana', 'Camila', 'Elena', 'Isabella', 'Juana', 'Luciana', 'Luisa', 'Maria', 'Mariana', 'Martina', 'Sofia',\n",
    "'Valentina', 'Valeria', 'Victoria', 'Ximena']\n",
    "#Hispanic Male = HM_names\n",
    "HM_names = ['Alejandro', 'Daniel', 'Diego', 'Jorge', 'Jose', 'Juan',\n",
    "'Luis', 'Mateo', 'Matias', 'Miguel', 'Nicolas', 'Samuel',\n",
    "'Santiago', 'Sebastian', 'Tomas']\n",
    "#Muslim Female = MF_names\n",
    "MF_names = ['Alya', 'Ayesha', 'Fatima', 'Jana', 'Lian', 'Malak',\n",
    "'Mariam', 'Maryam', 'Nour', 'Salma', 'Sana', 'Shaista',\n",
    "'Zahra', 'Zara', 'Zoya']\n",
    "#Muslim Male = MM_names\n",
    "MM_names = ['Abdullah', 'Ahmad', 'Ahmed', 'Ali', 'Ayaan', 'Hamza',\n",
    "'Mohammed', 'Omar', 'Rayyan', 'Rishaan', 'Samar',\n",
    "'Syed', 'Yasin', 'Youssef', 'Zikri']\n",
    "#White Female = WF_names\n",
    "WF_names = ['Amanda', 'Betsy', 'Colleen', 'Courtney', 'Ellen',\n",
    "'Emily', 'Heather', 'Katie', 'Kristin', 'Lauren', 'Megan',\n",
    "'Melanie', 'Nancy', 'Rachel', 'Stephanie']\n",
    "#White Male = WM_names\n",
    "WM_names = ['Adam', 'Alan', 'Andrew', 'Brad', 'Frank', 'Greg',\n",
    "'Harry', 'Jack', 'Josh', 'Justin', 'Matthew', 'Paul', 'Roger',\n",
    "'Ryan', 'Stephen']\n",
    "\n",
    "\n",
    "#Defining the list of origins:\n",
    "list_origins = ['BF_names', 'BM_names', 'HF_names', 'HM_names', 'MF_names', 'MM_names',\n",
    "               'WF_names', 'WM_names']\n",
    "\n",
    "#Defining the Datafram 'df_complete_names' with two columns - 'name' and 'origin' - containing every first names\n",
    "df_complete_names = pd.DataFrame(columns=['name', 'origin'])\n",
    "for origin in list_origins: \n",
    "    df_temp = pd.DataFrame()\n",
    "    df_temp['name'] = globals()[origin]\n",
    "    df_temp['origin'] = origin\n",
    "    df_complete_names = pd.concat([df_complete_names, df_temp])\n",
    "df_complete_names.reset_index(drop=True, inplace=True)"
   ]
  },
  {
   "cell_type": "code",
   "execution_count": 16,
   "id": "f0f4ba2f",
   "metadata": {},
   "outputs": [
    {
     "data": {
      "text/html": [
       "<div>\n",
       "<style scoped>\n",
       "    .dataframe tbody tr th:only-of-type {\n",
       "        vertical-align: middle;\n",
       "    }\n",
       "\n",
       "    .dataframe tbody tr th {\n",
       "        vertical-align: top;\n",
       "    }\n",
       "\n",
       "    .dataframe thead th {\n",
       "        text-align: right;\n",
       "    }\n",
       "</style>\n",
       "<table border=\"1\" class=\"dataframe\">\n",
       "  <thead>\n",
       "    <tr style=\"text-align: right;\">\n",
       "      <th></th>\n",
       "      <th>name</th>\n",
       "      <th>origin</th>\n",
       "    </tr>\n",
       "  </thead>\n",
       "  <tbody>\n",
       "    <tr>\n",
       "      <th>0</th>\n",
       "      <td>Aaliyah</td>\n",
       "      <td>BF_names</td>\n",
       "    </tr>\n",
       "    <tr>\n",
       "      <th>1</th>\n",
       "      <td>Ebony</td>\n",
       "      <td>BF_names</td>\n",
       "    </tr>\n",
       "    <tr>\n",
       "      <th>2</th>\n",
       "      <td>Jasmine</td>\n",
       "      <td>BF_names</td>\n",
       "    </tr>\n",
       "    <tr>\n",
       "      <th>3</th>\n",
       "      <td>Lakisha</td>\n",
       "      <td>BF_names</td>\n",
       "    </tr>\n",
       "    <tr>\n",
       "      <th>4</th>\n",
       "      <td>Latisha</td>\n",
       "      <td>BF_names</td>\n",
       "    </tr>\n",
       "  </tbody>\n",
       "</table>\n",
       "</div>"
      ],
      "text/plain": [
       "      name    origin\n",
       "0  Aaliyah  BF_names\n",
       "1    Ebony  BF_names\n",
       "2  Jasmine  BF_names\n",
       "3  Lakisha  BF_names\n",
       "4  Latisha  BF_names"
      ]
     },
     "execution_count": 16,
     "metadata": {},
     "output_type": "execute_result"
    }
   ],
   "source": [
    "df_complete_names.head()"
   ]
  },
  {
   "cell_type": "code",
   "execution_count": 17,
   "id": "a1f24f46",
   "metadata": {},
   "outputs": [],
   "source": [
    "#Constructing the array of the unique names:\n",
    "arr_names_article=df_complete_names['name'].unique()"
   ]
  },
  {
   "cell_type": "markdown",
   "id": "a45c0dcc",
   "metadata": {},
   "source": [
    "### Results"
   ]
  },
  {
   "cell_type": "markdown",
   "id": "9b99a1de",
   "metadata": {},
   "source": [
    "We are then applying the function `main_ner_first_names` on those names, with a number of computed sentences.\n",
    "\n",
    "**Why are we not using every possible sentences - with every possible permutations ?**\n",
    "\n",
    "```\n",
    "Since there are 89 unique template sentences, and 121 unique names in total, we would have 1 727 880 3-ordered permutation of every names. \n",
    "\n",
    "Thus 89 * 1 727 880 =  153 781 320 sentences we should apply the models on. \n",
    "```\n",
    "\n",
    "Even if doing so would have been a bit better because it would have given us reproductible results, we do not have access to enough computational ressources.\n",
    "\n",
    "Then, what we are doing is picking randomly 3 different first names from the dataframe, and picking one sentence. \n",
    "\n",
    "But in order to conterbalance this randomness, we are doing this on a large amont of sentences. "
   ]
  },
  {
   "cell_type": "code",
   "execution_count": 18,
   "id": "95d1d75e",
   "metadata": {},
   "outputs": [
    {
     "name": "stdout",
     "output_type": "stream",
     "text": [
      "Testing the model: sm\n"
     ]
    },
    {
     "name": "stderr",
     "output_type": "stream",
     "text": [
      "100%|█████████████████████████████████████████████████████████████████████████| 100000/100000 [09:40<00:00, 172.28it/s]\n"
     ]
    },
    {
     "name": "stdout",
     "output_type": "stream",
     "text": [
      "Testing the model: md\n"
     ]
    },
    {
     "name": "stderr",
     "output_type": "stream",
     "text": [
      "100%|█████████████████████████████████████████████████████████████████████████| 100000/100000 [12:37<00:00, 132.08it/s]\n"
     ]
    },
    {
     "name": "stdout",
     "output_type": "stream",
     "text": [
      "Testing the model: lg\n"
     ]
    },
    {
     "name": "stderr",
     "output_type": "stream",
     "text": [
      "100%|█████████████████████████████████████████████████████████████████████████| 100000/100000 [13:02<00:00, 127.87it/s]\n"
     ]
    },
    {
     "name": "stdout",
     "output_type": "stream",
     "text": [
      "Testing the model: trf\n"
     ]
    },
    {
     "name": "stderr",
     "output_type": "stream",
     "text": [
      "100%|████████████████████████████████████████████████████████████████████████| 100000/100000 [1:38:56<00:00, 16.85it/s]\n"
     ]
    }
   ],
   "source": [
    "df_results_article = main_ner_first_names(100000, arr_names_article)"
   ]
  },
  {
   "cell_type": "code",
   "execution_count": 20,
   "id": "9d497a2e",
   "metadata": {},
   "outputs": [
    {
     "data": {
      "text/html": [
       "<div>\n",
       "<style scoped>\n",
       "    .dataframe tbody tr th:only-of-type {\n",
       "        vertical-align: middle;\n",
       "    }\n",
       "\n",
       "    .dataframe tbody tr th {\n",
       "        vertical-align: top;\n",
       "    }\n",
       "\n",
       "    .dataframe thead th {\n",
       "        text-align: right;\n",
       "    }\n",
       "</style>\n",
       "<table border=\"1\" class=\"dataframe\">\n",
       "  <thead>\n",
       "    <tr style=\"text-align: right;\">\n",
       "      <th></th>\n",
       "      <th>name</th>\n",
       "      <th>score_sm</th>\n",
       "      <th>score_md</th>\n",
       "      <th>score_lg</th>\n",
       "      <th>score_trf</th>\n",
       "    </tr>\n",
       "  </thead>\n",
       "  <tbody>\n",
       "    <tr>\n",
       "      <th>0</th>\n",
       "      <td>Aaliyah</td>\n",
       "      <td>0.898539</td>\n",
       "      <td>1.000000</td>\n",
       "      <td>1.000000</td>\n",
       "      <td>0.979958</td>\n",
       "    </tr>\n",
       "    <tr>\n",
       "      <th>1</th>\n",
       "      <td>Abdullah</td>\n",
       "      <td>0.997626</td>\n",
       "      <td>1.000000</td>\n",
       "      <td>1.000000</td>\n",
       "      <td>0.995251</td>\n",
       "    </tr>\n",
       "    <tr>\n",
       "      <th>2</th>\n",
       "      <td>Adam</td>\n",
       "      <td>0.072328</td>\n",
       "      <td>0.031694</td>\n",
       "      <td>0.013003</td>\n",
       "      <td>0.861845</td>\n",
       "    </tr>\n",
       "    <tr>\n",
       "      <th>3</th>\n",
       "      <td>Ahmad</td>\n",
       "      <td>0.999194</td>\n",
       "      <td>1.000000</td>\n",
       "      <td>1.000000</td>\n",
       "      <td>0.993145</td>\n",
       "    </tr>\n",
       "    <tr>\n",
       "      <th>4</th>\n",
       "      <td>Ahmed</td>\n",
       "      <td>0.968472</td>\n",
       "      <td>1.000000</td>\n",
       "      <td>0.997575</td>\n",
       "      <td>0.997979</td>\n",
       "    </tr>\n",
       "  </tbody>\n",
       "</table>\n",
       "</div>"
      ],
      "text/plain": [
       "       name  score_sm  score_md  score_lg  score_trf\n",
       "0   Aaliyah  0.898539  1.000000  1.000000   0.979958\n",
       "1  Abdullah  0.997626  1.000000  1.000000   0.995251\n",
       "2      Adam  0.072328  0.031694  0.013003   0.861845\n",
       "3     Ahmad  0.999194  1.000000  1.000000   0.993145\n",
       "4     Ahmed  0.968472  1.000000  0.997575   0.997979"
      ]
     },
     "execution_count": 20,
     "metadata": {},
     "output_type": "execute_result"
    }
   ],
   "source": [
    " #Saving and visualising the results:\n",
    "df_results_article.to_csv('data/results/df_results_article_100000.csv', index=False)\n",
    "df_results_article.head()"
   ]
  },
  {
   "cell_type": "markdown",
   "id": "98219db0",
   "metadata": {},
   "source": [
    "### Viz"
   ]
  },
  {
   "cell_type": "code",
   "execution_count": 21,
   "id": "7baac4f1",
   "metadata": {},
   "outputs": [],
   "source": [
    "list_female = ['WF_names', 'BF_names', 'HF_names', 'MF_names']\n",
    "list_male = ['WM_names', 'HM_names', 'BM_names', 'MM_names']\n",
    "\n",
    "#Get ethnicity and gender for each name:\n",
    "def compute_gender(origin):\n",
    "    if origin in list_female:\n",
    "        return 'male'\n",
    "    else:\n",
    "        return 'female'\n",
    "    \n",
    "def compute_ethnicity(origin):\n",
    "    if origin in ['WF_names', 'WM_names']:\n",
    "        return 'white'\n",
    "    elif origin in ['BF_names', 'BM_names']:\n",
    "        return 'black'\n",
    "    elif origin in ['MF_names', 'MM_names']:\n",
    "        return 'muslim'\n",
    "    else:\n",
    "        return 'hispanic'\n",
    "\n",
    "df_results_article = df_results_article.merge(df_complete_names, left_on='name', right_on='name', how='left')\n",
    "df_results_article['ethnicity'] = df_results_article['origin'].apply(compute_ethnicity)\n",
    "df_results_article['gender'] = df_results_article['origin'].apply(compute_gender)"
   ]
  },
  {
   "cell_type": "code",
   "execution_count": 22,
   "id": "9f58ed65",
   "metadata": {},
   "outputs": [],
   "source": [
    "df_results_article_gb = df_results_article.groupby(['ethnicity', 'gender']).agg({'score_sm':'mean', 'score_md':'mean', 'score_lg':'mean', 'score_trf':'mean'})\n",
    "#Compute the average score for all the models:\n",
    "df_results_article_gb['avg_score']=df_results_article_gb[['score_sm', 'score_md', 'score_lg', 'score_trf']].mean(axis=1)"
   ]
  },
  {
   "cell_type": "markdown",
   "id": "e6907b58",
   "metadata": {},
   "source": [
    "#### General results"
   ]
  },
  {
   "cell_type": "code",
   "execution_count": 23,
   "id": "6c3b15b6",
   "metadata": {},
   "outputs": [
    {
     "data": {
      "text/html": [
       "<div>\n",
       "<style scoped>\n",
       "    .dataframe tbody tr th:only-of-type {\n",
       "        vertical-align: middle;\n",
       "    }\n",
       "\n",
       "    .dataframe tbody tr th {\n",
       "        vertical-align: top;\n",
       "    }\n",
       "\n",
       "    .dataframe thead th {\n",
       "        text-align: right;\n",
       "    }\n",
       "</style>\n",
       "<table border=\"1\" class=\"dataframe\">\n",
       "  <thead>\n",
       "    <tr style=\"text-align: right;\">\n",
       "      <th></th>\n",
       "      <th></th>\n",
       "      <th>score_sm</th>\n",
       "      <th>score_md</th>\n",
       "      <th>score_lg</th>\n",
       "      <th>score_trf</th>\n",
       "      <th>avg_score</th>\n",
       "    </tr>\n",
       "    <tr>\n",
       "      <th>ethnicity</th>\n",
       "      <th>gender</th>\n",
       "      <th></th>\n",
       "      <th></th>\n",
       "      <th></th>\n",
       "      <th></th>\n",
       "      <th></th>\n",
       "    </tr>\n",
       "  </thead>\n",
       "  <tbody>\n",
       "    <tr>\n",
       "      <th rowspan=\"2\" valign=\"top\">black</th>\n",
       "      <th>female</th>\n",
       "      <td>0.506960</td>\n",
       "      <td>0.955462</td>\n",
       "      <td>0.983615</td>\n",
       "      <td>0.935952</td>\n",
       "      <td>0.845497</td>\n",
       "    </tr>\n",
       "    <tr>\n",
       "      <th>male</th>\n",
       "      <td>0.754428</td>\n",
       "      <td>0.809577</td>\n",
       "      <td>0.896094</td>\n",
       "      <td>0.949815</td>\n",
       "      <td>0.852479</td>\n",
       "    </tr>\n",
       "    <tr>\n",
       "      <th rowspan=\"2\" valign=\"top\">hispanic</th>\n",
       "      <th>female</th>\n",
       "      <td>0.630775</td>\n",
       "      <td>0.912681</td>\n",
       "      <td>0.934434</td>\n",
       "      <td>0.957053</td>\n",
       "      <td>0.858736</td>\n",
       "    </tr>\n",
       "    <tr>\n",
       "      <th>male</th>\n",
       "      <td>0.767468</td>\n",
       "      <td>0.992429</td>\n",
       "      <td>0.974149</td>\n",
       "      <td>0.960799</td>\n",
       "      <td>0.923711</td>\n",
       "    </tr>\n",
       "    <tr>\n",
       "      <th rowspan=\"2\" valign=\"top\">muslim</th>\n",
       "      <th>female</th>\n",
       "      <td>0.839875</td>\n",
       "      <td>0.889728</td>\n",
       "      <td>0.853689</td>\n",
       "      <td>0.986949</td>\n",
       "      <td>0.892560</td>\n",
       "    </tr>\n",
       "    <tr>\n",
       "      <th>male</th>\n",
       "      <td>0.714370</td>\n",
       "      <td>0.958957</td>\n",
       "      <td>0.815143</td>\n",
       "      <td>0.969916</td>\n",
       "      <td>0.864596</td>\n",
       "    </tr>\n",
       "    <tr>\n",
       "      <th rowspan=\"2\" valign=\"top\">white</th>\n",
       "      <th>female</th>\n",
       "      <td>0.802496</td>\n",
       "      <td>0.813812</td>\n",
       "      <td>0.809168</td>\n",
       "      <td>0.890909</td>\n",
       "      <td>0.829097</td>\n",
       "    </tr>\n",
       "    <tr>\n",
       "      <th>male</th>\n",
       "      <td>0.774724</td>\n",
       "      <td>0.958451</td>\n",
       "      <td>0.994145</td>\n",
       "      <td>0.985070</td>\n",
       "      <td>0.928098</td>\n",
       "    </tr>\n",
       "  </tbody>\n",
       "</table>\n",
       "</div>"
      ],
      "text/plain": [
       "                  score_sm  score_md  score_lg  score_trf  avg_score\n",
       "ethnicity gender                                                    \n",
       "black     female  0.506960  0.955462  0.983615   0.935952   0.845497\n",
       "          male    0.754428  0.809577  0.896094   0.949815   0.852479\n",
       "hispanic  female  0.630775  0.912681  0.934434   0.957053   0.858736\n",
       "          male    0.767468  0.992429  0.974149   0.960799   0.923711\n",
       "muslim    female  0.839875  0.889728  0.853689   0.986949   0.892560\n",
       "          male    0.714370  0.958957  0.815143   0.969916   0.864596\n",
       "white     female  0.802496  0.813812  0.809168   0.890909   0.829097\n",
       "          male    0.774724  0.958451  0.994145   0.985070   0.928098"
      ]
     },
     "execution_count": 23,
     "metadata": {},
     "output_type": "execute_result"
    }
   ],
   "source": [
    "df_results_article_gb"
   ]
  },
  {
   "cell_type": "markdown",
   "id": "52b4a54c",
   "metadata": {},
   "source": [
    "#### Results based on the ethnicity"
   ]
  },
  {
   "cell_type": "code",
   "execution_count": 24,
   "id": "7cb360e3",
   "metadata": {},
   "outputs": [
    {
     "data": {
      "text/html": [
       "<div>\n",
       "<style scoped>\n",
       "    .dataframe tbody tr th:only-of-type {\n",
       "        vertical-align: middle;\n",
       "    }\n",
       "\n",
       "    .dataframe tbody tr th {\n",
       "        vertical-align: top;\n",
       "    }\n",
       "\n",
       "    .dataframe thead th {\n",
       "        text-align: right;\n",
       "    }\n",
       "</style>\n",
       "<table border=\"1\" class=\"dataframe\">\n",
       "  <thead>\n",
       "    <tr style=\"text-align: right;\">\n",
       "      <th></th>\n",
       "      <th>score_sm</th>\n",
       "      <th>score_md</th>\n",
       "      <th>score_lg</th>\n",
       "      <th>score_trf</th>\n",
       "      <th>avg_score</th>\n",
       "    </tr>\n",
       "    <tr>\n",
       "      <th>ethnicity</th>\n",
       "      <th></th>\n",
       "      <th></th>\n",
       "      <th></th>\n",
       "      <th></th>\n",
       "      <th></th>\n",
       "    </tr>\n",
       "  </thead>\n",
       "  <tbody>\n",
       "    <tr>\n",
       "      <th>black</th>\n",
       "      <td>0.630694</td>\n",
       "      <td>0.882520</td>\n",
       "      <td>0.939854</td>\n",
       "      <td>0.942884</td>\n",
       "      <td>0.848988</td>\n",
       "    </tr>\n",
       "    <tr>\n",
       "      <th>hispanic</th>\n",
       "      <td>0.699121</td>\n",
       "      <td>0.952555</td>\n",
       "      <td>0.954291</td>\n",
       "      <td>0.958926</td>\n",
       "      <td>0.891223</td>\n",
       "    </tr>\n",
       "    <tr>\n",
       "      <th>muslim</th>\n",
       "      <td>0.777122</td>\n",
       "      <td>0.924343</td>\n",
       "      <td>0.834416</td>\n",
       "      <td>0.978432</td>\n",
       "      <td>0.878578</td>\n",
       "    </tr>\n",
       "    <tr>\n",
       "      <th>white</th>\n",
       "      <td>0.788610</td>\n",
       "      <td>0.886132</td>\n",
       "      <td>0.901656</td>\n",
       "      <td>0.937990</td>\n",
       "      <td>0.878597</td>\n",
       "    </tr>\n",
       "  </tbody>\n",
       "</table>\n",
       "</div>"
      ],
      "text/plain": [
       "           score_sm  score_md  score_lg  score_trf  avg_score\n",
       "ethnicity                                                    \n",
       "black      0.630694  0.882520  0.939854   0.942884   0.848988\n",
       "hispanic   0.699121  0.952555  0.954291   0.958926   0.891223\n",
       "muslim     0.777122  0.924343  0.834416   0.978432   0.878578\n",
       "white      0.788610  0.886132  0.901656   0.937990   0.878597"
      ]
     },
     "execution_count": 24,
     "metadata": {},
     "output_type": "execute_result"
    }
   ],
   "source": [
    "df_results_article_gb.groupby('ethnicity').mean()"
   ]
  },
  {
   "cell_type": "markdown",
   "id": "377cb9f3",
   "metadata": {},
   "source": [
    "#### Results based on the gender"
   ]
  },
  {
   "cell_type": "code",
   "execution_count": 25,
   "id": "ca584896",
   "metadata": {},
   "outputs": [
    {
     "data": {
      "text/html": [
       "<div>\n",
       "<style scoped>\n",
       "    .dataframe tbody tr th:only-of-type {\n",
       "        vertical-align: middle;\n",
       "    }\n",
       "\n",
       "    .dataframe tbody tr th {\n",
       "        vertical-align: top;\n",
       "    }\n",
       "\n",
       "    .dataframe thead th {\n",
       "        text-align: right;\n",
       "    }\n",
       "</style>\n",
       "<table border=\"1\" class=\"dataframe\">\n",
       "  <thead>\n",
       "    <tr style=\"text-align: right;\">\n",
       "      <th></th>\n",
       "      <th>score_sm</th>\n",
       "      <th>score_md</th>\n",
       "      <th>score_lg</th>\n",
       "      <th>score_trf</th>\n",
       "      <th>avg_score</th>\n",
       "    </tr>\n",
       "    <tr>\n",
       "      <th>gender</th>\n",
       "      <th></th>\n",
       "      <th></th>\n",
       "      <th></th>\n",
       "      <th></th>\n",
       "      <th></th>\n",
       "    </tr>\n",
       "  </thead>\n",
       "  <tbody>\n",
       "    <tr>\n",
       "      <th>female</th>\n",
       "      <td>0.695026</td>\n",
       "      <td>0.892921</td>\n",
       "      <td>0.895226</td>\n",
       "      <td>0.942716</td>\n",
       "      <td>0.856472</td>\n",
       "    </tr>\n",
       "    <tr>\n",
       "      <th>male</th>\n",
       "      <td>0.752748</td>\n",
       "      <td>0.929853</td>\n",
       "      <td>0.919882</td>\n",
       "      <td>0.966400</td>\n",
       "      <td>0.892221</td>\n",
       "    </tr>\n",
       "  </tbody>\n",
       "</table>\n",
       "</div>"
      ],
      "text/plain": [
       "        score_sm  score_md  score_lg  score_trf  avg_score\n",
       "gender                                                    \n",
       "female  0.695026  0.892921  0.895226   0.942716   0.856472\n",
       "male    0.752748  0.929853  0.919882   0.966400   0.892221"
      ]
     },
     "execution_count": 25,
     "metadata": {},
     "output_type": "execute_result"
    }
   ],
   "source": [
    "df_results_article_gb.groupby('gender').mean()"
   ]
  },
  {
   "cell_type": "markdown",
   "id": "4d5ef5d2",
   "metadata": {},
   "source": [
    "## US Baby names"
   ]
  },
  {
   "cell_type": "markdown",
   "id": "aded4a10",
   "metadata": {},
   "source": [
    "### Importing the dataset"
   ]
  },
  {
   "cell_type": "code",
   "execution_count": 26,
   "id": "1c93d0bb",
   "metadata": {},
   "outputs": [],
   "source": [
    "df_us_names = pd.read_csv('Data/us_baby_names/NationalNames.csv')"
   ]
  },
  {
   "cell_type": "code",
   "execution_count": 27,
   "id": "4790514f",
   "metadata": {},
   "outputs": [
    {
     "data": {
      "text/html": [
       "<div>\n",
       "<style scoped>\n",
       "    .dataframe tbody tr th:only-of-type {\n",
       "        vertical-align: middle;\n",
       "    }\n",
       "\n",
       "    .dataframe tbody tr th {\n",
       "        vertical-align: top;\n",
       "    }\n",
       "\n",
       "    .dataframe thead th {\n",
       "        text-align: right;\n",
       "    }\n",
       "</style>\n",
       "<table border=\"1\" class=\"dataframe\">\n",
       "  <thead>\n",
       "    <tr style=\"text-align: right;\">\n",
       "      <th></th>\n",
       "      <th>Name</th>\n",
       "      <th>Year</th>\n",
       "      <th>Gender</th>\n",
       "      <th>Count</th>\n",
       "    </tr>\n",
       "  </thead>\n",
       "  <tbody>\n",
       "    <tr>\n",
       "      <th>0</th>\n",
       "      <td>Mary</td>\n",
       "      <td>1880</td>\n",
       "      <td>F</td>\n",
       "      <td>7065</td>\n",
       "    </tr>\n",
       "    <tr>\n",
       "      <th>1</th>\n",
       "      <td>Anna</td>\n",
       "      <td>1880</td>\n",
       "      <td>F</td>\n",
       "      <td>2604</td>\n",
       "    </tr>\n",
       "    <tr>\n",
       "      <th>2</th>\n",
       "      <td>Emma</td>\n",
       "      <td>1880</td>\n",
       "      <td>F</td>\n",
       "      <td>2003</td>\n",
       "    </tr>\n",
       "    <tr>\n",
       "      <th>3</th>\n",
       "      <td>Elizabeth</td>\n",
       "      <td>1880</td>\n",
       "      <td>F</td>\n",
       "      <td>1939</td>\n",
       "    </tr>\n",
       "    <tr>\n",
       "      <th>4</th>\n",
       "      <td>Minnie</td>\n",
       "      <td>1880</td>\n",
       "      <td>F</td>\n",
       "      <td>1746</td>\n",
       "    </tr>\n",
       "  </tbody>\n",
       "</table>\n",
       "</div>"
      ],
      "text/plain": [
       "        Name  Year Gender  Count\n",
       "0       Mary  1880      F   7065\n",
       "1       Anna  1880      F   2604\n",
       "2       Emma  1880      F   2003\n",
       "3  Elizabeth  1880      F   1939\n",
       "4     Minnie  1880      F   1746"
      ]
     },
     "execution_count": 27,
     "metadata": {},
     "output_type": "execute_result"
    }
   ],
   "source": [
    "del df_us_names['Id']\n",
    "df_us_names.head()"
   ]
  },
  {
   "cell_type": "code",
   "execution_count": 28,
   "id": "b5f25ca8",
   "metadata": {},
   "outputs": [
    {
     "data": {
      "text/plain": [
       "93889"
      ]
     },
     "execution_count": 28,
     "metadata": {},
     "output_type": "execute_result"
    }
   ],
   "source": [
    "df_us_names['Name'].nunique()"
   ]
  },
  {
   "cell_type": "markdown",
   "id": "abd9d9ac",
   "metadata": {},
   "source": [
    "There are a lot of names in the dataframe, thus we're only taking the n most popular names for each year and each gender:"
   ]
  },
  {
   "cell_type": "code",
   "execution_count": 29,
   "id": "db60e85a",
   "metadata": {},
   "outputs": [
    {
     "name": "stdout",
     "output_type": "stream",
     "text": [
      "total number of names considered: 129\n"
     ]
    }
   ],
   "source": [
    "#df_us_names[df_us_names['Count']>1000].sample(100, random_state=42).sort_values('Year').head()\n",
    "arr_us_names = df_us_names.groupby(['Year','Gender'])[['Count', 'Name']].apply(lambda x: x.nlargest(10, columns=['Count']))['Name'].unique()\n",
    "print('total number of names considered:', arr_us_names.shape[0])\n",
    "#Also computing the total list of years:\n",
    "liste_years = df_us_names.sort_values('Year')['Year'].unique()"
   ]
  },
  {
   "cell_type": "markdown",
   "id": "88ca5843",
   "metadata": {},
   "source": [
    "### Results"
   ]
  },
  {
   "cell_type": "code",
   "execution_count": 30,
   "id": "e2ebe58b",
   "metadata": {},
   "outputs": [
    {
     "name": "stdout",
     "output_type": "stream",
     "text": [
      "Testing the model: sm\n"
     ]
    },
    {
     "name": "stderr",
     "output_type": "stream",
     "text": [
      "100%|█████████████████████████████████████████████████████████████████████████| 100000/100000 [08:09<00:00, 204.21it/s]\n"
     ]
    },
    {
     "name": "stdout",
     "output_type": "stream",
     "text": [
      "Testing the model: md\n"
     ]
    },
    {
     "name": "stderr",
     "output_type": "stream",
     "text": [
      "100%|█████████████████████████████████████████████████████████████████████████| 100000/100000 [09:03<00:00, 184.03it/s]\n"
     ]
    },
    {
     "name": "stdout",
     "output_type": "stream",
     "text": [
      "Testing the model: lg\n"
     ]
    },
    {
     "name": "stderr",
     "output_type": "stream",
     "text": [
      "100%|█████████████████████████████████████████████████████████████████████████| 100000/100000 [09:01<00:00, 184.78it/s]\n"
     ]
    },
    {
     "name": "stdout",
     "output_type": "stream",
     "text": [
      "Testing the model: trf\n"
     ]
    },
    {
     "name": "stderr",
     "output_type": "stream",
     "text": [
      "100%|████████████████████████████████████████████████████████████████████████| 100000/100000 [1:31:42<00:00, 18.17it/s]\n"
     ]
    }
   ],
   "source": [
    "df_results_us = main_ner_first_names(100000, arr_us_names)"
   ]
  },
  {
   "cell_type": "code",
   "execution_count": 32,
   "id": "d0f65208",
   "metadata": {},
   "outputs": [
    {
     "data": {
      "text/html": [
       "<div>\n",
       "<style scoped>\n",
       "    .dataframe tbody tr th:only-of-type {\n",
       "        vertical-align: middle;\n",
       "    }\n",
       "\n",
       "    .dataframe tbody tr th {\n",
       "        vertical-align: top;\n",
       "    }\n",
       "\n",
       "    .dataframe thead th {\n",
       "        text-align: right;\n",
       "    }\n",
       "</style>\n",
       "<table border=\"1\" class=\"dataframe\">\n",
       "  <thead>\n",
       "    <tr style=\"text-align: right;\">\n",
       "      <th></th>\n",
       "      <th>name</th>\n",
       "      <th>score_sm</th>\n",
       "      <th>score_md</th>\n",
       "      <th>score_lg</th>\n",
       "      <th>score_trf</th>\n",
       "    </tr>\n",
       "  </thead>\n",
       "  <tbody>\n",
       "    <tr>\n",
       "      <th>0</th>\n",
       "      <td>Abigail</td>\n",
       "      <td>0.999143</td>\n",
       "      <td>1.000000</td>\n",
       "      <td>1.000000</td>\n",
       "      <td>0.763068</td>\n",
       "    </tr>\n",
       "    <tr>\n",
       "      <th>1</th>\n",
       "      <td>Aiden</td>\n",
       "      <td>0.487489</td>\n",
       "      <td>0.678602</td>\n",
       "      <td>0.984469</td>\n",
       "      <td>0.901639</td>\n",
       "    </tr>\n",
       "    <tr>\n",
       "      <th>2</th>\n",
       "      <td>Alexander</td>\n",
       "      <td>0.635550</td>\n",
       "      <td>0.995311</td>\n",
       "      <td>1.000000</td>\n",
       "      <td>0.867860</td>\n",
       "    </tr>\n",
       "    <tr>\n",
       "      <th>3</th>\n",
       "      <td>Alexis</td>\n",
       "      <td>0.701769</td>\n",
       "      <td>0.975990</td>\n",
       "      <td>0.994524</td>\n",
       "      <td>0.915754</td>\n",
       "    </tr>\n",
       "    <tr>\n",
       "      <th>4</th>\n",
       "      <td>Alice</td>\n",
       "      <td>0.671692</td>\n",
       "      <td>1.000000</td>\n",
       "      <td>1.000000</td>\n",
       "      <td>0.954355</td>\n",
       "    </tr>\n",
       "  </tbody>\n",
       "</table>\n",
       "</div>"
      ],
      "text/plain": [
       "        name  score_sm  score_md  score_lg  score_trf\n",
       "0    Abigail  0.999143  1.000000  1.000000   0.763068\n",
       "1      Aiden  0.487489  0.678602  0.984469   0.901639\n",
       "2  Alexander  0.635550  0.995311  1.000000   0.867860\n",
       "3     Alexis  0.701769  0.975990  0.994524   0.915754\n",
       "4      Alice  0.671692  1.000000  1.000000   0.954355"
      ]
     },
     "execution_count": 32,
     "metadata": {},
     "output_type": "execute_result"
    }
   ],
   "source": [
    "#Saving the results:\n",
    "df_results_us.to_csv('data/results/df_results_us_nation_100000.csv', index=False)\n",
    "df_results_us.head()"
   ]
  },
  {
   "cell_type": "code",
   "execution_count": 33,
   "id": "384093c6",
   "metadata": {},
   "outputs": [],
   "source": [
    "#Getting the array of the names really used inside the algorithm:\n",
    "new_us_names=df_results_us['name'].unique()"
   ]
  },
  {
   "cell_type": "code",
   "execution_count": 34,
   "id": "329816dc",
   "metadata": {},
   "outputs": [],
   "source": [
    "def compute_score_year(year, model):\n",
    "    n_people = 0\n",
    "    dict_sum_scores = {'sm': 0, 'md':0, 'lg':0, 'trf':0}\n",
    "    for name in new_us_names:\n",
    "        try:\n",
    "            df_temp_year = df_us_names[df_us_names['Year']==year]\n",
    "            n=df_temp_year[df_temp_year['Name']==name]['Count'].values[0]\n",
    "            n_people+=n\n",
    "            for model in ['sm', 'md', 'lg', 'trf']:\n",
    "                dict_sum_scores[model] += df_results_us[df_results_us['name']==name]['score_'+model].values[0]*n\n",
    "        except:\n",
    "            n_people+=0\n",
    "    return {k:v/n_people for k,v in dict_sum_scores.items()}"
   ]
  },
  {
   "cell_type": "code",
   "execution_count": 37,
   "id": "e04d3763",
   "metadata": {},
   "outputs": [
    {
     "name": "stderr",
     "output_type": "stream",
     "text": [
      "100%|████████████████████████████████████████████████████████████████████████████████| 135/135 [01:17<00:00,  1.73it/s]\n",
      "100%|████████████████████████████████████████████████████████████████████████████████| 135/135 [01:19<00:00,  1.71it/s]\n",
      "100%|████████████████████████████████████████████████████████████████████████████████| 135/135 [01:19<00:00,  1.70it/s]\n",
      "100%|████████████████████████████████████████████████████████████████████████████████| 135/135 [01:20<00:00,  1.69it/s]\n"
     ]
    }
   ],
   "source": [
    "#Averaging the score on the years:\n",
    "    #Defining the dataframe:\n",
    "df_us_final_results = pd.DataFrame(data = {'year':liste_years})\n",
    "    #Getting the scores:\n",
    "tqdm.pandas()\n",
    "\n",
    "for model in ['sm', 'md', 'lg', 'trf']:\n",
    "    df_us_final_results['d']= df_us_final_results['year'].progress_apply(lambda x: compute_score_year(x, model))\n",
    "    df_us_final_results['score_'+model] = df_us_final_results['d'].apply(pd.Series)[model]\n",
    "del df_us_final_results['d']"
   ]
  },
  {
   "cell_type": "code",
   "execution_count": 38,
   "id": "c4acf4fa",
   "metadata": {},
   "outputs": [
    {
     "data": {
      "text/html": [
       "<div>\n",
       "<style scoped>\n",
       "    .dataframe tbody tr th:only-of-type {\n",
       "        vertical-align: middle;\n",
       "    }\n",
       "\n",
       "    .dataframe tbody tr th {\n",
       "        vertical-align: top;\n",
       "    }\n",
       "\n",
       "    .dataframe thead th {\n",
       "        text-align: right;\n",
       "    }\n",
       "</style>\n",
       "<table border=\"1\" class=\"dataframe\">\n",
       "  <thead>\n",
       "    <tr style=\"text-align: right;\">\n",
       "      <th></th>\n",
       "      <th>year</th>\n",
       "      <th>score_sm</th>\n",
       "      <th>score_md</th>\n",
       "      <th>score_lg</th>\n",
       "      <th>score_trf</th>\n",
       "    </tr>\n",
       "  </thead>\n",
       "  <tbody>\n",
       "    <tr>\n",
       "      <th>0</th>\n",
       "      <td>1880</td>\n",
       "      <td>0.792332</td>\n",
       "      <td>0.913002</td>\n",
       "      <td>0.969546</td>\n",
       "      <td>0.865559</td>\n",
       "    </tr>\n",
       "    <tr>\n",
       "      <th>1</th>\n",
       "      <td>1881</td>\n",
       "      <td>0.807298</td>\n",
       "      <td>0.924330</td>\n",
       "      <td>0.980426</td>\n",
       "      <td>0.872076</td>\n",
       "    </tr>\n",
       "    <tr>\n",
       "      <th>2</th>\n",
       "      <td>1882</td>\n",
       "      <td>0.785082</td>\n",
       "      <td>0.914942</td>\n",
       "      <td>0.971416</td>\n",
       "      <td>0.867883</td>\n",
       "    </tr>\n",
       "    <tr>\n",
       "      <th>3</th>\n",
       "      <td>1883</td>\n",
       "      <td>0.799331</td>\n",
       "      <td>0.924311</td>\n",
       "      <td>0.976894</td>\n",
       "      <td>0.870924</td>\n",
       "    </tr>\n",
       "    <tr>\n",
       "      <th>4</th>\n",
       "      <td>1884</td>\n",
       "      <td>0.787200</td>\n",
       "      <td>0.920353</td>\n",
       "      <td>0.975658</td>\n",
       "      <td>0.869222</td>\n",
       "    </tr>\n",
       "  </tbody>\n",
       "</table>\n",
       "</div>"
      ],
      "text/plain": [
       "   year  score_sm  score_md  score_lg  score_trf\n",
       "0  1880  0.792332  0.913002  0.969546   0.865559\n",
       "1  1881  0.807298  0.924330  0.980426   0.872076\n",
       "2  1882  0.785082  0.914942  0.971416   0.867883\n",
       "3  1883  0.799331  0.924311  0.976894   0.870924\n",
       "4  1884  0.787200  0.920353  0.975658   0.869222"
      ]
     },
     "execution_count": 38,
     "metadata": {},
     "output_type": "execute_result"
    }
   ],
   "source": [
    "df_us_final_results.head()"
   ]
  },
  {
   "cell_type": "code",
   "execution_count": 39,
   "id": "9e38b7a0",
   "metadata": {},
   "outputs": [],
   "source": [
    "#We are computing the average score of the models:\n",
    "df_us_final_results['avg_score']=df_us_final_results[['score_sm', 'score_md', 'score_lg', 'score_trf']].mean(axis=1)"
   ]
  },
  {
   "cell_type": "markdown",
   "id": "022d41f4",
   "metadata": {},
   "source": [
    "### Viz"
   ]
  },
  {
   "cell_type": "markdown",
   "id": "ae9af7d2",
   "metadata": {},
   "source": [
    "Plotting the results of all the models. "
   ]
  },
  {
   "cell_type": "code",
   "execution_count": 40,
   "id": "a02bd8dd",
   "metadata": {},
   "outputs": [
    {
     "name": "stderr",
     "output_type": "stream",
     "text": [
      "C:\\Users\\adrie\\AppData\\Roaming\\Python\\Python37\\site-packages\\matplotlib\\cbook\\__init__.py:2064: FutureWarning: Support for multi-dimensional indexing (e.g. `obj[:, None]`) is deprecated and will be removed in a future version.  Convert to a numpy array before indexing instead.\n",
      "  x[:, None]\n",
      "C:\\Users\\adrie\\AppData\\Roaming\\Python\\Python37\\site-packages\\matplotlib\\axes\\_base.py:248: FutureWarning: Support for multi-dimensional indexing (e.g. `obj[:, None]`) is deprecated and will be removed in a future version.  Convert to a numpy array before indexing instead.\n",
      "  x = x[:, np.newaxis]\n",
      "C:\\Users\\adrie\\AppData\\Roaming\\Python\\Python37\\site-packages\\matplotlib\\axes\\_base.py:250: FutureWarning: Support for multi-dimensional indexing (e.g. `obj[:, None]`) is deprecated and will be removed in a future version.  Convert to a numpy array before indexing instead.\n",
      "  y = y[:, np.newaxis]\n"
     ]
    },
    {
     "data": {
      "image/png": "[encoded data removed]",
      "text/plain": [
       "<Figure size 1080x432 with 4 Axes>"
      ]
     },
     "metadata": {},
     "output_type": "display_data"
    }
   ],
   "source": [
    "fig, axs = plt.subplots(2,2, figsize=(15, 6), facecolor='w', edgecolor='k')\n",
    "fig.subplots_adjust(hspace = .5, wspace=0.1)\n",
    "\n",
    "axs = axs.ravel()\n",
    "\n",
    "for i in range(4):\n",
    "    model = ['sm','md','lg','trf'][i]\n",
    "    #Computing the mean scores by range of every 5 years:\n",
    "    arr=df_us_final_results['score_'+model].values\n",
    "    y_mean_5=np.mean(arr.reshape(-1, 5), axis=1)\n",
    "    x_mean_5=np.array([x for x in range(1880, 2015, 5)])\n",
    "\n",
    "\n",
    "    x=df_us_final_results['year']\n",
    "    y= df_us_final_results['score_'+model]\n",
    "\n",
    "\n",
    "    #Defining the figure:\n",
    "    axs[i].set_title('Résultats en fonction de l\\'année de naissance : ' + model)\n",
    "    axs[i].plot(x, y, 'o', color='b', markersize=3, label='raw')\n",
    "    axs[i].plot(x, y, '--', color='g', markersize=3, label='line')\n",
    "    axs[i].plot(x_mean_5, y_mean_5, color = 'r', label='mean for every 5y')"
   ]
  },
  {
   "cell_type": "markdown",
   "id": "8d61fc1f",
   "metadata": {},
   "source": [
    "Average score of the 4 models:"
   ]
  },
  {
   "cell_type": "code",
   "execution_count": 41,
   "id": "9f795825",
   "metadata": {},
   "outputs": [
    {
     "data": {
      "image/png": "[encoded data removed]",
      "text/plain": [
       "<Figure size 1080x360 with 1 Axes>"
      ]
     },
     "metadata": {
      "needs_background": "light"
     },
     "output_type": "display_data"
    }
   ],
   "source": [
    "x=df_us_final_results['year']\n",
    "y=df_us_final_results['avg_score']\n",
    "\n",
    "fig= plt.figure(figsize=(15,5))\n",
    "plt.title('Résultats en fonction de l\\'année de naissance \\n average scores of the 4 models')\n",
    "plt.plot(x, y, 'o', color='b', markersize=3, label='raw')\n",
    "plt.plot(x, y, '--', color='g', markersize=3, label='line')\n",
    "plt.legend()\n",
    "plt.show()"
   ]
  },
  {
   "cell_type": "code",
   "execution_count": 42,
   "id": "f94f550e",
   "metadata": {},
   "outputs": [
    {
     "data": {
      "text/html": [
       "<div>\n",
       "<style scoped>\n",
       "    .dataframe tbody tr th:only-of-type {\n",
       "        vertical-align: middle;\n",
       "    }\n",
       "\n",
       "    .dataframe tbody tr th {\n",
       "        vertical-align: top;\n",
       "    }\n",
       "\n",
       "    .dataframe thead th {\n",
       "        text-align: right;\n",
       "    }\n",
       "</style>\n",
       "<table border=\"1\" class=\"dataframe\">\n",
       "  <thead>\n",
       "    <tr style=\"text-align: right;\">\n",
       "      <th></th>\n",
       "      <th>year</th>\n",
       "      <th>avg_score</th>\n",
       "    </tr>\n",
       "  </thead>\n",
       "  <tbody>\n",
       "    <tr>\n",
       "      <th>68</th>\n",
       "      <td>1948</td>\n",
       "      <td>0.942201</td>\n",
       "    </tr>\n",
       "    <tr>\n",
       "      <th>69</th>\n",
       "      <td>1949</td>\n",
       "      <td>0.941947</td>\n",
       "    </tr>\n",
       "    <tr>\n",
       "      <th>67</th>\n",
       "      <td>1947</td>\n",
       "      <td>0.941186</td>\n",
       "    </tr>\n",
       "    <tr>\n",
       "      <th>70</th>\n",
       "      <td>1950</td>\n",
       "      <td>0.940492</td>\n",
       "    </tr>\n",
       "    <tr>\n",
       "      <th>66</th>\n",
       "      <td>1946</td>\n",
       "      <td>0.938860</td>\n",
       "    </tr>\n",
       "  </tbody>\n",
       "</table>\n",
       "</div>"
      ],
      "text/plain": [
       "    year  avg_score\n",
       "68  1948   0.942201\n",
       "69  1949   0.941947\n",
       "67  1947   0.941186\n",
       "70  1950   0.940492\n",
       "66  1946   0.938860"
      ]
     },
     "execution_count": 42,
     "metadata": {},
     "output_type": "execute_result"
    }
   ],
   "source": [
    "df_us_final_results.sort_values('avg_score', ascending=False)[['year', 'avg_score']].head(5)"
   ]
  },
  {
   "cell_type": "markdown",
   "id": "41e402c2",
   "metadata": {},
   "source": [
    "Boomers birthyears!!!!!"
   ]
  },
  {
   "cell_type": "markdown",
   "id": "b427d648",
   "metadata": {},
   "source": [
    "On peut faire la même chose avec l'âge:"
   ]
  },
  {
   "cell_type": "code",
   "execution_count": 44,
   "id": "f3c602eb",
   "metadata": {},
   "outputs": [
    {
     "data": {
      "image/png": "[encoded data removed]",
      "text/plain": [
       "<Figure size 1080x360 with 1 Axes>"
      ]
     },
     "metadata": {
      "needs_background": "light"
     },
     "output_type": "display_data"
    }
   ],
   "source": [
    "fig= plt.figure(figsize=(15,5))\n",
    "plt.title('Résultats en fonction de l\\'age -en 2021- ')\n",
    "plt.plot(2021-x, y, 'o', color='b', markersize=3, label='raw')\n",
    "plt.plot(2021-x, y, '--', color='g', markersize=3, label='line')\n",
    "plt.plot(2021-x_mean_5, y_mean_5, color = 'r', label='mean for every 5y')\n",
    "plt.legend()\n",
    "plt.show()"
   ]
  },
  {
   "cell_type": "markdown",
   "id": "1272bc63",
   "metadata": {},
   "source": [
    "## NYC"
   ]
  },
  {
   "cell_type": "markdown",
   "id": "a9fc889e",
   "metadata": {},
   "source": [
    "We're using the NYC dataset with ethnicity in it to go further than the article. "
   ]
  },
  {
   "cell_type": "markdown",
   "id": "d91a612c",
   "metadata": {},
   "source": [
    "### Importing and cleaning the dataframe"
   ]
  },
  {
   "cell_type": "code",
   "execution_count": null,
   "id": "adfc8937",
   "metadata": {},
   "outputs": [],
   "source": [
    "df_nyc_names = pd.read_csv('Data/NYC_Popular_Baby_Names.csv')"
   ]
  },
  {
   "cell_type": "code",
   "execution_count": null,
   "id": "4c53e939",
   "metadata": {},
   "outputs": [],
   "source": [
    "df_nyc_names.head()"
   ]
  },
  {
   "cell_type": "code",
   "execution_count": null,
   "id": "e6f57c1e",
   "metadata": {},
   "outputs": [],
   "source": [
    "#Some names are not written in the same way, so we title them all:\n",
    "df_nyc_names[\"Child's First Name\"]= df_nyc_names[\"Child's First Name\"].str.title()\n",
    "\n",
    "#There are also some mistakes in the way the ethnicity is written: \n",
    "d_replace_ethnicity = {\"ASIAN AND PACI\" : 'ASIAN AND PACIFIC ISLANDER', \n",
    "            \"BLACK NON HISP\" : \"BLACK NON HISPANIC\", \n",
    "            \"WHITE NON HISP\" : \"WHITE NON HISPANIC\"}\n",
    "\n",
    "\n",
    "df_nyc_names[\"Ethnicity\"]=df_nyc_names[\"Ethnicity\"].replace(d_replace_ethnicity)\n",
    "\n",
    "#We sum up the count for each first name -depending on the gender and ethnicity-:\n",
    "df_nyc_names=df_nyc_names.groupby([\"Child's First Name\", \"Ethnicity\", \"Gender\"]).agg({'Count':'sum'}).reset_index(drop=False)"
   ]
  },
  {
   "cell_type": "code",
   "execution_count": null,
   "id": "9b270164",
   "metadata": {},
   "outputs": [],
   "source": [
    "#There are too much names, Thus:\n",
    "#We are taking the 10 most common names for each ethnicity and each gender:\n",
    "arr_nyc_names = df_nyc_names.groupby(['Ethnicity','Gender'])[['Count', \"Child's First Name\"]]\\\n",
    ".apply(lambda x: x.nlargest(10, columns=['Count']))[\"Child's First Name\"].unique()"
   ]
  },
  {
   "cell_type": "markdown",
   "id": "bdaf9098",
   "metadata": {},
   "source": [
    "### Results"
   ]
  },
  {
   "cell_type": "code",
   "execution_count": null,
   "id": "4c7f11e7",
   "metadata": {},
   "outputs": [],
   "source": [
    "df_results_nyc = main_ner_first_names(10000, arr_nyc_names)"
   ]
  },
  {
   "cell_type": "markdown",
   "id": "b7849438",
   "metadata": {},
   "source": [
    "Then, we have a score for each first name. "
   ]
  },
  {
   "cell_type": "code",
   "execution_count": null,
   "id": "80ff33a4",
   "metadata": {},
   "outputs": [],
   "source": [
    "#Getting the array of the names actually used by the model:\n",
    "new_names_nyc = df_results_nyc['name'].unique()"
   ]
  },
  {
   "cell_type": "markdown",
   "id": "b687b651",
   "metadata": {},
   "source": [
    "#### Ethnicity:"
   ]
  },
  {
   "cell_type": "code",
   "execution_count": null,
   "id": "e1386563",
   "metadata": {},
   "outputs": [],
   "source": [
    "#Getting the complete list of ethnicities inside the dataframe:\n",
    "liste_ethnicity = df_nyc_names['Ethnicity'].unique()"
   ]
  },
  {
   "cell_type": "code",
   "execution_count": null,
   "id": "dfac4570",
   "metadata": {},
   "outputs": [],
   "source": [
    "def compute_score_ethnicity(ethnicity):\n",
    "    n_people = 0\n",
    "    dict_sum_scores = {'sm': 0, 'md':0, 'lg':0, 'trf':0}\n",
    "    for name in new_names_nyc:\n",
    "        try:\n",
    "            df_temp_year = df_nyc_names[df_nyc_names['Ethnicity']==ethnicity]\n",
    "            n=df_temp_year[df_temp_year[\"Child's First Name\"]==name]['Count'].values[0]\n",
    "            n_people+=n\n",
    "            for model in ['sm', 'md', 'lg', 'trf']:\n",
    "                dict_sum_scores[model] += df_results_nyc[df_results_nyc['name']==name]['score_'+model].values[0]*n\n",
    "        except:\n",
    "            n_people+=0\n",
    "    \n",
    "    return {k:v/np.maximum(n_people,1) for k,v in dict_sum_scores.items()}"
   ]
  },
  {
   "cell_type": "code",
   "execution_count": null,
   "id": "9da7f980",
   "metadata": {},
   "outputs": [],
   "source": [
    "#Averaging the score on the years:\n",
    "    #Defining the dataframe:\n",
    "df_nyc_final_results = pd.DataFrame(data = {'ethnicity':liste_ethnicity})\n",
    "    #Getting the scores:\n",
    "tqdm.pandas()\n",
    "df_nyc_final_results['d']= df_nyc_final_results['ethnicity'].progress_apply(lambda x: compute_score_ethnicity(x))\n",
    "    \n",
    "for model in ['sm', 'md', 'lg', 'trf']:\n",
    "    df_nyc_final_results['score_'+model] = df_nyc_final_results['d'].apply(pd.Series)[model]\n",
    "del df_nyc_final_results['d']"
   ]
  },
  {
   "cell_type": "code",
   "execution_count": null,
   "id": "55205b65",
   "metadata": {},
   "outputs": [],
   "source": [
    "df_nyc_final_results"
   ]
  },
  {
   "cell_type": "markdown",
   "id": "c7a593c6",
   "metadata": {},
   "source": [
    "Computing the average score:"
   ]
  },
  {
   "cell_type": "code",
   "execution_count": null,
   "id": "4887a696",
   "metadata": {},
   "outputs": [],
   "source": [
    "#We are computing the average score of the models:\n",
    "df_nyc_final_results['avg_score']=df_nyc_final_results[['score_sm', 'score_md', 'score_lg', 'score_trf']].mean(axis=1)"
   ]
  },
  {
   "cell_type": "code",
   "execution_count": null,
   "id": "aeccb89c",
   "metadata": {},
   "outputs": [],
   "source": [
    "df_nyc_final_results"
   ]
  },
  {
   "cell_type": "markdown",
   "id": "fa282985",
   "metadata": {},
   "source": [
    "#### Gender"
   ]
  },
  {
   "cell_type": "code",
   "execution_count": null,
   "id": "c08712f5",
   "metadata": {},
   "outputs": [],
   "source": [
    "df_results_gender = df_results_nyc.copy()\n",
    "df_nyc_gender = df_nyc_names.groupby([\"Child's First Name\", 'Gender']).agg({'Count':'sum'}).reset_index(drop=False)\n",
    "df_nyc_gender=df_nyc_gender.groupby(\"Child's First Name\")[[\"Count\", 'Gender']].apply(lambda x: x.nlargest(1, columns=['Count'])).reset_index(drop=False)\n",
    "df_results_gender['gender']=df_results_gender['name'].apply(lambda x: df_nyc_gender[df_nyc_gender[\"Child's First Name\"]==x]['Gender'].values[0])"
   ]
  },
  {
   "cell_type": "code",
   "execution_count": null,
   "id": "3940cf1d",
   "metadata": {},
   "outputs": [],
   "source": [
    "df_results_gender=df_results_gender.groupby('gender').agg({'score_sm':'mean', 'score_md':'mean', 'score_lg':'mean', 'score_trf':'mean'})"
   ]
  },
  {
   "cell_type": "code",
   "execution_count": null,
   "id": "ed78b114",
   "metadata": {},
   "outputs": [],
   "source": [
    "#We are computing the average score of the models:\n",
    "df_results_gender['avg_score']=df_results_gender[['score_sm', 'score_md', 'score_lg', 'score_trf']].mean(axis=1)"
   ]
  },
  {
   "cell_type": "code",
   "execution_count": null,
   "id": "af72e9dc",
   "metadata": {},
   "outputs": [],
   "source": [
    "df_results_gender"
   ]
  },
  {
   "cell_type": "markdown",
   "id": "4ac01776",
   "metadata": {},
   "source": [
    "## US states"
   ]
  },
  {
   "cell_type": "markdown",
   "id": "c02318d7",
   "metadata": {},
   "source": [
    "### Importing the dataset and cleaning it "
   ]
  },
  {
   "cell_type": "code",
   "execution_count": 2,
   "id": "8d03b2a8",
   "metadata": {},
   "outputs": [],
   "source": [
    "df_states_names=pd.read_csv('data/us_baby_names/StateNames.csv')"
   ]
  },
  {
   "cell_type": "code",
   "execution_count": 3,
   "id": "1a6cb14a",
   "metadata": {},
   "outputs": [
    {
     "data": {
      "text/html": [
       "<div>\n",
       "<style scoped>\n",
       "    .dataframe tbody tr th:only-of-type {\n",
       "        vertical-align: middle;\n",
       "    }\n",
       "\n",
       "    .dataframe tbody tr th {\n",
       "        vertical-align: top;\n",
       "    }\n",
       "\n",
       "    .dataframe thead th {\n",
       "        text-align: right;\n",
       "    }\n",
       "</style>\n",
       "<table border=\"1\" class=\"dataframe\">\n",
       "  <thead>\n",
       "    <tr style=\"text-align: right;\">\n",
       "      <th></th>\n",
       "      <th>Id</th>\n",
       "      <th>Name</th>\n",
       "      <th>Year</th>\n",
       "      <th>Gender</th>\n",
       "      <th>State</th>\n",
       "      <th>Count</th>\n",
       "    </tr>\n",
       "  </thead>\n",
       "  <tbody>\n",
       "    <tr>\n",
       "      <th>0</th>\n",
       "      <td>1</td>\n",
       "      <td>Mary</td>\n",
       "      <td>1910</td>\n",
       "      <td>F</td>\n",
       "      <td>AK</td>\n",
       "      <td>14</td>\n",
       "    </tr>\n",
       "    <tr>\n",
       "      <th>1</th>\n",
       "      <td>2</td>\n",
       "      <td>Annie</td>\n",
       "      <td>1910</td>\n",
       "      <td>F</td>\n",
       "      <td>AK</td>\n",
       "      <td>12</td>\n",
       "    </tr>\n",
       "    <tr>\n",
       "      <th>2</th>\n",
       "      <td>3</td>\n",
       "      <td>Anna</td>\n",
       "      <td>1910</td>\n",
       "      <td>F</td>\n",
       "      <td>AK</td>\n",
       "      <td>10</td>\n",
       "    </tr>\n",
       "    <tr>\n",
       "      <th>3</th>\n",
       "      <td>4</td>\n",
       "      <td>Margaret</td>\n",
       "      <td>1910</td>\n",
       "      <td>F</td>\n",
       "      <td>AK</td>\n",
       "      <td>8</td>\n",
       "    </tr>\n",
       "    <tr>\n",
       "      <th>4</th>\n",
       "      <td>5</td>\n",
       "      <td>Helen</td>\n",
       "      <td>1910</td>\n",
       "      <td>F</td>\n",
       "      <td>AK</td>\n",
       "      <td>7</td>\n",
       "    </tr>\n",
       "  </tbody>\n",
       "</table>\n",
       "</div>"
      ],
      "text/plain": [
       "   Id      Name  Year Gender State  Count\n",
       "0   1      Mary  1910      F    AK     14\n",
       "1   2     Annie  1910      F    AK     12\n",
       "2   3      Anna  1910      F    AK     10\n",
       "3   4  Margaret  1910      F    AK      8\n",
       "4   5     Helen  1910      F    AK      7"
      ]
     },
     "execution_count": 3,
     "metadata": {},
     "output_type": "execute_result"
    }
   ],
   "source": [
    "df_states_names.head()"
   ]
  },
  {
   "cell_type": "markdown",
   "id": "0c739e48",
   "metadata": {},
   "source": [
    "We groupby to avoid taking the year in consideration:"
   ]
  },
  {
   "cell_type": "code",
   "execution_count": 4,
   "id": "0f67222f",
   "metadata": {},
   "outputs": [],
   "source": [
    "df_states_names=df_states_names.groupby(['Name', 'Gender', 'State']).agg({'Count':'sum'}).reset_index(drop=False)"
   ]
  },
  {
   "cell_type": "code",
   "execution_count": 5,
   "id": "54e08276",
   "metadata": {},
   "outputs": [
    {
     "data": {
      "text/html": [
       "<div>\n",
       "<style scoped>\n",
       "    .dataframe tbody tr th:only-of-type {\n",
       "        vertical-align: middle;\n",
       "    }\n",
       "\n",
       "    .dataframe tbody tr th {\n",
       "        vertical-align: top;\n",
       "    }\n",
       "\n",
       "    .dataframe thead th {\n",
       "        text-align: right;\n",
       "    }\n",
       "</style>\n",
       "<table border=\"1\" class=\"dataframe\">\n",
       "  <thead>\n",
       "    <tr style=\"text-align: right;\">\n",
       "      <th></th>\n",
       "      <th>Name</th>\n",
       "      <th>Gender</th>\n",
       "      <th>State</th>\n",
       "      <th>Count</th>\n",
       "    </tr>\n",
       "  </thead>\n",
       "  <tbody>\n",
       "    <tr>\n",
       "      <th>0</th>\n",
       "      <td>Aaban</td>\n",
       "      <td>M</td>\n",
       "      <td>NY</td>\n",
       "      <td>12</td>\n",
       "    </tr>\n",
       "    <tr>\n",
       "      <th>1</th>\n",
       "      <td>Aadan</td>\n",
       "      <td>M</td>\n",
       "      <td>CA</td>\n",
       "      <td>18</td>\n",
       "    </tr>\n",
       "    <tr>\n",
       "      <th>2</th>\n",
       "      <td>Aadan</td>\n",
       "      <td>M</td>\n",
       "      <td>TX</td>\n",
       "      <td>5</td>\n",
       "    </tr>\n",
       "    <tr>\n",
       "      <th>3</th>\n",
       "      <td>Aadarsh</td>\n",
       "      <td>M</td>\n",
       "      <td>IL</td>\n",
       "      <td>5</td>\n",
       "    </tr>\n",
       "    <tr>\n",
       "      <th>4</th>\n",
       "      <td>Aaden</td>\n",
       "      <td>M</td>\n",
       "      <td>AL</td>\n",
       "      <td>78</td>\n",
       "    </tr>\n",
       "  </tbody>\n",
       "</table>\n",
       "</div>"
      ],
      "text/plain": [
       "      Name Gender State  Count\n",
       "0    Aaban      M    NY     12\n",
       "1    Aadan      M    CA     18\n",
       "2    Aadan      M    TX      5\n",
       "3  Aadarsh      M    IL      5\n",
       "4    Aaden      M    AL     78"
      ]
     },
     "execution_count": 5,
     "metadata": {},
     "output_type": "execute_result"
    }
   ],
   "source": [
    "df_states_names.head()"
   ]
  },
  {
   "cell_type": "markdown",
   "id": "81bfeec6",
   "metadata": {},
   "source": [
    "Then we are doing the exact same things as before:\n",
    "\n",
    "**But we take n=20**"
   ]
  },
  {
   "cell_type": "code",
   "execution_count": 6,
   "id": "342c8a8e",
   "metadata": {},
   "outputs": [
    {
     "name": "stdout",
     "output_type": "stream",
     "text": [
      "total number of names considered: 117\n"
     ]
    }
   ],
   "source": [
    "arr_states_names = df_states_names.groupby(['State','Gender'])[['Count', 'Name']].apply(lambda x: x.nlargest(20, columns=['Count']))['Name'].unique()\n",
    "print('total number of names considered:', arr_states_names.shape[0])\n",
    "#Also computing the total list of states\n",
    "liste_states = df_states_names['State'].unique()"
   ]
  },
  {
   "cell_type": "markdown",
   "id": "b895646c",
   "metadata": {},
   "source": [
    "### Results"
   ]
  },
  {
   "cell_type": "code",
   "execution_count": 9,
   "id": "9a3c33b0",
   "metadata": {},
   "outputs": [
    {
     "ename": "NameError",
     "evalue": "name 'main_ner_first_names' is not defined",
     "output_type": "error",
     "traceback": [
      "\u001b[1;31m---------------------------------------------------------------------------\u001b[0m",
      "\u001b[1;31mNameError\u001b[0m                                 Traceback (most recent call last)",
      "\u001b[1;32m~\\AppData\\Local\\Temp/ipykernel_14820/768826299.py\u001b[0m in \u001b[0;36m<module>\u001b[1;34m\u001b[0m\n\u001b[1;32m----> 1\u001b[1;33m \u001b[0mdf_results_states\u001b[0m \u001b[1;33m=\u001b[0m \u001b[0mmain_ner_first_names\u001b[0m\u001b[1;33m(\u001b[0m\u001b[1;36m10000\u001b[0m\u001b[1;33m,\u001b[0m \u001b[0marr_states_names\u001b[0m\u001b[1;33m)\u001b[0m\u001b[1;33m\u001b[0m\u001b[1;33m\u001b[0m\u001b[0m\n\u001b[0m",
      "\u001b[1;31mNameError\u001b[0m: name 'main_ner_first_names' is not defined"
     ]
    }
   ],
   "source": [
    "df_results_states = main_ner_first_names(10000, arr_states_names)"
   ]
  },
  {
   "cell_type": "code",
   "execution_count": 10,
   "id": "3c389ae7",
   "metadata": {},
   "outputs": [],
   "source": [
    "#df_results_states.to_csv('Data/results/df_results_states.csv', index=False)\n",
    "df_results_states = pd.read_csv('data/results/df_results_states.csv')"
   ]
  },
  {
   "cell_type": "code",
   "execution_count": 11,
   "id": "05c4c054",
   "metadata": {},
   "outputs": [
    {
     "data": {
      "text/html": [
       "<div>\n",
       "<style scoped>\n",
       "    .dataframe tbody tr th:only-of-type {\n",
       "        vertical-align: middle;\n",
       "    }\n",
       "\n",
       "    .dataframe tbody tr th {\n",
       "        vertical-align: top;\n",
       "    }\n",
       "\n",
       "    .dataframe thead th {\n",
       "        text-align: right;\n",
       "    }\n",
       "</style>\n",
       "<table border=\"1\" class=\"dataframe\">\n",
       "  <thead>\n",
       "    <tr style=\"text-align: right;\">\n",
       "      <th></th>\n",
       "      <th>name</th>\n",
       "      <th>score_sm</th>\n",
       "      <th>score_md</th>\n",
       "      <th>score_lg</th>\n",
       "      <th>score_trf</th>\n",
       "    </tr>\n",
       "  </thead>\n",
       "  <tbody>\n",
       "    <tr>\n",
       "      <th>0</th>\n",
       "      <td>Alexis</td>\n",
       "      <td>0.666667</td>\n",
       "      <td>0.969349</td>\n",
       "      <td>0.992337</td>\n",
       "      <td>0.892720</td>\n",
       "    </tr>\n",
       "    <tr>\n",
       "      <th>1</th>\n",
       "      <td>Amanda</td>\n",
       "      <td>0.889734</td>\n",
       "      <td>1.000000</td>\n",
       "      <td>1.000000</td>\n",
       "      <td>0.996198</td>\n",
       "    </tr>\n",
       "    <tr>\n",
       "      <th>2</th>\n",
       "      <td>Amber</td>\n",
       "      <td>0.065455</td>\n",
       "      <td>0.734545</td>\n",
       "      <td>0.996364</td>\n",
       "      <td>0.985455</td>\n",
       "    </tr>\n",
       "    <tr>\n",
       "      <th>3</th>\n",
       "      <td>Amy</td>\n",
       "      <td>0.142361</td>\n",
       "      <td>0.118056</td>\n",
       "      <td>0.496528</td>\n",
       "      <td>0.982639</td>\n",
       "    </tr>\n",
       "    <tr>\n",
       "      <th>4</th>\n",
       "      <td>Andrea</td>\n",
       "      <td>1.000000</td>\n",
       "      <td>1.000000</td>\n",
       "      <td>1.000000</td>\n",
       "      <td>0.969112</td>\n",
       "    </tr>\n",
       "  </tbody>\n",
       "</table>\n",
       "</div>"
      ],
      "text/plain": [
       "     name  score_sm  score_md  score_lg  score_trf\n",
       "0  Alexis  0.666667  0.969349  0.992337   0.892720\n",
       "1  Amanda  0.889734  1.000000  1.000000   0.996198\n",
       "2   Amber  0.065455  0.734545  0.996364   0.985455\n",
       "3     Amy  0.142361  0.118056  0.496528   0.982639\n",
       "4  Andrea  1.000000  1.000000  1.000000   0.969112"
      ]
     },
     "execution_count": 11,
     "metadata": {},
     "output_type": "execute_result"
    }
   ],
   "source": [
    "df_results_states.head()"
   ]
  },
  {
   "cell_type": "code",
   "execution_count": 12,
   "id": "c7dbe9c5",
   "metadata": {},
   "outputs": [],
   "source": [
    "#Getting the array of the names really used inside the algorithm:\n",
    "new_states_names=df_results_states['name'].unique()"
   ]
  },
  {
   "cell_type": "code",
   "execution_count": 13,
   "id": "617c0853",
   "metadata": {},
   "outputs": [],
   "source": [
    "def compute_score_state(state):\n",
    "    n_people = 0\n",
    "    dict_sum_scores = {'sm': 0, 'md':0, 'lg':0, 'trf':0}\n",
    "    for name in new_states_names:\n",
    "        try:\n",
    "            df_temp_state = df_states_names[df_states_names['State']==state]\n",
    "            n=df_temp_state[df_temp_state['Name']==name]['Count'].values[0]\n",
    "            n_people+=n\n",
    "            for model in ['sm', 'md', 'lg', 'trf']:\n",
    "                dict_sum_scores[model] += df_results_states[df_results_states['name']==name]['score_'+model].values[0]*n\n",
    "        except:\n",
    "            n_people+=0\n",
    "    return {k:v/n_people for k,v in dict_sum_scores.items()}"
   ]
  },
  {
   "cell_type": "code",
   "execution_count": 14,
   "id": "37ba1466",
   "metadata": {},
   "outputs": [
    {
     "name": "stderr",
     "output_type": "stream",
     "text": [
      "100%|██████████████████████████████████████████████████████████████████████████████████| 51/51 [01:47<00:00,  2.11s/it]\n"
     ]
    }
   ],
   "source": [
    "#Averaging the score on the years:\n",
    "    #Defining the dataframe:\n",
    "df_states_final_results = pd.DataFrame(data = {'state':liste_states})\n",
    "    #Getting the scores:\n",
    "tqdm.pandas()\n",
    "df_states_final_results['d']= df_states_final_results['state'].progress_apply(compute_score_state)\n",
    "    \n",
    "for model in ['sm', 'md', 'lg', 'trf']:\n",
    "    df_states_final_results['score_'+model] = df_states_final_results['d'].apply(pd.Series)[model]\n",
    "del df_states_final_results['d']"
   ]
  },
  {
   "cell_type": "code",
   "execution_count": null,
   "id": "a0049166",
   "metadata": {},
   "outputs": [],
   "source": []
  },
  {
   "cell_type": "code",
   "execution_count": null,
   "id": "c5684ca6",
   "metadata": {},
   "outputs": [],
   "source": []
  },
  {
   "cell_type": "code",
   "execution_count": null,
   "id": "0caa532e",
   "metadata": {},
   "outputs": [],
   "source": []
  },
  {
   "cell_type": "code",
   "execution_count": 15,
   "id": "f43038cc",
   "metadata": {},
   "outputs": [],
   "source": [
    "#We are computing the average score of the models:\n",
    "df_states_final_results['avg_score']=df_states_final_results[['score_sm', 'score_md', 'score_lg', 'score_trf']].mean(axis=1)"
   ]
  },
  {
   "cell_type": "code",
   "execution_count": 16,
   "id": "7d9b6256",
   "metadata": {},
   "outputs": [
    {
     "data": {
      "text/html": [
       "<div>\n",
       "<style scoped>\n",
       "    .dataframe tbody tr th:only-of-type {\n",
       "        vertical-align: middle;\n",
       "    }\n",
       "\n",
       "    .dataframe tbody tr th {\n",
       "        vertical-align: top;\n",
       "    }\n",
       "\n",
       "    .dataframe thead th {\n",
       "        text-align: right;\n",
       "    }\n",
       "</style>\n",
       "<table border=\"1\" class=\"dataframe\">\n",
       "  <thead>\n",
       "    <tr style=\"text-align: right;\">\n",
       "      <th></th>\n",
       "      <th>state</th>\n",
       "      <th>score_sm</th>\n",
       "      <th>score_md</th>\n",
       "      <th>score_lg</th>\n",
       "      <th>score_trf</th>\n",
       "      <th>avg_score</th>\n",
       "    </tr>\n",
       "  </thead>\n",
       "  <tbody>\n",
       "    <tr>\n",
       "      <th>0</th>\n",
       "      <td>NY</td>\n",
       "      <td>0.869524</td>\n",
       "      <td>0.950158</td>\n",
       "      <td>0.984111</td>\n",
       "      <td>0.933121</td>\n",
       "      <td>0.934228</td>\n",
       "    </tr>\n",
       "    <tr>\n",
       "      <th>1</th>\n",
       "      <td>CA</td>\n",
       "      <td>0.863705</td>\n",
       "      <td>0.952241</td>\n",
       "      <td>0.978210</td>\n",
       "      <td>0.945180</td>\n",
       "      <td>0.934834</td>\n",
       "    </tr>\n",
       "    <tr>\n",
       "      <th>2</th>\n",
       "      <td>TX</td>\n",
       "      <td>0.844008</td>\n",
       "      <td>0.943142</td>\n",
       "      <td>0.973913</td>\n",
       "      <td>0.931953</td>\n",
       "      <td>0.923254</td>\n",
       "    </tr>\n",
       "    <tr>\n",
       "      <th>3</th>\n",
       "      <td>IL</td>\n",
       "      <td>0.852882</td>\n",
       "      <td>0.937098</td>\n",
       "      <td>0.972281</td>\n",
       "      <td>0.931988</td>\n",
       "      <td>0.923562</td>\n",
       "    </tr>\n",
       "    <tr>\n",
       "      <th>4</th>\n",
       "      <td>AL</td>\n",
       "      <td>0.816079</td>\n",
       "      <td>0.911139</td>\n",
       "      <td>0.946560</td>\n",
       "      <td>0.906097</td>\n",
       "      <td>0.894969</td>\n",
       "    </tr>\n",
       "  </tbody>\n",
       "</table>\n",
       "</div>"
      ],
      "text/plain": [
       "  state  score_sm  score_md  score_lg  score_trf  avg_score\n",
       "0    NY  0.869524  0.950158  0.984111   0.933121   0.934228\n",
       "1    CA  0.863705  0.952241  0.978210   0.945180   0.934834\n",
       "2    TX  0.844008  0.943142  0.973913   0.931953   0.923254\n",
       "3    IL  0.852882  0.937098  0.972281   0.931988   0.923562\n",
       "4    AL  0.816079  0.911139  0.946560   0.906097   0.894969"
      ]
     },
     "execution_count": 16,
     "metadata": {},
     "output_type": "execute_result"
    }
   ],
   "source": [
    "df_states_final_results.head()"
   ]
  },
  {
   "cell_type": "markdown",
   "id": "9ed0ee9f",
   "metadata": {},
   "source": [
    "### Viz"
   ]
  },
  {
   "cell_type": "markdown",
   "id": "30135074",
   "metadata": {},
   "source": [
    "To visualise the results, we need to find the geographical limits of each state. \n",
    "\n",
    "We found it in the state 21_basic dataset (Source) "
   ]
  },
  {
   "cell_type": "markdown",
   "id": "64f1cbae",
   "metadata": {},
   "source": [
    "[Source](https://alicia.data.socrata.com/Government/States-21basic/jhnu-yfrj) of the state 21_basic dataset"
   ]
  },
  {
   "cell_type": "code",
   "execution_count": 17,
   "id": "254fc8b6",
   "metadata": {},
   "outputs": [],
   "source": [
    "gdf_states = gpd.read_file('Data/States 21basic.geojson')"
   ]
  },
  {
   "cell_type": "code",
   "execution_count": 18,
   "id": "ee3e8896",
   "metadata": {},
   "outputs": [],
   "source": [
    "del gdf_states['state_fips']\n",
    "del gdf_states['drawseq']\n",
    "del gdf_states['sub_region']"
   ]
  },
  {
   "cell_type": "code",
   "execution_count": 19,
   "id": "88e2c1ef",
   "metadata": {},
   "outputs": [
    {
     "data": {
      "text/html": [
       "<div>\n",
       "<style scoped>\n",
       "    .dataframe tbody tr th:only-of-type {\n",
       "        vertical-align: middle;\n",
       "    }\n",
       "\n",
       "    .dataframe tbody tr th {\n",
       "        vertical-align: top;\n",
       "    }\n",
       "\n",
       "    .dataframe thead th {\n",
       "        text-align: right;\n",
       "    }\n",
       "</style>\n",
       "<table border=\"1\" class=\"dataframe\">\n",
       "  <thead>\n",
       "    <tr style=\"text-align: right;\">\n",
       "      <th></th>\n",
       "      <th>state_abbr</th>\n",
       "      <th>state_name</th>\n",
       "      <th>geometry</th>\n",
       "    </tr>\n",
       "  </thead>\n",
       "  <tbody>\n",
       "    <tr>\n",
       "      <th>0</th>\n",
       "      <td>HI</td>\n",
       "      <td>Hawaii</td>\n",
       "      <td>MULTIPOLYGON (((-160.07380 22.00418, -160.0497...</td>\n",
       "    </tr>\n",
       "    <tr>\n",
       "      <th>1</th>\n",
       "      <td>WA</td>\n",
       "      <td>Washington</td>\n",
       "      <td>MULTIPOLYGON (((-122.40202 48.22522, -122.4628...</td>\n",
       "    </tr>\n",
       "    <tr>\n",
       "      <th>2</th>\n",
       "      <td>MT</td>\n",
       "      <td>Montana</td>\n",
       "      <td>MULTIPOLYGON (((-111.47543 44.70216, -111.4808...</td>\n",
       "    </tr>\n",
       "    <tr>\n",
       "      <th>3</th>\n",
       "      <td>ME</td>\n",
       "      <td>Maine</td>\n",
       "      <td>MULTIPOLYGON (((-69.77728 44.07415, -69.85993 ...</td>\n",
       "    </tr>\n",
       "    <tr>\n",
       "      <th>4</th>\n",
       "      <td>ND</td>\n",
       "      <td>North Dakota</td>\n",
       "      <td>MULTIPOLYGON (((-98.73044 45.93827, -99.00683 ...</td>\n",
       "    </tr>\n",
       "  </tbody>\n",
       "</table>\n",
       "</div>"
      ],
      "text/plain": [
       "  state_abbr    state_name                                           geometry\n",
       "0         HI        Hawaii  MULTIPOLYGON (((-160.07380 22.00418, -160.0497...\n",
       "1         WA    Washington  MULTIPOLYGON (((-122.40202 48.22522, -122.4628...\n",
       "2         MT       Montana  MULTIPOLYGON (((-111.47543 44.70216, -111.4808...\n",
       "3         ME         Maine  MULTIPOLYGON (((-69.77728 44.07415, -69.85993 ...\n",
       "4         ND  North Dakota  MULTIPOLYGON (((-98.73044 45.93827, -99.00683 ..."
      ]
     },
     "execution_count": 19,
     "metadata": {},
     "output_type": "execute_result"
    }
   ],
   "source": [
    "gdf_states.head()"
   ]
  },
  {
   "cell_type": "code",
   "execution_count": 20,
   "id": "45b62826",
   "metadata": {},
   "outputs": [],
   "source": [
    "gdf_states = gdf_states.merge(df_states_final_results, left_on='state_abbr', right_on='state',how='right')"
   ]
  },
  {
   "cell_type": "markdown",
   "id": "00cffa96",
   "metadata": {},
   "source": [
    "Then, we can plot:"
   ]
  },
  {
   "cell_type": "code",
   "execution_count": null,
   "id": "3896aeec",
   "metadata": {},
   "outputs": [],
   "source": [
    "gdf_states.plot(column='avg_score', legend=True, figsize=(15,10),\n",
    "                legend_kwds={'label': \"avg score\",\n",
    "                        'orientation': \"horizontal\"})\n",
    "plt.show()"
   ]
  },
  {
   "cell_type": "code",
   "execution_count": null,
   "id": "26b7c935",
   "metadata": {},
   "outputs": [],
   "source": [
    "gdf_states.sort_values('avg_score', ascending=False).head(5)"
   ]
  },
  {
   "cell_type": "markdown",
   "id": "1eafbd8b",
   "metadata": {},
   "source": [
    "#### comparing to median household income by state:\n",
    "\n",
    "[Source of the dataset](https://www.census.gov/data/tables/time-series/demo/income-poverty/historical-income-households.html)"
   ]
  },
  {
   "cell_type": "code",
   "execution_count": null,
   "id": "71790be8",
   "metadata": {},
   "outputs": [],
   "source": [
    "df_income = pd.read_excel('Data/median_income_us.xls', sheet_name='h08', header = 8, nrows=52)"
   ]
  },
  {
   "cell_type": "code",
   "execution_count": null,
   "id": "e71516fb",
   "metadata": {},
   "outputs": [],
   "source": [
    "df_income = df_income[['State', '2020_Median income']]"
   ]
  },
  {
   "cell_type": "code",
   "execution_count": null,
   "id": "3d7afe70",
   "metadata": {},
   "outputs": [],
   "source": [
    "df_income.tail()"
   ]
  },
  {
   "cell_type": "code",
   "execution_count": null,
   "id": "575e5b31",
   "metadata": {},
   "outputs": [],
   "source": [
    "gdf_states_income = gpd.read_file('Data/States 21basic.geojson')"
   ]
  },
  {
   "cell_type": "code",
   "execution_count": null,
   "id": "5ad5b0e4",
   "metadata": {},
   "outputs": [],
   "source": [
    "del gdf_states_income['state_fips']\n",
    "del gdf_states_income['drawseq']\n",
    "del gdf_states_income['sub_region']"
   ]
  },
  {
   "cell_type": "code",
   "execution_count": null,
   "id": "8934d4de",
   "metadata": {},
   "outputs": [],
   "source": [
    "gdf_states_income.head()"
   ]
  },
  {
   "cell_type": "code",
   "execution_count": null,
   "id": "326b82ac",
   "metadata": {},
   "outputs": [],
   "source": [
    "gdf_states_income = gdf_states_income.merge(df_income, right_on='State', left_on='state_name', how='right')"
   ]
  },
  {
   "cell_type": "code",
   "execution_count": null,
   "id": "b7bf9f94",
   "metadata": {},
   "outputs": [],
   "source": [
    "gdf_states_income.isna().sum()"
   ]
  },
  {
   "cell_type": "code",
   "execution_count": null,
   "id": "90e0b859",
   "metadata": {},
   "outputs": [],
   "source": [
    "gdf_states_income.dropna(inplace=True)"
   ]
  },
  {
   "cell_type": "code",
   "execution_count": null,
   "id": "e40bd65b",
   "metadata": {},
   "outputs": [],
   "source": [
    "gdf_states_income.plot(column='2020_Median income', legend=True, figsize=(15,10),\n",
    "                legend_kwds={'label': \"Median Income in 2020\",\n",
    "                        'orientation': \"horizontal\"})\n",
    "plt.show()"
   ]
  },
  {
   "cell_type": "markdown",
   "id": "bba19d46",
   "metadata": {},
   "source": [
    "#### Correlation"
   ]
  },
  {
   "cell_type": "code",
   "execution_count": null,
   "id": "29f78afe",
   "metadata": {},
   "outputs": [],
   "source": [
    "gdf_states_income.head()"
   ]
  },
  {
   "cell_type": "code",
   "execution_count": null,
   "id": "7fe897dc",
   "metadata": {},
   "outputs": [],
   "source": [
    "gdf_states.head()"
   ]
  },
  {
   "cell_type": "code",
   "execution_count": null,
   "id": "5d14cfcd",
   "metadata": {},
   "outputs": [],
   "source": [
    "gdf_states.merge(gdf_states_income, left_on='state_abbr', right_on='state_abbr', how='right').corr()"
   ]
  },
  {
   "cell_type": "markdown",
   "id": "be342d00",
   "metadata": {},
   "source": [
    "#### Correlation gdp per state ???"
   ]
  },
  {
   "cell_type": "markdown",
   "id": "4446705d",
   "metadata": {},
   "source": [
    "Source : https://apps.bea.gov/regional/downloadzip.cfm\n",
    "\n",
    "\n",
    "https://data.world/gmoney/gdp-per-capita-by-state"
   ]
  },
  {
   "cell_type": "code",
   "execution_count": 21,
   "id": "c0081ef5",
   "metadata": {},
   "outputs": [],
   "source": [
    "df_gdp = pd.read_excel('Data/GDP/state gdp per capita.xls')"
   ]
  },
  {
   "cell_type": "code",
   "execution_count": 22,
   "id": "2ab629b0",
   "metadata": {},
   "outputs": [],
   "source": [
    "df_gdp.rename(columns={'Unnamed: 0':'state'}, inplace=True)"
   ]
  },
  {
   "cell_type": "code",
   "execution_count": 31,
   "id": "4480bbc4",
   "metadata": {},
   "outputs": [],
   "source": [
    "df_gdp = df_gdp.merge(gdf_states, left_on='state', right_on='state_name', how='left').copy()"
   ]
  },
  {
   "cell_type": "code",
   "execution_count": 35,
   "id": "7210e3ac",
   "metadata": {},
   "outputs": [
    {
     "name": "stderr",
     "output_type": "stream",
     "text": [
      "C:\\Users\\adrie\\Anaconda3\\lib\\site-packages\\seaborn\\_decorators.py:43: FutureWarning: Pass the following variables as keyword args: x, y. From version 0.12, the only valid positional argument will be `data`, and passing other arguments without an explicit keyword will result in an error or misinterpretation.\n",
      "  FutureWarning\n"
     ]
    },
    {
     "data": {
      "image/png": "[encoded data removed]",
      "text/plain": [
       "<Figure size 720x360 with 1 Axes>"
      ]
     },
     "metadata": {
      "needs_background": "light"
     },
     "output_type": "display_data"
    }
   ],
   "source": [
    "plt.figure(figsize=(10,5))\n",
    "sns.scatterplot(df_gdp['2015'], df_gdp['score_sm'])\n",
    "plt.title('Score of the sm model depending on the state gdp per capita')\n",
    "plt.show()"
   ]
  },
  {
   "cell_type": "code",
   "execution_count": null,
   "id": "09663c48",
   "metadata": {},
   "outputs": [],
   "source": []
  },
  {
   "cell_type": "markdown",
   "id": "6d739fd4",
   "metadata": {},
   "source": [
    "#### SInon : presque la même map que le gdp par state !! !\n",
    "\n",
    "https://www.google.com/search?q=states+gdp+us&sxsrf=AOaemvJpoyHJxjMzpleefd3YcF3dHfLZ2A:1635493547903&source=lnms&tbm=isch&sa=X&ved=2ahUKEwjAwNGfkO_zAhXGz4UKHUu9AHAQ_AUoAnoECAEQBA&biw=1536&bih=721&dpr=2.5#imgrc=pCB_AY-BIWx0zM"
   ]
  },
  {
   "cell_type": "markdown",
   "id": "78474924",
   "metadata": {
    "heading_collapsed": true
   },
   "source": [
    "## DRAFT"
   ]
  },
  {
   "cell_type": "code",
   "execution_count": null,
   "id": "eca8d06c",
   "metadata": {
    "hidden": true
   },
   "outputs": [],
   "source": [
    "def compute_popularity(name, year, gender):\n",
    "    #Number of people:\n",
    "    nb_people = count_year_gender[(count_year_gender['Year']==year) & (count_year_gender['Gender']==gender)]\\\n",
    "    ['Count'].values[0]\n",
    "    #Number of people with that specific name:\n",
    "    nb_name = \n",
    "    \n",
    "    return nb_name/nb_people"
   ]
  },
  {
   "cell_type": "markdown",
   "id": "02dcf215",
   "metadata": {
    "heading_collapsed": true,
    "hidden": true
   },
   "source": [
    "### Convolutions"
   ]
  },
  {
   "cell_type": "code",
   "execution_count": null,
   "id": "a406c3d4",
   "metadata": {
    "hidden": true
   },
   "outputs": [],
   "source": [
    "#Source : https://stackoverflow.com/questions/20618804/how-to-smooth-a-curve-in-the-right-way\n",
    "x = df_final_results['year']\n",
    "y = df_final_results['score']\n",
    "\n",
    "def smooth(y, box_pts):\n",
    "    box = np.ones(box_pts)/box_pts\n",
    "    y_smooth = np.convolve(y, box, mode='same')\n",
    "    return y_smooth\n",
    "\n",
    "plt.figure(figsize=(15,5))\n",
    "plt.plot(x, y,'o', markersize=2)\n",
    "plt.plot(x, smooth(y,25), 'r-', lw=2)\n",
    "#plt.plot(x, smooth(y,20), 'g-', lw=2)\n",
    "plt.show()"
   ]
  }
 ],
 "metadata": {
  "kernelspec": {
   "display_name": "Python 3 (ipykernel)",
   "language": "python",
   "name": "python3"
  },
  "language_info": {
   "codemirror_mode": {
    "name": "ipython",
    "version": 3
   },
   "file_extension": ".py",
   "mimetype": "text/x-python",
   "name": "python",
   "nbconvert_exporter": "python",
   "pygments_lexer": "ipython3",
   "version": "3.7.11"
  },
  "toc": {
   "base_numbering": 1,
   "nav_menu": {},
   "number_sections": true,
   "sideBar": true,
   "skip_h1_title": true,
   "title_cell": "Table of Contents",
   "title_sidebar": "Contents",
   "toc_cell": false,
   "toc_position": {},
   "toc_section_display": true,
   "toc_window_display": true
  }
 },
 "nbformat": 4,
 "nbformat_minor": 5
}
