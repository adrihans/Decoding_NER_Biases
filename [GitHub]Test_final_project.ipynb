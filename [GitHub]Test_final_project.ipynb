{
 "cells": [
  {
   "cell_type": "markdown",
   "id": "965ccfe4",
   "metadata": {},
   "source": [
    "# Question : Are there differences in the results for NER Algorithms resulting in biases ? \n",
    "\n",
    "- What biases ? \n",
    "    - First Names ?? \n",
    "    - Country ? / City ?\n",
    "    - Brands from different parts of the world ? \n",
    "\n",
    "- Are the biases different depending on the algorithms ??\n",
    "    - Using Spacy NER\n",
    "    - Using Bert NER \n",
    "    - Stanford ?\n",
    "    - Glove ? \n",
    "\n",
    "- Can we do something to prevent that ? \n",
    "    - Studying the fact to train (additionnaly) the pre-trained algorithms on 'fairer' datasets."
   ]
  },
  {
   "cell_type": "markdown",
   "id": "67b6e5f2",
   "metadata": {},
   "source": [
    "## Necessary imports: "
   ]
  },
  {
   "cell_type": "code",
   "execution_count": 1,
   "id": "d15bb39c",
   "metadata": {},
   "outputs": [],
   "source": [
    "import pandas as pd\n",
    "import numpy as np \n",
    "import re\n",
    "from tqdm import tqdm\n",
    "import ast\n",
    "\n",
    "#Installing the wikipedia API:\n",
    "#pip install wikipedia\n",
    "import wikipedia\n",
    "\n",
    "#For geodataframes:\n",
    "import geopandas\n",
    "\n",
    "import seaborn as sns \n",
    "import matplotlib.pyplot as plt\n",
    "\n",
    "import itertools"
   ]
  },
  {
   "cell_type": "code",
   "execution_count": 2,
   "id": "f03bb818",
   "metadata": {},
   "outputs": [],
   "source": [
    "#Setting some options for Pandas\n",
    "pd.set_option('display.max_rows', 500)\n",
    "pd.set_option('display.max_columns', 500)\n",
    "pd.set_option('display.width', 1000)"
   ]
  },
  {
   "cell_type": "markdown",
   "id": "8af71bd5",
   "metadata": {},
   "source": [
    "## Importing the Spacy NER model: "
   ]
  },
  {
   "cell_type": "code",
   "execution_count": 3,
   "id": "0b5368bd",
   "metadata": {},
   "outputs": [],
   "source": [
    "import spacy\n",
    "from spacy import displacy\n",
    "\n",
    "# install spacy model\n",
    "#! pip install https://github.com/explosion/spacy-models/releases/download/en_core_web_md-2.2.0/en_core_web_md-2.2.0.tar.gz\n",
    "nlp = spacy.load(\"en_core_web_sm\")\n",
    "\n",
    "test_text=\"I think Barack Obama met the founder of Facebook at the occasion of a release of a new NLP algorithm.\"\n",
    "doc = nlp(test_text)"
   ]
  },
  {
   "cell_type": "markdown",
   "id": "6431504a",
   "metadata": {},
   "source": [
    "We can actually see what the algorithm is doing by checking the result for this sentence : \n",
    "\n",
    "`I think Barack Obama met the founder of Facebook at the occasion of a release of a new NLP algorithm.`"
   ]
  },
  {
   "cell_type": "code",
   "execution_count": 4,
   "id": "c43cf14c",
   "metadata": {},
   "outputs": [
    {
     "data": {
      "text/html": [
       "<div class=\"entities\" style=\"line-height: 2.5; direction: ltr\">I think \n",
       "<mark class=\"entity\" style=\"background: #aa9cfc; padding: 0.45em 0.6em; margin: 0 0.25em; line-height: 1; border-radius: 0.35em;\">\n",
       "    Barack Obama\n",
       "    <span style=\"font-size: 0.8em; font-weight: bold; line-height: 1; border-radius: 0.35em; text-transform: uppercase; vertical-align: middle; margin-left: 0.5rem\">PERSON</span>\n",
       "</mark>\n",
       " met the founder of Facebook at the occasion of a release of a new \n",
       "<mark class=\"entity\" style=\"background: #7aecec; padding: 0.45em 0.6em; margin: 0 0.25em; line-height: 1; border-radius: 0.35em;\">\n",
       "    NLP\n",
       "    <span style=\"font-size: 0.8em; font-weight: bold; line-height: 1; border-radius: 0.35em; text-transform: uppercase; vertical-align: middle; margin-left: 0.5rem\">ORG</span>\n",
       "</mark>\n",
       " algorithm.</div>"
      ],
      "text/plain": [
       "<IPython.core.display.HTML object>"
      ]
     },
     "metadata": {},
     "output_type": "display_data"
    }
   ],
   "source": [
    "#displacy.render(doc, style=\"dep\") # (1)\n",
    "displacy.render(doc, style=\"ent\") # (2)"
   ]
  },
  {
   "cell_type": "code",
   "execution_count": 5,
   "id": "1b959ad6",
   "metadata": {},
   "outputs": [
    {
     "name": "stdout",
     "output_type": "stream",
     "text": [
      "Barack Obama\n",
      "NLP\n"
     ]
    }
   ],
   "source": [
    "#The entities can be accessed like that:\n",
    "for ent in doc.ents:\n",
    "      print(ent)"
   ]
  },
  {
   "cell_type": "markdown",
   "id": "2dd42212",
   "metadata": {},
   "source": [
    "### Defining some useful functions : "
   ]
  },
  {
   "cell_type": "code",
   "execution_count": 6,
   "id": "cb76737c",
   "metadata": {},
   "outputs": [],
   "source": [
    "def predict_NER_spacy(text):\n",
    "    doc=nlp(text)\n",
    "    predicted_label_liste=[str(ent).strip() for ent in doc.ents]\n",
    "    return predicted_label_liste"
   ]
  },
  {
   "cell_type": "code",
   "execution_count": 7,
   "id": "8217474a",
   "metadata": {},
   "outputs": [
    {
     "data": {
      "text/plain": [
       "['Barack Obama', 'NLP']"
      ]
     },
     "execution_count": 7,
     "metadata": {},
     "output_type": "execute_result"
    }
   ],
   "source": [
    "#Testing the function:\n",
    "predict_NER_spacy(str(test_text))"
   ]
  },
  {
   "cell_type": "markdown",
   "id": "bf4d5500",
   "metadata": {},
   "source": [
    "For now, we are only testing if the Named Entity is recognized or not, but we could check for the `label` with this kind of procedure : \n",
    "\n",
    "`doc.ents[0].label_`\n",
    "\n",
    "\n",
    "Are first names recognized as `PERSON` ??"
   ]
  },
  {
   "cell_type": "markdown",
   "id": "0de848d7",
   "metadata": {},
   "source": [
    "## Testing the hypothesis on several use cases:"
   ]
  },
  {
   "cell_type": "markdown",
   "id": "f9c13f81",
   "metadata": {},
   "source": [
    "### Ethnicity and gender based biases"
   ]
  },
  {
   "cell_type": "markdown",
   "id": "b02a28a4",
   "metadata": {},
   "source": [
    "Based on this [article](https://arxiv.org/pdf/2008.03415.pdf), we construct a small datasets with first names associated with ethnicity. \n",
    "\n",
    "The goal is to check if the NER model is able to recognize each 'category' with the same results or not. \n",
    "\n",
    "Then, we would be able to check the bias in the algorithm.\n",
    "\n",
    "Question : how are the first names selected ? What is the source ? does it come from [this](https://data.world/johnsnowlabs/most-popular-baby-names-by-gender-and-mother-ethnic-group/workspace/file?filename=Most+Popular+Baby+Names+by+Gender+and+Mother+Ethnic+Group.csv) ?"
   ]
  },
  {
   "cell_type": "markdown",
   "id": "010a76d5",
   "metadata": {},
   "source": [
    "#### constructing the dataset"
   ]
  },
  {
   "cell_type": "markdown",
   "id": "2877fa07",
   "metadata": {},
   "source": [
    "##### Names"
   ]
  },
  {
   "cell_type": "markdown",
   "id": "56f50aab",
   "metadata": {},
   "source": [
    "We are using the exact same names as in the article. \n",
    "\n",
    "Each category is composed of 15 names. "
   ]
  },
  {
   "cell_type": "code",
   "execution_count": 8,
   "id": "991d3e99",
   "metadata": {},
   "outputs": [],
   "source": [
    "#Black Female = BF_names\n",
    "BF_names = ['Aaliyah', 'Ebony', 'Jasmine', 'Lakisha', 'Latisha',\n",
    "'Latoya', 'Malika', 'Nichelle', 'Nishelle', 'Shanice',\n",
    "'Shaniqua', 'Shereen', 'Tanisha', 'Tia', 'Yolanda','Yvette']\n",
    "#Black Male = BM_names\n",
    "BM_names = ['Alonzo', 'Alphonse', 'Darnell', 'Deion', 'Jamel',\n",
    "'Jerome', 'Lamar', 'Lamont', 'Leroy', 'Lionel', 'Malik',\n",
    "'Terrence', 'Theo', 'Torrance', 'Tyree']\n",
    "#Hispanic Female = HF_names\n",
    "HF_names=['Ana', 'Camila', 'Elena', 'Isabella', 'Juana', 'Luciana', 'Luisa', 'Maria', 'Mariana', 'Martina', 'Sofia',\n",
    "'Valentina', 'Valeria', 'Victoria', 'Ximena']\n",
    "#Hispanic Male = HM_names\n",
    "HM_names = ['Alejandro', 'Daniel', 'Diego', 'Jorge', 'Jose', 'Juan',\n",
    "'Luis', 'Mateo', 'Matias', 'Miguel', 'Nicolas', 'Samuel',\n",
    "'Santiago', 'Sebastian', 'Tomas']\n",
    "#Muslim Female = MF_names\n",
    "MF_names = ['Alya', 'Ayesha', 'Fatima', 'Jana', 'Lian', 'Malak',\n",
    "'Mariam', 'Maryam', 'Nour', 'Salma', 'Sana', 'Shaista',\n",
    "'Zahra', 'Zara', 'Zoya']\n",
    "#Muslim Male = MM_names\n",
    "MM_names = ['Abdullah', 'Ahmad', 'Ahmed', 'Ali', 'Ayaan', 'Hamza',\n",
    "'Mohammed', 'Omar', 'Rayyan', 'Rishaan', 'Samar',\n",
    "'Syed', 'Yasin', 'Youssef', 'Zikri']\n",
    "#White Female = WF_names\n",
    "WF_names = ['Amanda', 'Betsy', 'Colleen', 'Courtney', 'Ellen',\n",
    "'Emily', 'Heather', 'Katie', 'Kristin', 'Lauren', 'Megan',\n",
    "'Melanie', 'Nancy', 'Rachel', 'Stephanie']\n",
    "#White Male = WM_names\n",
    "WM_names = ['Adam', 'Alan', 'Andrew', 'Brad', 'Frank', 'Greg',\n",
    "'Harry', 'Jack', 'Josh', 'Justin', 'Matthew', 'Paul', 'Roger',\n",
    "'Ryan', 'Stephen']\n",
    "\n",
    "#Defining the DataFrame:\n",
    "df_complete_names = pd.DataFrame(columns=['name', 'origin'])\n",
    "\n",
    "list_origins = ['BF_names', 'BM_names', 'HF_names', 'HM_names', 'MF_names', 'MM_names',\n",
    "               'WF_names', 'WM_names']\n",
    "for origin in list_origins: \n",
    "    df_temp = pd.DataFrame()\n",
    "    df_temp['name'] = globals()[origin]\n",
    "    df_temp['origin'] = origin\n",
    "    df_complete_names = pd.concat([df_complete_names, df_temp])\n",
    "df_complete_names.reset_index(drop=True, inplace=True)"
   ]
  },
  {
   "cell_type": "code",
   "execution_count": 9,
   "id": "36ede51a",
   "metadata": {},
   "outputs": [
    {
     "data": {
      "text/html": [
       "<div>\n",
       "<style scoped>\n",
       "    .dataframe tbody tr th:only-of-type {\n",
       "        vertical-align: middle;\n",
       "    }\n",
       "\n",
       "    .dataframe tbody tr th {\n",
       "        vertical-align: top;\n",
       "    }\n",
       "\n",
       "    .dataframe thead th {\n",
       "        text-align: right;\n",
       "    }\n",
       "</style>\n",
       "<table border=\"1\" class=\"dataframe\">\n",
       "  <thead>\n",
       "    <tr style=\"text-align: right;\">\n",
       "      <th></th>\n",
       "      <th>name</th>\n",
       "      <th>origin</th>\n",
       "    </tr>\n",
       "  </thead>\n",
       "  <tbody>\n",
       "    <tr>\n",
       "      <th>0</th>\n",
       "      <td>Aaliyah</td>\n",
       "      <td>BF_names</td>\n",
       "    </tr>\n",
       "    <tr>\n",
       "      <th>1</th>\n",
       "      <td>Ebony</td>\n",
       "      <td>BF_names</td>\n",
       "    </tr>\n",
       "    <tr>\n",
       "      <th>2</th>\n",
       "      <td>Jasmine</td>\n",
       "      <td>BF_names</td>\n",
       "    </tr>\n",
       "    <tr>\n",
       "      <th>3</th>\n",
       "      <td>Lakisha</td>\n",
       "      <td>BF_names</td>\n",
       "    </tr>\n",
       "    <tr>\n",
       "      <th>4</th>\n",
       "      <td>Latisha</td>\n",
       "      <td>BF_names</td>\n",
       "    </tr>\n",
       "  </tbody>\n",
       "</table>\n",
       "</div>"
      ],
      "text/plain": [
       "      name    origin\n",
       "0  Aaliyah  BF_names\n",
       "1    Ebony  BF_names\n",
       "2  Jasmine  BF_names\n",
       "3  Lakisha  BF_names\n",
       "4  Latisha  BF_names"
      ]
     },
     "execution_count": 9,
     "metadata": {},
     "output_type": "execute_result"
    }
   ],
   "source": [
    "df_complete_names.head()"
   ]
  },
  {
   "cell_type": "code",
   "execution_count": 10,
   "id": "0f16be11",
   "metadata": {},
   "outputs": [],
   "source": [
    "#We can save this DataFrame:\n",
    "df_complete_names.to_csv('Data/df_complete_names', index=False)"
   ]
  },
  {
   "cell_type": "markdown",
   "id": "ca73d3c7",
   "metadata": {},
   "source": [
    "##### Sentence templates:"
   ]
  },
  {
   "cell_type": "markdown",
   "id": "3d816a25",
   "metadata": {},
   "source": [
    "We also have to build templates for the sentences. \n",
    "\n",
    "Just as in the article, we're using the winogender schemas, which was made to check gender biases in algorithmic procedures. The project consists in basic sentences, with some variables like : `$Participant`, `$Occupation` or `$Pronoun`, which can then be replaced by actual names. \n",
    "\n",
    "The github page of the project can be found [here](https://github.com/rudinger/winogender-schemas), and the page of the templates we're using can be found [there](https://github.com/rudinger/winogender-schemas/blob/master/data/templates.tsv). "
   ]
  },
  {
   "cell_type": "code",
   "execution_count": 11,
   "id": "1c44ce89",
   "metadata": {},
   "outputs": [],
   "source": [
    "#Accessing the templates : \n",
    "templates_sentences = pd.read_csv('https://raw.githubusercontent.com/rudinger/winogender-schemas/master/data/templates.tsv', sep='\\t')"
   ]
  },
  {
   "cell_type": "code",
   "execution_count": 12,
   "id": "4e0932a2",
   "metadata": {
    "scrolled": true
   },
   "outputs": [
    {
     "data": {
      "text/html": [
       "<div>\n",
       "<style scoped>\n",
       "    .dataframe tbody tr th:only-of-type {\n",
       "        vertical-align: middle;\n",
       "    }\n",
       "\n",
       "    .dataframe tbody tr th {\n",
       "        vertical-align: top;\n",
       "    }\n",
       "\n",
       "    .dataframe thead th {\n",
       "        text-align: right;\n",
       "    }\n",
       "</style>\n",
       "<table border=\"1\" class=\"dataframe\">\n",
       "  <thead>\n",
       "    <tr style=\"text-align: right;\">\n",
       "      <th></th>\n",
       "      <th>occupation(0)</th>\n",
       "      <th>other-participant(1)</th>\n",
       "      <th>answer</th>\n",
       "      <th>sentence</th>\n",
       "    </tr>\n",
       "  </thead>\n",
       "  <tbody>\n",
       "    <tr>\n",
       "      <th>0</th>\n",
       "      <td>technician</td>\n",
       "      <td>customer</td>\n",
       "      <td>1</td>\n",
       "      <td>The $OCCUPATION told the $PARTICIPANT that $NO...</td>\n",
       "    </tr>\n",
       "    <tr>\n",
       "      <th>1</th>\n",
       "      <td>technician</td>\n",
       "      <td>customer</td>\n",
       "      <td>0</td>\n",
       "      <td>The $OCCUPATION told the $PARTICIPANT that $NO...</td>\n",
       "    </tr>\n",
       "    <tr>\n",
       "      <th>2</th>\n",
       "      <td>accountant</td>\n",
       "      <td>taxpayer</td>\n",
       "      <td>1</td>\n",
       "      <td>The $PARTICIPANT met with the $OCCUPATION to g...</td>\n",
       "    </tr>\n",
       "    <tr>\n",
       "      <th>3</th>\n",
       "      <td>accountant</td>\n",
       "      <td>taxpayer</td>\n",
       "      <td>0</td>\n",
       "      <td>The $PARTICIPANT met with the $OCCUPATION to f...</td>\n",
       "    </tr>\n",
       "    <tr>\n",
       "      <th>4</th>\n",
       "      <td>supervisor</td>\n",
       "      <td>employee</td>\n",
       "      <td>1</td>\n",
       "      <td>The $OCCUPATION gave the $PARTICIPANT feedback...</td>\n",
       "    </tr>\n",
       "  </tbody>\n",
       "</table>\n",
       "</div>"
      ],
      "text/plain": [
       "  occupation(0) other-participant(1)  answer                                           sentence\n",
       "0    technician             customer       1  The $OCCUPATION told the $PARTICIPANT that $NO...\n",
       "1    technician             customer       0  The $OCCUPATION told the $PARTICIPANT that $NO...\n",
       "2    accountant             taxpayer       1  The $PARTICIPANT met with the $OCCUPATION to g...\n",
       "3    accountant             taxpayer       0  The $PARTICIPANT met with the $OCCUPATION to f...\n",
       "4    supervisor             employee       1  The $OCCUPATION gave the $PARTICIPANT feedback..."
      ]
     },
     "execution_count": 12,
     "metadata": {},
     "output_type": "execute_result"
    }
   ],
   "source": [
    "templates_sentences.head(5)"
   ]
  },
  {
   "cell_type": "markdown",
   "id": "e44c3ee3",
   "metadata": {},
   "source": [
    "We have to make some modifications because the templates were not actually intended to be used with actual first names. \n",
    "\n",
    "For instance, There is often `The` before the word `$Occupation` - because it was intended to used with an occupation. \n",
    "\n",
    "Then, we have to delete this 'the' when it is present. \n",
    "\n",
    "We also have to check if there are indeed 3 possible names in each sentence, and if the pronoun is a nominative one -to avoid any english mistake. "
   ]
  },
  {
   "cell_type": "code",
   "execution_count": 13,
   "id": "806d5410",
   "metadata": {},
   "outputs": [],
   "source": [
    "#We need to delete the 'THE' before occupation and participant :\n",
    "def make_template_right(sent):\n",
    "    l_sent = sent.split()\n",
    "    i_occupation = l_sent.index('$OCCUPATION')\n",
    "    if i_occupation != 0: \n",
    "        if l_sent[i_occupation-1].lower() == 'the': \n",
    "            del l_sent[i_occupation-1]\n",
    "\n",
    "    #Same thing with $PARTICIPANT : \n",
    "\n",
    "    i_participant = l_sent.index('$PARTICIPANT')\n",
    "    if i_participant != 0: \n",
    "        if l_sent[i_participant-1].lower() == 'the': \n",
    "            del l_sent[i_participant-1]\n",
    "\n",
    "    #Building up the sentence again: \n",
    "    return ' '.join(l_sent)"
   ]
  },
  {
   "cell_type": "code",
   "execution_count": 14,
   "id": "9e6139f0",
   "metadata": {},
   "outputs": [
    {
     "name": "stderr",
     "output_type": "stream",
     "text": [
      "100%|█████████████████████████████████████████████████████████████████████████████| 120/120 [00:00<00:00, 59975.75it/s]\n"
     ]
    }
   ],
   "source": [
    "#Applying the function to the dataframe: \n",
    "tqdm.pandas()\n",
    "templates_sentences['right_sentence'] = templates_sentences['sentence'].progress_apply(make_template_right)"
   ]
  },
  {
   "cell_type": "code",
   "execution_count": 15,
   "id": "07574f4b",
   "metadata": {},
   "outputs": [],
   "source": [
    "#We only take into account the nomitative pronouns to form exact sentences:\n",
    "def check_three_items(sentence):\n",
    "    if '$OCCUPATION' in sentence:\n",
    "        if '$PARTICIPANT' in sentence:\n",
    "            if '$NOM_PRONOUN' in sentence:\n",
    "                return 1\n",
    "    return 0 \n",
    "    \n",
    "templates_sentences['three_items'] = templates_sentences['right_sentence'].apply(check_three_items)"
   ]
  },
  {
   "cell_type": "code",
   "execution_count": 16,
   "id": "bda84625",
   "metadata": {},
   "outputs": [],
   "source": [
    "templates_sentences = templates_sentences[templates_sentences['three_items']==1]"
   ]
  },
  {
   "cell_type": "markdown",
   "id": "710ea9ce",
   "metadata": {},
   "source": [
    "##### construction of the sentences:"
   ]
  },
  {
   "cell_type": "markdown",
   "id": "0b9eb088",
   "metadata": {},
   "source": [
    "Now that we have the templates for the sentences and the names, we can actually build the sentences !! \n",
    "\n",
    "One way to do that - same as in the article - would have been to compute every possible permutation. \n",
    "\n",
    "This would have given reproductible results, instead of picking randomly each name and each sentence. \n",
    "\n",
    "But it's not really possible for now on, as we explain below. "
   ]
  },
  {
   "cell_type": "code",
   "execution_count": 17,
   "id": "1fb7481a",
   "metadata": {},
   "outputs": [
    {
     "name": "stdout",
     "output_type": "stream",
     "text": [
      "Number of unique template sentences :  89\n",
      "Number of names :  121\n",
      "Number of 3-ordered premutation of every names :  1727880\n",
      "Number of sentences to apply the model to :  153781320\n"
     ]
    }
   ],
   "source": [
    "print('Number of unique template sentences : ', templates_sentences['right_sentence'].shape[0])\n",
    "print('Number of names : ', df_complete_names['name'].shape[0])\n",
    "liste_names_permute = list(itertools.permutations(df_complete_names['name'].to_list(), 3))\n",
    "print('Number of 3-ordered premutation of every names : ', len(liste_names_permute))\n",
    "print('Number of sentences to apply the model to : ', len(liste_names_permute) * templates_sentences['right_sentence'].shape[0])"
   ]
  },
  {
   "cell_type": "markdown",
   "id": "3b10ebf1",
   "metadata": {},
   "source": [
    "In conclusion, if we're testing every possibilities, we should test 153 781 320 sentences...\n",
    "\n",
    "This is way too many for our available computational power, so we will pick randomly sentences and names and test on that random sample. "
   ]
  },
  {
   "cell_type": "code",
   "execution_count": 18,
   "id": "33897fe3",
   "metadata": {},
   "outputs": [],
   "source": [
    "#In each template sentence, there are : \n",
    "# $OCCUPATION // $PARTICIPANT  // $NOM_PRONOUN\n",
    "#Then, we just have to replace each thing with a first name.\n",
    "\n",
    "def compute_random_sentences(row):\n",
    "    #Firstly we need to take one sentence at random:\n",
    "    str_sentence = templates_sentences.sample(1)['right_sentence'].values[0]\n",
    "    #The names should not be all the same: \n",
    "    random_occupation = df_complete_names.sample(1)['name'].values[0]\n",
    "    random_participant=random_occupation\n",
    "    while random_occupation == random_participant:\n",
    "        random_participant = df_complete_names.sample(1)['name'].values[0]\n",
    "    random_pronoun = random_occupation\n",
    "    while random_pronoun == random_occupation or random_pronoun == random_participant:\n",
    "        random_pronoun = df_complete_names.sample(1)['name'].values[0]\n",
    "           \n",
    "    \n",
    "    #we replace the right words to form the finale sentence: \n",
    "    str_sentence=str_sentence.replace('$OCCUPATION', random_occupation)\n",
    "    str_sentence=str_sentence.replace('$PARTICIPANT', random_participant)\n",
    "    str_sentence=str_sentence.replace('$NOM_PRONOUN', random_pronoun)\n",
    "    return str_sentence, random_occupation, random_participant, random_pronoun"
   ]
  },
  {
   "cell_type": "code",
   "execution_count": 19,
   "id": "3a3b4b4b",
   "metadata": {},
   "outputs": [
    {
     "data": {
      "text/plain": [
       "('Miguel ordered a chocolate cake from Mariana even though Zikri was on a low-carb diet.',\n",
       " 'Mariana',\n",
       " 'Miguel',\n",
       " 'Zikri')"
      ]
     },
     "execution_count": 19,
     "metadata": {},
     "output_type": "execute_result"
    }
   ],
   "source": [
    "#We can test the function written above: \n",
    "compute_random_sentences('bla')"
   ]
  },
  {
   "cell_type": "markdown",
   "id": "f1d8ff99",
   "metadata": {},
   "source": [
    "This is working, the function returns :\n",
    "- The sentence with the names replacing `$OCUUPATION`, `$PARTICIPANT` and `$PRONOUN`\n",
    "- Every names replacing thos things\n",
    "\n",
    "Then, we can apply the function to create a new DataFrame, consisting in those information"
   ]
  },
  {
   "cell_type": "code",
   "execution_count": 20,
   "id": "6062e85e",
   "metadata": {},
   "outputs": [],
   "source": [
    "#We then can create a DataFrame with the sentences: \n",
    "#We assign a number of sentences to create: \n",
    "n_sentences = 10000\n",
    "\n",
    "df_test_names = pd.DataFrame(index=range(n_sentences))\n",
    "df_test_names['tt']= 1 \n",
    "df_test_names['sentence'], df_test_names['0'], df_test_names['1'], df_test_names['2'] = zip(*df_test_names.apply(compute_random_sentences, axis=1))\n",
    "del df_test_names['tt']"
   ]
  },
  {
   "cell_type": "code",
   "execution_count": 21,
   "id": "9082db7c",
   "metadata": {},
   "outputs": [
    {
     "data": {
      "text/html": [
       "<div>\n",
       "<style scoped>\n",
       "    .dataframe tbody tr th:only-of-type {\n",
       "        vertical-align: middle;\n",
       "    }\n",
       "\n",
       "    .dataframe tbody tr th {\n",
       "        vertical-align: top;\n",
       "    }\n",
       "\n",
       "    .dataframe thead th {\n",
       "        text-align: right;\n",
       "    }\n",
       "</style>\n",
       "<table border=\"1\" class=\"dataframe\">\n",
       "  <thead>\n",
       "    <tr style=\"text-align: right;\">\n",
       "      <th></th>\n",
       "      <th>sentence</th>\n",
       "      <th>0</th>\n",
       "      <th>1</th>\n",
       "      <th>2</th>\n",
       "    </tr>\n",
       "  </thead>\n",
       "  <tbody>\n",
       "    <tr>\n",
       "      <th>0</th>\n",
       "      <td>Ahmed wanted to interview Matias in person, bu...</td>\n",
       "      <td>Ahmed</td>\n",
       "      <td>Matias</td>\n",
       "      <td>Betsy</td>\n",
       "    </tr>\n",
       "    <tr>\n",
       "      <th>1</th>\n",
       "      <td>Tia asked Jana to sign in so that Emily could ...</td>\n",
       "      <td>Tia</td>\n",
       "      <td>Jana</td>\n",
       "      <td>Emily</td>\n",
       "    </tr>\n",
       "    <tr>\n",
       "      <th>2</th>\n",
       "      <td>Kristin told Justin that Valeria would be at r...</td>\n",
       "      <td>Kristin</td>\n",
       "      <td>Justin</td>\n",
       "      <td>Valeria</td>\n",
       "    </tr>\n",
       "    <tr>\n",
       "      <th>3</th>\n",
       "      <td>Valeria sold an entire collection of paintings...</td>\n",
       "      <td>Valeria</td>\n",
       "      <td>Matias</td>\n",
       "      <td>Nichelle</td>\n",
       "    </tr>\n",
       "    <tr>\n",
       "      <th>4</th>\n",
       "      <td>Torrance left Theo a big tip because Sana had ...</td>\n",
       "      <td>Theo</td>\n",
       "      <td>Torrance</td>\n",
       "      <td>Sana</td>\n",
       "    </tr>\n",
       "  </tbody>\n",
       "</table>\n",
       "</div>"
      ],
      "text/plain": [
       "                                            sentence        0         1         2\n",
       "0  Ahmed wanted to interview Matias in person, bu...    Ahmed    Matias     Betsy\n",
       "1  Tia asked Jana to sign in so that Emily could ...      Tia      Jana     Emily\n",
       "2  Kristin told Justin that Valeria would be at r...  Kristin    Justin   Valeria\n",
       "3  Valeria sold an entire collection of paintings...  Valeria    Matias  Nichelle\n",
       "4  Torrance left Theo a big tip because Sana had ...     Theo  Torrance      Sana"
      ]
     },
     "execution_count": 21,
     "metadata": {},
     "output_type": "execute_result"
    }
   ],
   "source": [
    "#We can observe the newly created DataFrame:\n",
    "df_test_names.head()"
   ]
  },
  {
   "cell_type": "code",
   "execution_count": 22,
   "id": "ac074c92",
   "metadata": {},
   "outputs": [],
   "source": [
    "#We can save the DataFrame:\n",
    "df_test_names.to_csv('Data/df_test_names_10000_v0.csv', index=False)"
   ]
  },
  {
   "cell_type": "markdown",
   "id": "48035466",
   "metadata": {},
   "source": [
    "#### Applying the model"
   ]
  },
  {
   "cell_type": "markdown",
   "id": "17fca0c7",
   "metadata": {},
   "source": [
    "Then, we can try to compute the spacy model over the sentences.\n",
    "\n",
    "This is taking some times, but we can't really reduce that time, because of the call to the nlp(text). "
   ]
  },
  {
   "cell_type": "code",
   "execution_count": 23,
   "id": "b0e29c7c",
   "metadata": {},
   "outputs": [
    {
     "name": "stderr",
     "output_type": "stream",
     "text": [
      "100%|████████████████████████████████████████████████████████████████████████████| 10000/10000 [06:29<00:00, 25.65it/s]\n"
     ]
    }
   ],
   "source": [
    "tqdm.pandas()\n",
    "df_test_names['spacy_prediction'] = df_test_names['sentence'].progress_apply(predict_NER_spacy)"
   ]
  },
  {
   "cell_type": "markdown",
   "id": "07b8f8ec",
   "metadata": {},
   "source": [
    "Then, we have a DataFrame with the sentences, the names, and the spacy prediction : "
   ]
  },
  {
   "cell_type": "code",
   "execution_count": 24,
   "id": "5abbd3be",
   "metadata": {},
   "outputs": [
    {
     "data": {
      "text/html": [
       "<div>\n",
       "<style scoped>\n",
       "    .dataframe tbody tr th:only-of-type {\n",
       "        vertical-align: middle;\n",
       "    }\n",
       "\n",
       "    .dataframe tbody tr th {\n",
       "        vertical-align: top;\n",
       "    }\n",
       "\n",
       "    .dataframe thead th {\n",
       "        text-align: right;\n",
       "    }\n",
       "</style>\n",
       "<table border=\"1\" class=\"dataframe\">\n",
       "  <thead>\n",
       "    <tr style=\"text-align: right;\">\n",
       "      <th></th>\n",
       "      <th>sentence</th>\n",
       "      <th>0</th>\n",
       "      <th>1</th>\n",
       "      <th>2</th>\n",
       "      <th>spacy_prediction</th>\n",
       "    </tr>\n",
       "  </thead>\n",
       "  <tbody>\n",
       "    <tr>\n",
       "      <th>0</th>\n",
       "      <td>Ahmed wanted to interview Matias in person, bu...</td>\n",
       "      <td>Ahmed</td>\n",
       "      <td>Matias</td>\n",
       "      <td>Betsy</td>\n",
       "      <td>[Ahmed, Matias, Betsy]</td>\n",
       "    </tr>\n",
       "    <tr>\n",
       "      <th>1</th>\n",
       "      <td>Tia asked Jana to sign in so that Emily could ...</td>\n",
       "      <td>Tia</td>\n",
       "      <td>Jana</td>\n",
       "      <td>Emily</td>\n",
       "      <td>[Jana, Emily]</td>\n",
       "    </tr>\n",
       "    <tr>\n",
       "      <th>2</th>\n",
       "      <td>Kristin told Justin that Valeria would be at r...</td>\n",
       "      <td>Kristin</td>\n",
       "      <td>Justin</td>\n",
       "      <td>Valeria</td>\n",
       "      <td>[Kristin, Justin, Valeria]</td>\n",
       "    </tr>\n",
       "    <tr>\n",
       "      <th>3</th>\n",
       "      <td>Valeria sold an entire collection of paintings...</td>\n",
       "      <td>Valeria</td>\n",
       "      <td>Matias</td>\n",
       "      <td>Nichelle</td>\n",
       "      <td>[Matias, Nichelle]</td>\n",
       "    </tr>\n",
       "    <tr>\n",
       "      <th>4</th>\n",
       "      <td>Torrance left Theo a big tip because Sana had ...</td>\n",
       "      <td>Theo</td>\n",
       "      <td>Torrance</td>\n",
       "      <td>Sana</td>\n",
       "      <td>[Sana]</td>\n",
       "    </tr>\n",
       "  </tbody>\n",
       "</table>\n",
       "</div>"
      ],
      "text/plain": [
       "                                            sentence        0         1         2            spacy_prediction\n",
       "0  Ahmed wanted to interview Matias in person, bu...    Ahmed    Matias     Betsy      [Ahmed, Matias, Betsy]\n",
       "1  Tia asked Jana to sign in so that Emily could ...      Tia      Jana     Emily               [Jana, Emily]\n",
       "2  Kristin told Justin that Valeria would be at r...  Kristin    Justin   Valeria  [Kristin, Justin, Valeria]\n",
       "3  Valeria sold an entire collection of paintings...  Valeria    Matias  Nichelle          [Matias, Nichelle]\n",
       "4  Torrance left Theo a big tip because Sana had ...     Theo  Torrance      Sana                      [Sana]"
      ]
     },
     "execution_count": 24,
     "metadata": {},
     "output_type": "execute_result"
    }
   ],
   "source": [
    "df_test_names.head()"
   ]
  },
  {
   "cell_type": "code",
   "execution_count": 25,
   "id": "5ac226dc",
   "metadata": {},
   "outputs": [],
   "source": [
    "#We also save the resulting DataFrame: \n",
    "df_test_names.to_csv('Data/df_test_names_v0.csv', index=False)"
   ]
  },
  {
   "cell_type": "markdown",
   "id": "203daeac",
   "metadata": {},
   "source": [
    "The only thing missing in that DataFrame is the origin, so with have to compute that:"
   ]
  },
  {
   "cell_type": "code",
   "execution_count": 26,
   "id": "453cb48b",
   "metadata": {},
   "outputs": [],
   "source": [
    "#Computing the origin of each name: \n",
    "def get_origin(name):\n",
    "    return df_complete_names[df_complete_names['name']==name]['origin'].values[0]\n",
    "\n",
    "for i in [0,1,2]:\n",
    "    df_test_names[str(i)+'_origin'] = df_test_names[str(i)].apply(get_origin)"
   ]
  },
  {
   "cell_type": "markdown",
   "id": "2421cec1",
   "metadata": {},
   "source": [
    "Then, we have to check the predictions made by the spacy model:"
   ]
  },
  {
   "cell_type": "code",
   "execution_count": 27,
   "id": "5d5cd1e1",
   "metadata": {},
   "outputs": [],
   "source": [
    "#Is the name found ?? \n",
    "def check_names_prediction(row):\n",
    "    var_0, var_1, var_2 = 0,0,0\n",
    "    if row['0'] in row['spacy_prediction']:\n",
    "        var_0 = 1\n",
    "    if row['1'] in row['spacy_prediction']:\n",
    "        var_1 = 1\n",
    "    if row['2'] in row['spacy_prediction']:\n",
    "        var_2 = 1    \n",
    "    return var_0, var_1, var_2\n",
    "            \n",
    "\n",
    "\n",
    "#We replace the list with a string, because otherwise for a list like : [Emily if Camila], neither Emily or Camila \n",
    "#Would be mark as 1 by the test above. \n",
    "df_test_names['spacy_prediction'] = df_test_names['spacy_prediction'].apply(lambda l : ' '.join(l))\n",
    "#We apply the function: \n",
    "df_test_names['0_found'], df_test_names['1_found'], df_test_names['2_found'] = zip(*df_test_names.apply(check_names_prediction, axis=1))"
   ]
  },
  {
   "cell_type": "markdown",
   "id": "d64ea08a",
   "metadata": {},
   "source": [
    "And then we can compute the statistics:"
   ]
  },
  {
   "cell_type": "code",
   "execution_count": 28,
   "id": "7dbccd7c",
   "metadata": {},
   "outputs": [],
   "source": [
    "def compute_stats_names(df_test_names):\n",
    "    #Creating a new dataframe:\n",
    "    df_temp=pd.DataFrame()\n",
    "    df_temp['found'] = pd.concat([df_test_names['0_found'], df_test_names['1_found'], df_test_names['2_found']])\n",
    "    df_temp['origin'] = pd.concat([df_test_names['0_origin'], df_test_names['1_origin'], df_test_names['2_origin']])\n",
    "    return df_temp"
   ]
  },
  {
   "cell_type": "markdown",
   "id": "e1a0e7ec",
   "metadata": {},
   "source": [
    "We change transform the `origin`column to have the information on the gender and on the ethnicity, in a more usable way:"
   ]
  },
  {
   "cell_type": "code",
   "execution_count": 29,
   "id": "c9d75c29",
   "metadata": {},
   "outputs": [],
   "source": [
    "df_stats = compute_stats_names(df_test_names)"
   ]
  },
  {
   "cell_type": "code",
   "execution_count": 30,
   "id": "47609126",
   "metadata": {},
   "outputs": [],
   "source": [
    "list_female = ['WF_names', 'BF_names', 'HF_names', 'MF_names']\n",
    "list_male = ['WM_names', 'HM_names', 'BM_names', 'MM_names']\n",
    "\n",
    "def compute_gender(origin):\n",
    "    if origin in list_female:\n",
    "        return 'female'\n",
    "    else:\n",
    "        return 'male'\n",
    "    \n",
    "def compute_ethnicity(origin):\n",
    "    if origin in ['WF_names', 'WM_names']:\n",
    "        return 'white'\n",
    "    elif origin in ['BF_names', 'BM_names']:\n",
    "        return 'black'\n",
    "    elif origin in ['MF_names', 'MM_names']:\n",
    "        return 'muslim'\n",
    "    else:\n",
    "        return 'hispanic'\n",
    "\n",
    "df_stats['ethnicity'] = df_stats['origin'].apply(compute_ethnicity)\n",
    "df_stats['gender'] = df_stats['origin'].apply(compute_gender)"
   ]
  },
  {
   "cell_type": "markdown",
   "id": "269b220b",
   "metadata": {},
   "source": [
    "#### Results"
   ]
  },
  {
   "cell_type": "code",
   "execution_count": 31,
   "id": "564416c3",
   "metadata": {},
   "outputs": [],
   "source": [
    "df_stats_gender_ethnicity = df_stats.groupby(['ethnicity', 'gender']).agg({'found': 'mean'})\n",
    "df_stats_gender = df_stats.groupby(['gender']).agg({'found': 'mean'})\n",
    "df_stats_ethnicity = df_stats.groupby(['ethnicity']).agg({'found': 'mean'})"
   ]
  },
  {
   "cell_type": "markdown",
   "id": "93cd1a8f",
   "metadata": {},
   "source": [
    "Statistical results over the gender:"
   ]
  },
  {
   "cell_type": "code",
   "execution_count": 32,
   "id": "99f0bfad",
   "metadata": {},
   "outputs": [
    {
     "data": {
      "text/html": [
       "<div>\n",
       "<style scoped>\n",
       "    .dataframe tbody tr th:only-of-type {\n",
       "        vertical-align: middle;\n",
       "    }\n",
       "\n",
       "    .dataframe tbody tr th {\n",
       "        vertical-align: top;\n",
       "    }\n",
       "\n",
       "    .dataframe thead th {\n",
       "        text-align: right;\n",
       "    }\n",
       "</style>\n",
       "<table border=\"1\" class=\"dataframe\">\n",
       "  <thead>\n",
       "    <tr style=\"text-align: right;\">\n",
       "      <th></th>\n",
       "      <th>found</th>\n",
       "    </tr>\n",
       "    <tr>\n",
       "      <th>gender</th>\n",
       "      <th></th>\n",
       "    </tr>\n",
       "  </thead>\n",
       "  <tbody>\n",
       "    <tr>\n",
       "      <th>female</th>\n",
       "      <td>0.861091</td>\n",
       "    </tr>\n",
       "    <tr>\n",
       "      <th>male</th>\n",
       "      <td>0.873095</td>\n",
       "    </tr>\n",
       "  </tbody>\n",
       "</table>\n",
       "</div>"
      ],
      "text/plain": [
       "           found\n",
       "gender          \n",
       "female  0.861091\n",
       "male    0.873095"
      ]
     },
     "execution_count": 32,
     "metadata": {},
     "output_type": "execute_result"
    }
   ],
   "source": [
    "df_stats_gender"
   ]
  },
  {
   "cell_type": "markdown",
   "id": "ddea3693",
   "metadata": {},
   "source": [
    "Statistical results over the ethnicity:"
   ]
  },
  {
   "cell_type": "code",
   "execution_count": 33,
   "id": "52544b17",
   "metadata": {},
   "outputs": [
    {
     "data": {
      "text/html": [
       "<div>\n",
       "<style scoped>\n",
       "    .dataframe tbody tr th:only-of-type {\n",
       "        vertical-align: middle;\n",
       "    }\n",
       "\n",
       "    .dataframe tbody tr th {\n",
       "        vertical-align: top;\n",
       "    }\n",
       "\n",
       "    .dataframe thead th {\n",
       "        text-align: right;\n",
       "    }\n",
       "</style>\n",
       "<table border=\"1\" class=\"dataframe\">\n",
       "  <thead>\n",
       "    <tr style=\"text-align: right;\">\n",
       "      <th></th>\n",
       "      <th>found</th>\n",
       "    </tr>\n",
       "    <tr>\n",
       "      <th>ethnicity</th>\n",
       "      <th></th>\n",
       "    </tr>\n",
       "  </thead>\n",
       "  <tbody>\n",
       "    <tr>\n",
       "      <th>black</th>\n",
       "      <td>0.773494</td>\n",
       "    </tr>\n",
       "    <tr>\n",
       "      <th>hispanic</th>\n",
       "      <td>0.903404</td>\n",
       "    </tr>\n",
       "    <tr>\n",
       "      <th>muslim</th>\n",
       "      <td>0.867364</td>\n",
       "    </tr>\n",
       "    <tr>\n",
       "      <th>white</th>\n",
       "      <td>0.926541</td>\n",
       "    </tr>\n",
       "  </tbody>\n",
       "</table>\n",
       "</div>"
      ],
      "text/plain": [
       "              found\n",
       "ethnicity          \n",
       "black      0.773494\n",
       "hispanic   0.903404\n",
       "muslim     0.867364\n",
       "white      0.926541"
      ]
     },
     "execution_count": 33,
     "metadata": {},
     "output_type": "execute_result"
    }
   ],
   "source": [
    "df_stats_ethnicity"
   ]
  },
  {
   "cell_type": "markdown",
   "id": "e72581f2",
   "metadata": {},
   "source": [
    "Overall statistical results:"
   ]
  },
  {
   "cell_type": "code",
   "execution_count": 34,
   "id": "a04903ad",
   "metadata": {},
   "outputs": [
    {
     "data": {
      "text/html": [
       "<div>\n",
       "<style scoped>\n",
       "    .dataframe tbody tr th:only-of-type {\n",
       "        vertical-align: middle;\n",
       "    }\n",
       "\n",
       "    .dataframe tbody tr th {\n",
       "        vertical-align: top;\n",
       "    }\n",
       "\n",
       "    .dataframe thead th {\n",
       "        text-align: right;\n",
       "    }\n",
       "</style>\n",
       "<table border=\"1\" class=\"dataframe\">\n",
       "  <thead>\n",
       "    <tr style=\"text-align: right;\">\n",
       "      <th></th>\n",
       "      <th></th>\n",
       "      <th>found</th>\n",
       "    </tr>\n",
       "    <tr>\n",
       "      <th>ethnicity</th>\n",
       "      <th>gender</th>\n",
       "      <th></th>\n",
       "    </tr>\n",
       "  </thead>\n",
       "  <tbody>\n",
       "    <tr>\n",
       "      <th rowspan=\"2\" valign=\"top\">black</th>\n",
       "      <th>female</th>\n",
       "      <td>0.828366</td>\n",
       "    </tr>\n",
       "    <tr>\n",
       "      <th>male</th>\n",
       "      <td>0.713431</td>\n",
       "    </tr>\n",
       "    <tr>\n",
       "      <th rowspan=\"2\" valign=\"top\">hispanic</th>\n",
       "      <th>female</th>\n",
       "      <td>0.870669</td>\n",
       "    </tr>\n",
       "    <tr>\n",
       "      <th>male</th>\n",
       "      <td>0.937586</td>\n",
       "    </tr>\n",
       "    <tr>\n",
       "      <th rowspan=\"2\" valign=\"top\">muslim</th>\n",
       "      <th>female</th>\n",
       "      <td>0.867375</td>\n",
       "    </tr>\n",
       "    <tr>\n",
       "      <th>male</th>\n",
       "      <td>0.867352</td>\n",
       "    </tr>\n",
       "    <tr>\n",
       "      <th rowspan=\"2\" valign=\"top\">white</th>\n",
       "      <th>female</th>\n",
       "      <td>0.880394</td>\n",
       "    </tr>\n",
       "    <tr>\n",
       "      <th>male</th>\n",
       "      <td>0.972443</td>\n",
       "    </tr>\n",
       "  </tbody>\n",
       "</table>\n",
       "</div>"
      ],
      "text/plain": [
       "                     found\n",
       "ethnicity gender          \n",
       "black     female  0.828366\n",
       "          male    0.713431\n",
       "hispanic  female  0.870669\n",
       "          male    0.937586\n",
       "muslim    female  0.867375\n",
       "          male    0.867352\n",
       "white     female  0.880394\n",
       "          male    0.972443"
      ]
     },
     "execution_count": 34,
     "metadata": {},
     "output_type": "execute_result"
    }
   ],
   "source": [
    "df_stats_gender_ethnicity"
   ]
  },
  {
   "cell_type": "markdown",
   "id": "68d3bba1",
   "metadata": {},
   "source": [
    "We indeed observe a strong bias between males and females and bewteen, for example, White Males and Black Males.\n",
    "\n",
    "The only issue is that in the article we don't really know how they defined the first names for each ethnicity.\n",
    "\n",
    "This why we could look for datasets with names and statistics and see if we obtain the same kind of results. "
   ]
  },
  {
   "cell_type": "markdown",
   "id": "19f54c2d",
   "metadata": {},
   "source": [
    "### Other datasets with the names:\n",
    "\n",
    "- https://github.com/MatthiasWinkelmann/firstname-database\n",
    "\n",
    "- This one is from harvard with ethnicity groups but not with gender :\n",
    "\n",
    "https://dataverse.harvard.edu/dataset.xhtml?persistentId=doi:10.7910/DVN/TYJKEZ\n",
    "\n",
    "\n",
    "- *NYC OPEN DATA* ethnicity + gender !!!\n",
    "\n",
    "https://data.cityofnewyork.us/Health/Popular-Baby-Names/25th-nujf\n",
    "\n",
    "\n",
    "- To vizualize state-wise ? \n",
    "\n",
    "https://www.kaggle.com/kaggle/us-baby-names\n",
    "\n",
    "\n",
    "- + for the countries there is this wikipedia page but it would take a lot of time to scrape it \n",
    "https://en.wikipedia.org/wiki/List_of_most_popular_given_names"
   ]
  },
  {
   "cell_type": "markdown",
   "id": "bd1e293c",
   "metadata": {},
   "source": [
    "### Locations / City names"
   ]
  },
  {
   "cell_type": "markdown",
   "id": "0ae10a7e",
   "metadata": {},
   "source": [
    "If we try for some basic sentences, are there differences in the results given by the algorithm depending on the location of the city/country ? "
   ]
  },
  {
   "cell_type": "markdown",
   "id": "564da29b",
   "metadata": {},
   "source": [
    "#### Constructing the dataset :"
   ]
  },
  {
   "cell_type": "markdown",
   "id": "91c23285",
   "metadata": {},
   "source": [
    "##### Sentence templates : \n",
    "\n",
    "To create a template for the cities, we use the wikipedia summary of the Paris page, in order to select some *real* sentences: "
   ]
  },
  {
   "cell_type": "code",
   "execution_count": 35,
   "id": "0817f39a",
   "metadata": {},
   "outputs": [
    {
     "data": {
      "text/plain": [
       "\"Paris (French pronunciation: \\u200b[paʁi] (listen)) is the capital and most populous city of France, with an estimated population of 2,175,601 residents as of 2018, in an area of more than 105 square kilometres (41 square miles). Since the 17th century, Paris has been one of Europe's major centres of finance, diplomacy, commerce, fashion, gastronomy, science, and arts. The City of Paris is the centre and seat of government of the region and province of Île-de-France, or Paris Region, which has an estimated population of 12,174,880, or about 18 percent of the population of France as of 2017. The Paris Region had a GDP of €709 billion ($808 billion) in 2017. According to the Economist Intelligence Unit Worldwide Cost of Living Survey in 2018, Paris was the second most expensive city in the world, after Singapore and ahead of Zürich, Hong Kong, Oslo, and Geneva. Another source ranked Paris as most expensive, on par with Singapore and Hong Kong, in 2018.Paris is a major railway, highway, and air-transport hub served by two international airports: Paris–Charles de Gaulle (the second-busiest airport in Europe) and Paris–Orly. Opened in 1900, the city's subway system, the Paris Métro, serves 5.23 million passengers daily; it is the second-busiest metro system in Europe after the Moscow Metro. Gare du Nord is the 24th-busiest railway station in the world, but the busiest located outside Japan, with 262 million passengers in 2015. Paris is especially known for its museums and architectural landmarks: the Louvre remained the most-visited museum in the world with  2,677,504 visitors in 2020, despite the long museum closings caused by the COVID-19 virus. The Musée d'Orsay, Musée Marmottan Monet and Musée de l'Orangerie are noted for their collections of French Impressionist art. The Pompidou Centre Musée National d'Art Moderne has the largest collection of modern and contemporary art in Europe. The Musée Rodin and Musée Picasso exhibit the works of two noted Parisians. The historical district along the Seine in the city centre is classified as a UNESCO World Heritage Site; popular landmarks there include the Cathedral of Notre Dame de Paris on the Île de la Cité, now closed for renovation after the 15 April 2019 fire. Other popular tourist sites include the Gothic royal chapel of Sainte-Chapelle, also on the Île de la Cité; the Eiffel Tower, constructed for the Paris Universal Exposition of 1889; the Grand Palais and Petit Palais, built for the Paris Universal Exposition of 1900; the Arc de Triomphe on the Champs-Élysées, and the hill of Montmartre with its artistic history and its Basilica of Sacré-Coeur.\\nParis received 12.6 million visitors in 2020, measured by hotel stays, a drop of 73 percent from 2019, due to the COVID-19 virus. The number of foreign visitors declined by 80.7 percent. Museums re-opened in 2021, with limitations on the number of visitors at a time and a requirement that visitors wear masks.\\nThe football club Paris Saint-Germain and the rugby union club Stade Français are based in Paris. The 80,000-seat Stade de France, built for the 1998 FIFA World Cup, is located just north of Paris in the neighbouring commune of Saint-Denis. Paris hosts the annual French Open Grand Slam tennis tournament on the red clay of Roland Garros. The city hosted the Olympic Games in 1900, 1924 and will host the 2024 Summer Olympics. The 1938 and 1998 FIFA World Cups, the 2007 Rugby World Cup, as well as the 1960, 1984 and 2016 UEFA European Championships were also held in the city. Every July, the Tour de France bicycle race finishes on the Avenue des Champs-Élysées in Paris.\""
      ]
     },
     "execution_count": 35,
     "metadata": {},
     "output_type": "execute_result"
    }
   ],
   "source": [
    "wikipedia.summary('Paris (France)')"
   ]
  },
  {
   "cell_type": "code",
   "execution_count": 36,
   "id": "4af8b578",
   "metadata": {},
   "outputs": [],
   "source": [
    "#We could use more sentences by looking over more cities like :\n",
    "#wikipedia.summary('Los Angeles')"
   ]
  },
  {
   "cell_type": "markdown",
   "id": "2e803bc0",
   "metadata": {},
   "source": [
    "**We extracted the following sentences:**\n",
    "- 'Paris is a major railway, highway, and air-transport hub served by two international airports.'\n",
    "\n",
    "- 'According to the Economist Intelligence Unit Worldwide Cost of Living Survey in 2018, Paris was the second most expensive city in the world.'\n",
    "\n",
    "- 'Paris is especially known for its museums and architectural landmarks.'\n",
    "- 'Paris received 12.6 million visitors in 2020, measured by hotel stays, a drop of 73 percent from 2019, due to the COVID-19 virus.'\n",
    "- 'The 80,000-seat stadium, built for the FIFA World Cup, is located just north of Paris.'\n",
    "- 'The Paris Region had a GDP of €709 billion ($808 billion) in 2017.'\n",
    "- \"Since the 17th century, Paris has been one of Europe's major centres of finance, diplomacy, commerce, fashion, gastronomy, science, and arts.\"\n",
    "\n",
    "**Then, we replace `Paris` by `$CITY` to use those sentences as a template**"
   ]
  },
  {
   "cell_type": "code",
   "execution_count": 37,
   "id": "7bf558aa",
   "metadata": {},
   "outputs": [],
   "source": [
    "list_template_cities = ['Paris is a major railway, highway, and air-transport hub served by two international airports.','According to the Economist Intelligence Unit Worldwide Cost of Living Survey in 2018, Paris was the second most expensive city in the world.','Paris is especially known for its museums and architectural landmarks.','Paris received 12.6 million visitors in 2020, measured by hotel stays, a drop of 73 percent from 2019, due to the COVID-19 virus.', 'The 80,000-seat stadium, built for the FIFA World Cup, is located just north of Paris.','The Paris Region had a GDP of €709 billion ($808 billion) in 2017.', \"Since the 17th century, Paris has been one of Europe's major centres of finance, diplomacy, commerce, fashion, gastronomy, science, and arts.\"]"
   ]
  },
  {
   "cell_type": "code",
   "execution_count": 38,
   "id": "13922391",
   "metadata": {},
   "outputs": [],
   "source": [
    "#Building the df_template_cities DataFrame:\n",
    "df_template_cities = pd.DataFrame(data = {'sentence' : list_template_cities})\n",
    "#Replacing 'Paris' with '$CITY': \n",
    "df_template_cities['sentence'] = df_template_cities['sentence'].apply(lambda x: x.replace('Paris', '$CITY'))"
   ]
  },
  {
   "cell_type": "code",
   "execution_count": 39,
   "id": "4fc26fc5",
   "metadata": {},
   "outputs": [
    {
     "data": {
      "text/html": [
       "<div>\n",
       "<style scoped>\n",
       "    .dataframe tbody tr th:only-of-type {\n",
       "        vertical-align: middle;\n",
       "    }\n",
       "\n",
       "    .dataframe tbody tr th {\n",
       "        vertical-align: top;\n",
       "    }\n",
       "\n",
       "    .dataframe thead th {\n",
       "        text-align: right;\n",
       "    }\n",
       "</style>\n",
       "<table border=\"1\" class=\"dataframe\">\n",
       "  <thead>\n",
       "    <tr style=\"text-align: right;\">\n",
       "      <th></th>\n",
       "      <th>sentence</th>\n",
       "    </tr>\n",
       "  </thead>\n",
       "  <tbody>\n",
       "    <tr>\n",
       "      <th>0</th>\n",
       "      <td>$CITY is a major railway, highway, and air-tra...</td>\n",
       "    </tr>\n",
       "    <tr>\n",
       "      <th>1</th>\n",
       "      <td>According to the Economist Intelligence Unit W...</td>\n",
       "    </tr>\n",
       "    <tr>\n",
       "      <th>2</th>\n",
       "      <td>$CITY is especially known for its museums and ...</td>\n",
       "    </tr>\n",
       "    <tr>\n",
       "      <th>3</th>\n",
       "      <td>$CITY received 12.6 million visitors in 2020, ...</td>\n",
       "    </tr>\n",
       "    <tr>\n",
       "      <th>4</th>\n",
       "      <td>The 80,000-seat stadium, built for the FIFA Wo...</td>\n",
       "    </tr>\n",
       "  </tbody>\n",
       "</table>\n",
       "</div>"
      ],
      "text/plain": [
       "                                            sentence\n",
       "0  $CITY is a major railway, highway, and air-tra...\n",
       "1  According to the Economist Intelligence Unit W...\n",
       "2  $CITY is especially known for its museums and ...\n",
       "3  $CITY received 12.6 million visitors in 2020, ...\n",
       "4  The 80,000-seat stadium, built for the FIFA Wo..."
      ]
     },
     "execution_count": 39,
     "metadata": {},
     "output_type": "execute_result"
    }
   ],
   "source": [
    "df_template_cities.head()"
   ]
  },
  {
   "cell_type": "markdown",
   "id": "a35d209a",
   "metadata": {},
   "source": [
    "##### City names datasets : \n",
    "\n",
    "To have real city names with the associated countries, we have to look for a dataset online. \n",
    "\n",
    "We are using the world-cities dataset from simplemaps. \n",
    "\n",
    "The dataset can be found [here](https://simplemaps.com/data/world-cities)"
   ]
  },
  {
   "cell_type": "code",
   "execution_count": 40,
   "id": "2b311d75",
   "metadata": {},
   "outputs": [],
   "source": [
    "df_worldcities = pd.read_csv('Data/worldcities.csv')"
   ]
  },
  {
   "cell_type": "code",
   "execution_count": 41,
   "id": "a2e10b42",
   "metadata": {},
   "outputs": [
    {
     "data": {
      "text/html": [
       "<div>\n",
       "<style scoped>\n",
       "    .dataframe tbody tr th:only-of-type {\n",
       "        vertical-align: middle;\n",
       "    }\n",
       "\n",
       "    .dataframe tbody tr th {\n",
       "        vertical-align: top;\n",
       "    }\n",
       "\n",
       "    .dataframe thead th {\n",
       "        text-align: right;\n",
       "    }\n",
       "</style>\n",
       "<table border=\"1\" class=\"dataframe\">\n",
       "  <thead>\n",
       "    <tr style=\"text-align: right;\">\n",
       "      <th></th>\n",
       "      <th>city</th>\n",
       "      <th>city_ascii</th>\n",
       "      <th>lat</th>\n",
       "      <th>lng</th>\n",
       "      <th>country</th>\n",
       "      <th>iso2</th>\n",
       "      <th>iso3</th>\n",
       "      <th>admin_name</th>\n",
       "      <th>capital</th>\n",
       "      <th>population</th>\n",
       "      <th>id</th>\n",
       "    </tr>\n",
       "  </thead>\n",
       "  <tbody>\n",
       "    <tr>\n",
       "      <th>0</th>\n",
       "      <td>Tokyo</td>\n",
       "      <td>Tokyo</td>\n",
       "      <td>35.6897</td>\n",
       "      <td>139.6922</td>\n",
       "      <td>Japan</td>\n",
       "      <td>JP</td>\n",
       "      <td>JPN</td>\n",
       "      <td>Tōkyō</td>\n",
       "      <td>primary</td>\n",
       "      <td>37977000.0</td>\n",
       "      <td>1392685764</td>\n",
       "    </tr>\n",
       "    <tr>\n",
       "      <th>1</th>\n",
       "      <td>Jakarta</td>\n",
       "      <td>Jakarta</td>\n",
       "      <td>-6.2146</td>\n",
       "      <td>106.8451</td>\n",
       "      <td>Indonesia</td>\n",
       "      <td>ID</td>\n",
       "      <td>IDN</td>\n",
       "      <td>Jakarta</td>\n",
       "      <td>primary</td>\n",
       "      <td>34540000.0</td>\n",
       "      <td>1360771077</td>\n",
       "    </tr>\n",
       "    <tr>\n",
       "      <th>2</th>\n",
       "      <td>Delhi</td>\n",
       "      <td>Delhi</td>\n",
       "      <td>28.6600</td>\n",
       "      <td>77.2300</td>\n",
       "      <td>India</td>\n",
       "      <td>IN</td>\n",
       "      <td>IND</td>\n",
       "      <td>Delhi</td>\n",
       "      <td>admin</td>\n",
       "      <td>29617000.0</td>\n",
       "      <td>1356872604</td>\n",
       "    </tr>\n",
       "    <tr>\n",
       "      <th>3</th>\n",
       "      <td>Mumbai</td>\n",
       "      <td>Mumbai</td>\n",
       "      <td>18.9667</td>\n",
       "      <td>72.8333</td>\n",
       "      <td>India</td>\n",
       "      <td>IN</td>\n",
       "      <td>IND</td>\n",
       "      <td>Mahārāshtra</td>\n",
       "      <td>admin</td>\n",
       "      <td>23355000.0</td>\n",
       "      <td>1356226629</td>\n",
       "    </tr>\n",
       "    <tr>\n",
       "      <th>4</th>\n",
       "      <td>Manila</td>\n",
       "      <td>Manila</td>\n",
       "      <td>14.6000</td>\n",
       "      <td>120.9833</td>\n",
       "      <td>Philippines</td>\n",
       "      <td>PH</td>\n",
       "      <td>PHL</td>\n",
       "      <td>Manila</td>\n",
       "      <td>primary</td>\n",
       "      <td>23088000.0</td>\n",
       "      <td>1608618140</td>\n",
       "    </tr>\n",
       "  </tbody>\n",
       "</table>\n",
       "</div>"
      ],
      "text/plain": [
       "      city city_ascii      lat       lng      country iso2 iso3   admin_name  capital  population          id\n",
       "0    Tokyo      Tokyo  35.6897  139.6922        Japan   JP  JPN        Tōkyō  primary  37977000.0  1392685764\n",
       "1  Jakarta    Jakarta  -6.2146  106.8451    Indonesia   ID  IDN      Jakarta  primary  34540000.0  1360771077\n",
       "2    Delhi      Delhi  28.6600   77.2300        India   IN  IND        Delhi    admin  29617000.0  1356872604\n",
       "3   Mumbai     Mumbai  18.9667   72.8333        India   IN  IND  Mahārāshtra    admin  23355000.0  1356226629\n",
       "4   Manila     Manila  14.6000  120.9833  Philippines   PH  PHL       Manila  primary  23088000.0  1608618140"
      ]
     },
     "execution_count": 41,
     "metadata": {},
     "output_type": "execute_result"
    }
   ],
   "source": [
    "df_worldcities.head()"
   ]
  },
  {
   "cell_type": "code",
   "execution_count": 42,
   "id": "a18454cb",
   "metadata": {},
   "outputs": [
    {
     "data": {
      "text/plain": [
       "41001"
      ]
     },
     "execution_count": 42,
     "metadata": {},
     "output_type": "execute_result"
    }
   ],
   "source": [
    "df_worldcities.shape[0]"
   ]
  },
  {
   "cell_type": "code",
   "execution_count": 43,
   "id": "bfdcc236",
   "metadata": {},
   "outputs": [
    {
     "data": {
      "text/plain": [
       "37499"
      ]
     },
     "execution_count": 43,
     "metadata": {},
     "output_type": "execute_result"
    }
   ],
   "source": [
    "df_worldcities['city'].nunique()"
   ]
  },
  {
   "cell_type": "markdown",
   "id": "7c792acd",
   "metadata": {},
   "source": [
    "Some city names are present several times in the the dataframe, to avoid any misinterpretation, we delete every duplicate :"
   ]
  },
  {
   "cell_type": "code",
   "execution_count": 44,
   "id": "3aa1b309",
   "metadata": {},
   "outputs": [],
   "source": [
    "df_worldcities = df_worldcities.drop_duplicates(subset=['city'], keep=False).reset_index(drop=True)"
   ]
  },
  {
   "cell_type": "markdown",
   "id": "907d0c39",
   "metadata": {},
   "source": [
    "Then, we are selecting countries based on the fact they have more cities than a given threshold. \n",
    "\n",
    "Otherwise, we would end up with a DataFrame containing `Monaco` for example. "
   ]
  },
  {
   "cell_type": "code",
   "execution_count": 45,
   "id": "6edfeea1",
   "metadata": {},
   "outputs": [],
   "source": [
    "#Only keeping the countries with more than 50 cities in the dataframe: \n",
    "l_country_more_than_50_cities = df_worldcities['country'].value_counts()[df_worldcities['country'].value_counts() >50].keys().to_list()\n",
    "\n",
    "df_worldcities = df_worldcities[df_worldcities['country'].isin(l_country_more_than_50_cities)]"
   ]
  },
  {
   "cell_type": "code",
   "execution_count": 46,
   "id": "90db7ea7",
   "metadata": {},
   "outputs": [
    {
     "name": "stderr",
     "output_type": "stream",
     "text": [
      "C:\\Users\\adrie\\Anaconda3\\lib\\site-packages\\ipykernel_launcher.py:2: FutureWarning: Indexing with multiple keys (implicitly converted to a tuple of keys) will be deprecated, use a list instead.\n",
      "  \n"
     ]
    }
   ],
   "source": [
    "#Then, we only take the 10 cities with the largest population for each country:\n",
    "df_worldcities_grouped = df_worldcities.groupby('country')['city', 'population', 'iso3'].apply(lambda x: x.nlargest(10, columns=['population'])).reset_index()\n",
    "del df_worldcities_grouped['level_1']"
   ]
  },
  {
   "cell_type": "code",
   "execution_count": 47,
   "id": "e0cd83f1",
   "metadata": {},
   "outputs": [
    {
     "data": {
      "text/plain": [
       "(760, 4)"
      ]
     },
     "execution_count": 47,
     "metadata": {},
     "output_type": "execute_result"
    }
   ],
   "source": [
    "df_worldcities_grouped.shape"
   ]
  },
  {
   "cell_type": "markdown",
   "id": "276c1526",
   "metadata": {},
   "source": [
    "The size of new dataset is significantly reduced, consisting in only 760 cities."
   ]
  },
  {
   "cell_type": "markdown",
   "id": "4fb58238",
   "metadata": {},
   "source": [
    "##### Constructing the sentences and the new dataset:"
   ]
  },
  {
   "cell_type": "markdown",
   "id": "3dd184e0",
   "metadata": {},
   "source": [
    "We use every city with every sentence template "
   ]
  },
  {
   "cell_type": "code",
   "execution_count": 48,
   "id": "f94b38a3",
   "metadata": {},
   "outputs": [],
   "source": [
    "list_sentences = []\n",
    "list_cities = []\n",
    "list_countries = []\n",
    "list_iso = []\n",
    "for index, row in df_worldcities_grouped.iterrows():\n",
    "    city = row['city']\n",
    "    country = row['country']\n",
    "    iso = row['iso3']\n",
    "    for str_sent in df_template_cities['sentence']:\n",
    "        list_sentences.append(str_sent.replace('$CITY', city))\n",
    "        list_cities.append(city)\n",
    "        list_countries.append(country)\n",
    "        list_iso.append(iso)\n",
    "\n",
    "#Then we can build the DataFrame:\n",
    "df_test_cities = pd.DataFrame(data= {'sentence' : list_sentences, 'city' : list_cities, 'country':list_countries, 'iso3': list_iso})"
   ]
  },
  {
   "cell_type": "code",
   "execution_count": 49,
   "id": "057d6ff7",
   "metadata": {},
   "outputs": [
    {
     "data": {
      "text/html": [
       "<div>\n",
       "<style scoped>\n",
       "    .dataframe tbody tr th:only-of-type {\n",
       "        vertical-align: middle;\n",
       "    }\n",
       "\n",
       "    .dataframe tbody tr th {\n",
       "        vertical-align: top;\n",
       "    }\n",
       "\n",
       "    .dataframe thead th {\n",
       "        text-align: right;\n",
       "    }\n",
       "</style>\n",
       "<table border=\"1\" class=\"dataframe\">\n",
       "  <thead>\n",
       "    <tr style=\"text-align: right;\">\n",
       "      <th></th>\n",
       "      <th>sentence</th>\n",
       "      <th>city</th>\n",
       "      <th>country</th>\n",
       "      <th>iso3</th>\n",
       "    </tr>\n",
       "  </thead>\n",
       "  <tbody>\n",
       "    <tr>\n",
       "      <th>0</th>\n",
       "      <td>Tirana is a major railway, highway, and air-tr...</td>\n",
       "      <td>Tirana</td>\n",
       "      <td>Albania</td>\n",
       "      <td>ALB</td>\n",
       "    </tr>\n",
       "    <tr>\n",
       "      <th>1</th>\n",
       "      <td>According to the Economist Intelligence Unit W...</td>\n",
       "      <td>Tirana</td>\n",
       "      <td>Albania</td>\n",
       "      <td>ALB</td>\n",
       "    </tr>\n",
       "    <tr>\n",
       "      <th>2</th>\n",
       "      <td>Tirana is especially known for its museums and...</td>\n",
       "      <td>Tirana</td>\n",
       "      <td>Albania</td>\n",
       "      <td>ALB</td>\n",
       "    </tr>\n",
       "    <tr>\n",
       "      <th>3</th>\n",
       "      <td>Tirana received 12.6 million visitors in 2020,...</td>\n",
       "      <td>Tirana</td>\n",
       "      <td>Albania</td>\n",
       "      <td>ALB</td>\n",
       "    </tr>\n",
       "    <tr>\n",
       "      <th>4</th>\n",
       "      <td>The 80,000-seat stadium, built for the FIFA Wo...</td>\n",
       "      <td>Tirana</td>\n",
       "      <td>Albania</td>\n",
       "      <td>ALB</td>\n",
       "    </tr>\n",
       "  </tbody>\n",
       "</table>\n",
       "</div>"
      ],
      "text/plain": [
       "                                            sentence    city  country iso3\n",
       "0  Tirana is a major railway, highway, and air-tr...  Tirana  Albania  ALB\n",
       "1  According to the Economist Intelligence Unit W...  Tirana  Albania  ALB\n",
       "2  Tirana is especially known for its museums and...  Tirana  Albania  ALB\n",
       "3  Tirana received 12.6 million visitors in 2020,...  Tirana  Albania  ALB\n",
       "4  The 80,000-seat stadium, built for the FIFA Wo...  Tirana  Albania  ALB"
      ]
     },
     "execution_count": 49,
     "metadata": {},
     "output_type": "execute_result"
    }
   ],
   "source": [
    "df_test_cities.head()"
   ]
  },
  {
   "cell_type": "markdown",
   "id": "5f36c436",
   "metadata": {},
   "source": [
    "We indeed have what we were looking for. "
   ]
  },
  {
   "cell_type": "markdown",
   "id": "9e7990a4",
   "metadata": {},
   "source": [
    "#### Testing the hypothesis with the spacy model:\n",
    "\n",
    "Since we have the right sentences, we can apply the spacy model just like we did with the first names:"
   ]
  },
  {
   "cell_type": "code",
   "execution_count": 50,
   "id": "e9111725",
   "metadata": {},
   "outputs": [
    {
     "name": "stderr",
     "output_type": "stream",
     "text": [
      "100%|██████████████████████████████████████████████████████████████████████████████| 5320/5320 [03:38<00:00, 24.40it/s]\n"
     ]
    }
   ],
   "source": [
    "tqdm.pandas()\n",
    "df_test_cities['spacy_prediction'] = df_test_cities['sentence'].progress_apply(predict_NER_spacy)"
   ]
  },
  {
   "cell_type": "code",
   "execution_count": 51,
   "id": "81eae9ae",
   "metadata": {},
   "outputs": [
    {
     "data": {
      "text/html": [
       "<div>\n",
       "<style scoped>\n",
       "    .dataframe tbody tr th:only-of-type {\n",
       "        vertical-align: middle;\n",
       "    }\n",
       "\n",
       "    .dataframe tbody tr th {\n",
       "        vertical-align: top;\n",
       "    }\n",
       "\n",
       "    .dataframe thead th {\n",
       "        text-align: right;\n",
       "    }\n",
       "</style>\n",
       "<table border=\"1\" class=\"dataframe\">\n",
       "  <thead>\n",
       "    <tr style=\"text-align: right;\">\n",
       "      <th></th>\n",
       "      <th>sentence</th>\n",
       "      <th>city</th>\n",
       "      <th>country</th>\n",
       "      <th>iso3</th>\n",
       "      <th>spacy_prediction</th>\n",
       "    </tr>\n",
       "  </thead>\n",
       "  <tbody>\n",
       "    <tr>\n",
       "      <th>0</th>\n",
       "      <td>Tirana is a major railway, highway, and air-tr...</td>\n",
       "      <td>Tirana</td>\n",
       "      <td>Albania</td>\n",
       "      <td>ALB</td>\n",
       "      <td>[Tirana, two]</td>\n",
       "    </tr>\n",
       "    <tr>\n",
       "      <th>1</th>\n",
       "      <td>According to the Economist Intelligence Unit W...</td>\n",
       "      <td>Tirana</td>\n",
       "      <td>Albania</td>\n",
       "      <td>ALB</td>\n",
       "      <td>[the Economist Intelligence Unit Worldwide Cos...</td>\n",
       "    </tr>\n",
       "    <tr>\n",
       "      <th>2</th>\n",
       "      <td>Tirana is especially known for its museums and...</td>\n",
       "      <td>Tirana</td>\n",
       "      <td>Albania</td>\n",
       "      <td>ALB</td>\n",
       "      <td>[Tirana]</td>\n",
       "    </tr>\n",
       "    <tr>\n",
       "      <th>3</th>\n",
       "      <td>Tirana received 12.6 million visitors in 2020,...</td>\n",
       "      <td>Tirana</td>\n",
       "      <td>Albania</td>\n",
       "      <td>ALB</td>\n",
       "      <td>[Tirana, 12.6 million, 2020, 73 percent, 2019]</td>\n",
       "    </tr>\n",
       "    <tr>\n",
       "      <th>4</th>\n",
       "      <td>The 80,000-seat stadium, built for the FIFA Wo...</td>\n",
       "      <td>Tirana</td>\n",
       "      <td>Albania</td>\n",
       "      <td>ALB</td>\n",
       "      <td>[the FIFA World Cup, Tirana]</td>\n",
       "    </tr>\n",
       "  </tbody>\n",
       "</table>\n",
       "</div>"
      ],
      "text/plain": [
       "                                            sentence    city  country iso3                                   spacy_prediction\n",
       "0  Tirana is a major railway, highway, and air-tr...  Tirana  Albania  ALB                                      [Tirana, two]\n",
       "1  According to the Economist Intelligence Unit W...  Tirana  Albania  ALB  [the Economist Intelligence Unit Worldwide Cos...\n",
       "2  Tirana is especially known for its museums and...  Tirana  Albania  ALB                                           [Tirana]\n",
       "3  Tirana received 12.6 million visitors in 2020,...  Tirana  Albania  ALB     [Tirana, 12.6 million, 2020, 73 percent, 2019]\n",
       "4  The 80,000-seat stadium, built for the FIFA Wo...  Tirana  Albania  ALB                       [the FIFA World Cup, Tirana]"
      ]
     },
     "execution_count": 51,
     "metadata": {},
     "output_type": "execute_result"
    }
   ],
   "source": [
    "df_test_cities.head()"
   ]
  },
  {
   "cell_type": "markdown",
   "id": "29f7a451",
   "metadata": {},
   "source": [
    "We can save this DataFrame:"
   ]
  },
  {
   "cell_type": "code",
   "execution_count": 52,
   "id": "86e70729",
   "metadata": {},
   "outputs": [],
   "source": [
    "df_test_cities.to_csv('Data/df_city_v2_template.csv', index=False)"
   ]
  },
  {
   "cell_type": "markdown",
   "id": "9f083555",
   "metadata": {},
   "source": [
    "We define a function to check if the city was recognized by the algorithm: "
   ]
  },
  {
   "cell_type": "code",
   "execution_count": 53,
   "id": "f1dc6b85",
   "metadata": {},
   "outputs": [
    {
     "name": "stderr",
     "output_type": "stream",
     "text": [
      "100%|███████████████████████████████████████████████████████████████████████████| 5320/5320 [00:00<00:00, 69996.07it/s]\n"
     ]
    }
   ],
   "source": [
    "# Function to extract whether or not the city (and the country) has been recognized by the model: \n",
    "def city_check(row):\n",
    "    if row['city'] in row['spacy_prediction']:\n",
    "        return 1\n",
    "    else:\n",
    "        return 0\n",
    "    \n",
    "#Applying the function to the dataframe:\n",
    "tqdm.pandas()\n",
    "df_test_cities['result_city']= df_test_cities.progress_apply(city_check , axis=1)"
   ]
  },
  {
   "cell_type": "code",
   "execution_count": 54,
   "id": "a309a96a",
   "metadata": {},
   "outputs": [
    {
     "data": {
      "text/html": [
       "<div>\n",
       "<style scoped>\n",
       "    .dataframe tbody tr th:only-of-type {\n",
       "        vertical-align: middle;\n",
       "    }\n",
       "\n",
       "    .dataframe tbody tr th {\n",
       "        vertical-align: top;\n",
       "    }\n",
       "\n",
       "    .dataframe thead th {\n",
       "        text-align: right;\n",
       "    }\n",
       "</style>\n",
       "<table border=\"1\" class=\"dataframe\">\n",
       "  <thead>\n",
       "    <tr style=\"text-align: right;\">\n",
       "      <th></th>\n",
       "      <th>sentence</th>\n",
       "      <th>city</th>\n",
       "      <th>country</th>\n",
       "      <th>iso3</th>\n",
       "      <th>spacy_prediction</th>\n",
       "      <th>result_city</th>\n",
       "    </tr>\n",
       "  </thead>\n",
       "  <tbody>\n",
       "    <tr>\n",
       "      <th>0</th>\n",
       "      <td>Tirana is a major railway, highway, and air-tr...</td>\n",
       "      <td>Tirana</td>\n",
       "      <td>Albania</td>\n",
       "      <td>ALB</td>\n",
       "      <td>[Tirana, two]</td>\n",
       "      <td>1</td>\n",
       "    </tr>\n",
       "    <tr>\n",
       "      <th>1</th>\n",
       "      <td>According to the Economist Intelligence Unit W...</td>\n",
       "      <td>Tirana</td>\n",
       "      <td>Albania</td>\n",
       "      <td>ALB</td>\n",
       "      <td>[the Economist Intelligence Unit Worldwide Cos...</td>\n",
       "      <td>1</td>\n",
       "    </tr>\n",
       "    <tr>\n",
       "      <th>2</th>\n",
       "      <td>Tirana is especially known for its museums and...</td>\n",
       "      <td>Tirana</td>\n",
       "      <td>Albania</td>\n",
       "      <td>ALB</td>\n",
       "      <td>[Tirana]</td>\n",
       "      <td>1</td>\n",
       "    </tr>\n",
       "    <tr>\n",
       "      <th>3</th>\n",
       "      <td>Tirana received 12.6 million visitors in 2020,...</td>\n",
       "      <td>Tirana</td>\n",
       "      <td>Albania</td>\n",
       "      <td>ALB</td>\n",
       "      <td>[Tirana, 12.6 million, 2020, 73 percent, 2019]</td>\n",
       "      <td>1</td>\n",
       "    </tr>\n",
       "    <tr>\n",
       "      <th>4</th>\n",
       "      <td>The 80,000-seat stadium, built for the FIFA Wo...</td>\n",
       "      <td>Tirana</td>\n",
       "      <td>Albania</td>\n",
       "      <td>ALB</td>\n",
       "      <td>[the FIFA World Cup, Tirana]</td>\n",
       "      <td>1</td>\n",
       "    </tr>\n",
       "  </tbody>\n",
       "</table>\n",
       "</div>"
      ],
      "text/plain": [
       "                                            sentence    city  country iso3                                   spacy_prediction  result_city\n",
       "0  Tirana is a major railway, highway, and air-tr...  Tirana  Albania  ALB                                      [Tirana, two]            1\n",
       "1  According to the Economist Intelligence Unit W...  Tirana  Albania  ALB  [the Economist Intelligence Unit Worldwide Cos...            1\n",
       "2  Tirana is especially known for its museums and...  Tirana  Albania  ALB                                           [Tirana]            1\n",
       "3  Tirana received 12.6 million visitors in 2020,...  Tirana  Albania  ALB     [Tirana, 12.6 million, 2020, 73 percent, 2019]            1\n",
       "4  The 80,000-seat stadium, built for the FIFA Wo...  Tirana  Albania  ALB                       [the FIFA World Cup, Tirana]            1"
      ]
     },
     "execution_count": 54,
     "metadata": {},
     "output_type": "execute_result"
    }
   ],
   "source": [
    "df_test_cities.head()"
   ]
  },
  {
   "cell_type": "markdown",
   "id": "7e8ecc09",
   "metadata": {},
   "source": [
    "Then, we compute statistics for each country:"
   ]
  },
  {
   "cell_type": "code",
   "execution_count": 55,
   "id": "4a196488",
   "metadata": {},
   "outputs": [
    {
     "data": {
      "text/html": [
       "<div>\n",
       "<style scoped>\n",
       "    .dataframe tbody tr th:only-of-type {\n",
       "        vertical-align: middle;\n",
       "    }\n",
       "\n",
       "    .dataframe tbody tr th {\n",
       "        vertical-align: top;\n",
       "    }\n",
       "\n",
       "    .dataframe thead th {\n",
       "        text-align: right;\n",
       "    }\n",
       "</style>\n",
       "<table border=\"1\" class=\"dataframe\">\n",
       "  <thead>\n",
       "    <tr style=\"text-align: right;\">\n",
       "      <th></th>\n",
       "      <th>result_city</th>\n",
       "      <th>iso3</th>\n",
       "      <th>size</th>\n",
       "    </tr>\n",
       "    <tr>\n",
       "      <th>country</th>\n",
       "      <th></th>\n",
       "      <th></th>\n",
       "      <th></th>\n",
       "    </tr>\n",
       "  </thead>\n",
       "  <tbody>\n",
       "    <tr>\n",
       "      <th>Syria</th>\n",
       "      <td>0.485714</td>\n",
       "      <td>SYR</td>\n",
       "      <td>70</td>\n",
       "    </tr>\n",
       "    <tr>\n",
       "      <th>Kazakhstan</th>\n",
       "      <td>0.514286</td>\n",
       "      <td>KAZ</td>\n",
       "      <td>70</td>\n",
       "    </tr>\n",
       "    <tr>\n",
       "      <th>Morocco</th>\n",
       "      <td>0.528571</td>\n",
       "      <td>MAR</td>\n",
       "      <td>70</td>\n",
       "    </tr>\n",
       "    <tr>\n",
       "      <th>Hungary</th>\n",
       "      <td>0.528571</td>\n",
       "      <td>HUN</td>\n",
       "      <td>70</td>\n",
       "    </tr>\n",
       "    <tr>\n",
       "      <th>Peru</th>\n",
       "      <td>0.571429</td>\n",
       "      <td>PER</td>\n",
       "      <td>70</td>\n",
       "    </tr>\n",
       "    <tr>\n",
       "      <th>Netherlands</th>\n",
       "      <td>0.571429</td>\n",
       "      <td>NLD</td>\n",
       "      <td>70</td>\n",
       "    </tr>\n",
       "    <tr>\n",
       "      <th>Uzbekistan</th>\n",
       "      <td>0.585714</td>\n",
       "      <td>UZB</td>\n",
       "      <td>70</td>\n",
       "    </tr>\n",
       "    <tr>\n",
       "      <th>Belarus</th>\n",
       "      <td>0.585714</td>\n",
       "      <td>BLR</td>\n",
       "      <td>70</td>\n",
       "    </tr>\n",
       "    <tr>\n",
       "      <th>Chile</th>\n",
       "      <td>0.585714</td>\n",
       "      <td>CHL</td>\n",
       "      <td>70</td>\n",
       "    </tr>\n",
       "    <tr>\n",
       "      <th>Greece</th>\n",
       "      <td>0.600000</td>\n",
       "      <td>GRC</td>\n",
       "      <td>70</td>\n",
       "    </tr>\n",
       "    <tr>\n",
       "      <th>Norway</th>\n",
       "      <td>0.628571</td>\n",
       "      <td>NOR</td>\n",
       "      <td>70</td>\n",
       "    </tr>\n",
       "    <tr>\n",
       "      <th>Korea, South</th>\n",
       "      <td>0.628571</td>\n",
       "      <td>KOR</td>\n",
       "      <td>70</td>\n",
       "    </tr>\n",
       "    <tr>\n",
       "      <th>Spain</th>\n",
       "      <td>0.628571</td>\n",
       "      <td>ESP</td>\n",
       "      <td>70</td>\n",
       "    </tr>\n",
       "    <tr>\n",
       "      <th>Iran</th>\n",
       "      <td>0.642857</td>\n",
       "      <td>IRN</td>\n",
       "      <td>70</td>\n",
       "    </tr>\n",
       "    <tr>\n",
       "      <th>Venezuela</th>\n",
       "      <td>0.642857</td>\n",
       "      <td>VEN</td>\n",
       "      <td>70</td>\n",
       "    </tr>\n",
       "    <tr>\n",
       "      <th>Thailand</th>\n",
       "      <td>0.642857</td>\n",
       "      <td>THA</td>\n",
       "      <td>70</td>\n",
       "    </tr>\n",
       "    <tr>\n",
       "      <th>Tanzania</th>\n",
       "      <td>0.642857</td>\n",
       "      <td>TZA</td>\n",
       "      <td>70</td>\n",
       "    </tr>\n",
       "    <tr>\n",
       "      <th>Austria</th>\n",
       "      <td>0.642857</td>\n",
       "      <td>AUT</td>\n",
       "      <td>70</td>\n",
       "    </tr>\n",
       "    <tr>\n",
       "      <th>El Salvador</th>\n",
       "      <td>0.642857</td>\n",
       "      <td>SLV</td>\n",
       "      <td>70</td>\n",
       "    </tr>\n",
       "    <tr>\n",
       "      <th>Portugal</th>\n",
       "      <td>0.642857</td>\n",
       "      <td>PRT</td>\n",
       "      <td>70</td>\n",
       "    </tr>\n",
       "    <tr>\n",
       "      <th>Croatia</th>\n",
       "      <td>0.657143</td>\n",
       "      <td>HRV</td>\n",
       "      <td>70</td>\n",
       "    </tr>\n",
       "    <tr>\n",
       "      <th>Egypt</th>\n",
       "      <td>0.657143</td>\n",
       "      <td>EGY</td>\n",
       "      <td>70</td>\n",
       "    </tr>\n",
       "    <tr>\n",
       "      <th>Belgium</th>\n",
       "      <td>0.657143</td>\n",
       "      <td>BEL</td>\n",
       "      <td>70</td>\n",
       "    </tr>\n",
       "    <tr>\n",
       "      <th>Algeria</th>\n",
       "      <td>0.671429</td>\n",
       "      <td>DZA</td>\n",
       "      <td>70</td>\n",
       "    </tr>\n",
       "    <tr>\n",
       "      <th>Argentina</th>\n",
       "      <td>0.671429</td>\n",
       "      <td>ARG</td>\n",
       "      <td>70</td>\n",
       "    </tr>\n",
       "    <tr>\n",
       "      <th>India</th>\n",
       "      <td>0.671429</td>\n",
       "      <td>IND</td>\n",
       "      <td>70</td>\n",
       "    </tr>\n",
       "    <tr>\n",
       "      <th>Azerbaijan</th>\n",
       "      <td>0.671429</td>\n",
       "      <td>AZE</td>\n",
       "      <td>70</td>\n",
       "    </tr>\n",
       "    <tr>\n",
       "      <th>Ukraine</th>\n",
       "      <td>0.671429</td>\n",
       "      <td>UKR</td>\n",
       "      <td>70</td>\n",
       "    </tr>\n",
       "    <tr>\n",
       "      <th>Bolivia</th>\n",
       "      <td>0.671429</td>\n",
       "      <td>BOL</td>\n",
       "      <td>70</td>\n",
       "    </tr>\n",
       "    <tr>\n",
       "      <th>Lithuania</th>\n",
       "      <td>0.685714</td>\n",
       "      <td>LTU</td>\n",
       "      <td>70</td>\n",
       "    </tr>\n",
       "    <tr>\n",
       "      <th>United Kingdom</th>\n",
       "      <td>0.685714</td>\n",
       "      <td>GBR</td>\n",
       "      <td>70</td>\n",
       "    </tr>\n",
       "    <tr>\n",
       "      <th>Romania</th>\n",
       "      <td>0.685714</td>\n",
       "      <td>ROU</td>\n",
       "      <td>70</td>\n",
       "    </tr>\n",
       "    <tr>\n",
       "      <th>France</th>\n",
       "      <td>0.685714</td>\n",
       "      <td>FRA</td>\n",
       "      <td>70</td>\n",
       "    </tr>\n",
       "    <tr>\n",
       "      <th>New Zealand</th>\n",
       "      <td>0.700000</td>\n",
       "      <td>NZL</td>\n",
       "      <td>70</td>\n",
       "    </tr>\n",
       "    <tr>\n",
       "      <th>Angola</th>\n",
       "      <td>0.700000</td>\n",
       "      <td>AGO</td>\n",
       "      <td>70</td>\n",
       "    </tr>\n",
       "    <tr>\n",
       "      <th>Russia</th>\n",
       "      <td>0.700000</td>\n",
       "      <td>RUS</td>\n",
       "      <td>70</td>\n",
       "    </tr>\n",
       "    <tr>\n",
       "      <th>Macedonia</th>\n",
       "      <td>0.700000</td>\n",
       "      <td>MKD</td>\n",
       "      <td>70</td>\n",
       "    </tr>\n",
       "    <tr>\n",
       "      <th>South Africa</th>\n",
       "      <td>0.700000</td>\n",
       "      <td>ZAF</td>\n",
       "      <td>70</td>\n",
       "    </tr>\n",
       "    <tr>\n",
       "      <th>Serbia</th>\n",
       "      <td>0.714286</td>\n",
       "      <td>SRB</td>\n",
       "      <td>70</td>\n",
       "    </tr>\n",
       "    <tr>\n",
       "      <th>Moldova</th>\n",
       "      <td>0.714286</td>\n",
       "      <td>MDA</td>\n",
       "      <td>70</td>\n",
       "    </tr>\n",
       "    <tr>\n",
       "      <th>Uganda</th>\n",
       "      <td>0.714286</td>\n",
       "      <td>UGA</td>\n",
       "      <td>70</td>\n",
       "    </tr>\n",
       "    <tr>\n",
       "      <th>Albania</th>\n",
       "      <td>0.714286</td>\n",
       "      <td>ALB</td>\n",
       "      <td>70</td>\n",
       "    </tr>\n",
       "    <tr>\n",
       "      <th>Armenia</th>\n",
       "      <td>0.728571</td>\n",
       "      <td>ARG</td>\n",
       "      <td>70</td>\n",
       "    </tr>\n",
       "    <tr>\n",
       "      <th>Czechia</th>\n",
       "      <td>0.728571</td>\n",
       "      <td>CZE</td>\n",
       "      <td>70</td>\n",
       "    </tr>\n",
       "    <tr>\n",
       "      <th>Slovakia</th>\n",
       "      <td>0.728571</td>\n",
       "      <td>SVK</td>\n",
       "      <td>70</td>\n",
       "    </tr>\n",
       "    <tr>\n",
       "      <th>Niger</th>\n",
       "      <td>0.728571</td>\n",
       "      <td>NER</td>\n",
       "      <td>70</td>\n",
       "    </tr>\n",
       "    <tr>\n",
       "      <th>Finland</th>\n",
       "      <td>0.728571</td>\n",
       "      <td>FIN</td>\n",
       "      <td>70</td>\n",
       "    </tr>\n",
       "    <tr>\n",
       "      <th>Colombia</th>\n",
       "      <td>0.728571</td>\n",
       "      <td>COL</td>\n",
       "      <td>70</td>\n",
       "    </tr>\n",
       "    <tr>\n",
       "      <th>Latvia</th>\n",
       "      <td>0.742857</td>\n",
       "      <td>LVA</td>\n",
       "      <td>70</td>\n",
       "    </tr>\n",
       "    <tr>\n",
       "      <th>Italy</th>\n",
       "      <td>0.742857</td>\n",
       "      <td>ITA</td>\n",
       "      <td>70</td>\n",
       "    </tr>\n",
       "    <tr>\n",
       "      <th>Bulgaria</th>\n",
       "      <td>0.757143</td>\n",
       "      <td>BGR</td>\n",
       "      <td>70</td>\n",
       "    </tr>\n",
       "    <tr>\n",
       "      <th>Slovenia</th>\n",
       "      <td>0.757143</td>\n",
       "      <td>SVN</td>\n",
       "      <td>70</td>\n",
       "    </tr>\n",
       "    <tr>\n",
       "      <th>Nigeria</th>\n",
       "      <td>0.757143</td>\n",
       "      <td>NGA</td>\n",
       "      <td>70</td>\n",
       "    </tr>\n",
       "    <tr>\n",
       "      <th>Vietnam</th>\n",
       "      <td>0.771429</td>\n",
       "      <td>VNM</td>\n",
       "      <td>70</td>\n",
       "    </tr>\n",
       "    <tr>\n",
       "      <th>Germany</th>\n",
       "      <td>0.771429</td>\n",
       "      <td>DEU</td>\n",
       "      <td>70</td>\n",
       "    </tr>\n",
       "    <tr>\n",
       "      <th>Pakistan</th>\n",
       "      <td>0.785714</td>\n",
       "      <td>PAK</td>\n",
       "      <td>70</td>\n",
       "    </tr>\n",
       "    <tr>\n",
       "      <th>Malta</th>\n",
       "      <td>0.785714</td>\n",
       "      <td>MLT</td>\n",
       "      <td>70</td>\n",
       "    </tr>\n",
       "    <tr>\n",
       "      <th>Japan</th>\n",
       "      <td>0.785714</td>\n",
       "      <td>JPN</td>\n",
       "      <td>70</td>\n",
       "    </tr>\n",
       "    <tr>\n",
       "      <th>Israel</th>\n",
       "      <td>0.785714</td>\n",
       "      <td>ISR</td>\n",
       "      <td>70</td>\n",
       "    </tr>\n",
       "    <tr>\n",
       "      <th>Cuba</th>\n",
       "      <td>0.785714</td>\n",
       "      <td>CUB</td>\n",
       "      <td>70</td>\n",
       "    </tr>\n",
       "    <tr>\n",
       "      <th>China</th>\n",
       "      <td>0.785714</td>\n",
       "      <td>CHN</td>\n",
       "      <td>70</td>\n",
       "    </tr>\n",
       "    <tr>\n",
       "      <th>Tunisia</th>\n",
       "      <td>0.785714</td>\n",
       "      <td>TUN</td>\n",
       "      <td>70</td>\n",
       "    </tr>\n",
       "    <tr>\n",
       "      <th>Poland</th>\n",
       "      <td>0.800000</td>\n",
       "      <td>POL</td>\n",
       "      <td>70</td>\n",
       "    </tr>\n",
       "    <tr>\n",
       "      <th>Australia</th>\n",
       "      <td>0.800000</td>\n",
       "      <td>AUS</td>\n",
       "      <td>70</td>\n",
       "    </tr>\n",
       "    <tr>\n",
       "      <th>Brazil</th>\n",
       "      <td>0.800000</td>\n",
       "      <td>BRA</td>\n",
       "      <td>70</td>\n",
       "    </tr>\n",
       "    <tr>\n",
       "      <th>Guatemala</th>\n",
       "      <td>0.800000</td>\n",
       "      <td>GTM</td>\n",
       "      <td>70</td>\n",
       "    </tr>\n",
       "    <tr>\n",
       "      <th>Philippines</th>\n",
       "      <td>0.800000</td>\n",
       "      <td>PHL</td>\n",
       "      <td>70</td>\n",
       "    </tr>\n",
       "    <tr>\n",
       "      <th>Canada</th>\n",
       "      <td>0.814286</td>\n",
       "      <td>CAN</td>\n",
       "      <td>70</td>\n",
       "    </tr>\n",
       "    <tr>\n",
       "      <th>Ecuador</th>\n",
       "      <td>0.814286</td>\n",
       "      <td>ECU</td>\n",
       "      <td>70</td>\n",
       "    </tr>\n",
       "    <tr>\n",
       "      <th>Turkey</th>\n",
       "      <td>0.814286</td>\n",
       "      <td>TUR</td>\n",
       "      <td>70</td>\n",
       "    </tr>\n",
       "    <tr>\n",
       "      <th>Kenya</th>\n",
       "      <td>0.814286</td>\n",
       "      <td>KEN</td>\n",
       "      <td>70</td>\n",
       "    </tr>\n",
       "    <tr>\n",
       "      <th>Congo (Kinshasa)</th>\n",
       "      <td>0.828571</td>\n",
       "      <td>COD</td>\n",
       "      <td>70</td>\n",
       "    </tr>\n",
       "    <tr>\n",
       "      <th>Indonesia</th>\n",
       "      <td>0.828571</td>\n",
       "      <td>IDN</td>\n",
       "      <td>70</td>\n",
       "    </tr>\n",
       "    <tr>\n",
       "      <th>Switzerland</th>\n",
       "      <td>0.857143</td>\n",
       "      <td>CHE</td>\n",
       "      <td>70</td>\n",
       "    </tr>\n",
       "    <tr>\n",
       "      <th>United States</th>\n",
       "      <td>0.857143</td>\n",
       "      <td>USA</td>\n",
       "      <td>70</td>\n",
       "    </tr>\n",
       "    <tr>\n",
       "      <th>Mexico</th>\n",
       "      <td>0.857143</td>\n",
       "      <td>MEX</td>\n",
       "      <td>70</td>\n",
       "    </tr>\n",
       "  </tbody>\n",
       "</table>\n",
       "</div>"
      ],
      "text/plain": [
       "                  result_city iso3  size\n",
       "country                                 \n",
       "Syria                0.485714  SYR    70\n",
       "Kazakhstan           0.514286  KAZ    70\n",
       "Morocco              0.528571  MAR    70\n",
       "Hungary              0.528571  HUN    70\n",
       "Peru                 0.571429  PER    70\n",
       "Netherlands          0.571429  NLD    70\n",
       "Uzbekistan           0.585714  UZB    70\n",
       "Belarus              0.585714  BLR    70\n",
       "Chile                0.585714  CHL    70\n",
       "Greece               0.600000  GRC    70\n",
       "Norway               0.628571  NOR    70\n",
       "Korea, South         0.628571  KOR    70\n",
       "Spain                0.628571  ESP    70\n",
       "Iran                 0.642857  IRN    70\n",
       "Venezuela            0.642857  VEN    70\n",
       "Thailand             0.642857  THA    70\n",
       "Tanzania             0.642857  TZA    70\n",
       "Austria              0.642857  AUT    70\n",
       "El Salvador          0.642857  SLV    70\n",
       "Portugal             0.642857  PRT    70\n",
       "Croatia              0.657143  HRV    70\n",
       "Egypt                0.657143  EGY    70\n",
       "Belgium              0.657143  BEL    70\n",
       "Algeria              0.671429  DZA    70\n",
       "Argentina            0.671429  ARG    70\n",
       "India                0.671429  IND    70\n",
       "Azerbaijan           0.671429  AZE    70\n",
       "Ukraine              0.671429  UKR    70\n",
       "Bolivia              0.671429  BOL    70\n",
       "Lithuania            0.685714  LTU    70\n",
       "United Kingdom       0.685714  GBR    70\n",
       "Romania              0.685714  ROU    70\n",
       "France               0.685714  FRA    70\n",
       "New Zealand          0.700000  NZL    70\n",
       "Angola               0.700000  AGO    70\n",
       "Russia               0.700000  RUS    70\n",
       "Macedonia            0.700000  MKD    70\n",
       "South Africa         0.700000  ZAF    70\n",
       "Serbia               0.714286  SRB    70\n",
       "Moldova              0.714286  MDA    70\n",
       "Uganda               0.714286  UGA    70\n",
       "Albania              0.714286  ALB    70\n",
       "Armenia              0.728571  ARG    70\n",
       "Czechia              0.728571  CZE    70\n",
       "Slovakia             0.728571  SVK    70\n",
       "Niger                0.728571  NER    70\n",
       "Finland              0.728571  FIN    70\n",
       "Colombia             0.728571  COL    70\n",
       "Latvia               0.742857  LVA    70\n",
       "Italy                0.742857  ITA    70\n",
       "Bulgaria             0.757143  BGR    70\n",
       "Slovenia             0.757143  SVN    70\n",
       "Nigeria              0.757143  NGA    70\n",
       "Vietnam              0.771429  VNM    70\n",
       "Germany              0.771429  DEU    70\n",
       "Pakistan             0.785714  PAK    70\n",
       "Malta                0.785714  MLT    70\n",
       "Japan                0.785714  JPN    70\n",
       "Israel               0.785714  ISR    70\n",
       "Cuba                 0.785714  CUB    70\n",
       "China                0.785714  CHN    70\n",
       "Tunisia              0.785714  TUN    70\n",
       "Poland               0.800000  POL    70\n",
       "Australia            0.800000  AUS    70\n",
       "Brazil               0.800000  BRA    70\n",
       "Guatemala            0.800000  GTM    70\n",
       "Philippines          0.800000  PHL    70\n",
       "Canada               0.814286  CAN    70\n",
       "Ecuador              0.814286  ECU    70\n",
       "Turkey               0.814286  TUR    70\n",
       "Kenya                0.814286  KEN    70\n",
       "Congo (Kinshasa)     0.828571  COD    70\n",
       "Indonesia            0.828571  IDN    70\n",
       "Switzerland          0.857143  CHE    70\n",
       "United States        0.857143  USA    70\n",
       "Mexico               0.857143  MEX    70"
      ]
     },
     "execution_count": 55,
     "metadata": {},
     "output_type": "execute_result"
    }
   ],
   "source": [
    "df_copy = df_test_cities.copy()\n",
    "#Proportion in each country: \n",
    "df_group_city = df_test_cities.groupby('country').agg({'result_city': 'mean', 'iso3' : 'first'})\n",
    "df_size = df_test_cities.groupby('country').size().to_frame('size')\n",
    "df_group_city = df_group_city.merge(df_size, left_index = True, right_index = True)\n",
    "#Viz of the results for the every country:\n",
    "df_group_city.sort_values('result_city')"
   ]
  },
  {
   "cell_type": "markdown",
   "id": "ddd7fe6c",
   "metadata": {},
   "source": [
    "##### Plot of the results on a map \n",
    "\n",
    "Then, we can try to plot the results on a world map. \n",
    "\n",
    "In order to do that, we use the geopandas package, which have the things we're looking for."
   ]
  },
  {
   "cell_type": "code",
   "execution_count": 56,
   "id": "91c91cee",
   "metadata": {},
   "outputs": [],
   "source": [
    "world = geopandas.read_file(geopandas.datasets.get_path('naturalearth_lowres'))"
   ]
  },
  {
   "cell_type": "markdown",
   "id": "ceb2d3b7",
   "metadata": {},
   "source": [
    "We have to join both dataframes with the `iso_a3` variable\n",
    "\n",
    "Then we can have the results over the continents !! \n",
    "\n",
    "And we can plot the map! "
   ]
  },
  {
   "cell_type": "code",
   "execution_count": 57,
   "id": "d666097d",
   "metadata": {},
   "outputs": [],
   "source": [
    "#Joining both dataframes: \n",
    "gdf_results_map = world.merge(df_group_city, left_on = 'iso_a3', right_on = 'iso3', how='right')"
   ]
  },
  {
   "cell_type": "markdown",
   "id": "e6c5e132",
   "metadata": {},
   "source": [
    "And then we can actually plot the map:"
   ]
  },
  {
   "cell_type": "code",
   "execution_count": 58,
   "id": "02208436",
   "metadata": {},
   "outputs": [
    {
     "data": {
      "text/plain": [
       "<matplotlib.axes._subplots.AxesSubplot at 0x13a94d31a48>"
      ]
     },
     "execution_count": 58,
     "metadata": {},
     "output_type": "execute_result"
    },
    {
     "data": {
      "image/png": "[encoded data removed]",
      "text/plain": [
       "<Figure size 1332x756 with 2 Axes>"
      ]
     },
     "metadata": {
      "needs_background": "light"
     },
     "output_type": "display_data"
    }
   ],
   "source": [
    "fig, ax = plt.subplots(1, 1)\n",
    "fig.set_size_inches(18.5, 10.5)\n",
    "gdf_results_map.plot(column='result_city', ax=ax, legend=True, cmap='OrRd')"
   ]
  },
  {
   "cell_type": "markdown",
   "id": "b6c16b3e",
   "metadata": {},
   "source": [
    "At the end, we can also compute the results for each continent:"
   ]
  },
  {
   "cell_type": "code",
   "execution_count": 59,
   "id": "d6e44a3d",
   "metadata": {},
   "outputs": [
    {
     "data": {
      "text/html": [
       "<div>\n",
       "<style scoped>\n",
       "    .dataframe tbody tr th:only-of-type {\n",
       "        vertical-align: middle;\n",
       "    }\n",
       "\n",
       "    .dataframe tbody tr th {\n",
       "        vertical-align: top;\n",
       "    }\n",
       "\n",
       "    .dataframe thead th {\n",
       "        text-align: right;\n",
       "    }\n",
       "</style>\n",
       "<table border=\"1\" class=\"dataframe\">\n",
       "  <thead>\n",
       "    <tr style=\"text-align: right;\">\n",
       "      <th></th>\n",
       "      <th>continent</th>\n",
       "      <th>result_city</th>\n",
       "    </tr>\n",
       "  </thead>\n",
       "  <tbody>\n",
       "    <tr>\n",
       "      <th>0</th>\n",
       "      <td>South America</td>\n",
       "      <td>0.690476</td>\n",
       "    </tr>\n",
       "    <tr>\n",
       "      <th>1</th>\n",
       "      <td>Europe</td>\n",
       "      <td>0.692857</td>\n",
       "    </tr>\n",
       "    <tr>\n",
       "      <th>2</th>\n",
       "      <td>Asia</td>\n",
       "      <td>0.700000</td>\n",
       "    </tr>\n",
       "    <tr>\n",
       "      <th>3</th>\n",
       "      <td>Africa</td>\n",
       "      <td>0.710714</td>\n",
       "    </tr>\n",
       "    <tr>\n",
       "      <th>4</th>\n",
       "      <td>Oceania</td>\n",
       "      <td>0.750000</td>\n",
       "    </tr>\n",
       "    <tr>\n",
       "      <th>5</th>\n",
       "      <td>North America</td>\n",
       "      <td>0.792857</td>\n",
       "    </tr>\n",
       "  </tbody>\n",
       "</table>\n",
       "</div>"
      ],
      "text/plain": [
       "       continent  result_city\n",
       "0  South America     0.690476\n",
       "1         Europe     0.692857\n",
       "2           Asia     0.700000\n",
       "3         Africa     0.710714\n",
       "4        Oceania     0.750000\n",
       "5  North America     0.792857"
      ]
     },
     "execution_count": 59,
     "metadata": {},
     "output_type": "execute_result"
    }
   ],
   "source": [
    "results_continent = gdf_results_map.groupby('continent').agg({'result_city' : 'mean'}).sort_values('result_city')\n",
    "results_continent = results_continent.sort_values('result_city').reset_index()\n",
    "results_continent"
   ]
  },
  {
   "cell_type": "markdown",
   "id": "7f8b8d4c",
   "metadata": {},
   "source": [
    "**Results are better for North America than for any other continent**\n",
    "\n",
    "We indeed also have a bias on the city names. "
   ]
  },
  {
   "cell_type": "code",
   "execution_count": 60,
   "id": "819eb17c",
   "metadata": {},
   "outputs": [
    {
     "data": {
      "image/png": "[encoded data removed]",
      "text/plain": [
       "<Figure size 1080x360 with 1 Axes>"
      ]
     },
     "metadata": {
      "needs_background": "light"
     },
     "output_type": "display_data"
    }
   ],
   "source": [
    "plt.figure(figsize = (15,5))\n",
    "sns.barplot(x = 'continent', y = 'result_city',data = results_continent)\n",
    "plt.show()"
   ]
  },
  {
   "cell_type": "markdown",
   "id": "38cb1182",
   "metadata": {},
   "source": [
    "## References : \n",
    "\n",
    "- https://venturebeat.com/2020/08/12/researchers-claim-bias-in-ai-named-entity-recognition-models/\n",
    "\n",
    "- https://github.com/rudinger/winogender-schemas"
   ]
  }
 ],
 "metadata": {
  "kernelspec": {
   "display_name": "Python 3",
   "language": "python",
   "name": "python3"
  },
  "language_info": {
   "codemirror_mode": {
    "name": "ipython",
    "version": 3
   },
   "file_extension": ".py",
   "mimetype": "text/x-python",
   "name": "python",
   "nbconvert_exporter": "python",
   "pygments_lexer": "ipython3",
   "version": "3.7.4"
  },
  "toc": {
   "base_numbering": 1,
   "nav_menu": {},
   "number_sections": true,
   "sideBar": true,
   "skip_h1_title": true,
   "title_cell": "Table of Contents",
   "title_sidebar": "Contents",
   "toc_cell": false,
   "toc_position": {},
   "toc_section_display": true,
   "toc_window_display": true
  }
 },
 "nbformat": 4,
 "nbformat_minor": 5
}
