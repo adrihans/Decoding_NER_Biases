{
 "cells": [
  {
   "cell_type": "markdown",
   "id": "c02d93d8",
   "metadata": {},
   "source": [
    "# Test on company names"
   ]
  },
  {
   "cell_type": "code",
   "execution_count": 1,
   "id": "414f6f63",
   "metadata": {},
   "outputs": [
    {
     "name": "stderr",
     "output_type": "stream",
     "text": [
      "C:\\Users\\adrie\\Anaconda3\\lib\\site-packages\\geopandas\\_compat.py:115: UserWarning: The Shapely GEOS version (3.8.0-CAPI-1.13.1 ) is incompatible with the GEOS version PyGEOS was compiled with (3.9.1-CAPI-1.14.2). Conversions between both will be slow.\n",
      "  shapely_geos_version, geos_capi_version_string\n"
     ]
    }
   ],
   "source": [
    "import geopandas"
   ]
  },
  {
   "cell_type": "code",
   "execution_count": 2,
   "id": "ffa7137b",
   "metadata": {},
   "outputs": [
    {
     "name": "stderr",
     "output_type": "stream",
     "text": [
      "C:\\Users\\adrie\\Anaconda3\\lib\\site-packages\\tensorflow\\python\\framework\\dtypes.py:516: FutureWarning: Passing (type, 1) or '1type' as a synonym of type is deprecated; in a future version of numpy, it will be understood as (type, (1,)) / '(1,)type'.\n",
      "  _np_qint8 = np.dtype([(\"qint8\", np.int8, 1)])\n",
      "C:\\Users\\adrie\\Anaconda3\\lib\\site-packages\\tensorflow\\python\\framework\\dtypes.py:517: FutureWarning: Passing (type, 1) or '1type' as a synonym of type is deprecated; in a future version of numpy, it will be understood as (type, (1,)) / '(1,)type'.\n",
      "  _np_quint8 = np.dtype([(\"quint8\", np.uint8, 1)])\n",
      "C:\\Users\\adrie\\Anaconda3\\lib\\site-packages\\tensorflow\\python\\framework\\dtypes.py:518: FutureWarning: Passing (type, 1) or '1type' as a synonym of type is deprecated; in a future version of numpy, it will be understood as (type, (1,)) / '(1,)type'.\n",
      "  _np_qint16 = np.dtype([(\"qint16\", np.int16, 1)])\n",
      "C:\\Users\\adrie\\Anaconda3\\lib\\site-packages\\tensorflow\\python\\framework\\dtypes.py:519: FutureWarning: Passing (type, 1) or '1type' as a synonym of type is deprecated; in a future version of numpy, it will be understood as (type, (1,)) / '(1,)type'.\n",
      "  _np_quint16 = np.dtype([(\"quint16\", np.uint16, 1)])\n",
      "C:\\Users\\adrie\\Anaconda3\\lib\\site-packages\\tensorflow\\python\\framework\\dtypes.py:520: FutureWarning: Passing (type, 1) or '1type' as a synonym of type is deprecated; in a future version of numpy, it will be understood as (type, (1,)) / '(1,)type'.\n",
      "  _np_qint32 = np.dtype([(\"qint32\", np.int32, 1)])\n",
      "C:\\Users\\adrie\\Anaconda3\\lib\\site-packages\\tensorflow\\python\\framework\\dtypes.py:525: FutureWarning: Passing (type, 1) or '1type' as a synonym of type is deprecated; in a future version of numpy, it will be understood as (type, (1,)) / '(1,)type'.\n",
      "  np_resource = np.dtype([(\"resource\", np.ubyte, 1)])\n"
     ]
    }
   ],
   "source": [
    "import pandas as pd\n",
    "import numpy as np\n",
    "\n",
    "import wikipedia\n",
    "\n",
    "import re\n",
    "\n",
    "import spacy\n",
    "\n",
    "from tqdm import tqdm\n",
    "import random\n",
    "\n",
    "#to install pycountry:\n",
    "#pip install pycountry\n",
    "import pycountry\n",
    "#pycountry permits to find the isoa3 name of the countries\n",
    "\n"
   ]
  },
  {
   "cell_type": "markdown",
   "id": "62400f16",
   "metadata": {},
   "source": [
    "## Importing the dataset"
   ]
  },
  {
   "cell_type": "code",
   "execution_count": 3,
   "id": "144b5e30",
   "metadata": {},
   "outputs": [],
   "source": [
    "df_companies = pd.read_csv('Data/company_dataset/companies_sorted.csv')"
   ]
  },
  {
   "cell_type": "code",
   "execution_count": 4,
   "id": "4668d4f4",
   "metadata": {},
   "outputs": [
    {
     "data": {
      "text/html": [
       "<div>\n",
       "<style scoped>\n",
       "    .dataframe tbody tr th:only-of-type {\n",
       "        vertical-align: middle;\n",
       "    }\n",
       "\n",
       "    .dataframe tbody tr th {\n",
       "        vertical-align: top;\n",
       "    }\n",
       "\n",
       "    .dataframe thead th {\n",
       "        text-align: right;\n",
       "    }\n",
       "</style>\n",
       "<table border=\"1\" class=\"dataframe\">\n",
       "  <thead>\n",
       "    <tr style=\"text-align: right;\">\n",
       "      <th></th>\n",
       "      <th>Unnamed: 0</th>\n",
       "      <th>name</th>\n",
       "      <th>domain</th>\n",
       "      <th>year founded</th>\n",
       "      <th>industry</th>\n",
       "      <th>size range</th>\n",
       "      <th>locality</th>\n",
       "      <th>country</th>\n",
       "      <th>linkedin url</th>\n",
       "      <th>current employee estimate</th>\n",
       "      <th>total employee estimate</th>\n",
       "    </tr>\n",
       "  </thead>\n",
       "  <tbody>\n",
       "    <tr>\n",
       "      <th>0</th>\n",
       "      <td>5872184</td>\n",
       "      <td>ibm</td>\n",
       "      <td>ibm.com</td>\n",
       "      <td>1911.0</td>\n",
       "      <td>information technology and services</td>\n",
       "      <td>10001+</td>\n",
       "      <td>new york, new york, united states</td>\n",
       "      <td>united states</td>\n",
       "      <td>linkedin.com/company/ibm</td>\n",
       "      <td>274047</td>\n",
       "      <td>716906</td>\n",
       "    </tr>\n",
       "    <tr>\n",
       "      <th>1</th>\n",
       "      <td>4425416</td>\n",
       "      <td>tata consultancy services</td>\n",
       "      <td>tcs.com</td>\n",
       "      <td>1968.0</td>\n",
       "      <td>information technology and services</td>\n",
       "      <td>10001+</td>\n",
       "      <td>bombay, maharashtra, india</td>\n",
       "      <td>india</td>\n",
       "      <td>linkedin.com/company/tata-consultancy-services</td>\n",
       "      <td>190771</td>\n",
       "      <td>341369</td>\n",
       "    </tr>\n",
       "    <tr>\n",
       "      <th>2</th>\n",
       "      <td>21074</td>\n",
       "      <td>accenture</td>\n",
       "      <td>accenture.com</td>\n",
       "      <td>1989.0</td>\n",
       "      <td>information technology and services</td>\n",
       "      <td>10001+</td>\n",
       "      <td>dublin, dublin, ireland</td>\n",
       "      <td>ireland</td>\n",
       "      <td>linkedin.com/company/accenture</td>\n",
       "      <td>190689</td>\n",
       "      <td>455768</td>\n",
       "    </tr>\n",
       "    <tr>\n",
       "      <th>3</th>\n",
       "      <td>2309813</td>\n",
       "      <td>us army</td>\n",
       "      <td>goarmy.com</td>\n",
       "      <td>1800.0</td>\n",
       "      <td>military</td>\n",
       "      <td>10001+</td>\n",
       "      <td>alexandria, virginia, united states</td>\n",
       "      <td>united states</td>\n",
       "      <td>linkedin.com/company/us-army</td>\n",
       "      <td>162163</td>\n",
       "      <td>445958</td>\n",
       "    </tr>\n",
       "    <tr>\n",
       "      <th>4</th>\n",
       "      <td>1558607</td>\n",
       "      <td>ey</td>\n",
       "      <td>ey.com</td>\n",
       "      <td>1989.0</td>\n",
       "      <td>accounting</td>\n",
       "      <td>10001+</td>\n",
       "      <td>london, greater london, united kingdom</td>\n",
       "      <td>united kingdom</td>\n",
       "      <td>linkedin.com/company/ernstandyoung</td>\n",
       "      <td>158363</td>\n",
       "      <td>428960</td>\n",
       "    </tr>\n",
       "  </tbody>\n",
       "</table>\n",
       "</div>"
      ],
      "text/plain": [
       "   Unnamed: 0                       name         domain  year founded  \\\n",
       "0     5872184                        ibm        ibm.com        1911.0   \n",
       "1     4425416  tata consultancy services        tcs.com        1968.0   \n",
       "2       21074                  accenture  accenture.com        1989.0   \n",
       "3     2309813                    us army     goarmy.com        1800.0   \n",
       "4     1558607                         ey         ey.com        1989.0   \n",
       "\n",
       "                              industry size range  \\\n",
       "0  information technology and services     10001+   \n",
       "1  information technology and services     10001+   \n",
       "2  information technology and services     10001+   \n",
       "3                             military     10001+   \n",
       "4                           accounting     10001+   \n",
       "\n",
       "                                 locality         country  \\\n",
       "0       new york, new york, united states   united states   \n",
       "1              bombay, maharashtra, india           india   \n",
       "2                 dublin, dublin, ireland         ireland   \n",
       "3     alexandria, virginia, united states   united states   \n",
       "4  london, greater london, united kingdom  united kingdom   \n",
       "\n",
       "                                     linkedin url  current employee estimate  \\\n",
       "0                        linkedin.com/company/ibm                     274047   \n",
       "1  linkedin.com/company/tata-consultancy-services                     190771   \n",
       "2                  linkedin.com/company/accenture                     190689   \n",
       "3                    linkedin.com/company/us-army                     162163   \n",
       "4              linkedin.com/company/ernstandyoung                     158363   \n",
       "\n",
       "   total employee estimate  \n",
       "0                   716906  \n",
       "1                   341369  \n",
       "2                   455768  \n",
       "3                   445958  \n",
       "4                   428960  "
      ]
     },
     "execution_count": 4,
     "metadata": {},
     "output_type": "execute_result"
    }
   ],
   "source": [
    "df_companies.head()"
   ]
  },
  {
   "cell_type": "markdown",
   "id": "ee0ca114",
   "metadata": {},
   "source": [
    "## Constructing the sentences"
   ]
  },
  {
   "cell_type": "code",
   "execution_count": 5,
   "id": "354af7d9",
   "metadata": {},
   "outputs": [
    {
     "data": {
      "text/plain": [
       "array(['10001+', '5001 - 10000', '1001 - 5000', '501 - 1000', '201 - 500',\n",
       "       '51 - 200', '11 - 50', '1 - 10'], dtype=object)"
      ]
     },
     "execution_count": 5,
     "metadata": {},
     "output_type": "execute_result"
    }
   ],
   "source": [
    "df_companies['size range'].unique()"
   ]
  },
  {
   "cell_type": "code",
   "execution_count": 6,
   "id": "52744a38",
   "metadata": {},
   "outputs": [
    {
     "data": {
      "text/plain": [
       "information technology and services    453044\n",
       "marketing and advertising              338162\n",
       "construction                           257921\n",
       "management consulting                  194556\n",
       "real estate                            193486\n",
       "                                        ...  \n",
       "fishery                                  2355\n",
       "ranching                                 2324\n",
       "railroad manufacture                     1818\n",
       "tobacco                                  1354\n",
       "legislative office                        524\n",
       "Name: industry, Length: 148, dtype: int64"
      ]
     },
     "execution_count": 6,
     "metadata": {},
     "output_type": "execute_result"
    }
   ],
   "source": [
    "df_companies['industry'].value_counts()"
   ]
  },
  {
   "cell_type": "markdown",
   "id": "ebab4155",
   "metadata": {},
   "source": [
    "To reduce the size of the dataset, we are only taking company names of size > `10001+`"
   ]
  },
  {
   "cell_type": "code",
   "execution_count": 7,
   "id": "b0a31fad",
   "metadata": {},
   "outputs": [],
   "source": [
    "df_companies_reduced = df_companies[df_companies['size range'].isin(['10001+', '5001 - 10000'])].copy()\n",
    "df_companies_reduced = df_companies_reduced[df_companies_reduced['industry'].isin(['information technology and services', 'marketing and advertising', 'construction', 'management consulting'])].copy()"
   ]
  },
  {
   "cell_type": "code",
   "execution_count": 8,
   "id": "a6faaa68",
   "metadata": {},
   "outputs": [
    {
     "data": {
      "text/plain": [
       "array(['united states', 'india', 'ireland', 'france', 'sweden', 'canada',\n",
       "       nan, 'australia', 'spain', 'germany', 'czechia', 'south africa',\n",
       "       'malaysia', 'finland', 'brazil', 'switzerland', 'greece',\n",
       "       'netherlands', 'liechtenstein', 'united kingdom', 'mexico',\n",
       "       'austria', 'singapore', 'argentina', 'chile', 'indonesia', 'italy',\n",
       "       'south korea', 'japan', 'israel', 'new zealand', 'pakistan',\n",
       "       'hong kong', 'denmark', 'norway', 'china', 'peru', 'egypt',\n",
       "       'saudi arabia', 'united arab emirates', 'kuwait', 'belgium'],\n",
       "      dtype=object)"
      ]
     },
     "execution_count": 8,
     "metadata": {},
     "output_type": "execute_result"
    }
   ],
   "source": [
    "df_companies_reduced['country'].unique()"
   ]
  },
  {
   "cell_type": "markdown",
   "id": "3f6c92de",
   "metadata": {},
   "source": [
    "There are still a good number of countries.\n",
    "\n",
    "We are taking only two companies for each country (by size). "
   ]
  },
  {
   "cell_type": "code",
   "execution_count": 9,
   "id": "f0335529",
   "metadata": {},
   "outputs": [
    {
     "name": "stderr",
     "output_type": "stream",
     "text": [
      "C:\\Users\\adrie\\Anaconda3\\lib\\site-packages\\ipykernel_launcher.py:1: FutureWarning: Indexing with multiple keys (implicitly converted to a tuple of keys) will be deprecated, use a list instead.\n",
      "  \"\"\"Entry point for launching an IPython kernel.\n"
     ]
    }
   ],
   "source": [
    "df_companies_largest = df_companies_reduced.groupby('country')['current employee estimate', 'name']\\\n",
    ".apply(lambda x : x.nlargest(5, columns=['current employee estimate'])).reset_index()"
   ]
  },
  {
   "cell_type": "code",
   "execution_count": 10,
   "id": "d42f8efb",
   "metadata": {},
   "outputs": [
    {
     "data": {
      "text/html": [
       "<div>\n",
       "<style scoped>\n",
       "    .dataframe tbody tr th:only-of-type {\n",
       "        vertical-align: middle;\n",
       "    }\n",
       "\n",
       "    .dataframe tbody tr th {\n",
       "        vertical-align: top;\n",
       "    }\n",
       "\n",
       "    .dataframe thead th {\n",
       "        text-align: right;\n",
       "    }\n",
       "</style>\n",
       "<table border=\"1\" class=\"dataframe\">\n",
       "  <thead>\n",
       "    <tr style=\"text-align: right;\">\n",
       "      <th></th>\n",
       "      <th>country</th>\n",
       "      <th>level_1</th>\n",
       "      <th>current employee estimate</th>\n",
       "      <th>name</th>\n",
       "    </tr>\n",
       "  </thead>\n",
       "  <tbody>\n",
       "    <tr>\n",
       "      <th>0</th>\n",
       "      <td>argentina</td>\n",
       "      <td>1932</td>\n",
       "      <td>4426</td>\n",
       "      <td>globant</td>\n",
       "    </tr>\n",
       "    <tr>\n",
       "      <th>1</th>\n",
       "      <td>argentina</td>\n",
       "      <td>5908</td>\n",
       "      <td>1797</td>\n",
       "      <td>techint engineering &amp; construction</td>\n",
       "    </tr>\n",
       "    <tr>\n",
       "      <th>2</th>\n",
       "      <td>australia</td>\n",
       "      <td>284</td>\n",
       "      <td>17581</td>\n",
       "      <td>fujitsu</td>\n",
       "    </tr>\n",
       "    <tr>\n",
       "      <th>3</th>\n",
       "      <td>australia</td>\n",
       "      <td>778</td>\n",
       "      <td>8719</td>\n",
       "      <td>lendlease</td>\n",
       "    </tr>\n",
       "    <tr>\n",
       "      <th>4</th>\n",
       "      <td>australia</td>\n",
       "      <td>1563</td>\n",
       "      <td>5170</td>\n",
       "      <td>aurecon</td>\n",
       "    </tr>\n",
       "    <tr>\n",
       "      <th>...</th>\n",
       "      <td>...</td>\n",
       "      <td>...</td>\n",
       "      <td>...</td>\n",
       "      <td>...</td>\n",
       "    </tr>\n",
       "    <tr>\n",
       "      <th>109</th>\n",
       "      <td>united states</td>\n",
       "      <td>0</td>\n",
       "      <td>274047</td>\n",
       "      <td>ibm</td>\n",
       "    </tr>\n",
       "    <tr>\n",
       "      <th>110</th>\n",
       "      <td>united states</td>\n",
       "      <td>5</td>\n",
       "      <td>127952</td>\n",
       "      <td>hewlett-packard</td>\n",
       "    </tr>\n",
       "    <tr>\n",
       "      <th>111</th>\n",
       "      <td>united states</td>\n",
       "      <td>6</td>\n",
       "      <td>122031</td>\n",
       "      <td>cognizant technology solutions</td>\n",
       "    </tr>\n",
       "    <tr>\n",
       "      <th>112</th>\n",
       "      <td>united states</td>\n",
       "      <td>14</td>\n",
       "      <td>104112</td>\n",
       "      <td>deloitte</td>\n",
       "    </tr>\n",
       "    <tr>\n",
       "      <th>113</th>\n",
       "      <td>united states</td>\n",
       "      <td>22</td>\n",
       "      <td>85090</td>\n",
       "      <td>oracle</td>\n",
       "    </tr>\n",
       "  </tbody>\n",
       "</table>\n",
       "<p>114 rows × 4 columns</p>\n",
       "</div>"
      ],
      "text/plain": [
       "           country  level_1  current employee estimate  \\\n",
       "0        argentina     1932                       4426   \n",
       "1        argentina     5908                       1797   \n",
       "2        australia      284                      17581   \n",
       "3        australia      778                       8719   \n",
       "4        australia     1563                       5170   \n",
       "..             ...      ...                        ...   \n",
       "109  united states        0                     274047   \n",
       "110  united states        5                     127952   \n",
       "111  united states        6                     122031   \n",
       "112  united states       14                     104112   \n",
       "113  united states       22                      85090   \n",
       "\n",
       "                                   name  \n",
       "0                               globant  \n",
       "1    techint engineering & construction  \n",
       "2                               fujitsu  \n",
       "3                             lendlease  \n",
       "4                               aurecon  \n",
       "..                                  ...  \n",
       "109                                 ibm  \n",
       "110                     hewlett-packard  \n",
       "111      cognizant technology solutions  \n",
       "112                            deloitte  \n",
       "113                              oracle  \n",
       "\n",
       "[114 rows x 4 columns]"
      ]
     },
     "execution_count": 10,
     "metadata": {},
     "output_type": "execute_result"
    }
   ],
   "source": [
    "df_companies_largest"
   ]
  },
  {
   "cell_type": "markdown",
   "id": "3653405c",
   "metadata": {},
   "source": [
    "## Constructing the templates, inspired by the winogender schemas"
   ]
  },
  {
   "cell_type": "markdown",
   "id": "adc1202e",
   "metadata": {},
   "source": [
    "Selecting some sentences in the wikipedia summary of some pages"
   ]
  },
  {
   "cell_type": "code",
   "execution_count": 11,
   "id": "0ea2c5d8",
   "metadata": {
    "scrolled": true
   },
   "outputs": [
    {
     "name": "stdout",
     "output_type": "stream",
     "text": [
      "not found :  jsmnet\n",
      "not found :  hospital & healthcare brazil\n",
      "not found :  algar tech\n"
     ]
    },
    {
     "name": "stderr",
     "output_type": "stream",
     "text": [
      "C:\\Users\\adrie\\Anaconda3\\lib\\site-packages\\wikipedia\\wikipedia.py:389: UserWarning: No parser was explicitly specified, so I'm using the best available HTML parser for this system (\"lxml\"). This usually isn't a problem, but if you run this code on another system, or in a different virtual environment, it may use a different parser and behave differently.\n",
      "\n",
      "The code that caused this warning is on line 389 of the file C:\\Users\\adrie\\Anaconda3\\lib\\site-packages\\wikipedia\\wikipedia.py. To get rid of this warning, pass the additional argument 'features=\"lxml\"' to the BeautifulSoup constructor.\n",
      "\n",
      "  lis = BeautifulSoup(html).find_all('li')\n"
     ]
    },
    {
     "name": "stdout",
     "output_type": "stream",
     "text": [
      "not found :  serpro\n",
      "not found :  cgi\n",
      "not found :  sonda\n",
      "not found :  china state construction engrg. corp. ltd(cscec)\n",
      "not found :  tieto\n",
      "not found :  ccc\n",
      "not found :  asl\n",
      "not found :  infosys\n",
      "not found :  engineering ingegneria informatica spa\n",
      "not found :  libero professionista geometra\n",
      "not found :  ntt data italia\n",
      "not found :  myself (as an independent consultant)\n",
      "not found :  sinsilog's network and marketing\n",
      "not found :  gym s.a. - grupo graña y montero\n",
      "not found :  samsung sds\n",
      "not found :  indra\n",
      "not found :  everis\n",
      "not found :  tecnocom\n",
      "not found :  ncc\n",
      "not found :  sita\n",
      "not found :  amaris\n",
      "not found :  arabtec construction llc\n",
      "not found :  oracle\n"
     ]
    }
   ],
   "source": [
    "list_sentences=[]\n",
    "list_companies=[]\n",
    "for company in df_companies_largest['name'].unique():\n",
    "    try:\n",
    "        summary = wikipedia.summary(company)\n",
    "        for sentence in summary.split('. '):\n",
    "            if company.lower() in sentence.lower():\n",
    "                list_sentences.append(sentence)\n",
    "                list_companies.append(company)\n",
    "    except:\n",
    "        print('not found : ', company)\n",
    "        \n",
    "#Constructing the dataframe:\n",
    "df_sentences_template_companies = pd.DataFrame(data = {'sentences':list_sentences, 'name':list_companies})"
   ]
  },
  {
   "cell_type": "code",
   "execution_count": 12,
   "id": "c43d71f4",
   "metadata": {},
   "outputs": [],
   "source": [
    "df_sentences_template_companies.to_csv('Data/templates/sentence_templates_companies.csv', index=False)"
   ]
  },
  {
   "cell_type": "code",
   "execution_count": 13,
   "id": "d44a40d9",
   "metadata": {},
   "outputs": [
    {
     "data": {
      "text/html": [
       "<div>\n",
       "<style scoped>\n",
       "    .dataframe tbody tr th:only-of-type {\n",
       "        vertical-align: middle;\n",
       "    }\n",
       "\n",
       "    .dataframe tbody tr th {\n",
       "        vertical-align: top;\n",
       "    }\n",
       "\n",
       "    .dataframe thead th {\n",
       "        text-align: right;\n",
       "    }\n",
       "</style>\n",
       "<table border=\"1\" class=\"dataframe\">\n",
       "  <thead>\n",
       "    <tr style=\"text-align: right;\">\n",
       "      <th></th>\n",
       "      <th>sentences</th>\n",
       "      <th>name</th>\n",
       "    </tr>\n",
       "  </thead>\n",
       "  <tbody>\n",
       "    <tr>\n",
       "      <th>0</th>\n",
       "      <td>Globant is an IT and Software Development comp...</td>\n",
       "      <td>globant</td>\n",
       "    </tr>\n",
       "    <tr>\n",
       "      <th>1</th>\n",
       "      <td>Lendlease Group is an Australian multinational...</td>\n",
       "      <td>lendlease</td>\n",
       "    </tr>\n",
       "    <tr>\n",
       "      <th>2</th>\n",
       "      <td>Aurecon  is an engineering, management, design...</td>\n",
       "      <td>aurecon</td>\n",
       "    </tr>\n",
       "    <tr>\n",
       "      <th>3</th>\n",
       "      <td>STRABAG SE is an Austrian construction company...</td>\n",
       "      <td>strabag</td>\n",
       "    </tr>\n",
       "    <tr>\n",
       "      <th>4</th>\n",
       "      <td>In these markets STRABAG has subsidiaries or o...</td>\n",
       "      <td>strabag</td>\n",
       "    </tr>\n",
       "  </tbody>\n",
       "</table>\n",
       "</div>"
      ],
      "text/plain": [
       "                                           sentences       name\n",
       "0  Globant is an IT and Software Development comp...    globant\n",
       "1  Lendlease Group is an Australian multinational...  lendlease\n",
       "2  Aurecon  is an engineering, management, design...    aurecon\n",
       "3  STRABAG SE is an Austrian construction company...    strabag\n",
       "4  In these markets STRABAG has subsidiaries or o...    strabag"
      ]
     },
     "execution_count": 13,
     "metadata": {},
     "output_type": "execute_result"
    }
   ],
   "source": [
    "df_sentences_template_companies.head()"
   ]
  },
  {
   "cell_type": "code",
   "execution_count": 14,
   "id": "77c3987d",
   "metadata": {},
   "outputs": [
    {
     "data": {
      "text/plain": [
       "(114, 2)"
      ]
     },
     "execution_count": 14,
     "metadata": {},
     "output_type": "execute_result"
    }
   ],
   "source": [
    "df_sentences_template_companies.shape"
   ]
  },
  {
   "cell_type": "markdown",
   "id": "1912a907",
   "metadata": {},
   "source": [
    "**Do we have to perform some additional cleaning ?**"
   ]
  },
  {
   "cell_type": "code",
   "execution_count": 15,
   "id": "ccb8dd02",
   "metadata": {},
   "outputs": [],
   "source": [
    "def clean_template(row):\n",
    "    \"\"\"\n",
    "    function clean_template applied to each row in order to replace the company names in the sentences by '$COMPANY'\n",
    "    to use them after in the construction of the sentences. \n",
    "    \"\"\"\n",
    "    #Check for company names in the sentence, ignoring the case:\n",
    "    sent = row['sentences']\n",
    "    while re.search(row['name'], sent, re.IGNORECASE):\n",
    "        match = re.search(row['name'], sent, re.IGNORECASE)\n",
    "        sent = sent[:match.span()[0]] + '$COMPANY' + sent[match.span()[1]:]\n",
    "        return sent"
   ]
  },
  {
   "cell_type": "code",
   "execution_count": 16,
   "id": "36eb8924",
   "metadata": {},
   "outputs": [],
   "source": [
    "df_sentences_template_companies['clean_sentence'] = df_sentences_template_companies.apply(clean_template, axis=1)"
   ]
  },
  {
   "cell_type": "code",
   "execution_count": 17,
   "id": "e8a8c28c",
   "metadata": {},
   "outputs": [
    {
     "data": {
      "text/html": [
       "<div>\n",
       "<style scoped>\n",
       "    .dataframe tbody tr th:only-of-type {\n",
       "        vertical-align: middle;\n",
       "    }\n",
       "\n",
       "    .dataframe tbody tr th {\n",
       "        vertical-align: top;\n",
       "    }\n",
       "\n",
       "    .dataframe thead th {\n",
       "        text-align: right;\n",
       "    }\n",
       "</style>\n",
       "<table border=\"1\" class=\"dataframe\">\n",
       "  <thead>\n",
       "    <tr style=\"text-align: right;\">\n",
       "      <th></th>\n",
       "      <th>sentences</th>\n",
       "      <th>name</th>\n",
       "      <th>clean_sentence</th>\n",
       "    </tr>\n",
       "  </thead>\n",
       "  <tbody>\n",
       "    <tr>\n",
       "      <th>0</th>\n",
       "      <td>Globant is an IT and Software Development comp...</td>\n",
       "      <td>globant</td>\n",
       "      <td>$COMPANY is an IT and Software Development com...</td>\n",
       "    </tr>\n",
       "    <tr>\n",
       "      <th>1</th>\n",
       "      <td>Lendlease Group is an Australian multinational...</td>\n",
       "      <td>lendlease</td>\n",
       "      <td>$COMPANY Group is an Australian multinational ...</td>\n",
       "    </tr>\n",
       "    <tr>\n",
       "      <th>2</th>\n",
       "      <td>Aurecon  is an engineering, management, design...</td>\n",
       "      <td>aurecon</td>\n",
       "      <td>$COMPANY  is an engineering, management, desig...</td>\n",
       "    </tr>\n",
       "    <tr>\n",
       "      <th>3</th>\n",
       "      <td>STRABAG SE is an Austrian construction company...</td>\n",
       "      <td>strabag</td>\n",
       "      <td>$COMPANY SE is an Austrian construction compan...</td>\n",
       "    </tr>\n",
       "    <tr>\n",
       "      <th>4</th>\n",
       "      <td>In these markets STRABAG has subsidiaries or o...</td>\n",
       "      <td>strabag</td>\n",
       "      <td>In these markets $COMPANY has subsidiaries or ...</td>\n",
       "    </tr>\n",
       "  </tbody>\n",
       "</table>\n",
       "</div>"
      ],
      "text/plain": [
       "                                           sentences       name  \\\n",
       "0  Globant is an IT and Software Development comp...    globant   \n",
       "1  Lendlease Group is an Australian multinational...  lendlease   \n",
       "2  Aurecon  is an engineering, management, design...    aurecon   \n",
       "3  STRABAG SE is an Austrian construction company...    strabag   \n",
       "4  In these markets STRABAG has subsidiaries or o...    strabag   \n",
       "\n",
       "                                      clean_sentence  \n",
       "0  $COMPANY is an IT and Software Development com...  \n",
       "1  $COMPANY Group is an Australian multinational ...  \n",
       "2  $COMPANY  is an engineering, management, desig...  \n",
       "3  $COMPANY SE is an Austrian construction compan...  \n",
       "4  In these markets $COMPANY has subsidiaries or ...  "
      ]
     },
     "execution_count": 17,
     "metadata": {},
     "output_type": "execute_result"
    }
   ],
   "source": [
    "df_sentences_template_companies.head()"
   ]
  },
  {
   "cell_type": "code",
   "execution_count": 18,
   "id": "61ff86d9",
   "metadata": {},
   "outputs": [],
   "source": [
    "df_sentences_template_companies.to_csv('Data/templates/sentence_templates_companies_clean.csv', index=False)"
   ]
  },
  {
   "cell_type": "code",
   "execution_count": 19,
   "id": "bb8b1abe",
   "metadata": {},
   "outputs": [],
   "source": [
    "df_sentences_template_companies.dropna(inplace=True)"
   ]
  },
  {
   "cell_type": "markdown",
   "id": "41360997",
   "metadata": {},
   "source": [
    "## Utils "
   ]
  },
  {
   "cell_type": "code",
   "execution_count": 20,
   "id": "e83bea32",
   "metadata": {},
   "outputs": [],
   "source": [
    "nlp_sm = spacy.load(\"en_core_web_sm\")\n",
    "nlp_md = spacy.load(\"en_core_web_md\")\n",
    "nlp_lg = spacy.load(\"en_core_web_lg\")\n",
    "nlp_trf = spacy.load(\"en_core_web_trf\")"
   ]
  },
  {
   "cell_type": "code",
   "execution_count": 21,
   "id": "446783e1",
   "metadata": {},
   "outputs": [],
   "source": [
    "def predict_NER_spacy(text, model):\n",
    "    \"\"\"\n",
    "    model: str \n",
    "        either:\n",
    "            'sm'\n",
    "            'md'\n",
    "            'lg'\n",
    "            'trf'\n",
    "    \"\"\"\n",
    "    if model=='sm':\n",
    "        doc=nlp_sm(text)\n",
    "    elif model=='md':\n",
    "        doc=nlp_md(text)\n",
    "    elif model=='lg':\n",
    "        doc=nlp_lg(text)\n",
    "    elif model=='trf':\n",
    "        doc=nlp_trf(text)\n",
    "    else:\n",
    "        return np.nan\n",
    "        \n",
    "    predicted_label_liste=[str(ent).strip() for ent in doc.ents]\n",
    "    return predicted_label_liste"
   ]
  },
  {
   "cell_type": "code",
   "execution_count": 22,
   "id": "55ab7bc0",
   "metadata": {},
   "outputs": [],
   "source": [
    "def check_names_prediction_company(row):\n",
    "    var_0=0\n",
    "    if row['name'] in row['spacy_prediction']:\n",
    "        var_0 = 1\n",
    "    return var_0"
   ]
  },
  {
   "cell_type": "code",
   "execution_count": 23,
   "id": "d1ab9cd7",
   "metadata": {},
   "outputs": [],
   "source": [
    "def compute_stats_names(df_test_company, model):\n",
    "    \"\"\"\n",
    "    Model is a str of the name of the model\n",
    "    \n",
    "    \"\"\"\n",
    "    #Creating a new dataframe:\n",
    "    df_temp=pd.DataFrame()\n",
    "    df_temp['score_'+model] = pd.concat([df_test_company['found']])\n",
    "    df_temp['name'] = pd.concat([df_test_company['name']])\n",
    "    #We then have one 'mean' score per name:\n",
    "    df_temp = df_temp.groupby('name').agg({'score_'+model:'mean'}).reset_index(drop=False)\n",
    "    return df_temp"
   ]
  },
  {
   "cell_type": "markdown",
   "id": "769b83e5",
   "metadata": {},
   "source": [
    "### Constructing the sentences"
   ]
  },
  {
   "cell_type": "code",
   "execution_count": 24,
   "id": "07e6d7ee",
   "metadata": {},
   "outputs": [],
   "source": [
    "def compute_random_sentences_companies(row, arr_names, template):\n",
    "    #Firstly we need to take one sentence at random:\n",
    "    str_sentence = template.sample(1)['clean_sentence'].values[0]\n",
    "    #The names should not be all the same: \n",
    "    random_company = random.choice(arr_names)\n",
    "    #we replace the right words to form the finale sentence: \n",
    "    str_sentence=str_sentence.replace('$COMPANY', random_company)\n",
    "    return str_sentence, random_company"
   ]
  },
  {
   "cell_type": "markdown",
   "id": "ba44485b",
   "metadata": {},
   "source": [
    "### Main"
   ]
  },
  {
   "cell_type": "code",
   "execution_count": 25,
   "id": "adbe6e54",
   "metadata": {},
   "outputs": [],
   "source": [
    "def main_companies(n_sentences, arr_names, template):\n",
    "    #computing the sentences:\n",
    "    df_test_company = pd.DataFrame(index=range(n_sentences))\n",
    "    df_test_company['tt']= 1 \n",
    "    df_test_company['sentence'], df_test_company['name'] = zip(*df_test_company.apply(lambda x: compute_random_sentences_companies(x, arr_names, template), axis=1))\n",
    "    del df_test_company['tt']\n",
    "    \n",
    "    \n",
    "    #We define the df of the results:\n",
    "    df_results=pd.DataFrame(data={'name':arr_names})\n",
    "    #Then, we apply the models:\n",
    "    for model in ['sm', 'md', 'lg', 'trf']:\n",
    "        \n",
    "        print('Testing the model: '+model)\n",
    "        \n",
    "        tqdm.pandas()\n",
    "        df_test_company['spacy_prediction'] = df_test_company['sentence'].progress_apply(lambda x: predict_NER_spacy(x, model))\n",
    "        #We replace the list with a string, because otherwise for a list like : [Emily if Camila], neither Emily or Camila \n",
    "        #Would be mark as 1 by the test above. \n",
    "        df_test_company['spacy_prediction'] = df_test_company['spacy_prediction'].apply(lambda l : ' '.join(l))\n",
    "        #We apply the function to check if the names were understood as NER by the model: \n",
    "        df_test_company['found'] = df_test_company.apply(check_names_prediction_company, axis=1)\n",
    "        \n",
    "        \n",
    "        #computing the stats:\n",
    "        #And merging with the results df:\n",
    "        df_results = df_results.merge(compute_stats_names(df_test_company, model), left_on='name', right_on='name', how='right')\n",
    "        \n",
    "\n",
    "    return df_results"
   ]
  },
  {
   "cell_type": "markdown",
   "id": "84f5c409",
   "metadata": {},
   "source": [
    "## Defining the company names to be used"
   ]
  },
  {
   "cell_type": "markdown",
   "id": "308eae9d",
   "metadata": {},
   "source": [
    "We are only taking the tech companies"
   ]
  },
  {
   "cell_type": "code",
   "execution_count": 27,
   "id": "c0269c7d",
   "metadata": {},
   "outputs": [],
   "source": [
    "df_companies_tech = df_companies[df_companies['industry']=='information technology and services']"
   ]
  },
  {
   "cell_type": "code",
   "execution_count": 29,
   "id": "5665824d",
   "metadata": {},
   "outputs": [],
   "source": [
    "#We are only taking the countries with at least 5 companies\n",
    "countries = df_companies_tech['country'].value_counts()[df_companies_tech['country'].value_counts()>=5].keys().to_list()"
   ]
  },
  {
   "cell_type": "code",
   "execution_count": 30,
   "id": "0d745649",
   "metadata": {},
   "outputs": [],
   "source": [
    "df_companies_tech = df_companies_tech[df_companies_tech['country'].isin(countries)]"
   ]
  },
  {
   "cell_type": "code",
   "execution_count": 32,
   "id": "65046304",
   "metadata": {
    "scrolled": true
   },
   "outputs": [
    {
     "name": "stderr",
     "output_type": "stream",
     "text": [
      "C:\\Users\\adrie\\Anaconda3\\lib\\site-packages\\ipykernel_launcher.py:2: FutureWarning: Indexing with multiple keys (implicitly converted to a tuple of keys) will be deprecated, use a list instead.\n",
      "  \n"
     ]
    }
   ],
   "source": [
    "# We are only taking 5 companies for each country - the largest \n",
    "df_companies_tech_largest = df_companies_tech.groupby('country')['current employee estimate', 'name']\\\n",
    ".apply(lambda x : x.nlargest(5, columns=['current employee estimate'])).reset_index()\n",
    "\n",
    "del df_companies_tech_largest['level_1']"
   ]
  },
  {
   "cell_type": "code",
   "execution_count": 33,
   "id": "216b6ebd",
   "metadata": {},
   "outputs": [],
   "source": [
    "arr_names_companies = df_companies_tech_largest['name'].unique()"
   ]
  },
  {
   "cell_type": "markdown",
   "id": "0b7d91c8",
   "metadata": {},
   "source": [
    "## Applying the models"
   ]
  },
  {
   "cell_type": "markdown",
   "id": "b4697d56",
   "metadata": {},
   "source": [
    "We can apply the models to each company and each sentence. "
   ]
  },
  {
   "cell_type": "code",
   "execution_count": null,
   "id": "642c29e6",
   "metadata": {},
   "outputs": [],
   "source": []
  },
  {
   "cell_type": "code",
   "execution_count": null,
   "id": "46d0b603",
   "metadata": {},
   "outputs": [],
   "source": []
  },
  {
   "cell_type": "code",
   "execution_count": null,
   "id": "cca5db63",
   "metadata": {},
   "outputs": [],
   "source": []
  },
  {
   "cell_type": "code",
   "execution_count": null,
   "id": "c55d4fd1",
   "metadata": {},
   "outputs": [],
   "source": []
  },
  {
   "cell_type": "code",
   "execution_count": null,
   "id": "ad0790c6",
   "metadata": {},
   "outputs": [],
   "source": [
    "df_results_companies = main_companies(10000, arr_names_companies, df_sentences_template_companies)"
   ]
  },
  {
   "cell_type": "markdown",
   "id": "d31ef4c5",
   "metadata": {},
   "source": [
    "### Merging to have the results over the countries"
   ]
  },
  {
   "cell_type": "code",
   "execution_count": null,
   "id": "86d56c1a",
   "metadata": {},
   "outputs": [],
   "source": [
    "df_results_companies = df_results_companies.merge(df_companies_tech_largest, right_on='name', left_on='name', how='left')"
   ]
  },
  {
   "cell_type": "code",
   "execution_count": null,
   "id": "b3a15e35",
   "metadata": {},
   "outputs": [],
   "source": [
    "df_results_companies = df_results_companies.groupby('country').agg({'score_sm':'mean', 'score_md':'mean', 'score_lg':'mean', 'score_trf':'mean'})\n",
    "#Compute avg score : \n",
    "df_results_companies['avg_score']=df_results_companies[['score_sm', 'score_md', 'score_lg', 'score_trf']].mean(axis=1)"
   ]
  },
  {
   "cell_type": "markdown",
   "id": "cf88c25d",
   "metadata": {},
   "source": [
    "### Final results"
   ]
  },
  {
   "cell_type": "code",
   "execution_count": null,
   "id": "eafb67b4",
   "metadata": {},
   "outputs": [],
   "source": [
    "df_results_companies.sort_values('avg_score', ascending=False)"
   ]
  },
  {
   "cell_type": "code",
   "execution_count": null,
   "id": "6e826403",
   "metadata": {},
   "outputs": [],
   "source": [
    "df_results_companies.to_csv('Data/results_companies_clean')"
   ]
  },
  {
   "cell_type": "markdown",
   "id": "421cd09e",
   "metadata": {},
   "source": [
    "#### Plots"
   ]
  },
  {
   "cell_type": "code",
   "execution_count": null,
   "id": "85350ec0",
   "metadata": {},
   "outputs": [],
   "source": [
    "world = geopandas.read_file(geopandas.datasets.get_path('naturalearth_lowres'))"
   ]
  },
  {
   "cell_type": "code",
   "execution_count": null,
   "id": "30526c1a",
   "metadata": {},
   "outputs": [],
   "source": [
    "world.head()"
   ]
  },
  {
   "cell_type": "markdown",
   "id": "cc1f4422",
   "metadata": {},
   "source": [
    "## Other tests to avoid biases"
   ]
  },
  {
   "cell_type": "markdown",
   "id": "b69e2564",
   "metadata": {},
   "source": [
    "Maybe the test is biased because some countries have companies with very low employee estimates. "
   ]
  },
  {
   "cell_type": "code",
   "execution_count": null,
   "id": "e207ff07",
   "metadata": {},
   "outputs": [],
   "source": []
  },
  {
   "cell_type": "code",
   "execution_count": null,
   "id": "f49a8e91",
   "metadata": {},
   "outputs": [],
   "source": []
  },
  {
   "cell_type": "code",
   "execution_count": null,
   "id": "fe01e29d",
   "metadata": {},
   "outputs": [],
   "source": []
  }
 ],
 "metadata": {
  "kernelspec": {
   "display_name": "Python 3",
   "language": "python",
   "name": "python3"
  },
  "language_info": {
   "codemirror_mode": {
    "name": "ipython",
    "version": 3
   },
   "file_extension": ".py",
   "mimetype": "text/x-python",
   "name": "python",
   "nbconvert_exporter": "python",
   "pygments_lexer": "ipython3",
   "version": "3.7.4"
  },
  "toc": {
   "base_numbering": 1,
   "nav_menu": {},
   "number_sections": true,
   "sideBar": true,
   "skip_h1_title": true,
   "title_cell": "Table of Contents",
   "title_sidebar": "Contents",
   "toc_cell": false,
   "toc_position": {},
   "toc_section_display": true,
   "toc_window_display": true
  }
 },
 "nbformat": 4,
 "nbformat_minor": 5
}
